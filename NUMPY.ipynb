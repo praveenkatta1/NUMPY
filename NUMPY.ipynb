{
 "cells": [
  {
   "cell_type": "code",
   "execution_count": 11,
   "id": "337fe20f-9b26-4e3c-bf6e-8c4583994028",
   "metadata": {},
   "outputs": [],
   "source": [
    "import numpy as np"
   ]
  },
  {
   "cell_type": "code",
   "execution_count": 13,
   "id": "e2f7c1cd-a871-4333-b664-1638ea3bd3ba",
   "metadata": {},
   "outputs": [
    {
     "data": {
      "text/plain": [
       "'1.26.4'"
      ]
     },
     "execution_count": 13,
     "metadata": {},
     "output_type": "execute_result"
    }
   ],
   "source": [
    "np.__version__"
   ]
  },
  {
   "cell_type": "code",
   "execution_count": 15,
   "id": "62304580-55bf-4725-8de2-2c3a39152cce",
   "metadata": {},
   "outputs": [
    {
     "data": {
      "text/plain": [
       "'3.12.7 | packaged by Anaconda, Inc. | (main, Oct  4 2024, 13:17:27) [MSC v.1929 64 bit (AMD64)]'"
      ]
     },
     "execution_count": 15,
     "metadata": {},
     "output_type": "execute_result"
    }
   ],
   "source": [
    "import sys\n",
    "sys.version"
   ]
  },
  {
   "cell_type": "markdown",
   "id": "8db6e264-3724-497f-b303-2db1d41e94ce",
   "metadata": {},
   "source": [
    "## CREATING ARRAYS"
   ]
  },
  {
   "cell_type": "code",
   "execution_count": 18,
   "id": "fd178a38-806c-4c5d-90ba-a2f0b2c39361",
   "metadata": {},
   "outputs": [
    {
     "data": {
      "text/plain": [
       "[0, 1, 2, 3, 4, 5]"
      ]
     },
     "execution_count": 18,
     "metadata": {},
     "output_type": "execute_result"
    }
   ],
   "source": [
    "my_list=[0,1,2,3,4,5] \n",
    "my_list"
   ]
  },
  {
   "cell_type": "markdown",
   "id": "55e2313e-0d8d-4d4a-b616-95f144f9b788",
   "metadata": {},
   "source": [
    "below code we are converting list to array"
   ]
  },
  {
   "cell_type": "code",
   "execution_count": 21,
   "id": "c85fbb43-353c-4886-b753-114b02db22df",
   "metadata": {},
   "outputs": [
    {
     "data": {
      "text/plain": [
       "array([0, 1, 2, 3, 4, 5])"
      ]
     },
     "execution_count": 21,
     "metadata": {},
     "output_type": "execute_result"
    }
   ],
   "source": [
    "arr=np.array(my_list)\n",
    "arr"
   ]
  },
  {
   "cell_type": "code",
   "execution_count": 23,
   "id": "0967ecbc-f9cf-435d-b91f-7372b4b57258",
   "metadata": {},
   "outputs": [
    {
     "data": {
      "text/plain": [
       "numpy.ndarray"
      ]
     },
     "execution_count": 23,
     "metadata": {},
     "output_type": "execute_result"
    }
   ],
   "source": [
    "type(arr)"
   ]
  },
  {
   "cell_type": "code",
   "execution_count": 25,
   "id": "2ca1b1a6-d1b6-4738-abc2-5b551854f890",
   "metadata": {},
   "outputs": [
    {
     "data": {
      "text/plain": [
       "list"
      ]
     },
     "execution_count": 25,
     "metadata": {},
     "output_type": "execute_result"
    }
   ],
   "source": [
    "type(my_list)"
   ]
  },
  {
   "cell_type": "code",
   "execution_count": 27,
   "id": "1d27d14e-bcb1-4f0f-9671-bcc4f041daf0",
   "metadata": {},
   "outputs": [
    {
     "data": {
      "text/plain": [
       "array([ 0,  1,  2,  3,  4,  5,  6,  7,  8,  9, 10, 11, 12, 13, 14])"
      ]
     },
     "execution_count": 27,
     "metadata": {},
     "output_type": "execute_result"
    }
   ],
   "source": [
    "np.arange(15)"
   ]
  },
  {
   "cell_type": "code",
   "execution_count": 28,
   "id": "1270924c-1966-46ed-a2ec-80f8728250fc",
   "metadata": {},
   "outputs": [
    {
     "data": {
      "text/plain": [
       "array([0., 1., 2.])"
      ]
     },
     "execution_count": 28,
     "metadata": {},
     "output_type": "execute_result"
    }
   ],
   "source": [
    "np.arange(3.0)"
   ]
  },
  {
   "cell_type": "code",
   "execution_count": 31,
   "id": "f6c0b362-79dc-4f8d-b67f-ad819801ac6f",
   "metadata": {},
   "outputs": [
    {
     "data": {
      "text/plain": [
       "array([0, 1, 2, 3, 4, 5, 6, 7, 8, 9])"
      ]
     },
     "execution_count": 31,
     "metadata": {},
     "output_type": "execute_result"
    }
   ],
   "source": [
    "np.arange(10)"
   ]
  },
  {
   "cell_type": "code",
   "execution_count": 33,
   "id": "be1d836d-5844-4d2b-bcde-d07c52125e91",
   "metadata": {},
   "outputs": [
    {
     "data": {
      "text/plain": [
       "array([0, 1, 2, 3, 4])"
      ]
     },
     "execution_count": 33,
     "metadata": {},
     "output_type": "execute_result"
    }
   ],
   "source": [
    "np.arange(0,5)"
   ]
  },
  {
   "cell_type": "code",
   "execution_count": 35,
   "id": "46a5c7c5-7f9d-404a-885e-b325fdfc54c4",
   "metadata": {},
   "outputs": [
    {
     "data": {
      "text/plain": [
       "array([10, 11, 12, 13, 14, 15, 16, 17, 18, 19])"
      ]
     },
     "execution_count": 35,
     "metadata": {},
     "output_type": "execute_result"
    }
   ],
   "source": [
    "np.arange(10,20)"
   ]
  },
  {
   "cell_type": "code",
   "execution_count": 37,
   "id": "a5b62e95-f092-4fe8-89d6-12510a2126fd",
   "metadata": {},
   "outputs": [
    {
     "data": {
      "text/plain": [
       "array([], dtype=int32)"
      ]
     },
     "execution_count": 37,
     "metadata": {},
     "output_type": "execute_result"
    }
   ],
   "source": [
    "np.arange(20,15)"
   ]
  },
  {
   "cell_type": "code",
   "execution_count": 39,
   "id": "1d88230d-911e-4f7e-9b91-178a7665caf6",
   "metadata": {},
   "outputs": [
    {
     "data": {
      "text/plain": [
       "array([-20, -19, -18, -17, -16, -15, -14, -13, -12, -11, -10,  -9,  -8,\n",
       "        -7,  -6,  -5,  -4,  -3,  -2,  -1,   0,   1,   2,   3,   4,   5,\n",
       "         6,   7,   8,   9])"
      ]
     },
     "execution_count": 39,
     "metadata": {},
     "output_type": "execute_result"
    }
   ],
   "source": [
    "np.arange(-20,10)"
   ]
  },
  {
   "cell_type": "code",
   "execution_count": 41,
   "id": "509039b7-badd-4969-98c9-955c98664cbe",
   "metadata": {},
   "outputs": [
    {
     "data": {
      "text/plain": [
       "array([-16, -15, -14, -13, -12, -11, -10,  -9,  -8,  -7,  -6,  -5,  -4,\n",
       "        -3,  -2,  -1,   0,   1,   2,   3,   4,   5,   6,   7,   8,   9])"
      ]
     },
     "execution_count": 41,
     "metadata": {},
     "output_type": "execute_result"
    }
   ],
   "source": [
    "np.arange(-16,10)"
   ]
  },
  {
   "cell_type": "code",
   "execution_count": 43,
   "id": "781bf0d2-6e0c-4f1b-beca-bcb0f47bdb1b",
   "metadata": {},
   "outputs": [
    {
     "data": {
      "text/plain": [
       "array([-20, -19, -18, -17, -16, -15, -14, -13, -12, -11])"
      ]
     },
     "execution_count": 43,
     "metadata": {},
     "output_type": "execute_result"
    }
   ],
   "source": [
    "np.arange(-20,-10)"
   ]
  },
  {
   "cell_type": "code",
   "execution_count": 45,
   "id": "6a100656-4a7d-493c-969b-6410b92b1174",
   "metadata": {},
   "outputs": [
    {
     "data": {
      "text/plain": [
       "array([-20, -19, -18, -17, -16, -15, -14, -13, -12, -11, -10,  -9,  -8,\n",
       "        -7,  -6,  -5,  -4,  -3,  -2,  -1,   0,   1,   2,   3,   4,   5,\n",
       "         6,   7,   8,   9,  10,  11,  12,  13,  14,  15,  16,  17,  18,\n",
       "        19,  20,  21,  22,  23,  24,  25,  26,  27,  28,  29])"
      ]
     },
     "execution_count": 45,
     "metadata": {},
     "output_type": "execute_result"
    }
   ],
   "source": [
    "ar=np.arange(-20,30)\n",
    "ar"
   ]
  },
  {
   "cell_type": "code",
   "execution_count": 47,
   "id": "69960bd4-0bfb-4055-b73c-ad854407a6d0",
   "metadata": {},
   "outputs": [
    {
     "data": {
      "text/plain": [
       "array([], dtype=int32)"
      ]
     },
     "execution_count": 47,
     "metadata": {},
     "output_type": "execute_result"
    }
   ],
   "source": [
    "np.arange(10,10)"
   ]
  },
  {
   "cell_type": "code",
   "execution_count": 49,
   "id": "ec2f6f7c-10b4-4e22-bb37-09a056541118",
   "metadata": {},
   "outputs": [
    {
     "ename": "TypeError",
     "evalue": "arange() requires stop to be specified.",
     "output_type": "error",
     "traceback": [
      "\u001b[1;31m---------------------------------------------------------------------------\u001b[0m",
      "\u001b[1;31mTypeError\u001b[0m                                 Traceback (most recent call last)",
      "Cell \u001b[1;32mIn[49], line 1\u001b[0m\n\u001b[1;32m----> 1\u001b[0m np\u001b[38;5;241m.\u001b[39marange()\n",
      "\u001b[1;31mTypeError\u001b[0m: arange() requires stop to be specified."
     ]
    }
   ],
   "source": [
    "np.arange()"
   ]
  },
  {
   "cell_type": "code",
   "execution_count": 51,
   "id": "f66f07f2-2f38-4f55-a919-a6ce7f13f3f9",
   "metadata": {},
   "outputs": [
    {
     "data": {
      "text/plain": [
       "array([10, 15, 20, 25])"
      ]
     },
     "execution_count": 51,
     "metadata": {},
     "output_type": "execute_result"
    }
   ],
   "source": [
    "np.arange(10,30,5)"
   ]
  },
  {
   "cell_type": "code",
   "execution_count": null,
   "id": "749ab7a4-9e0e-4d2f-8a97-90d3fc97bd0f",
   "metadata": {},
   "outputs": [],
   "source": []
  },
  {
   "cell_type": "code",
   "execution_count": 54,
   "id": "e9a8a5f4-2949-484c-9788-94eadb37430e",
   "metadata": {},
   "outputs": [
    {
     "data": {
      "text/plain": [
       "array([0., 0., 0.])"
      ]
     },
     "execution_count": 54,
     "metadata": {},
     "output_type": "execute_result"
    }
   ],
   "source": [
    "np.zeros(3)"
   ]
  },
  {
   "cell_type": "code",
   "execution_count": 56,
   "id": "3c25a4fb-bd70-4d5f-a54e-ae94b56c20ae",
   "metadata": {},
   "outputs": [
    {
     "data": {
      "text/plain": [
       "array([0, 0, 0])"
      ]
     },
     "execution_count": 56,
     "metadata": {},
     "output_type": "execute_result"
    }
   ],
   "source": [
    "np.zeros(3,dtype=int)"
   ]
  },
  {
   "cell_type": "code",
   "execution_count": 58,
   "id": "33973cf6-e518-49fa-99b0-1c7035c73869",
   "metadata": {},
   "outputs": [
    {
     "data": {
      "text/plain": [
       "array([[0, 0],\n",
       "       [0, 0]])"
      ]
     },
     "execution_count": 58,
     "metadata": {},
     "output_type": "execute_result"
    }
   ],
   "source": [
    "np.zeros((2,2),dtype=int)"
   ]
  },
  {
   "cell_type": "code",
   "execution_count": 60,
   "id": "5d31c65b-f3ae-4ca1-987a-3bc991a36c4c",
   "metadata": {},
   "outputs": [
    {
     "data": {
      "text/plain": [
       "array([[0, 0, 0],\n",
       "       [0, 0, 0],\n",
       "       [0, 0, 0]])"
      ]
     },
     "execution_count": 60,
     "metadata": {},
     "output_type": "execute_result"
    }
   ],
   "source": [
    "np.zeros((3,3),dtype=int)"
   ]
  },
  {
   "cell_type": "code",
   "execution_count": 62,
   "id": "e5f5547c-2012-489b-b081-17c7f686048a",
   "metadata": {},
   "outputs": [
    {
     "data": {
      "text/plain": [
       "array([[0., 0., 0., 0., 0., 0., 0., 0., 0., 0.],\n",
       "       [0., 0., 0., 0., 0., 0., 0., 0., 0., 0.]])"
      ]
     },
     "execution_count": 62,
     "metadata": {},
     "output_type": "execute_result"
    }
   ],
   "source": [
    "np.zeros((2,10))"
   ]
  },
  {
   "cell_type": "code",
   "execution_count": 64,
   "id": "ff14c62b-8593-4fb7-9559-6372e2bfa68b",
   "metadata": {},
   "outputs": [
    {
     "data": {
      "text/plain": [
       "array([[0., 0., 0., 0., 0., 0., 0., 0., 0., 0., 0., 0., 0., 0., 0., 0.,\n",
       "        0., 0., 0., 0., 0., 0., 0., 0., 0., 0., 0., 0., 0., 0.],\n",
       "       [0., 0., 0., 0., 0., 0., 0., 0., 0., 0., 0., 0., 0., 0., 0., 0.,\n",
       "        0., 0., 0., 0., 0., 0., 0., 0., 0., 0., 0., 0., 0., 0.],\n",
       "       [0., 0., 0., 0., 0., 0., 0., 0., 0., 0., 0., 0., 0., 0., 0., 0.,\n",
       "        0., 0., 0., 0., 0., 0., 0., 0., 0., 0., 0., 0., 0., 0.],\n",
       "       [0., 0., 0., 0., 0., 0., 0., 0., 0., 0., 0., 0., 0., 0., 0., 0.,\n",
       "        0., 0., 0., 0., 0., 0., 0., 0., 0., 0., 0., 0., 0., 0.],\n",
       "       [0., 0., 0., 0., 0., 0., 0., 0., 0., 0., 0., 0., 0., 0., 0., 0.,\n",
       "        0., 0., 0., 0., 0., 0., 0., 0., 0., 0., 0., 0., 0., 0.],\n",
       "       [0., 0., 0., 0., 0., 0., 0., 0., 0., 0., 0., 0., 0., 0., 0., 0.,\n",
       "        0., 0., 0., 0., 0., 0., 0., 0., 0., 0., 0., 0., 0., 0.],\n",
       "       [0., 0., 0., 0., 0., 0., 0., 0., 0., 0., 0., 0., 0., 0., 0., 0.,\n",
       "        0., 0., 0., 0., 0., 0., 0., 0., 0., 0., 0., 0., 0., 0.],\n",
       "       [0., 0., 0., 0., 0., 0., 0., 0., 0., 0., 0., 0., 0., 0., 0., 0.,\n",
       "        0., 0., 0., 0., 0., 0., 0., 0., 0., 0., 0., 0., 0., 0.],\n",
       "       [0., 0., 0., 0., 0., 0., 0., 0., 0., 0., 0., 0., 0., 0., 0., 0.,\n",
       "        0., 0., 0., 0., 0., 0., 0., 0., 0., 0., 0., 0., 0., 0.],\n",
       "       [0., 0., 0., 0., 0., 0., 0., 0., 0., 0., 0., 0., 0., 0., 0., 0.,\n",
       "        0., 0., 0., 0., 0., 0., 0., 0., 0., 0., 0., 0., 0., 0.]])"
      ]
     },
     "execution_count": 64,
     "metadata": {},
     "output_type": "execute_result"
    }
   ],
   "source": [
    "np.zeros((10,30))"
   ]
  },
  {
   "cell_type": "code",
   "execution_count": 66,
   "id": "4055abf9-a8d1-4af1-9a12-814b47be9759",
   "metadata": {},
   "outputs": [
    {
     "data": {
      "text/plain": [
       "array([[0., 0., 0., 0., 0., 0., 0., 0., 0., 0.],\n",
       "       [0., 0., 0., 0., 0., 0., 0., 0., 0., 0.],\n",
       "       [0., 0., 0., 0., 0., 0., 0., 0., 0., 0.],\n",
       "       [0., 0., 0., 0., 0., 0., 0., 0., 0., 0.],\n",
       "       [0., 0., 0., 0., 0., 0., 0., 0., 0., 0.]])"
      ]
     },
     "execution_count": 66,
     "metadata": {},
     "output_type": "execute_result"
    }
   ],
   "source": [
    "np.zeros((5,10))"
   ]
  },
  {
   "cell_type": "code",
   "execution_count": null,
   "id": "28b2b156-d026-497c-9eb9-d035673a0736",
   "metadata": {},
   "outputs": [],
   "source": []
  },
  {
   "cell_type": "code",
   "execution_count": 69,
   "id": "d7cff911-e5e6-4a38-a085-8f66803dc714",
   "metadata": {},
   "outputs": [
    {
     "data": {
      "text/plain": [
       "array([1., 1., 1.])"
      ]
     },
     "execution_count": 69,
     "metadata": {},
     "output_type": "execute_result"
    }
   ],
   "source": [
    "np.ones(3)"
   ]
  },
  {
   "cell_type": "code",
   "execution_count": 71,
   "id": "dc2cf323-3393-429d-a30c-9cf6a7e5b887",
   "metadata": {},
   "outputs": [
    {
     "data": {
      "text/plain": [
       "array([1, 1, 1, 1])"
      ]
     },
     "execution_count": 71,
     "metadata": {},
     "output_type": "execute_result"
    }
   ],
   "source": [
    "np.ones(4,dtype=int)"
   ]
  },
  {
   "cell_type": "code",
   "execution_count": 73,
   "id": "f226373c-c6dc-4ead-ad48-4421c1e8dfe9",
   "metadata": {},
   "outputs": [
    {
     "ename": "AttributeError",
     "evalue": "module 'numpy' has no attribute 'twos'",
     "output_type": "error",
     "traceback": [
      "\u001b[1;31m---------------------------------------------------------------------------\u001b[0m",
      "\u001b[1;31mAttributeError\u001b[0m                            Traceback (most recent call last)",
      "Cell \u001b[1;32mIn[73], line 1\u001b[0m\n\u001b[1;32m----> 1\u001b[0m np\u001b[38;5;241m.\u001b[39mtwos(\u001b[38;5;241m2\u001b[39m,\u001b[38;5;241m3\u001b[39m)\n",
      "File \u001b[1;32m~\\anaconda3\\Lib\\site-packages\\numpy\\__init__.py:333\u001b[0m, in \u001b[0;36m__getattr__\u001b[1;34m(attr)\u001b[0m\n\u001b[0;32m    330\u001b[0m     \u001b[38;5;124m\"\u001b[39m\u001b[38;5;124mRemoved in NumPy 1.25.0\u001b[39m\u001b[38;5;124m\"\u001b[39m\n\u001b[0;32m    331\u001b[0m     \u001b[38;5;28;01mraise\u001b[39;00m \u001b[38;5;167;01mRuntimeError\u001b[39;00m(\u001b[38;5;124m\"\u001b[39m\u001b[38;5;124mTester was removed in NumPy 1.25.\u001b[39m\u001b[38;5;124m\"\u001b[39m)\n\u001b[1;32m--> 333\u001b[0m \u001b[38;5;28;01mraise\u001b[39;00m \u001b[38;5;167;01mAttributeError\u001b[39;00m(\u001b[38;5;124m\"\u001b[39m\u001b[38;5;124mmodule \u001b[39m\u001b[38;5;132;01m{!r}\u001b[39;00m\u001b[38;5;124m has no attribute \u001b[39m\u001b[38;5;124m\"\u001b[39m\n\u001b[0;32m    334\u001b[0m                      \u001b[38;5;124m\"\u001b[39m\u001b[38;5;132;01m{!r}\u001b[39;00m\u001b[38;5;124m\"\u001b[39m\u001b[38;5;241m.\u001b[39mformat(\u001b[38;5;18m__name__\u001b[39m, attr))\n",
      "\u001b[1;31mAttributeError\u001b[0m: module 'numpy' has no attribute 'twos'"
     ]
    }
   ],
   "source": [
    "np.twos(2,3)"
   ]
  },
  {
   "cell_type": "code",
   "execution_count": 75,
   "id": "c2ce3fe5-b4f4-4e7b-99ca-86c5eb194f28",
   "metadata": {},
   "outputs": [
    {
     "ename": "NameError",
     "evalue": "name 'n' is not defined",
     "output_type": "error",
     "traceback": [
      "\u001b[1;31m---------------------------------------------------------------------------\u001b[0m",
      "\u001b[1;31mNameError\u001b[0m                                 Traceback (most recent call last)",
      "Cell \u001b[1;32mIn[75], line 1\u001b[0m\n\u001b[1;32m----> 1\u001b[0m np\u001b[38;5;241m.\u001b[39mones(n)\n",
      "\u001b[1;31mNameError\u001b[0m: name 'n' is not defined"
     ]
    }
   ],
   "source": [
    "np.ones(n)"
   ]
  },
  {
   "cell_type": "code",
   "execution_count": null,
   "id": "83b3dfc9-7933-43d7-913c-07dd8d7aa2cd",
   "metadata": {},
   "outputs": [],
   "source": []
  },
  {
   "cell_type": "code",
   "execution_count": 78,
   "id": "60e1183b-4be1-4bbd-8a1a-4ec8c7738681",
   "metadata": {},
   "outputs": [
    {
     "ename": "NameError",
     "evalue": "name 'rand' is not defined",
     "output_type": "error",
     "traceback": [
      "\u001b[1;31m---------------------------------------------------------------------------\u001b[0m",
      "\u001b[1;31mNameError\u001b[0m                                 Traceback (most recent call last)",
      "Cell \u001b[1;32mIn[78], line 1\u001b[0m\n\u001b[1;32m----> 1\u001b[0m rand(\u001b[38;5;241m3\u001b[39m,\u001b[38;5;241m2\u001b[39m)\n",
      "\u001b[1;31mNameError\u001b[0m: name 'rand' is not defined"
     ]
    }
   ],
   "source": [
    "rand(3,2)"
   ]
  },
  {
   "cell_type": "code",
   "execution_count": 80,
   "id": "2990d971-2f7b-45ff-9100-1ac3e4e379a7",
   "metadata": {},
   "outputs": [
    {
     "ename": "NameError",
     "evalue": "name 'rand' is not defined",
     "output_type": "error",
     "traceback": [
      "\u001b[1;31m---------------------------------------------------------------------------\u001b[0m",
      "\u001b[1;31mNameError\u001b[0m                                 Traceback (most recent call last)",
      "Cell \u001b[1;32mIn[80], line 1\u001b[0m\n\u001b[1;32m----> 1\u001b[0m rand(\u001b[38;5;241m3\u001b[39m,\u001b[38;5;241m2\u001b[39m)\n\u001b[0;32m      2\u001b[0m random\u001b[38;5;241m.\u001b[39mrand(\u001b[38;5;241m3\u001b[39m,\u001b[38;5;241m2\u001b[39m)\n",
      "\u001b[1;31mNameError\u001b[0m: name 'rand' is not defined"
     ]
    }
   ],
   "source": [
    "rand(3,2)\n",
    "random.rand(3,2)"
   ]
  },
  {
   "cell_type": "code",
   "execution_count": 82,
   "id": "0fd57b89-69f0-450f-8f78-56ce9a1f2c1f",
   "metadata": {},
   "outputs": [
    {
     "data": {
      "text/plain": [
       "array([[0.66534296, 0.51848344],\n",
       "       [0.64443659, 0.83480997],\n",
       "       [0.93833397, 0.8041233 ]])"
      ]
     },
     "execution_count": 82,
     "metadata": {},
     "output_type": "execute_result"
    }
   ],
   "source": [
    "np.random.rand(3,2)"
   ]
  },
  {
   "cell_type": "code",
   "execution_count": 84,
   "id": "e8eef21b-bd33-4624-921f-0db991e5fb78",
   "metadata": {},
   "outputs": [
    {
     "data": {
      "text/plain": [
       "array([0.76750736, 0.27826481, 0.62149871, 0.81621676])"
      ]
     },
     "execution_count": 84,
     "metadata": {},
     "output_type": "execute_result"
    }
   ],
   "source": [
    "np.random.rand(4)"
   ]
  },
  {
   "cell_type": "code",
   "execution_count": 86,
   "id": "089895ef-c877-4d5b-9398-4429586c434e",
   "metadata": {},
   "outputs": [
    {
     "data": {
      "text/plain": [
       "3"
      ]
     },
     "execution_count": 86,
     "metadata": {},
     "output_type": "execute_result"
    }
   ],
   "source": [
    "np.random.randint(3,5)"
   ]
  },
  {
   "cell_type": "code",
   "execution_count": 88,
   "id": "334c1dfd-7090-4d9a-ac2c-83d4d85d90dc",
   "metadata": {},
   "outputs": [
    {
     "data": {
      "text/plain": [
       "6"
      ]
     },
     "execution_count": 88,
     "metadata": {},
     "output_type": "execute_result"
    }
   ],
   "source": [
    "np.random.randint(1,24)"
   ]
  },
  {
   "cell_type": "code",
   "execution_count": 90,
   "id": "801934d4-0776-4f77-aa95-ca673c80bab6",
   "metadata": {},
   "outputs": [
    {
     "data": {
      "text/plain": [
       "0"
      ]
     },
     "execution_count": 90,
     "metadata": {},
     "output_type": "execute_result"
    }
   ],
   "source": [
    "np.random.randint(0,1)"
   ]
  },
  {
   "cell_type": "code",
   "execution_count": 92,
   "id": "febbba74-f5c5-4119-b1f1-e8bedd9830e0",
   "metadata": {},
   "outputs": [
    {
     "data": {
      "text/plain": [
       "array([ 4,  5, 10, 10,  1])"
      ]
     },
     "execution_count": 92,
     "metadata": {},
     "output_type": "execute_result"
    }
   ],
   "source": [
    "np.random.randint(1,40,5)"
   ]
  },
  {
   "cell_type": "code",
   "execution_count": 94,
   "id": "70e504e5-366b-4b4e-a848-8774304cdf34",
   "metadata": {},
   "outputs": [
    {
     "data": {
      "text/plain": [
       "array([2, 2, 9, 7, 9])"
      ]
     },
     "execution_count": 94,
     "metadata": {},
     "output_type": "execute_result"
    }
   ],
   "source": [
    "np.random.randint(0,10,5)"
   ]
  },
  {
   "cell_type": "code",
   "execution_count": 96,
   "id": "52f3f522-769e-491d-9345-73f043170804",
   "metadata": {},
   "outputs": [
    {
     "data": {
      "text/plain": [
       "array([0.02607062, 0.32065883, 0.55982338])"
      ]
     },
     "execution_count": 96,
     "metadata": {},
     "output_type": "execute_result"
    }
   ],
   "source": [
    "np.random.rand(3)"
   ]
  },
  {
   "cell_type": "code",
   "execution_count": 105,
   "id": "51282255-b60c-4bc1-852c-0ff9cddde4f4",
   "metadata": {},
   "outputs": [
    {
     "data": {
      "text/plain": [
       "array([[21, 18, 38, 14, 18, 15, 15, 26, 23, 22],\n",
       "       [26, 31, 22, 30, 24, 31, 11, 20, 33, 26],\n",
       "       [11, 14, 15, 34, 38, 24, 17, 19, 15, 34],\n",
       "       [12, 26, 12, 13, 37, 19, 28, 11, 25, 24],\n",
       "       [25, 28, 32, 33, 31, 18, 37, 17, 22, 39],\n",
       "       [13, 20, 16, 37, 37, 20, 21, 23, 28, 12],\n",
       "       [25, 13, 18, 31, 24, 27, 10, 16, 27, 14],\n",
       "       [31, 37, 26, 36, 23, 23, 17, 25, 32, 15],\n",
       "       [19, 36, 16, 33, 21, 21, 21, 22, 18, 19],\n",
       "       [22, 29, 10, 23, 28, 16, 21, 11, 10, 35]])"
      ]
     },
     "execution_count": 105,
     "metadata": {},
     "output_type": "execute_result"
    }
   ],
   "source": [
    "np.random.randint(10,40,(10,10))"
   ]
  },
  {
   "cell_type": "code",
   "execution_count": 113,
   "id": "11f550c2-fcba-441f-9ab0-fc5d9409044c",
   "metadata": {},
   "outputs": [
    {
     "data": {
      "text/plain": [
       "array([[ 1,  2,  3,  4],\n",
       "       [ 5,  6,  7,  8],\n",
       "       [ 9, 10, 11, 12]])"
      ]
     },
     "execution_count": 113,
     "metadata": {},
     "output_type": "execute_result"
    }
   ],
   "source": [
    "np.arange(1,13).reshape(3,4)"
   ]
  },
  {
   "cell_type": "code",
   "execution_count": 122,
   "id": "a1d34fc8-29fa-4f52-9352-318fd05d97e1",
   "metadata": {},
   "outputs": [
    {
     "ename": "ValueError",
     "evalue": "cannot reshape array of size 12 into shape (5,4)",
     "output_type": "error",
     "traceback": [
      "\u001b[1;31m---------------------------------------------------------------------------\u001b[0m",
      "\u001b[1;31mValueError\u001b[0m                                Traceback (most recent call last)",
      "Cell \u001b[1;32mIn[122], line 1\u001b[0m\n\u001b[1;32m----> 1\u001b[0m np\u001b[38;5;241m.\u001b[39marange(\u001b[38;5;241m1\u001b[39m,\u001b[38;5;241m13\u001b[39m)\u001b[38;5;241m.\u001b[39mreshape(\u001b[38;5;241m5\u001b[39m,\u001b[38;5;241m4\u001b[39m)\n",
      "\u001b[1;31mValueError\u001b[0m: cannot reshape array of size 12 into shape (5,4)"
     ]
    }
   ],
   "source": [
    "np.arange(1,13).reshape(5,4)"
   ]
  },
  {
   "cell_type": "code",
   "execution_count": 124,
   "id": "4c7a68a6-f4e0-4ce1-8697-0c6007b254a7",
   "metadata": {},
   "outputs": [
    {
     "data": {
      "text/plain": [
       "array([[ 1],\n",
       "       [ 2],\n",
       "       [ 3],\n",
       "       [ 4],\n",
       "       [ 5],\n",
       "       [ 6],\n",
       "       [ 7],\n",
       "       [ 8],\n",
       "       [ 9],\n",
       "       [10],\n",
       "       [11],\n",
       "       [12]])"
      ]
     },
     "execution_count": 124,
     "metadata": {},
     "output_type": "execute_result"
    }
   ],
   "source": [
    "np.arange(1,13).reshape(12,1)"
   ]
  },
  {
   "cell_type": "code",
   "execution_count": 126,
   "id": "f76e6280-efd7-4e99-93b0-287d56967472",
   "metadata": {},
   "outputs": [
    {
     "data": {
      "text/plain": [
       "array([[ 1,  2],\n",
       "       [ 3,  4],\n",
       "       [ 5,  6],\n",
       "       [ 7,  8],\n",
       "       [ 9, 10],\n",
       "       [11, 12]])"
      ]
     },
     "execution_count": 126,
     "metadata": {},
     "output_type": "execute_result"
    }
   ],
   "source": [
    "np.arange(1,13).reshape(6,2)"
   ]
  },
  {
   "cell_type": "code",
   "execution_count": 138,
   "id": "f773f86b-5f89-4b57-94fa-9d98a7c25e8c",
   "metadata": {},
   "outputs": [
    {
     "data": {
      "text/plain": [
       "array([[10, 16, 16, 13],\n",
       "       [14, 10, 16, 11],\n",
       "       [10, 16, 16, 14],\n",
       "       [17, 15, 19, 18],\n",
       "       [13, 14, 12, 19]])"
      ]
     },
     "execution_count": 138,
     "metadata": {},
     "output_type": "execute_result"
    }
   ],
   "source": [
    "b=np.random.randint(10,20,(5,4))\n",
    "b"
   ]
  },
  {
   "cell_type": "code",
   "execution_count": 140,
   "id": "3d76a165-8ae2-4b41-9331-0263ccf27f6c",
   "metadata": {},
   "outputs": [
    {
     "data": {
      "text/plain": [
       "numpy.ndarray"
      ]
     },
     "execution_count": 140,
     "metadata": {},
     "output_type": "execute_result"
    }
   ],
   "source": [
    "type(b)"
   ]
  },
  {
   "cell_type": "code",
   "execution_count": 142,
   "id": "1c93adc4-7572-487a-97f9-7bcae869cb19",
   "metadata": {},
   "outputs": [
    {
     "data": {
      "text/plain": [
       "array([[10, 16, 16, 13],\n",
       "       [14, 10, 16, 11],\n",
       "       [10, 16, 16, 14],\n",
       "       [17, 15, 19, 18],\n",
       "       [13, 14, 12, 19]])"
      ]
     },
     "execution_count": 142,
     "metadata": {},
     "output_type": "execute_result"
    }
   ],
   "source": [
    "b[:]"
   ]
  },
  {
   "cell_type": "code",
   "execution_count": 144,
   "id": "89fd59fe-c7b5-4a5a-a3bc-61b2a11147c5",
   "metadata": {},
   "outputs": [
    {
     "data": {
      "text/plain": [
       "array([[14, 10, 16, 11],\n",
       "       [10, 16, 16, 14]])"
      ]
     },
     "execution_count": 144,
     "metadata": {},
     "output_type": "execute_result"
    }
   ],
   "source": [
    "b[1:3]"
   ]
  },
  {
   "cell_type": "code",
   "execution_count": 146,
   "id": "1c711e59-3286-4674-82b5-14dcaeadca4f",
   "metadata": {},
   "outputs": [
    {
     "data": {
      "text/plain": [
       "16"
      ]
     },
     "execution_count": 146,
     "metadata": {},
     "output_type": "execute_result"
    }
   ],
   "source": [
    "b[1,2]"
   ]
  },
  {
   "cell_type": "code",
   "execution_count": 148,
   "id": "bd19670c-79e1-4958-b46c-f9a1ea0b6ce0",
   "metadata": {},
   "outputs": [
    {
     "data": {
      "text/plain": [
       "array([[10, 16, 16, 13],\n",
       "       [14, 10, 16, 11],\n",
       "       [10, 16, 16, 14],\n",
       "       [17, 15, 19, 18],\n",
       "       [13, 14, 12, 19]])"
      ]
     },
     "execution_count": 148,
     "metadata": {},
     "output_type": "execute_result"
    }
   ],
   "source": [
    "b"
   ]
  },
  {
   "cell_type": "code",
   "execution_count": 150,
   "id": "fe41b923-2f98-4f26-a3a0-6557d2b36cce",
   "metadata": {},
   "outputs": [
    {
     "data": {
      "text/plain": [
       "11"
      ]
     },
     "execution_count": 150,
     "metadata": {},
     "output_type": "execute_result"
    }
   ],
   "source": [
    "b[1,-1]"
   ]
  },
  {
   "cell_type": "code",
   "execution_count": 152,
   "id": "33dc4de7-aed5-4ac5-8087-2a149da106ec",
   "metadata": {},
   "outputs": [
    {
     "data": {
      "text/plain": [
       "array([[10, 16, 16, 14]])"
      ]
     },
     "execution_count": 152,
     "metadata": {},
     "output_type": "execute_result"
    }
   ],
   "source": [
    "b[2:3]"
   ]
  },
  {
   "cell_type": "code",
   "execution_count": 154,
   "id": "db737ee7-22a0-4701-9c84-7cb42d7e2df2",
   "metadata": {},
   "outputs": [
    {
     "data": {
      "text/plain": [
       "array([[10, 16, 16, 13],\n",
       "       [14, 10, 16, 11],\n",
       "       [10, 16, 16, 14]])"
      ]
     },
     "execution_count": 154,
     "metadata": {},
     "output_type": "execute_result"
    }
   ],
   "source": [
    "b[0:-2]"
   ]
  },
  {
   "cell_type": "code",
   "execution_count": 163,
   "id": "09ee37c9-69d8-48dc-a26a-9b57baec49db",
   "metadata": {},
   "outputs": [
    {
     "data": {
      "text/plain": [
       "16"
      ]
     },
     "execution_count": 163,
     "metadata": {},
     "output_type": "execute_result"
    }
   ],
   "source": [
    "b[0,2]"
   ]
  },
  {
   "cell_type": "code",
   "execution_count": 165,
   "id": "376bfa3a-2117-4422-b343-74dacbe65d2e",
   "metadata": {},
   "outputs": [
    {
     "data": {
      "text/plain": [
       "16"
      ]
     },
     "execution_count": 165,
     "metadata": {},
     "output_type": "execute_result"
    }
   ],
   "source": [
    "b[-4,2]"
   ]
  },
  {
   "cell_type": "code",
   "execution_count": 167,
   "id": "f627aabe-22d9-466b-8909-3c09543ca315",
   "metadata": {},
   "outputs": [
    {
     "data": {
      "text/plain": [
       "16"
      ]
     },
     "execution_count": 167,
     "metadata": {},
     "output_type": "execute_result"
    }
   ],
   "source": [
    "b[-4,-2]"
   ]
  },
  {
   "cell_type": "code",
   "execution_count": 169,
   "id": "67cc4e0f-8c38-4a44-b708-8ecded9d36a6",
   "metadata": {},
   "outputs": [
    {
     "data": {
      "text/plain": [
       "array([[10, 16, 16, 13],\n",
       "       [14, 10, 16, 11],\n",
       "       [10, 16, 16, 14],\n",
       "       [17, 15, 19, 18],\n",
       "       [13, 14, 12, 19]])"
      ]
     },
     "execution_count": 169,
     "metadata": {},
     "output_type": "execute_result"
    }
   ],
   "source": [
    "b"
   ]
  },
  {
   "cell_type": "code",
   "execution_count": 171,
   "id": "52b5b6d2-8f7b-41a4-a794-842f5eea68da",
   "metadata": {},
   "outputs": [
    {
     "data": {
      "text/plain": [
       "array([[10, 16, 16, 14]])"
      ]
     },
     "execution_count": 171,
     "metadata": {},
     "output_type": "execute_result"
    }
   ],
   "source": [
    "b[2:3]"
   ]
  },
  {
   "cell_type": "code",
   "execution_count": 173,
   "id": "e99c0887-4076-40ef-af66-1786e56be5fe",
   "metadata": {},
   "outputs": [
    {
     "data": {
      "text/plain": [
       "array([[10, 16, 16, 13],\n",
       "       [14, 10, 16, 11],\n",
       "       [10, 16, 16, 14],\n",
       "       [17, 15, 19, 18],\n",
       "       [13, 14, 12, 19]])"
      ]
     },
     "execution_count": 173,
     "metadata": {},
     "output_type": "execute_result"
    }
   ],
   "source": [
    "b"
   ]
  },
  {
   "cell_type": "code",
   "execution_count": 176,
   "id": "dc4933b3-7c64-4076-af9c-5005a8638e44",
   "metadata": {},
   "outputs": [
    {
     "data": {
      "text/plain": [
       "array([[10, 16, 16, 13],\n",
       "       [14, 10, 16, 11],\n",
       "       [10, 16, 16, 14]])"
      ]
     },
     "execution_count": 176,
     "metadata": {},
     "output_type": "execute_result"
    }
   ],
   "source": [
    "b[0:-2]"
   ]
  },
  {
   "cell_type": "code",
   "execution_count": 178,
   "id": "4319cd35-00d2-42f0-ba8c-fa661787c394",
   "metadata": {},
   "outputs": [
    {
     "data": {
      "text/plain": [
       "array([[10, 16, 16, 13],\n",
       "       [14, 10, 16, 11]])"
      ]
     },
     "execution_count": 178,
     "metadata": {},
     "output_type": "execute_result"
    }
   ],
   "source": [
    "b[0:2]"
   ]
  },
  {
   "cell_type": "code",
   "execution_count": 191,
   "id": "a8708d4b-a02b-43da-b57f-8faefdb01bba",
   "metadata": {},
   "outputs": [
    {
     "data": {
      "text/plain": [
       "16"
      ]
     },
     "execution_count": 191,
     "metadata": {},
     "output_type": "execute_result"
    }
   ],
   "source": [
    "b[0,2]"
   ]
  },
  {
   "cell_type": "code",
   "execution_count": 193,
   "id": "9bbe310e-acc9-413c-8b6c-ddec0387a2e7",
   "metadata": {},
   "outputs": [
    {
     "ename": "IndexError",
     "evalue": "index 4 is out of bounds for axis 1 with size 4",
     "output_type": "error",
     "traceback": [
      "\u001b[1;31m---------------------------------------------------------------------------\u001b[0m",
      "\u001b[1;31mIndexError\u001b[0m                                Traceback (most recent call last)",
      "Cell \u001b[1;32mIn[193], line 1\u001b[0m\n\u001b[1;32m----> 1\u001b[0m b[\u001b[38;5;241m0\u001b[39m,\u001b[38;5;241m4\u001b[39m]\n",
      "\u001b[1;31mIndexError\u001b[0m: index 4 is out of bounds for axis 1 with size 4"
     ]
    }
   ],
   "source": [
    "b[0,4]"
   ]
  },
  {
   "cell_type": "code",
   "execution_count": 195,
   "id": "4c0008a2-7534-44cf-9efa-f2c4ae968cee",
   "metadata": {},
   "outputs": [
    {
     "data": {
      "text/plain": [
       "16"
      ]
     },
     "execution_count": 195,
     "metadata": {},
     "output_type": "execute_result"
    }
   ],
   "source": [
    "b[-5,-3]"
   ]
  },
  {
   "cell_type": "code",
   "execution_count": 197,
   "id": "d21af3f8-8263-4654-92bf-75d55d596973",
   "metadata": {},
   "outputs": [
    {
     "data": {
      "text/plain": [
       "16"
      ]
     },
     "execution_count": 197,
     "metadata": {},
     "output_type": "execute_result"
    }
   ],
   "source": [
    "b[-4,2]"
   ]
  },
  {
   "cell_type": "code",
   "execution_count": null,
   "id": "394e659c-f159-44f6-be67-8e2cf7466157",
   "metadata": {},
   "outputs": [],
   "source": []
  },
  {
   "cell_type": "code",
   "execution_count": 199,
   "id": "3fae123e-2ee7-4714-80e0-974c3c08b9cc",
   "metadata": {},
   "outputs": [
    {
     "data": {
      "text/plain": [
       "array([[24, 27, 28, 23],\n",
       "       [24, 24, 22, 26],\n",
       "       [29, 29, 21, 28],\n",
       "       [25, 24, 20, 20]])"
      ]
     },
     "execution_count": 199,
     "metadata": {},
     "output_type": "execute_result"
    }
   ],
   "source": [
    "np.random.randint(20,30,(4,4))"
   ]
  },
  {
   "cell_type": "code",
   "execution_count": 201,
   "id": "1b35804b-df34-46a4-8c15-fa8cfb6e2a7c",
   "metadata": {},
   "outputs": [
    {
     "data": {
      "text/plain": [
       "array([[10, 16, 16, 13],\n",
       "       [14, 10, 16, 11],\n",
       "       [10, 16, 16, 14],\n",
       "       [17, 15, 19, 18],\n",
       "       [13, 14, 12, 19]])"
      ]
     },
     "execution_count": 201,
     "metadata": {},
     "output_type": "execute_result"
    }
   ],
   "source": [
    "\n",
    "b"
   ]
  },
  {
   "cell_type": "code",
   "execution_count": 203,
   "id": "fbb36009-a9a5-4336-901f-9e73aead7b54",
   "metadata": {},
   "outputs": [
    {
     "data": {
      "text/plain": [
       "16"
      ]
     },
     "execution_count": 203,
     "metadata": {},
     "output_type": "execute_result"
    }
   ],
   "source": [
    "b[-4,-2]"
   ]
  },
  {
   "cell_type": "code",
   "execution_count": 205,
   "id": "ecf4b9a6-a30a-4553-8600-30f91752de02",
   "metadata": {},
   "outputs": [
    {
     "data": {
      "text/plain": [
       "array([[14, 10, 16, 11]])"
      ]
     },
     "execution_count": 205,
     "metadata": {},
     "output_type": "execute_result"
    }
   ],
   "source": [
    "b[-4:2]"
   ]
  },
  {
   "cell_type": "code",
   "execution_count": 207,
   "id": "aa663f4d-699e-42c9-9d54-51125ad9dc43",
   "metadata": {},
   "outputs": [
    {
     "data": {
      "text/plain": [
       "array([[10, 16, 16, 13],\n",
       "       [14, 10, 16, 11],\n",
       "       [10, 16, 16, 14],\n",
       "       [17, 15, 19, 18],\n",
       "       [13, 14, 12, 19]])"
      ]
     },
     "execution_count": 207,
     "metadata": {},
     "output_type": "execute_result"
    }
   ],
   "source": [
    "b[:]"
   ]
  },
  {
   "cell_type": "code",
   "execution_count": null,
   "id": "f9022a20-ed6f-4cfa-8c4e-892292ff466f",
   "metadata": {},
   "outputs": [],
   "source": []
  },
  {
   "cell_type": "markdown",
   "id": "7296f3bc-eaf9-4013-b512-56d7883066b7",
   "metadata": {},
   "source": [
    "# OPERATIONS"
   ]
  },
  {
   "cell_type": "code",
   "execution_count": 220,
   "id": "0b8cbbc6-d4e5-483a-897b-ea5b2d5f84d9",
   "metadata": {},
   "outputs": [
    {
     "data": {
      "text/plain": [
       "array([6, 3, 6, 4, 9, 3, 1, 4, 6, 4])"
      ]
     },
     "execution_count": 220,
     "metadata": {},
     "output_type": "execute_result"
    }
   ],
   "source": [
    "a=np.random.randint(1,10,10)\n",
    "a"
   ]
  },
  {
   "cell_type": "code",
   "execution_count": 222,
   "id": "ae444b44-4148-4047-8b05-d149366d423e",
   "metadata": {},
   "outputs": [
    {
     "data": {
      "text/plain": [
       "2056445475600"
      ]
     },
     "execution_count": 222,
     "metadata": {},
     "output_type": "execute_result"
    }
   ],
   "source": [
    "id(a)"
   ]
  },
  {
   "cell_type": "code",
   "execution_count": 224,
   "id": "e41edef4-3048-4038-8afe-a5b417cf4674",
   "metadata": {},
   "outputs": [
    {
     "data": {
      "text/plain": [
       "array([0, 1, 2, 3, 4, 5])"
      ]
     },
     "execution_count": 224,
     "metadata": {},
     "output_type": "execute_result"
    }
   ],
   "source": [
    "arr"
   ]
  },
  {
   "cell_type": "code",
   "execution_count": 230,
   "id": "2bdbaa64-b931-477c-84d4-7080faf0817a",
   "metadata": {},
   "outputs": [
    {
     "data": {
      "text/plain": [
       "array([[80, 84, 64, 99, 11, 46, 15,  3,  0, 90],\n",
       "       [87, 81, 25, 45, 58, 29,  2, 99, 88,  6],\n",
       "       [ 6, 76, 93,  8, 19, 13, 82, 51,  5, 91],\n",
       "       [94, 54, 15, 92, 53, 72, 61, 38, 23, 38],\n",
       "       [14, 42, 39, 18, 92, 43, 46, 16, 94, 10],\n",
       "       [44, 17, 49, 43, 95, 24, 97, 60, 24, 45],\n",
       "       [32,  2, 93,  2, 69, 40, 41, 56, 79, 36],\n",
       "       [78, 37, 92, 21, 26, 66,  9, 89, 53, 98],\n",
       "       [24, 33, 44, 36, 86, 79, 36, 91,  4, 85],\n",
       "       [11, 95, 41,  0, 13, 45, 30, 31,  2, 32]])"
      ]
     },
     "execution_count": 230,
     "metadata": {},
     "output_type": "execute_result"
    }
   ],
   "source": [
    "arr2=np.random.randint(0,100,(10,10))\n",
    "arr2"
   ]
  },
  {
   "cell_type": "code",
   "execution_count": null,
   "id": "858bcc58-5349-478f-aba8-6a3cbcfd3310",
   "metadata": {},
   "outputs": [],
   "source": []
  },
  {
   "cell_type": "code",
   "execution_count": 233,
   "id": "c5e674a7-5728-42c7-a018-03b3b37137e4",
   "metadata": {},
   "outputs": [
    {
     "data": {
      "text/plain": [
       "array([0, 1, 2, 3, 4, 5])"
      ]
     },
     "execution_count": 233,
     "metadata": {},
     "output_type": "execute_result"
    }
   ],
   "source": [
    "arr[:]"
   ]
  },
  {
   "cell_type": "code",
   "execution_count": 235,
   "id": "b069c5af-22da-4946-b5c5-4b3063ffb3ea",
   "metadata": {},
   "outputs": [
    {
     "data": {
      "text/plain": [
       "array([[80, 84, 64, 99, 11, 46, 15,  3,  0, 90],\n",
       "       [87, 81, 25, 45, 58, 29,  2, 99, 88,  6],\n",
       "       [ 6, 76, 93,  8, 19, 13, 82, 51,  5, 91],\n",
       "       [94, 54, 15, 92, 53, 72, 61, 38, 23, 38],\n",
       "       [14, 42, 39, 18, 92, 43, 46, 16, 94, 10],\n",
       "       [44, 17, 49, 43, 95, 24, 97, 60, 24, 45],\n",
       "       [32,  2, 93,  2, 69, 40, 41, 56, 79, 36],\n",
       "       [78, 37, 92, 21, 26, 66,  9, 89, 53, 98],\n",
       "       [24, 33, 44, 36, 86, 79, 36, 91,  4, 85],\n",
       "       [11, 95, 41,  0, 13, 45, 30, 31,  2, 32]])"
      ]
     },
     "execution_count": 235,
     "metadata": {},
     "output_type": "execute_result"
    }
   ],
   "source": [
    "arr2[:]"
   ]
  },
  {
   "cell_type": "code",
   "execution_count": 237,
   "id": "c5f37ccc-1c70-4021-a7a2-ea62838425bc",
   "metadata": {},
   "outputs": [
    {
     "data": {
      "text/plain": [
       "array([[80, 84, 64, 99, 11, 46, 15,  3,  0, 90],\n",
       "       [87, 81, 25, 45, 58, 29,  2, 99, 88,  6],\n",
       "       [ 6, 76, 93,  8, 19, 13, 82, 51,  5, 91],\n",
       "       [94, 54, 15, 92, 53, 72, 61, 38, 23, 38],\n",
       "       [14, 42, 39, 18, 92, 43, 46, 16, 94, 10]])"
      ]
     },
     "execution_count": 237,
     "metadata": {},
     "output_type": "execute_result"
    }
   ],
   "source": [
    "arr2[0:5]"
   ]
  },
  {
   "cell_type": "code",
   "execution_count": 239,
   "id": "cc572b68-4a9e-4abf-9919-9012f060211a",
   "metadata": {},
   "outputs": [
    {
     "data": {
      "text/plain": [
       "58"
      ]
     },
     "execution_count": 239,
     "metadata": {},
     "output_type": "execute_result"
    }
   ],
   "source": [
    "arr2[1,4]"
   ]
  },
  {
   "cell_type": "code",
   "execution_count": 241,
   "id": "fa8f8b60-377c-4599-b29d-d91a4da7b044",
   "metadata": {},
   "outputs": [
    {
     "data": {
      "text/plain": [
       "24"
      ]
     },
     "execution_count": 241,
     "metadata": {},
     "output_type": "execute_result"
    }
   ],
   "source": [
    "arr2[-5,5]"
   ]
  },
  {
   "cell_type": "code",
   "execution_count": 243,
   "id": "8851eeb9-b73f-4d9b-8eb7-83e0c1c1206f",
   "metadata": {},
   "outputs": [
    {
     "data": {
      "text/plain": [
       "24"
      ]
     },
     "execution_count": 243,
     "metadata": {},
     "output_type": "execute_result"
    }
   ],
   "source": [
    "arr2[-5,-5]"
   ]
  },
  {
   "cell_type": "code",
   "execution_count": 245,
   "id": "75df8947-332b-4264-9b05-6b3b18f753b8",
   "metadata": {},
   "outputs": [
    {
     "data": {
      "text/plain": [
       "array([[80, 84, 64, 99, 11, 46, 15,  3,  0, 90],\n",
       "       [87, 81, 25, 45, 58, 29,  2, 99, 88,  6],\n",
       "       [ 6, 76, 93,  8, 19, 13, 82, 51,  5, 91],\n",
       "       [94, 54, 15, 92, 53, 72, 61, 38, 23, 38],\n",
       "       [14, 42, 39, 18, 92, 43, 46, 16, 94, 10],\n",
       "       [44, 17, 49, 43, 95, 24, 97, 60, 24, 45],\n",
       "       [32,  2, 93,  2, 69, 40, 41, 56, 79, 36],\n",
       "       [78, 37, 92, 21, 26, 66,  9, 89, 53, 98],\n",
       "       [24, 33, 44, 36, 86, 79, 36, 91,  4, 85],\n",
       "       [11, 95, 41,  0, 13, 45, 30, 31,  2, 32]])"
      ]
     },
     "execution_count": 245,
     "metadata": {},
     "output_type": "execute_result"
    }
   ],
   "source": [
    "arr2"
   ]
  },
  {
   "cell_type": "code",
   "execution_count": 247,
   "id": "d3943e4b-c546-44c4-a04d-4f2f2ef90fe9",
   "metadata": {},
   "outputs": [
    {
     "data": {
      "text/plain": [
       "2"
      ]
     },
     "execution_count": 247,
     "metadata": {},
     "output_type": "execute_result"
    }
   ],
   "source": [
    "arr2[-1,-2]"
   ]
  },
  {
   "cell_type": "code",
   "execution_count": 249,
   "id": "cc9e7d02-8b00-4b4a-aaac-e7176959d518",
   "metadata": {},
   "outputs": [
    {
     "data": {
      "text/plain": [
       "array([[11, 95, 41,  0, 13, 45, 30, 31,  2, 32],\n",
       "       [24, 33, 44, 36, 86, 79, 36, 91,  4, 85],\n",
       "       [78, 37, 92, 21, 26, 66,  9, 89, 53, 98],\n",
       "       [32,  2, 93,  2, 69, 40, 41, 56, 79, 36],\n",
       "       [44, 17, 49, 43, 95, 24, 97, 60, 24, 45],\n",
       "       [14, 42, 39, 18, 92, 43, 46, 16, 94, 10],\n",
       "       [94, 54, 15, 92, 53, 72, 61, 38, 23, 38],\n",
       "       [ 6, 76, 93,  8, 19, 13, 82, 51,  5, 91],\n",
       "       [87, 81, 25, 45, 58, 29,  2, 99, 88,  6],\n",
       "       [80, 84, 64, 99, 11, 46, 15,  3,  0, 90]])"
      ]
     },
     "execution_count": 249,
     "metadata": {},
     "output_type": "execute_result"
    }
   ],
   "source": [
    "arr2[::-1]"
   ]
  },
  {
   "cell_type": "code",
   "execution_count": 251,
   "id": "21d30152-fc07-4e8b-be38-b376a046f9ea",
   "metadata": {},
   "outputs": [
    {
     "data": {
      "text/plain": [
       "array([[80, 84, 64, 99, 11, 46, 15,  3,  0, 90],\n",
       "       [87, 81, 25, 45, 58, 29,  2, 99, 88,  6],\n",
       "       [ 6, 76, 93,  8, 19, 13, 82, 51,  5, 91],\n",
       "       [94, 54, 15, 92, 53, 72, 61, 38, 23, 38],\n",
       "       [14, 42, 39, 18, 92, 43, 46, 16, 94, 10],\n",
       "       [44, 17, 49, 43, 95, 24, 97, 60, 24, 45],\n",
       "       [32,  2, 93,  2, 69, 40, 41, 56, 79, 36],\n",
       "       [78, 37, 92, 21, 26, 66,  9, 89, 53, 98],\n",
       "       [24, 33, 44, 36, 86, 79, 36, 91,  4, 85],\n",
       "       [11, 95, 41,  0, 13, 45, 30, 31,  2, 32]])"
      ]
     },
     "execution_count": 251,
     "metadata": {},
     "output_type": "execute_result"
    }
   ],
   "source": [
    "arr2"
   ]
  },
  {
   "cell_type": "code",
   "execution_count": 253,
   "id": "acf8bbfc-a396-454d-a81b-be6ca5d80b6e",
   "metadata": {},
   "outputs": [
    {
     "data": {
      "text/plain": [
       "array([[11, 95, 41,  0, 13, 45, 30, 31,  2, 32],\n",
       "       [78, 37, 92, 21, 26, 66,  9, 89, 53, 98],\n",
       "       [44, 17, 49, 43, 95, 24, 97, 60, 24, 45],\n",
       "       [94, 54, 15, 92, 53, 72, 61, 38, 23, 38],\n",
       "       [87, 81, 25, 45, 58, 29,  2, 99, 88,  6]])"
      ]
     },
     "execution_count": 253,
     "metadata": {},
     "output_type": "execute_result"
    }
   ],
   "source": [
    "arr2[::-2]"
   ]
  },
  {
   "cell_type": "code",
   "execution_count": 255,
   "id": "f2db6333-3d8f-4135-9127-e0a6078f6b54",
   "metadata": {},
   "outputs": [
    {
     "data": {
      "text/plain": [
       "array([[11, 95, 41,  0, 13, 45, 30, 31,  2, 32],\n",
       "       [32,  2, 93,  2, 69, 40, 41, 56, 79, 36],\n",
       "       [94, 54, 15, 92, 53, 72, 61, 38, 23, 38],\n",
       "       [80, 84, 64, 99, 11, 46, 15,  3,  0, 90]])"
      ]
     },
     "execution_count": 255,
     "metadata": {},
     "output_type": "execute_result"
    }
   ],
   "source": [
    "arr2[::-3]"
   ]
  },
  {
   "cell_type": "code",
   "execution_count": 257,
   "id": "c9db16e2-197e-4345-ac41-f151d7ef64ba",
   "metadata": {},
   "outputs": [
    {
     "data": {
      "text/plain": [
       "array([[80, 84, 64, 99, 11, 46, 15,  3,  0, 90],\n",
       "       [87, 81, 25, 45, 58, 29,  2, 99, 88,  6],\n",
       "       [ 6, 76, 93,  8, 19, 13, 82, 51,  5, 91],\n",
       "       [94, 54, 15, 92, 53, 72, 61, 38, 23, 38],\n",
       "       [14, 42, 39, 18, 92, 43, 46, 16, 94, 10],\n",
       "       [44, 17, 49, 43, 95, 24, 97, 60, 24, 45],\n",
       "       [32,  2, 93,  2, 69, 40, 41, 56, 79, 36],\n",
       "       [78, 37, 92, 21, 26, 66,  9, 89, 53, 98],\n",
       "       [24, 33, 44, 36, 86, 79, 36, 91,  4, 85],\n",
       "       [11, 95, 41,  0, 13, 45, 30, 31,  2, 32]])"
      ]
     },
     "execution_count": 257,
     "metadata": {},
     "output_type": "execute_result"
    }
   ],
   "source": [
    "arr2"
   ]
  },
  {
   "cell_type": "code",
   "execution_count": 259,
   "id": "0d297a9b-de78-47ee-bb27-0eb1f59f1a8b",
   "metadata": {},
   "outputs": [
    {
     "data": {
      "text/plain": [
       "array([[80, 84, 64, 99, 11, 46, 15,  3,  0, 90],\n",
       "       [87, 81, 25, 45, 58, 29,  2, 99, 88,  6],\n",
       "       [ 6, 76, 93,  8, 19, 13, 82, 51,  5, 91],\n",
       "       [94, 54, 15, 92, 53, 72, 61, 38, 23, 38],\n",
       "       [14, 42, 39, 18, 92, 43, 46, 16, 94, 10],\n",
       "       [44, 17, 49, 43, 95, 24, 97, 60, 24, 45],\n",
       "       [32,  2, 93,  2, 69, 40, 41, 56, 79, 36]])"
      ]
     },
     "execution_count": 259,
     "metadata": {},
     "output_type": "execute_result"
    }
   ],
   "source": [
    "arr2[:-3]"
   ]
  },
  {
   "cell_type": "code",
   "execution_count": 261,
   "id": "19f9bd42-7f7a-4603-843f-df3348205257",
   "metadata": {},
   "outputs": [
    {
     "data": {
      "text/plain": [
       "array([0, 1, 2, 3, 4, 5])"
      ]
     },
     "execution_count": 261,
     "metadata": {},
     "output_type": "execute_result"
    }
   ],
   "source": [
    "arr"
   ]
  },
  {
   "cell_type": "code",
   "execution_count": 263,
   "id": "3cf15a3a-bc0b-4fd1-b08e-162d2ea1b54e",
   "metadata": {},
   "outputs": [
    {
     "data": {
      "text/plain": [
       "5"
      ]
     },
     "execution_count": 263,
     "metadata": {},
     "output_type": "execute_result"
    }
   ],
   "source": [
    "arr.max()"
   ]
  },
  {
   "cell_type": "code",
   "execution_count": 265,
   "id": "64462458-15b2-4ced-ab75-11864e40768b",
   "metadata": {},
   "outputs": [
    {
     "data": {
      "text/plain": [
       "0"
      ]
     },
     "execution_count": 265,
     "metadata": {},
     "output_type": "execute_result"
    }
   ],
   "source": [
    "arr.min()"
   ]
  },
  {
   "cell_type": "code",
   "execution_count": 267,
   "id": "adec823b-b8b5-4211-98ea-60ee22c0d81d",
   "metadata": {},
   "outputs": [
    {
     "data": {
      "text/plain": [
       "15"
      ]
     },
     "execution_count": 267,
     "metadata": {},
     "output_type": "execute_result"
    }
   ],
   "source": [
    "arr.sum()"
   ]
  },
  {
   "cell_type": "code",
   "execution_count": 269,
   "id": "67601d3e-ce43-48a9-b485-15fd0afa9fb7",
   "metadata": {},
   "outputs": [
    {
     "data": {
      "text/plain": [
       "2.5"
      ]
     },
     "execution_count": 269,
     "metadata": {},
     "output_type": "execute_result"
    }
   ],
   "source": [
    "arr.mean()"
   ]
  },
  {
   "cell_type": "code",
   "execution_count": 271,
   "id": "4773cb06-53bb-446f-a9e9-5fa2c3b0dfb0",
   "metadata": {},
   "outputs": [
    {
     "ename": "AttributeError",
     "evalue": "'numpy.ndarray' object has no attribute 'median'",
     "output_type": "error",
     "traceback": [
      "\u001b[1;31m---------------------------------------------------------------------------\u001b[0m",
      "\u001b[1;31mAttributeError\u001b[0m                            Traceback (most recent call last)",
      "Cell \u001b[1;32mIn[271], line 1\u001b[0m\n\u001b[1;32m----> 1\u001b[0m arr\u001b[38;5;241m.\u001b[39mmedian()\n",
      "\u001b[1;31mAttributeError\u001b[0m: 'numpy.ndarray' object has no attribute 'median'"
     ]
    }
   ],
   "source": [
    "arr.median()"
   ]
  },
  {
   "cell_type": "code",
   "execution_count": 281,
   "id": "39bc7b2d-4c3c-40b7-a540-29aea3124cc4",
   "metadata": {},
   "outputs": [
    {
     "data": {
      "text/plain": [
       "4.0"
      ]
     },
     "execution_count": 281,
     "metadata": {},
     "output_type": "execute_result"
    }
   ],
   "source": [
    "from numpy import *\n",
    "a=array([1,2,3,4,5,6,7])\n",
    "median(a)"
   ]
  },
  {
   "cell_type": "code",
   "execution_count": null,
   "id": "59b01d3d-1c53-4743-8a8d-6ec99cddbfca",
   "metadata": {},
   "outputs": [],
   "source": []
  },
  {
   "cell_type": "markdown",
   "id": "db42102d-310d-4fd0-8da2-e383669d8717",
   "metadata": {},
   "source": [
    "# Without work on import* can you please find the median, mode)"
   ]
  },
  {
   "cell_type": "code",
   "execution_count": null,
   "id": "53dc88ea-ff10-4858-9e6b-ef04bee286a0",
   "metadata": {},
   "outputs": [],
   "source": []
  },
  {
   "cell_type": "code",
   "execution_count": 291,
   "id": "1e536aba-bb4b-4590-9d85-3e2d30d636da",
   "metadata": {},
   "outputs": [
    {
     "data": {
      "text/plain": [
       "array([0, 1, 2, 3, 4, 5])"
      ]
     },
     "execution_count": 291,
     "metadata": {},
     "output_type": "execute_result"
    }
   ],
   "source": [
    "arr"
   ]
  },
  {
   "cell_type": "code",
   "execution_count": 295,
   "id": "c37a6529-b917-414a-a4c9-fddd38bfb619",
   "metadata": {},
   "outputs": [
    {
     "data": {
      "text/plain": [
       "array([[0, 1, 2],\n",
       "       [3, 4, 5]])"
      ]
     },
     "execution_count": 295,
     "metadata": {},
     "output_type": "execute_result"
    }
   ],
   "source": [
    "arr.reshape(2,3)"
   ]
  },
  {
   "cell_type": "code",
   "execution_count": 297,
   "id": "b5209fde-b026-48a0-a79c-cea78048ab74",
   "metadata": {},
   "outputs": [
    {
     "data": {
      "text/plain": [
       "array([[0],\n",
       "       [1],\n",
       "       [2],\n",
       "       [3],\n",
       "       [4],\n",
       "       [5]])"
      ]
     },
     "execution_count": 297,
     "metadata": {},
     "output_type": "execute_result"
    }
   ],
   "source": [
    "arr.reshape(6,1)"
   ]
  },
  {
   "cell_type": "code",
   "execution_count": 299,
   "id": "68ef1f01-7efa-4439-9422-684093776974",
   "metadata": {},
   "outputs": [
    {
     "data": {
      "text/plain": [
       "array([[0, 1, 2, 3, 4, 5]])"
      ]
     },
     "execution_count": 299,
     "metadata": {},
     "output_type": "execute_result"
    }
   ],
   "source": [
    "arr.reshape(1,6)"
   ]
  },
  {
   "cell_type": "code",
   "execution_count": 301,
   "id": "2ed593b9-862d-4a67-8008-923f8bd03133",
   "metadata": {},
   "outputs": [
    {
     "ename": "SyntaxError",
     "evalue": "closing parenthesis '}' does not match opening parenthesis '(' (2377609563.py, line 1)",
     "output_type": "error",
     "traceback": [
      "\u001b[1;36m  Cell \u001b[1;32mIn[301], line 1\u001b[1;36m\u001b[0m\n\u001b[1;33m    arr.reshape(2,4})\u001b[0m\n\u001b[1;37m                   ^\u001b[0m\n\u001b[1;31mSyntaxError\u001b[0m\u001b[1;31m:\u001b[0m closing parenthesis '}' does not match opening parenthesis '('\n"
     ]
    }
   ],
   "source": [
    "arr.reshape(2,4})"
   ]
  },
  {
   "cell_type": "code",
   "execution_count": 305,
   "id": "e90033ba-4845-4abd-b643-23380ac0240c",
   "metadata": {},
   "outputs": [
    {
     "ename": "ValueError",
     "evalue": "cannot reshape array of size 6 into shape (4,2)",
     "output_type": "error",
     "traceback": [
      "\u001b[1;31m---------------------------------------------------------------------------\u001b[0m",
      "\u001b[1;31mValueError\u001b[0m                                Traceback (most recent call last)",
      "Cell \u001b[1;32mIn[305], line 1\u001b[0m\n\u001b[1;32m----> 1\u001b[0m arr\u001b[38;5;241m.\u001b[39mreshape(\u001b[38;5;241m4\u001b[39m,\u001b[38;5;241m2\u001b[39m)\n",
      "\u001b[1;31mValueError\u001b[0m: cannot reshape array of size 6 into shape (4,2)"
     ]
    }
   ],
   "source": [
    "arr.reshape(4,2)"
   ]
  },
  {
   "cell_type": "code",
   "execution_count": 303,
   "id": "feb680c2-9890-49c3-b593-ce37916951a0",
   "metadata": {},
   "outputs": [
    {
     "data": {
      "text/plain": [
       "array([0, 1, 2, 3, 4, 5])"
      ]
     },
     "execution_count": 303,
     "metadata": {},
     "output_type": "execute_result"
    }
   ],
   "source": [
    "arr"
   ]
  },
  {
   "cell_type": "code",
   "execution_count": 310,
   "id": "44b0e70f-5a1b-476a-bd5c-4cb3b3011bf7",
   "metadata": {},
   "outputs": [
    {
     "data": {
      "text/plain": [
       "array([[0, 1, 2],\n",
       "       [3, 4, 5]])"
      ]
     },
     "execution_count": 310,
     "metadata": {},
     "output_type": "execute_result"
    }
   ],
   "source": [
    "arr.reshape(2,3,order='C')  #print element using c-type indexing"
   ]
  },
  {
   "cell_type": "code",
   "execution_count": 312,
   "id": "19905f6a-e648-4507-9518-f88654a28c87",
   "metadata": {},
   "outputs": [
    {
     "data": {
      "text/plain": [
       "array([[0, 3],\n",
       "       [1, 4],\n",
       "       [2, 5]])"
      ]
     },
     "execution_count": 312,
     "metadata": {},
     "output_type": "execute_result"
    }
   ],
   "source": [
    "arr.reshape(3,2,order='F')   # print element with fortran "
   ]
  },
  {
   "cell_type": "code",
   "execution_count": 314,
   "id": "df8396a1-8964-417d-816b-af8348b34cac",
   "metadata": {},
   "outputs": [
    {
     "data": {
      "text/plain": [
       "array([[0, 2, 4],\n",
       "       [1, 3, 5]])"
      ]
     },
     "execution_count": 314,
     "metadata": {},
     "output_type": "execute_result"
    }
   ],
   "source": [
    "arr.reshape(2,3,order='F')"
   ]
  },
  {
   "cell_type": "code",
   "execution_count": 316,
   "id": "c4e5f738-b91c-457b-a6c7-13af784467a2",
   "metadata": {},
   "outputs": [
    {
     "data": {
      "text/plain": [
       "array([[0, 1],\n",
       "       [2, 3],\n",
       "       [4, 5]])"
      ]
     },
     "execution_count": 316,
     "metadata": {},
     "output_type": "execute_result"
    }
   ],
   "source": [
    "arr.reshape(3,2,order='A')"
   ]
  },
  {
   "cell_type": "code",
   "execution_count": 318,
   "id": "5aed3edc-378c-4754-917c-a4001e512177",
   "metadata": {},
   "outputs": [
    {
     "data": {
      "text/plain": [
       "array([[0, 1, 2],\n",
       "       [3, 4, 5]])"
      ]
     },
     "execution_count": 318,
     "metadata": {},
     "output_type": "execute_result"
    }
   ],
   "source": [
    "arr.reshape(2,3,order='A')"
   ]
  },
  {
   "cell_type": "code",
   "execution_count": 326,
   "id": "3f86538c-165a-474c-aa39-f6b9a3786ae7",
   "metadata": {},
   "outputs": [
    {
     "ename": "ValueError",
     "evalue": "cannot reshape array of size 6 into shape (1,3)",
     "output_type": "error",
     "traceback": [
      "\u001b[1;31m---------------------------------------------------------------------------\u001b[0m",
      "\u001b[1;31mValueError\u001b[0m                                Traceback (most recent call last)",
      "Cell \u001b[1;32mIn[326], line 1\u001b[0m\n\u001b[1;32m----> 1\u001b[0m arr\u001b[38;5;241m.\u001b[39mreshape(\u001b[38;5;241m1\u001b[39m,\u001b[38;5;241m3\u001b[39m,order\u001b[38;5;241m=\u001b[39m\u001b[38;5;124m'\u001b[39m\u001b[38;5;124mA\u001b[39m\u001b[38;5;124m'\u001b[39m)\n",
      "\u001b[1;31mValueError\u001b[0m: cannot reshape array of size 6 into shape (1,3)"
     ]
    }
   ],
   "source": [
    "arr.reshape(1,3,order='A')"
   ]
  },
  {
   "cell_type": "code",
   "execution_count": null,
   "id": "25e23643-9623-40fb-8f8a-b4e48669e9da",
   "metadata": {},
   "outputs": [],
   "source": []
  },
  {
   "cell_type": "code",
   "execution_count": 329,
   "id": "11bf9115-6086-4779-a293-dc66f6803b0d",
   "metadata": {},
   "outputs": [
    {
     "data": {
      "text/plain": [
       "array([0, 1, 2, 3, 4, 5])"
      ]
     },
     "execution_count": 329,
     "metadata": {},
     "output_type": "execute_result"
    }
   ],
   "source": [
    "arr"
   ]
  },
  {
   "cell_type": "code",
   "execution_count": 331,
   "id": "b8996f9e-67c2-43be-bf86-d5229cf14aae",
   "metadata": {},
   "outputs": [
    {
     "data": {
      "text/plain": [
       "array([[0, 1, 2],\n",
       "       [3, 4, 5]])"
      ]
     },
     "execution_count": 331,
     "metadata": {},
     "output_type": "execute_result"
    }
   ],
   "source": [
    "arr.reshape(2,3)"
   ]
  },
  {
   "cell_type": "code",
   "execution_count": 333,
   "id": "be37cb79-803d-4e52-91b9-818fdb866454",
   "metadata": {},
   "outputs": [
    {
     "data": {
      "text/plain": [
       "array([[0, 1],\n",
       "       [2, 3],\n",
       "       [4, 5]])"
      ]
     },
     "execution_count": 333,
     "metadata": {},
     "output_type": "execute_result"
    }
   ],
   "source": [
    "arr.reshape(3,2)"
   ]
  },
  {
   "cell_type": "code",
   "execution_count": 335,
   "id": "ac3c9343-12d5-4122-94d0-56422c5b18a3",
   "metadata": {},
   "outputs": [
    {
     "ename": "TypeError",
     "evalue": "'numpy.ndarray' object is not callable",
     "output_type": "error",
     "traceback": [
      "\u001b[1;31m---------------------------------------------------------------------------\u001b[0m",
      "\u001b[1;31mTypeError\u001b[0m                                 Traceback (most recent call last)",
      "Cell \u001b[1;32mIn[335], line 1\u001b[0m\n\u001b[1;32m----> 1\u001b[0m arr(\u001b[38;5;241m1\u001b[39m,\u001b[38;5;241m4\u001b[39m)\n",
      "\u001b[1;31mTypeError\u001b[0m: 'numpy.ndarray' object is not callable"
     ]
    }
   ],
   "source": [
    "arr(1,4)"
   ]
  },
  {
   "cell_type": "code",
   "execution_count": 337,
   "id": "5843808e-e95a-4c56-8372-ac63709d272c",
   "metadata": {},
   "outputs": [
    {
     "ename": "TypeError",
     "evalue": "'numpy.ndarray' object is not callable",
     "output_type": "error",
     "traceback": [
      "\u001b[1;31m---------------------------------------------------------------------------\u001b[0m",
      "\u001b[1;31mTypeError\u001b[0m                                 Traceback (most recent call last)",
      "Cell \u001b[1;32mIn[337], line 1\u001b[0m\n\u001b[1;32m----> 1\u001b[0m arr(\u001b[38;5;241m6\u001b[39m,\u001b[38;5;241m1\u001b[39m)\n",
      "\u001b[1;31mTypeError\u001b[0m: 'numpy.ndarray' object is not callable"
     ]
    }
   ],
   "source": [
    "arr(6,1)"
   ]
  },
  {
   "cell_type": "code",
   "execution_count": null,
   "id": "ca4b081a-679b-4e9d-abe7-c78d4889c322",
   "metadata": {},
   "outputs": [],
   "source": []
  },
  {
   "cell_type": "markdown",
   "id": "53f6584c-1bf5-49c6-8eb1-d6ff7ffe40ff",
   "metadata": {},
   "source": [
    "# INDEXING"
   ]
  },
  {
   "cell_type": "code",
   "execution_count": 348,
   "id": "58b468d5-0d49-4847-a2cf-0afdb5fa913e",
   "metadata": {},
   "outputs": [
    {
     "data": {
      "text/plain": [
       "array([[ 0,  1,  2,  3,  4,  5,  6,  7,  8,  9],\n",
       "       [10, 11, 12, 13, 14, 15, 16, 17, 18, 19],\n",
       "       [20, 21, 22, 23, 24, 25, 26, 27, 28, 29],\n",
       "       [30, 31, 32, 33, 34, 35, 36, 37, 38, 39],\n",
       "       [40, 41, 42, 43, 44, 45, 46, 47, 48, 49],\n",
       "       [50, 51, 52, 53, 54, 55, 56, 57, 58, 59],\n",
       "       [60, 61, 62, 63, 64, 65, 66, 67, 68, 69],\n",
       "       [70, 71, 72, 73, 74, 75, 76, 77, 78, 79],\n",
       "       [80, 81, 82, 83, 84, 85, 86, 87, 88, 89],\n",
       "       [90, 91, 92, 93, 94, 95, 96, 97, 98, 99]])"
      ]
     },
     "execution_count": 348,
     "metadata": {},
     "output_type": "execute_result"
    }
   ],
   "source": [
    "mat=np.arange(0,100).reshape(10,10)\n",
    "mat"
   ]
  },
  {
   "cell_type": "code",
   "execution_count": 350,
   "id": "33449240-7b8d-4f2b-a1b8-ddfe5b1f84b7",
   "metadata": {},
   "outputs": [],
   "source": [
    "row=5\n",
    "col=6"
   ]
  },
  {
   "cell_type": "code",
   "execution_count": 352,
   "id": "545d25bb-2999-4629-af39-9d2fe622b74c",
   "metadata": {},
   "outputs": [
    {
     "data": {
      "text/plain": [
       "5"
      ]
     },
     "execution_count": 352,
     "metadata": {},
     "output_type": "execute_result"
    }
   ],
   "source": [
    "row"
   ]
  },
  {
   "cell_type": "code",
   "execution_count": 354,
   "id": "b8920de3-649d-4376-be7c-5ed86c8cc81a",
   "metadata": {},
   "outputs": [
    {
     "data": {
      "text/plain": [
       "6"
      ]
     },
     "execution_count": 354,
     "metadata": {},
     "output_type": "execute_result"
    }
   ],
   "source": [
    "col"
   ]
  },
  {
   "cell_type": "code",
   "execution_count": 356,
   "id": "083a12dc-ff31-4dcf-a6dd-7239240eb604",
   "metadata": {},
   "outputs": [
    {
     "data": {
      "text/plain": [
       "array([[ 0,  1,  2,  3,  4,  5,  6,  7,  8,  9],\n",
       "       [10, 11, 12, 13, 14, 15, 16, 17, 18, 19],\n",
       "       [20, 21, 22, 23, 24, 25, 26, 27, 28, 29],\n",
       "       [30, 31, 32, 33, 34, 35, 36, 37, 38, 39],\n",
       "       [40, 41, 42, 43, 44, 45, 46, 47, 48, 49],\n",
       "       [50, 51, 52, 53, 54, 55, 56, 57, 58, 59],\n",
       "       [60, 61, 62, 63, 64, 65, 66, 67, 68, 69],\n",
       "       [70, 71, 72, 73, 74, 75, 76, 77, 78, 79],\n",
       "       [80, 81, 82, 83, 84, 85, 86, 87, 88, 89],\n",
       "       [90, 91, 92, 93, 94, 95, 96, 97, 98, 99]])"
      ]
     },
     "execution_count": 356,
     "metadata": {},
     "output_type": "execute_result"
    }
   ],
   "source": [
    "mat"
   ]
  },
  {
   "cell_type": "code",
   "execution_count": 358,
   "id": "54ba14c8-bf38-48a0-b366-665f3f2437c6",
   "metadata": {},
   "outputs": [
    {
     "data": {
      "text/plain": [
       "56"
      ]
     },
     "execution_count": 358,
     "metadata": {},
     "output_type": "execute_result"
    }
   ],
   "source": [
    "mat[row,col]"
   ]
  },
  {
   "cell_type": "code",
   "execution_count": 360,
   "id": "e1f8381a-49f6-4eb3-94bc-70464e259bf0",
   "metadata": {},
   "outputs": [
    {
     "data": {
      "text/plain": [
       "56"
      ]
     },
     "execution_count": 360,
     "metadata": {},
     "output_type": "execute_result"
    }
   ],
   "source": [
    "mat[5,6]"
   ]
  },
  {
   "cell_type": "code",
   "execution_count": 362,
   "id": "0e525468-0f8b-4df5-a8db-998bcefe9a78",
   "metadata": {},
   "outputs": [
    {
     "data": {
      "text/plain": [
       "array([[ 0,  1,  2,  3,  4,  5,  6,  7,  8,  9],\n",
       "       [10, 11, 12, 13, 14, 15, 16, 17, 18, 19],\n",
       "       [20, 21, 22, 23, 24, 25, 26, 27, 28, 29],\n",
       "       [30, 31, 32, 33, 34, 35, 36, 37, 38, 39],\n",
       "       [40, 41, 42, 43, 44, 45, 46, 47, 48, 49],\n",
       "       [50, 51, 52, 53, 54, 55, 56, 57, 58, 59],\n",
       "       [60, 61, 62, 63, 64, 65, 66, 67, 68, 69],\n",
       "       [70, 71, 72, 73, 74, 75, 76, 77, 78, 79],\n",
       "       [80, 81, 82, 83, 84, 85, 86, 87, 88, 89],\n",
       "       [90, 91, 92, 93, 94, 95, 96, 97, 98, 99]])"
      ]
     },
     "execution_count": 362,
     "metadata": {},
     "output_type": "execute_result"
    }
   ],
   "source": [
    "mat[:]"
   ]
  },
  {
   "cell_type": "code",
   "execution_count": 364,
   "id": "6db98f09-7df9-472c-b4b5-8c4682fa5d17",
   "metadata": {},
   "outputs": [],
   "source": [
    "col=7"
   ]
  },
  {
   "cell_type": "code",
   "execution_count": 366,
   "id": "2d468b53-2982-449d-862a-404db5f332bc",
   "metadata": {},
   "outputs": [
    {
     "data": {
      "text/plain": [
       "array([70, 71, 72, 73, 74, 75, 76, 77, 78, 79])"
      ]
     },
     "execution_count": 366,
     "metadata": {},
     "output_type": "execute_result"
    }
   ],
   "source": [
    "mat[col]"
   ]
  },
  {
   "cell_type": "code",
   "execution_count": 368,
   "id": "24dda7cc-f84c-4f93-a246-8caff467b723",
   "metadata": {},
   "outputs": [
    {
     "data": {
      "text/plain": [
       "array([[ 0,  1,  2,  3,  4,  5,  6,  7,  8,  9],\n",
       "       [10, 11, 12, 13, 14, 15, 16, 17, 18, 19],\n",
       "       [20, 21, 22, 23, 24, 25, 26, 27, 28, 29],\n",
       "       [30, 31, 32, 33, 34, 35, 36, 37, 38, 39],\n",
       "       [40, 41, 42, 43, 44, 45, 46, 47, 48, 49],\n",
       "       [50, 51, 52, 53, 54, 55, 56, 57, 58, 59],\n",
       "       [60, 61, 62, 63, 64, 65, 66, 67, 68, 69],\n",
       "       [70, 71, 72, 73, 74, 75, 76, 77, 78, 79],\n",
       "       [80, 81, 82, 83, 84, 85, 86, 87, 88, 89],\n",
       "       [90, 91, 92, 93, 94, 95, 96, 97, 98, 99]])"
      ]
     },
     "execution_count": 368,
     "metadata": {},
     "output_type": "execute_result"
    }
   ],
   "source": [
    "mat"
   ]
  },
  {
   "cell_type": "code",
   "execution_count": 370,
   "id": "4be51096-c207-4ae3-b54b-0e3a78dbe3b1",
   "metadata": {},
   "outputs": [
    {
     "data": {
      "text/plain": [
       "array([ 7, 17, 27, 37, 47, 57, 67, 77, 87, 97])"
      ]
     },
     "execution_count": 370,
     "metadata": {},
     "output_type": "execute_result"
    }
   ],
   "source": [
    "mat[:,col]"
   ]
  },
  {
   "cell_type": "code",
   "execution_count": 374,
   "id": "1eda7676-d6f5-4da7-8e38-c33895c52253",
   "metadata": {},
   "outputs": [
    {
     "data": {
      "text/plain": [
       "array([50, 51, 52, 53, 54, 55, 56, 57, 58, 59])"
      ]
     },
     "execution_count": 374,
     "metadata": {},
     "output_type": "execute_result"
    }
   ],
   "source": [
    "mat[row,:]"
   ]
  },
  {
   "cell_type": "code",
   "execution_count": 376,
   "id": "9f77ff5f-7f1c-4331-96dd-e41e4ba52677",
   "metadata": {},
   "outputs": [
    {
     "data": {
      "text/plain": [
       "array([ 8, 18, 28, 38, 48, 58, 68, 78, 88, 98])"
      ]
     },
     "execution_count": 376,
     "metadata": {},
     "output_type": "execute_result"
    }
   ],
   "source": [
    "mat[:,8]"
   ]
  },
  {
   "cell_type": "code",
   "execution_count": 378,
   "id": "eeeae50d-7add-4418-8eb0-a1b48d80bc16",
   "metadata": {},
   "outputs": [
    {
     "data": {
      "text/plain": [
       "array([[ 0,  1,  2,  3,  4,  5,  6,  7,  8,  9],\n",
       "       [10, 11, 12, 13, 14, 15, 16, 17, 18, 19],\n",
       "       [20, 21, 22, 23, 24, 25, 26, 27, 28, 29],\n",
       "       [30, 31, 32, 33, 34, 35, 36, 37, 38, 39],\n",
       "       [40, 41, 42, 43, 44, 45, 46, 47, 48, 49],\n",
       "       [50, 51, 52, 53, 54, 55, 56, 57, 58, 59],\n",
       "       [60, 61, 62, 63, 64, 65, 66, 67, 68, 69]])"
      ]
     },
     "execution_count": 378,
     "metadata": {},
     "output_type": "execute_result"
    }
   ],
   "source": [
    "mat[:col]"
   ]
  },
  {
   "cell_type": "code",
   "execution_count": 380,
   "id": "a8a6f2fa-7a02-4744-93b3-36b5d587bcb6",
   "metadata": {},
   "outputs": [
    {
     "data": {
      "text/plain": [
       "array([[ 0,  1,  2,  3,  4,  5,  6,  7,  8,  9],\n",
       "       [10, 11, 12, 13, 14, 15, 16, 17, 18, 19],\n",
       "       [20, 21, 22, 23, 24, 25, 26, 27, 28, 29],\n",
       "       [30, 31, 32, 33, 34, 35, 36, 37, 38, 39],\n",
       "       [40, 41, 42, 43, 44, 45, 46, 47, 48, 49],\n",
       "       [50, 51, 52, 53, 54, 55, 56, 57, 58, 59]])"
      ]
     },
     "execution_count": 380,
     "metadata": {},
     "output_type": "execute_result"
    }
   ],
   "source": [
    "mat[:6]"
   ]
  },
  {
   "cell_type": "code",
   "execution_count": 382,
   "id": "64df6242-09a1-4520-b5dd-845c71e0d00e",
   "metadata": {},
   "outputs": [
    {
     "data": {
      "text/plain": [
       "5"
      ]
     },
     "execution_count": 382,
     "metadata": {},
     "output_type": "execute_result"
    }
   ],
   "source": [
    "row"
   ]
  },
  {
   "cell_type": "code",
   "execution_count": 384,
   "id": "dde3fbc6-efa5-48c4-b969-c5dc9246ec59",
   "metadata": {},
   "outputs": [
    {
     "data": {
      "text/plain": [
       "array([[ 0,  1,  2,  3,  4,  5,  6,  7,  8,  9],\n",
       "       [10, 11, 12, 13, 14, 15, 16, 17, 18, 19],\n",
       "       [20, 21, 22, 23, 24, 25, 26, 27, 28, 29],\n",
       "       [30, 31, 32, 33, 34, 35, 36, 37, 38, 39],\n",
       "       [40, 41, 42, 43, 44, 45, 46, 47, 48, 49],\n",
       "       [50, 51, 52, 53, 54, 55, 56, 57, 58, 59],\n",
       "       [60, 61, 62, 63, 64, 65, 66, 67, 68, 69],\n",
       "       [70, 71, 72, 73, 74, 75, 76, 77, 78, 79],\n",
       "       [80, 81, 82, 83, 84, 85, 86, 87, 88, 89],\n",
       "       [90, 91, 92, 93, 94, 95, 96, 97, 98, 99]])"
      ]
     },
     "execution_count": 384,
     "metadata": {},
     "output_type": "execute_result"
    }
   ],
   "source": [
    "mat"
   ]
  },
  {
   "cell_type": "code",
   "execution_count": 386,
   "id": "48602880-58dc-42a1-a1cc-5d718375b1cf",
   "metadata": {},
   "outputs": [
    {
     "data": {
      "text/plain": [
       "array([[ 0,  1,  2,  3,  4,  5,  6,  7,  8,  9],\n",
       "       [10, 11, 12, 13, 14, 15, 16, 17, 18, 19],\n",
       "       [20, 21, 22, 23, 24, 25, 26, 27, 28, 29],\n",
       "       [30, 31, 32, 33, 34, 35, 36, 37, 38, 39],\n",
       "       [40, 41, 42, 43, 44, 45, 46, 47, 48, 49]])"
      ]
     },
     "execution_count": 386,
     "metadata": {},
     "output_type": "execute_result"
    }
   ],
   "source": [
    "mat[:row]"
   ]
  },
  {
   "cell_type": "code",
   "execution_count": 388,
   "id": "f6e71d1b-2062-49f0-9f8d-77ad2d60447d",
   "metadata": {},
   "outputs": [
    {
     "data": {
      "text/plain": [
       "array([[50, 51, 52, 53, 54, 55, 56, 57, 58, 59],\n",
       "       [60, 61, 62, 63, 64, 65, 66, 67, 68, 69],\n",
       "       [70, 71, 72, 73, 74, 75, 76, 77, 78, 79],\n",
       "       [80, 81, 82, 83, 84, 85, 86, 87, 88, 89],\n",
       "       [90, 91, 92, 93, 94, 95, 96, 97, 98, 99]])"
      ]
     },
     "execution_count": 388,
     "metadata": {},
     "output_type": "execute_result"
    }
   ],
   "source": [
    "mat[row:]"
   ]
  },
  {
   "cell_type": "code",
   "execution_count": 390,
   "id": "2b4c9cb4-109c-4bda-9702-b79392f3f8fe",
   "metadata": {},
   "outputs": [
    {
     "data": {
      "text/plain": [
       "array([[ 0,  1,  2,  3,  4,  5,  6,  7,  8,  9],\n",
       "       [10, 11, 12, 13, 14, 15, 16, 17, 18, 19],\n",
       "       [20, 21, 22, 23, 24, 25, 26, 27, 28, 29],\n",
       "       [30, 31, 32, 33, 34, 35, 36, 37, 38, 39],\n",
       "       [40, 41, 42, 43, 44, 45, 46, 47, 48, 49],\n",
       "       [50, 51, 52, 53, 54, 55, 56, 57, 58, 59],\n",
       "       [60, 61, 62, 63, 64, 65, 66, 67, 68, 69],\n",
       "       [70, 71, 72, 73, 74, 75, 76, 77, 78, 79],\n",
       "       [80, 81, 82, 83, 84, 85, 86, 87, 88, 89],\n",
       "       [90, 91, 92, 93, 94, 95, 96, 97, 98, 99]])"
      ]
     },
     "execution_count": 390,
     "metadata": {},
     "output_type": "execute_result"
    }
   ],
   "source": [
    "mat[:]"
   ]
  },
  {
   "cell_type": "code",
   "execution_count": 392,
   "id": "b1d54b23-9dea-4905-91b8-c11a987de62c",
   "metadata": {},
   "outputs": [
    {
     "data": {
      "text/plain": [
       "array([ 8, 18, 28, 38, 48, 58, 68, 78, 88, 98])"
      ]
     },
     "execution_count": 392,
     "metadata": {},
     "output_type": "execute_result"
    }
   ],
   "source": [
    "mat[:,8]"
   ]
  },
  {
   "cell_type": "code",
   "execution_count": 394,
   "id": "e99dc9ad-f6ff-4139-b4b0-6f28b611287d",
   "metadata": {},
   "outputs": [
    {
     "data": {
      "text/plain": [
       "array([ 9, 19, 29, 39, 49, 59, 69, 79, 89, 99])"
      ]
     },
     "execution_count": 394,
     "metadata": {},
     "output_type": "execute_result"
    }
   ],
   "source": [
    "mat[:,-1]"
   ]
  },
  {
   "cell_type": "code",
   "execution_count": 396,
   "id": "2112dac3-27e5-4231-99b0-f79777ab41c8",
   "metadata": {},
   "outputs": [
    {
     "data": {
      "text/plain": [
       "14"
      ]
     },
     "execution_count": 396,
     "metadata": {},
     "output_type": "execute_result"
    }
   ],
   "source": [
    "mat[1,4]"
   ]
  },
  {
   "cell_type": "code",
   "execution_count": 398,
   "id": "96e6308d-45e3-4474-a88e-3a17adfe280c",
   "metadata": {},
   "outputs": [
    {
     "data": {
      "text/plain": [
       "array([[10, 11, 12, 13, 14, 15, 16, 17, 18, 19],\n",
       "       [20, 21, 22, 23, 24, 25, 26, 27, 28, 29],\n",
       "       [30, 31, 32, 33, 34, 35, 36, 37, 38, 39],\n",
       "       [40, 41, 42, 43, 44, 45, 46, 47, 48, 49]])"
      ]
     },
     "execution_count": 398,
     "metadata": {},
     "output_type": "execute_result"
    }
   ],
   "source": [
    "mat[1:5]"
   ]
  },
  {
   "cell_type": "code",
   "execution_count": 400,
   "id": "571696d4-2d16-4362-b90b-08d33342f53d",
   "metadata": {},
   "outputs": [
    {
     "data": {
      "text/plain": [
       "array([[40, 41, 42, 43, 44, 45, 46, 47, 48, 49],\n",
       "       [50, 51, 52, 53, 54, 55, 56, 57, 58, 59]])"
      ]
     },
     "execution_count": 400,
     "metadata": {},
     "output_type": "execute_result"
    }
   ],
   "source": [
    "mat[4:-4]"
   ]
  },
  {
   "cell_type": "code",
   "execution_count": 402,
   "id": "e89a8551-4d5d-49f2-be3b-5d2938b72fc8",
   "metadata": {},
   "outputs": [
    {
     "data": {
      "text/plain": [
       "array([0, 1, 2, 3, 4, 5, 6, 7, 8, 9])"
      ]
     },
     "execution_count": 402,
     "metadata": {},
     "output_type": "execute_result"
    }
   ],
   "source": [
    "mat[0]"
   ]
  },
  {
   "cell_type": "code",
   "execution_count": 404,
   "id": "3a499bff-03ba-4714-a85c-4d8d9034ddd0",
   "metadata": {},
   "outputs": [
    {
     "data": {
      "text/plain": [
       "array([70, 71, 72, 73, 74, 75, 76, 77, 78, 79])"
      ]
     },
     "execution_count": 404,
     "metadata": {},
     "output_type": "execute_result"
    }
   ],
   "source": [
    "mat[7]"
   ]
  },
  {
   "cell_type": "code",
   "execution_count": 406,
   "id": "9d8408b9-24e8-4f9e-ba8e-01a46212430f",
   "metadata": {},
   "outputs": [
    {
     "data": {
      "text/plain": [
       "array([[ 0,  1,  2,  3,  4,  5,  6,  7,  8,  9],\n",
       "       [10, 11, 12, 13, 14, 15, 16, 17, 18, 19],\n",
       "       [20, 21, 22, 23, 24, 25, 26, 27, 28, 29],\n",
       "       [30, 31, 32, 33, 34, 35, 36, 37, 38, 39],\n",
       "       [40, 41, 42, 43, 44, 45, 46, 47, 48, 49],\n",
       "       [50, 51, 52, 53, 54, 55, 56, 57, 58, 59],\n",
       "       [60, 61, 62, 63, 64, 65, 66, 67, 68, 69],\n",
       "       [70, 71, 72, 73, 74, 75, 76, 77, 78, 79],\n",
       "       [80, 81, 82, 83, 84, 85, 86, 87, 88, 89],\n",
       "       [90, 91, 92, 93, 94, 95, 96, 97, 98, 99]])"
      ]
     },
     "execution_count": 406,
     "metadata": {},
     "output_type": "execute_result"
    }
   ],
   "source": [
    "mat"
   ]
  },
  {
   "cell_type": "code",
   "execution_count": 408,
   "id": "1528edf5-f876-40ce-97d4-105327baaea2",
   "metadata": {},
   "outputs": [
    {
     "data": {
      "text/plain": [
       "array([[60, 61, 62, 63, 64, 65, 66, 67, 68, 69],\n",
       "       [70, 71, 72, 73, 74, 75, 76, 77, 78, 79],\n",
       "       [80, 81, 82, 83, 84, 85, 86, 87, 88, 89]])"
      ]
     },
     "execution_count": 408,
     "metadata": {},
     "output_type": "execute_result"
    }
   ],
   "source": [
    "mat[6:9]"
   ]
  },
  {
   "cell_type": "code",
   "execution_count": 410,
   "id": "7fa8f0a8-ef4a-46ec-b46d-c7232805a97c",
   "metadata": {},
   "outputs": [
    {
     "data": {
      "text/plain": [
       "array([[ 0,  1,  2,  3,  4,  5,  6,  7,  8,  9],\n",
       "       [10, 11, 12, 13, 14, 15, 16, 17, 18, 19],\n",
       "       [20, 21, 22, 23, 24, 25, 26, 27, 28, 29],\n",
       "       [30, 31, 32, 33, 34, 35, 36, 37, 38, 39],\n",
       "       [40, 41, 42, 43, 44, 45, 46, 47, 48, 49],\n",
       "       [50, 51, 52, 53, 54, 55, 56, 57, 58, 59],\n",
       "       [60, 61, 62, 63, 64, 65, 66, 67, 68, 69],\n",
       "       [70, 71, 72, 73, 74, 75, 76, 77, 78, 79],\n",
       "       [80, 81, 82, 83, 84, 85, 86, 87, 88, 89],\n",
       "       [90, 91, 92, 93, 94, 95, 96, 97, 98, 99]])"
      ]
     },
     "execution_count": 410,
     "metadata": {},
     "output_type": "execute_result"
    }
   ],
   "source": [
    "mat[0:10]"
   ]
  },
  {
   "cell_type": "code",
   "execution_count": 412,
   "id": "a968bdb9-cb8a-4c8d-bddb-391497dbd8b3",
   "metadata": {},
   "outputs": [
    {
     "data": {
      "text/plain": [
       "array([[ 0,  1,  2,  3,  4,  5,  6,  7,  8,  9],\n",
       "       [30, 31, 32, 33, 34, 35, 36, 37, 38, 39],\n",
       "       [60, 61, 62, 63, 64, 65, 66, 67, 68, 69],\n",
       "       [90, 91, 92, 93, 94, 95, 96, 97, 98, 99]])"
      ]
     },
     "execution_count": 412,
     "metadata": {},
     "output_type": "execute_result"
    }
   ],
   "source": [
    "mat[0:10:3]"
   ]
  },
  {
   "cell_type": "code",
   "execution_count": 414,
   "id": "abba7426-bd4d-4190-ad95-70e5732b7e50",
   "metadata": {},
   "outputs": [
    {
     "data": {
      "text/plain": [
       "array([[40, 41, 42, 43, 44, 45, 46, 47, 48, 49],\n",
       "       [50, 51, 52, 53, 54, 55, 56, 57, 58, 59],\n",
       "       [60, 61, 62, 63, 64, 65, 66, 67, 68, 69],\n",
       "       [70, 71, 72, 73, 74, 75, 76, 77, 78, 79],\n",
       "       [80, 81, 82, 83, 84, 85, 86, 87, 88, 89],\n",
       "       [90, 91, 92, 93, 94, 95, 96, 97, 98, 99]])"
      ]
     },
     "execution_count": 414,
     "metadata": {},
     "output_type": "execute_result"
    }
   ],
   "source": [
    "mat[4:]"
   ]
  },
  {
   "cell_type": "code",
   "execution_count": 416,
   "id": "fbd2c51f-f0a8-4d0a-b291-281e36782247",
   "metadata": {},
   "outputs": [
    {
     "data": {
      "text/plain": [
       "array([[ 0,  1,  2,  3,  4,  5,  6,  7,  8,  9],\n",
       "       [10, 11, 12, 13, 14, 15, 16, 17, 18, 19],\n",
       "       [20, 21, 22, 23, 24, 25, 26, 27, 28, 29],\n",
       "       [30, 31, 32, 33, 34, 35, 36, 37, 38, 39],\n",
       "       [40, 41, 42, 43, 44, 45, 46, 47, 48, 49]])"
      ]
     },
     "execution_count": 416,
     "metadata": {},
     "output_type": "execute_result"
    }
   ],
   "source": [
    "mat[:5]"
   ]
  },
  {
   "cell_type": "code",
   "execution_count": 418,
   "id": "fb8f6639-d361-4163-a350-bd162e039593",
   "metadata": {},
   "outputs": [
    {
     "data": {
      "text/plain": [
       "array([[90, 91, 92, 93, 94, 95, 96, 97, 98, 99],\n",
       "       [80, 81, 82, 83, 84, 85, 86, 87, 88, 89],\n",
       "       [70, 71, 72, 73, 74, 75, 76, 77, 78, 79],\n",
       "       [60, 61, 62, 63, 64, 65, 66, 67, 68, 69],\n",
       "       [50, 51, 52, 53, 54, 55, 56, 57, 58, 59],\n",
       "       [40, 41, 42, 43, 44, 45, 46, 47, 48, 49],\n",
       "       [30, 31, 32, 33, 34, 35, 36, 37, 38, 39],\n",
       "       [20, 21, 22, 23, 24, 25, 26, 27, 28, 29],\n",
       "       [10, 11, 12, 13, 14, 15, 16, 17, 18, 19],\n",
       "       [ 0,  1,  2,  3,  4,  5,  6,  7,  8,  9]])"
      ]
     },
     "execution_count": 418,
     "metadata": {},
     "output_type": "execute_result"
    }
   ],
   "source": [
    "mat[::-1]"
   ]
  },
  {
   "cell_type": "code",
   "execution_count": 420,
   "id": "77bb2d9f-af04-49bc-b28c-ba68f8452830",
   "metadata": {},
   "outputs": [
    {
     "data": {
      "text/plain": [
       "array([[ 0,  1,  2,  3,  4,  5,  6,  7,  8,  9],\n",
       "       [10, 11, 12, 13, 14, 15, 16, 17, 18, 19],\n",
       "       [20, 21, 22, 23, 24, 25, 26, 27, 28, 29],\n",
       "       [30, 31, 32, 33, 34, 35, 36, 37, 38, 39],\n",
       "       [40, 41, 42, 43, 44, 45, 46, 47, 48, 49],\n",
       "       [50, 51, 52, 53, 54, 55, 56, 57, 58, 59],\n",
       "       [60, 61, 62, 63, 64, 65, 66, 67, 68, 69],\n",
       "       [70, 71, 72, 73, 74, 75, 76, 77, 78, 79],\n",
       "       [80, 81, 82, 83, 84, 85, 86, 87, 88, 89],\n",
       "       [90, 91, 92, 93, 94, 95, 96, 97, 98, 99]])"
      ]
     },
     "execution_count": 420,
     "metadata": {},
     "output_type": "execute_result"
    }
   ],
   "source": [
    "mat"
   ]
  },
  {
   "cell_type": "code",
   "execution_count": 422,
   "id": "90aaf6e4-8f02-453d-9db4-000c29cb8d9a",
   "metadata": {},
   "outputs": [
    {
     "data": {
      "text/plain": [
       "array([[90, 91, 92, 93, 94, 95, 96, 97, 98, 99],\n",
       "       [60, 61, 62, 63, 64, 65, 66, 67, 68, 69],\n",
       "       [30, 31, 32, 33, 34, 35, 36, 37, 38, 39],\n",
       "       [ 0,  1,  2,  3,  4,  5,  6,  7,  8,  9]])"
      ]
     },
     "execution_count": 422,
     "metadata": {},
     "output_type": "execute_result"
    }
   ],
   "source": [
    "mat[::-3]"
   ]
  },
  {
   "cell_type": "code",
   "execution_count": 424,
   "id": "0903d3b7-7da2-491a-8080-ef5ec092e41e",
   "metadata": {},
   "outputs": [
    {
     "data": {
      "text/plain": [
       "array([[90, 91, 92, 93, 94, 95, 96, 97, 98, 99],\n",
       "       [50, 51, 52, 53, 54, 55, 56, 57, 58, 59],\n",
       "       [10, 11, 12, 13, 14, 15, 16, 17, 18, 19]])"
      ]
     },
     "execution_count": 424,
     "metadata": {},
     "output_type": "execute_result"
    }
   ],
   "source": [
    "mat[::-4]"
   ]
  },
  {
   "cell_type": "code",
   "execution_count": 426,
   "id": "5d0a50db-6494-414a-b657-993c0f97a393",
   "metadata": {},
   "outputs": [
    {
     "data": {
      "text/plain": [
       "array([[90, 91, 92, 93, 94, 95, 96, 97, 98, 99],\n",
       "       [30, 31, 32, 33, 34, 35, 36, 37, 38, 39]])"
      ]
     },
     "execution_count": 426,
     "metadata": {},
     "output_type": "execute_result"
    }
   ],
   "source": [
    "mat[::-6]"
   ]
  },
  {
   "cell_type": "code",
   "execution_count": 428,
   "id": "204f4031-a8c7-45dd-ac1f-8a33b6e6ee67",
   "metadata": {},
   "outputs": [
    {
     "data": {
      "text/plain": [
       "array([[20, 21, 22, 23, 24, 25, 26, 27, 28, 29],\n",
       "       [30, 31, 32, 33, 34, 35, 36, 37, 38, 39],\n",
       "       [40, 41, 42, 43, 44, 45, 46, 47, 48, 49],\n",
       "       [50, 51, 52, 53, 54, 55, 56, 57, 58, 59]])"
      ]
     },
     "execution_count": 428,
     "metadata": {},
     "output_type": "execute_result"
    }
   ],
   "source": [
    "mat[2:6]"
   ]
  },
  {
   "cell_type": "code",
   "execution_count": 430,
   "id": "e5c81e2a-f96f-4e10-b85a-7a34d093714e",
   "metadata": {},
   "outputs": [
    {
     "data": {
      "text/plain": [
       "array([[ 0,  1,  2,  3,  4,  5,  6,  7,  8,  9],\n",
       "       [10, 11, 12, 13, 14, 15, 16, 17, 18, 19],\n",
       "       [20, 21, 22, 23, 24, 25, 26, 27, 28, 29],\n",
       "       [30, 31, 32, 33, 34, 35, 36, 37, 38, 39],\n",
       "       [40, 41, 42, 43, 44, 45, 46, 47, 48, 49],\n",
       "       [50, 51, 52, 53, 54, 55, 56, 57, 58, 59],\n",
       "       [60, 61, 62, 63, 64, 65, 66, 67, 68, 69],\n",
       "       [70, 71, 72, 73, 74, 75, 76, 77, 78, 79],\n",
       "       [80, 81, 82, 83, 84, 85, 86, 87, 88, 89],\n",
       "       [90, 91, 92, 93, 94, 95, 96, 97, 98, 99]])"
      ]
     },
     "execution_count": 430,
     "metadata": {},
     "output_type": "execute_result"
    }
   ],
   "source": [
    "mat"
   ]
  },
  {
   "cell_type": "code",
   "execution_count": 432,
   "id": "23da9e26-1dd7-4766-a983-081de8ffd0e6",
   "metadata": {},
   "outputs": [
    {
     "data": {
      "text/plain": [
       "array([[33, 34],\n",
       "       [43, 44],\n",
       "       [53, 54],\n",
       "       [63, 64]])"
      ]
     },
     "execution_count": 432,
     "metadata": {},
     "output_type": "execute_result"
    }
   ],
   "source": [
    "mat[3:7,3:5]"
   ]
  },
  {
   "cell_type": "code",
   "execution_count": 434,
   "id": "45fd36a5-faee-4fe7-acdf-e0471d729b55",
   "metadata": {},
   "outputs": [
    {
     "data": {
      "text/plain": [
       "2"
      ]
     },
     "execution_count": 434,
     "metadata": {},
     "output_type": "execute_result"
    }
   ],
   "source": [
    "mat[0,2]"
   ]
  },
  {
   "cell_type": "code",
   "execution_count": 436,
   "id": "27e4e095-2446-4dd5-8bad-110978290ab6",
   "metadata": {},
   "outputs": [
    {
     "data": {
      "text/plain": [
       "28"
      ]
     },
     "execution_count": 436,
     "metadata": {},
     "output_type": "execute_result"
    }
   ],
   "source": [
    "mat[2,8]"
   ]
  },
  {
   "cell_type": "code",
   "execution_count": 438,
   "id": "3f364e71-94ea-493a-84ad-b838d5665e11",
   "metadata": {},
   "outputs": [
    {
     "data": {
      "text/plain": [
       "array([[20, 21, 22, 23, 24, 25, 26, 27, 28, 29],\n",
       "       [30, 31, 32, 33, 34, 35, 36, 37, 38, 39],\n",
       "       [40, 41, 42, 43, 44, 45, 46, 47, 48, 49],\n",
       "       [50, 51, 52, 53, 54, 55, 56, 57, 58, 59],\n",
       "       [60, 61, 62, 63, 64, 65, 66, 67, 68, 69]])"
      ]
     },
     "execution_count": 438,
     "metadata": {},
     "output_type": "execute_result"
    }
   ],
   "source": [
    "mat[2:7]"
   ]
  },
  {
   "cell_type": "code",
   "execution_count": 440,
   "id": "a291b0f7-ff69-412b-9af8-8a589f1e62c3",
   "metadata": {},
   "outputs": [
    {
     "data": {
      "text/plain": [
       "array([[20, 21, 22, 23, 24, 25, 26, 27, 28, 29],\n",
       "       [30, 31, 32, 33, 34, 35, 36, 37, 38, 39],\n",
       "       [40, 41, 42, 43, 44, 45, 46, 47, 48, 49],\n",
       "       [50, 51, 52, 53, 54, 55, 56, 57, 58, 59],\n",
       "       [60, 61, 62, 63, 64, 65, 66, 67, 68, 69],\n",
       "       [70, 71, 72, 73, 74, 75, 76, 77, 78, 79],\n",
       "       [80, 81, 82, 83, 84, 85, 86, 87, 88, 89],\n",
       "       [90, 91, 92, 93, 94, 95, 96, 97, 98, 99]])"
      ]
     },
     "execution_count": 440,
     "metadata": {},
     "output_type": "execute_result"
    }
   ],
   "source": [
    "mat[2:]"
   ]
  },
  {
   "cell_type": "code",
   "execution_count": 442,
   "id": "d2e68794-57fc-42df-b1c2-1ca28f9de70a",
   "metadata": {},
   "outputs": [
    {
     "data": {
      "text/plain": [
       "array([[ 0,  1,  2,  3,  4,  5,  6,  7,  8,  9],\n",
       "       [10, 11, 12, 13, 14, 15, 16, 17, 18, 19],\n",
       "       [20, 21, 22, 23, 24, 25, 26, 27, 28, 29],\n",
       "       [30, 31, 32, 33, 34, 35, 36, 37, 38, 39],\n",
       "       [40, 41, 42, 43, 44, 45, 46, 47, 48, 49],\n",
       "       [50, 51, 52, 53, 54, 55, 56, 57, 58, 59],\n",
       "       [60, 61, 62, 63, 64, 65, 66, 67, 68, 69],\n",
       "       [70, 71, 72, 73, 74, 75, 76, 77, 78, 79],\n",
       "       [80, 81, 82, 83, 84, 85, 86, 87, 88, 89]])"
      ]
     },
     "execution_count": 442,
     "metadata": {},
     "output_type": "execute_result"
    }
   ],
   "source": [
    "mat[:9]"
   ]
  },
  {
   "cell_type": "code",
   "execution_count": 444,
   "id": "ea1e09df-6b3d-47a1-ab06-5fb64b37464e",
   "metadata": {},
   "outputs": [
    {
     "data": {
      "text/plain": [
       "array([[0, 1, 2, 3, 4, 5, 6, 7, 8, 9]])"
      ]
     },
     "execution_count": 444,
     "metadata": {},
     "output_type": "execute_result"
    }
   ],
   "source": [
    "mat[:1]"
   ]
  },
  {
   "cell_type": "code",
   "execution_count": 446,
   "id": "3f93838d-8862-46ac-80e8-24b8714a26eb",
   "metadata": {},
   "outputs": [
    {
     "data": {
      "text/plain": [
       "array([[0, 1, 2, 3, 4, 5, 6, 7, 8, 9]])"
      ]
     },
     "execution_count": 446,
     "metadata": {},
     "output_type": "execute_result"
    }
   ],
   "source": [
    "mat[0:1]"
   ]
  },
  {
   "cell_type": "code",
   "execution_count": 448,
   "id": "43739da8-a492-49b1-9311-8779e74773a0",
   "metadata": {},
   "outputs": [
    {
     "data": {
      "text/plain": [
       "array([[20, 21, 22, 23, 24, 25, 26, 27, 28, 29],\n",
       "       [30, 31, 32, 33, 34, 35, 36, 37, 38, 39],\n",
       "       [40, 41, 42, 43, 44, 45, 46, 47, 48, 49],\n",
       "       [50, 51, 52, 53, 54, 55, 56, 57, 58, 59],\n",
       "       [60, 61, 62, 63, 64, 65, 66, 67, 68, 69]])"
      ]
     },
     "execution_count": 448,
     "metadata": {},
     "output_type": "execute_result"
    }
   ],
   "source": [
    "mat[2:7]"
   ]
  },
  {
   "cell_type": "code",
   "execution_count": 450,
   "id": "9b8a3539-a92b-4f8b-8728-4bb2e60ed36d",
   "metadata": {},
   "outputs": [
    {
     "data": {
      "text/plain": [
       "27"
      ]
     },
     "execution_count": 450,
     "metadata": {},
     "output_type": "execute_result"
    }
   ],
   "source": [
    "mat[2,7]"
   ]
  },
  {
   "cell_type": "code",
   "execution_count": 454,
   "id": "9c8c0c5f-f8d2-4760-9c3d-99ed78c0bb57",
   "metadata": {},
   "outputs": [
    {
     "data": {
      "text/plain": [
       "array([[ 0,  1,  2,  3,  4,  5,  6,  7,  8,  9],\n",
       "       [10, 11, 12, 13, 14, 15, 16, 17, 18, 19],\n",
       "       [20, 21, 22, 23, 24, 25, 26, 27, 28, 29],\n",
       "       [30, 31, 32, 33, 34, 35, 36, 37, 38, 39],\n",
       "       [40, 41, 42, 43, 44, 45, 46, 47, 48, 49],\n",
       "       [50, 51, 52, 53, 54, 55, 56, 57, 58, 59],\n",
       "       [60, 61, 62, 63, 64, 65, 66, 67, 68, 69],\n",
       "       [70, 71, 72, 73, 74, 75, 76, 77, 78, 79],\n",
       "       [80, 81, 82, 83, 84, 85, 86, 87, 88, 89],\n",
       "       [90, 91, 92, 93, 94, 95, 96, 97, 98, 99]])"
      ]
     },
     "execution_count": 454,
     "metadata": {},
     "output_type": "execute_result"
    }
   ],
   "source": [
    "mat"
   ]
  },
  {
   "cell_type": "code",
   "execution_count": 452,
   "id": "e031d5ce-5371-4a61-96ae-929c8b41992f",
   "metadata": {},
   "outputs": [
    {
     "data": {
      "text/plain": [
       "array([[23, 24],\n",
       "       [33, 34]])"
      ]
     },
     "execution_count": 452,
     "metadata": {},
     "output_type": "execute_result"
    }
   ],
   "source": [
    "mat[2:4,3:5]"
   ]
  },
  {
   "cell_type": "code",
   "execution_count": 458,
   "id": "c7fc250b-84bd-4884-86e3-1f5ab398a995",
   "metadata": {},
   "outputs": [
    {
     "data": {
      "text/plain": [
       "array([[53, 54],\n",
       "       [63, 64]])"
      ]
     },
     "execution_count": 458,
     "metadata": {},
     "output_type": "execute_result"
    }
   ],
   "source": [
    "mat[5:7,3:5]"
   ]
  },
  {
   "cell_type": "code",
   "execution_count": 468,
   "id": "07aed533-d67f-4fce-82cc-54bde1f9e87d",
   "metadata": {},
   "outputs": [
    {
     "data": {
      "text/plain": [
       "array([[21]])"
      ]
     },
     "execution_count": 468,
     "metadata": {},
     "output_type": "execute_result"
    }
   ],
   "source": [
    "mat[2:3,1:2]"
   ]
  },
  {
   "cell_type": "code",
   "execution_count": 472,
   "id": "1420e855-f9ae-46a5-9b5c-6e28ba879964",
   "metadata": {},
   "outputs": [
    {
     "data": {
      "text/plain": [
       "array([[23, 24],\n",
       "       [33, 34]])"
      ]
     },
     "execution_count": 472,
     "metadata": {},
     "output_type": "execute_result"
    }
   ],
   "source": [
    "mat[2:4,3:5]"
   ]
  },
  {
   "cell_type": "code",
   "execution_count": 476,
   "id": "ea828239-0924-4b74-b49b-1304425863a7",
   "metadata": {},
   "outputs": [
    {
     "data": {
      "text/plain": [
       "array([[24]])"
      ]
     },
     "execution_count": 476,
     "metadata": {},
     "output_type": "execute_result"
    }
   ],
   "source": [
    "mat[2:3,4:5]"
   ]
  },
  {
   "cell_type": "code",
   "execution_count": null,
   "id": "1af2bcc1-9c38-4f61-adce-2c8d1521a032",
   "metadata": {},
   "outputs": [],
   "source": []
  },
  {
   "cell_type": "code",
   "execution_count": null,
   "id": "7187194c-4e55-4d60-88d6-150ed0ae3b01",
   "metadata": {},
   "outputs": [],
   "source": []
  },
  {
   "cell_type": "markdown",
   "id": "7aa32fe1-7b87-4b1e-a411-319509741924",
   "metadata": {},
   "source": [
    "# MASKING"
   ]
  },
  {
   "cell_type": "code",
   "execution_count": 481,
   "id": "42a15d7f-147f-4b46-8a51-1cc3b969d4a9",
   "metadata": {},
   "outputs": [
    {
     "data": {
      "text/plain": [
       "array([[ 0,  1,  2,  3,  4,  5,  6,  7,  8,  9],\n",
       "       [10, 11, 12, 13, 14, 15, 16, 17, 18, 19],\n",
       "       [20, 21, 22, 23, 24, 25, 26, 27, 28, 29],\n",
       "       [30, 31, 32, 33, 34, 35, 36, 37, 38, 39],\n",
       "       [40, 41, 42, 43, 44, 45, 46, 47, 48, 49],\n",
       "       [50, 51, 52, 53, 54, 55, 56, 57, 58, 59],\n",
       "       [60, 61, 62, 63, 64, 65, 66, 67, 68, 69],\n",
       "       [70, 71, 72, 73, 74, 75, 76, 77, 78, 79],\n",
       "       [80, 81, 82, 83, 84, 85, 86, 87, 88, 89],\n",
       "       [90, 91, 92, 93, 94, 95, 96, 97, 98, 99]])"
      ]
     },
     "execution_count": 481,
     "metadata": {},
     "output_type": "execute_result"
    }
   ],
   "source": [
    "mat # we also called as filter"
   ]
  },
  {
   "cell_type": "code",
   "execution_count": 483,
   "id": "05f3e2f7-e8c9-423a-8c60-0c2820dd9ff6",
   "metadata": {},
   "outputs": [
    {
     "data": {
      "text/plain": [
       "2056452464368"
      ]
     },
     "execution_count": 483,
     "metadata": {},
     "output_type": "execute_result"
    }
   ],
   "source": [
    "id(mat)"
   ]
  },
  {
   "cell_type": "code",
   "execution_count": 491,
   "id": "9cda870a-c08f-4edd-9ba5-708e3b35e87a",
   "metadata": {},
   "outputs": [
    {
     "data": {
      "text/plain": [
       "array([50])"
      ]
     },
     "execution_count": 491,
     "metadata": {},
     "output_type": "execute_result"
    }
   ],
   "source": [
    "mat[mat==50]"
   ]
  },
  {
   "cell_type": "code",
   "execution_count": 497,
   "id": "6b165541-0ea6-426f-956c-c562e9bffac2",
   "metadata": {},
   "outputs": [
    {
     "data": {
      "text/plain": [
       "array([35, 36, 37, 38, 39, 40, 41, 42, 43, 44, 45, 46, 47, 48, 49, 50, 51,\n",
       "       52, 53, 54, 55, 56, 57, 58, 59, 60, 61, 62, 63, 64, 65, 66, 67, 68,\n",
       "       69, 70, 71, 72, 73, 74, 75, 76, 77, 78, 79, 80, 81, 82, 83, 84, 85,\n",
       "       86, 87, 88, 89, 90, 91, 92, 93, 94, 95, 96, 97, 98, 99])"
      ]
     },
     "execution_count": 497,
     "metadata": {},
     "output_type": "execute_result"
    }
   ],
   "source": [
    "mat[mat>=35]"
   ]
  },
  {
   "cell_type": "code",
   "execution_count": 499,
   "id": "6ca4e2c2-73ba-4541-b411-7d17417bc4ff",
   "metadata": {},
   "outputs": [
    {
     "data": {
      "text/plain": [
       "array([ 8,  9, 10, 11, 12, 13, 14, 15, 16, 17, 18, 19, 20, 21, 22, 23, 24,\n",
       "       25, 26, 27, 28, 29, 30, 31, 32, 33, 34, 35, 36, 37, 38, 39, 40, 41,\n",
       "       42, 43, 44, 45, 46, 47, 48, 49, 50, 51, 52, 53, 54, 55, 56, 57, 58,\n",
       "       59, 60, 61, 62, 63, 64, 65, 66, 67, 68, 69, 70, 71, 72, 73, 74, 75,\n",
       "       76, 77, 78, 79, 80, 81, 82, 83, 84, 85, 86, 87, 88, 89, 90, 91, 92,\n",
       "       93, 94, 95, 96, 97, 98, 99])"
      ]
     },
     "execution_count": 499,
     "metadata": {},
     "output_type": "execute_result"
    }
   ],
   "source": [
    "mat[mat>7]"
   ]
  },
  {
   "cell_type": "code",
   "execution_count": 501,
   "id": "63f0e8e6-f111-4ee7-bbcb-0e46311ddf3d",
   "metadata": {},
   "outputs": [
    {
     "data": {
      "text/plain": [
       "array([ 0,  1,  2,  3,  4,  5,  6,  7,  8,  9, 10, 11, 12, 13, 14, 15, 16,\n",
       "       17, 18, 19, 20, 21, 22, 23, 24, 25, 26, 27, 28, 29, 30, 31, 32, 33,\n",
       "       34, 35])"
      ]
     },
     "execution_count": 501,
     "metadata": {},
     "output_type": "execute_result"
    }
   ],
   "source": [
    "mat[mat<=35]"
   ]
  },
  {
   "cell_type": "code",
   "execution_count": 507,
   "id": "85d625a8-14c6-47c9-a1fb-5221a702c8f3",
   "metadata": {},
   "outputs": [
    {
     "data": {
      "text/plain": [
       "array([[False, False, False, False, False, False, False, False, False,\n",
       "        False],\n",
       "       [False, False, False, False, False, False, False, False, False,\n",
       "        False],\n",
       "       [False, False, False, False, False, False, False, False, False,\n",
       "        False],\n",
       "       [False, False, False, False, False, False, False, False, False,\n",
       "        False],\n",
       "       [False, False, False, False, False, False, False, False, False,\n",
       "        False],\n",
       "       [False, False, False, False, False, False, False, False, False,\n",
       "        False],\n",
       "       [False, False, False, False, False, False, False, False, False,\n",
       "        False],\n",
       "       [False, False, False, False, False, False, False, False, False,\n",
       "        False],\n",
       "       [False, False, False, False, False, False, False, False, False,\n",
       "        False],\n",
       "       [False, False, False, False, False, False, False, False, False,\n",
       "        False]])"
      ]
     },
     "execution_count": 507,
     "metadata": {},
     "output_type": "execute_result"
    }
   ],
   "source": [
    "mat>99"
   ]
  },
  {
   "cell_type": "code",
   "execution_count": 509,
   "id": "04cd9961-b920-41ea-aac0-0b8282617610",
   "metadata": {},
   "outputs": [
    {
     "data": {
      "text/plain": [
       "array([[False, False, False, False, False, False, False, False, False,\n",
       "        False],\n",
       "       [False, False, False, False, False, False, False, False, False,\n",
       "        False],\n",
       "       [False, False, False, False, False, False, False, False, False,\n",
       "        False],\n",
       "       [False, False, False, False, False, False, False, False, False,\n",
       "        False],\n",
       "       [False, False, False, False, False, False, False, False, False,\n",
       "        False],\n",
       "       [False,  True,  True,  True,  True,  True,  True,  True,  True,\n",
       "         True],\n",
       "       [ True,  True,  True,  True,  True,  True,  True,  True,  True,\n",
       "         True],\n",
       "       [ True,  True,  True,  True,  True,  True,  True,  True,  True,\n",
       "         True],\n",
       "       [ True,  True,  True,  True,  True,  True,  True,  True,  True,\n",
       "         True],\n",
       "       [ True,  True,  True,  True,  True,  True,  True,  True,  True,\n",
       "         True]])"
      ]
     },
     "execution_count": 509,
     "metadata": {},
     "output_type": "execute_result"
    }
   ],
   "source": [
    "mat>50"
   ]
  },
  {
   "cell_type": "code",
   "execution_count": 511,
   "id": "42f16775-72a0-445d-ad85-087a8ed883ab",
   "metadata": {},
   "outputs": [
    {
     "data": {
      "text/plain": [
       "array([[ True,  True,  True,  True,  True,  True,  True,  True,  True,\n",
       "         True],\n",
       "       [ True,  True,  True,  True,  True,  True,  True,  True,  True,\n",
       "         True],\n",
       "       [ True,  True,  True,  True,  True,  True,  True,  True,  True,\n",
       "         True],\n",
       "       [ True,  True,  True,  True,  True,  True,  True,  True,  True,\n",
       "         True],\n",
       "       [ True,  True,  True,  True,  True,  True,  True,  True,  True,\n",
       "         True],\n",
       "       [ True,  True,  True,  True,  True,  True,  True,  True,  True,\n",
       "         True],\n",
       "       [ True,  True,  True,  True,  True,  True,  True,  True,  True,\n",
       "         True],\n",
       "       [ True,  True,  True,  True,  True,  True,  True,  True,  True,\n",
       "         True],\n",
       "       [ True,  True,  True,  True,  True,  True,  True,  True,  True,\n",
       "         True],\n",
       "       [ True,  True,  True,  True,  True,  True,  True,  True,  True,\n",
       "        False]])"
      ]
     },
     "execution_count": 511,
     "metadata": {},
     "output_type": "execute_result"
    }
   ],
   "source": [
    "mat<99"
   ]
  },
  {
   "cell_type": "code",
   "execution_count": 513,
   "id": "f3114608-a19a-4cef-860b-85ea166c0991",
   "metadata": {},
   "outputs": [
    {
     "data": {
      "text/plain": [
       "array([[ True,  True,  True,  True,  True,  True,  True,  True,  True,\n",
       "         True],\n",
       "       [ True,  True,  True,  True,  True,  True,  True,  True,  True,\n",
       "         True],\n",
       "       [ True,  True,  True,  True,  True,  True,  True,  True,  True,\n",
       "         True],\n",
       "       [ True,  True,  True,  True,  True,  True,  True,  True,  True,\n",
       "         True],\n",
       "       [ True,  True,  True,  True,  True,  True,  True,  True,  True,\n",
       "         True],\n",
       "       [ True,  True,  True,  True,  True,  True,  True,  True,  True,\n",
       "         True],\n",
       "       [ True,  True,  True,  True,  True,  True,  True,  True,  True,\n",
       "         True],\n",
       "       [ True,  True,  True,  True,  True,  True,  True,  True,  True,\n",
       "         True],\n",
       "       [ True,  True,  True,  True,  True,  True,  True,  True,  True,\n",
       "         True],\n",
       "       [ True,  True,  True,  True,  True,  True,  True,  True,  True,\n",
       "         True]])"
      ]
     },
     "execution_count": 513,
     "metadata": {},
     "output_type": "execute_result"
    }
   ],
   "source": [
    "mat<=99"
   ]
  },
  {
   "cell_type": "code",
   "execution_count": 515,
   "id": "c062c496-8537-45ff-b1e9-96a8a0f03515",
   "metadata": {},
   "outputs": [
    {
     "data": {
      "text/plain": [
       "array([[ True,  True,  True,  True,  True,  True,  True,  True,  True,\n",
       "         True],\n",
       "       [ True,  True,  True,  True,  True,  True,  True,  True,  True,\n",
       "         True],\n",
       "       [ True,  True,  True,  True,  True,  True,  True,  True,  True,\n",
       "         True],\n",
       "       [ True,  True,  True,  True,  True,  True,  True,  True,  True,\n",
       "         True],\n",
       "       [ True,  True,  True,  True,  True,  True,  True,  True,  True,\n",
       "         True],\n",
       "       [ True,  True,  True,  True,  True,  True,  True,  True,  True,\n",
       "         True],\n",
       "       [ True,  True,  True,  True,  True,  True,  True,  True,  True,\n",
       "         True],\n",
       "       [ True,  True,  True,  True,  True,  True,  True,  True,  True,\n",
       "         True],\n",
       "       [ True,  True,  True,  True,  True,  True,  True,  True,  True,\n",
       "         True],\n",
       "       [ True,  True,  True,  True,  True,  True,  True,  True,  True,\n",
       "         True]])"
      ]
     },
     "execution_count": 515,
     "metadata": {},
     "output_type": "execute_result"
    }
   ],
   "source": [
    "mat!=100"
   ]
  },
  {
   "cell_type": "code",
   "execution_count": null,
   "id": "110aed8f-0845-4b6a-b0de-ae55417e5890",
   "metadata": {},
   "outputs": [],
   "source": []
  }
 ],
 "metadata": {
  "kernelspec": {
   "display_name": "Python [conda env:base] *",
   "language": "python",
   "name": "conda-base-py"
  },
  "language_info": {
   "codemirror_mode": {
    "name": "ipython",
    "version": 3
   },
   "file_extension": ".py",
   "mimetype": "text/x-python",
   "name": "python",
   "nbconvert_exporter": "python",
   "pygments_lexer": "ipython3",
   "version": "3.12.7"
  }
 },
 "nbformat": 4,
 "nbformat_minor": 5
}
