{
 "cells": [
  {
   "cell_type": "code",
   "execution_count": 1,
   "id": "337fe20f-9b26-4e3c-bf6e-8c4583994028",
   "metadata": {},
   "outputs": [],
   "source": [
    "import numpy as np"
   ]
  },
  {
   "cell_type": "code",
   "execution_count": 3,
   "id": "e2f7c1cd-a871-4333-b664-1638ea3bd3ba",
   "metadata": {},
   "outputs": [
    {
     "data": {
      "text/plain": [
       "'1.26.4'"
      ]
     },
     "execution_count": 3,
     "metadata": {},
     "output_type": "execute_result"
    }
   ],
   "source": [
    "np.__version__"
   ]
  },
  {
   "cell_type": "code",
   "execution_count": 4,
   "id": "62304580-55bf-4725-8de2-2c3a39152cce",
   "metadata": {},
   "outputs": [
    {
     "data": {
      "text/plain": [
       "'3.12.7 | packaged by Anaconda, Inc. | (main, Oct  4 2024, 13:17:27) [MSC v.1929 64 bit (AMD64)]'"
      ]
     },
     "execution_count": 4,
     "metadata": {},
     "output_type": "execute_result"
    }
   ],
   "source": [
    "import sys\n",
    "sys.version"
   ]
  },
  {
   "cell_type": "markdown",
   "id": "8db6e264-3724-497f-b303-2db1d41e94ce",
   "metadata": {},
   "source": [
    "## CREATING ARRAYS"
   ]
  },
  {
   "cell_type": "code",
   "execution_count": 6,
   "id": "fd178a38-806c-4c5d-90ba-a2f0b2c39361",
   "metadata": {},
   "outputs": [
    {
     "data": {
      "text/plain": [
       "[0, 1, 2, 3, 4, 5]"
      ]
     },
     "execution_count": 6,
     "metadata": {},
     "output_type": "execute_result"
    }
   ],
   "source": [
    "my_list=[0,1,2,3,4,5] \n",
    "my_list"
   ]
  },
  {
   "cell_type": "markdown",
   "id": "55e2313e-0d8d-4d4a-b616-95f144f9b788",
   "metadata": {},
   "source": [
    "below code we are converting list to array"
   ]
  },
  {
   "cell_type": "code",
   "execution_count": 8,
   "id": "c85fbb43-353c-4886-b753-114b02db22df",
   "metadata": {},
   "outputs": [
    {
     "data": {
      "text/plain": [
       "array([0, 1, 2, 3, 4, 5])"
      ]
     },
     "execution_count": 8,
     "metadata": {},
     "output_type": "execute_result"
    }
   ],
   "source": [
    "arr=np.array(my_list)\n",
    "arr"
   ]
  },
  {
   "cell_type": "code",
   "execution_count": 12,
   "id": "0967ecbc-f9cf-435d-b91f-7372b4b57258",
   "metadata": {},
   "outputs": [
    {
     "data": {
      "text/plain": [
       "numpy.ndarray"
      ]
     },
     "execution_count": 12,
     "metadata": {},
     "output_type": "execute_result"
    }
   ],
   "source": [
    "type(arr)"
   ]
  },
  {
   "cell_type": "code",
   "execution_count": 14,
   "id": "2ca1b1a6-d1b6-4738-abc2-5b551854f890",
   "metadata": {},
   "outputs": [
    {
     "data": {
      "text/plain": [
       "list"
      ]
     },
     "execution_count": 14,
     "metadata": {},
     "output_type": "execute_result"
    }
   ],
   "source": [
    "type(my_list)"
   ]
  },
  {
   "cell_type": "markdown",
   "id": "9c197650-43e7-405f-aca8-ec28faa67218",
   "metadata": {},
   "source": [
    "# ARANGE"
   ]
  },
  {
   "cell_type": "code",
   "execution_count": 18,
   "id": "1d27d14e-bcb1-4f0f-9671-bcc4f041daf0",
   "metadata": {},
   "outputs": [
    {
     "data": {
      "text/plain": [
       "array([ 0,  1,  2,  3,  4,  5,  6,  7,  8,  9, 10, 11, 12, 13, 14])"
      ]
     },
     "execution_count": 18,
     "metadata": {},
     "output_type": "execute_result"
    }
   ],
   "source": [
    "np.arange(15)"
   ]
  },
  {
   "cell_type": "code",
   "execution_count": 20,
   "id": "1270924c-1966-46ed-a2ec-80f8728250fc",
   "metadata": {},
   "outputs": [
    {
     "data": {
      "text/plain": [
       "array([0., 1., 2.])"
      ]
     },
     "execution_count": 20,
     "metadata": {},
     "output_type": "execute_result"
    }
   ],
   "source": [
    "np.arange(3.0)"
   ]
  },
  {
   "cell_type": "code",
   "execution_count": 22,
   "id": "f6c0b362-79dc-4f8d-b67f-ad819801ac6f",
   "metadata": {},
   "outputs": [
    {
     "data": {
      "text/plain": [
       "array([0, 1, 2, 3, 4, 5, 6, 7, 8, 9])"
      ]
     },
     "execution_count": 22,
     "metadata": {},
     "output_type": "execute_result"
    }
   ],
   "source": [
    "np.arange(10)"
   ]
  },
  {
   "cell_type": "code",
   "execution_count": 24,
   "id": "be1d836d-5844-4d2b-bcde-d07c52125e91",
   "metadata": {},
   "outputs": [
    {
     "data": {
      "text/plain": [
       "array([0, 1, 2, 3, 4])"
      ]
     },
     "execution_count": 24,
     "metadata": {},
     "output_type": "execute_result"
    }
   ],
   "source": [
    "np.arange(0,5)"
   ]
  },
  {
   "cell_type": "code",
   "execution_count": 26,
   "id": "46a5c7c5-7f9d-404a-885e-b325fdfc54c4",
   "metadata": {},
   "outputs": [
    {
     "data": {
      "text/plain": [
       "array([10, 11, 12, 13, 14, 15, 16, 17, 18, 19])"
      ]
     },
     "execution_count": 26,
     "metadata": {},
     "output_type": "execute_result"
    }
   ],
   "source": [
    "np.arange(10,20)"
   ]
  },
  {
   "cell_type": "code",
   "execution_count": 28,
   "id": "a5b62e95-f092-4fe8-89d6-12510a2126fd",
   "metadata": {},
   "outputs": [
    {
     "data": {
      "text/plain": [
       "array([], dtype=int32)"
      ]
     },
     "execution_count": 28,
     "metadata": {},
     "output_type": "execute_result"
    }
   ],
   "source": [
    "np.arange(20,15)"
   ]
  },
  {
   "cell_type": "code",
   "execution_count": 30,
   "id": "1d88230d-911e-4f7e-9b91-178a7665caf6",
   "metadata": {},
   "outputs": [
    {
     "data": {
      "text/plain": [
       "array([-20, -19, -18, -17, -16, -15, -14, -13, -12, -11, -10,  -9,  -8,\n",
       "        -7,  -6,  -5,  -4,  -3,  -2,  -1,   0,   1,   2,   3,   4,   5,\n",
       "         6,   7,   8,   9])"
      ]
     },
     "execution_count": 30,
     "metadata": {},
     "output_type": "execute_result"
    }
   ],
   "source": [
    "np.arange(-20,10)"
   ]
  },
  {
   "cell_type": "code",
   "execution_count": 32,
   "id": "509039b7-badd-4969-98c9-955c98664cbe",
   "metadata": {},
   "outputs": [
    {
     "data": {
      "text/plain": [
       "array([-16, -15, -14, -13, -12, -11, -10,  -9,  -8,  -7,  -6,  -5,  -4,\n",
       "        -3,  -2,  -1,   0,   1,   2,   3,   4,   5,   6,   7,   8,   9])"
      ]
     },
     "execution_count": 32,
     "metadata": {},
     "output_type": "execute_result"
    }
   ],
   "source": [
    "np.arange(-16,10)"
   ]
  },
  {
   "cell_type": "code",
   "execution_count": 34,
   "id": "781bf0d2-6e0c-4f1b-beca-bcb0f47bdb1b",
   "metadata": {},
   "outputs": [
    {
     "data": {
      "text/plain": [
       "array([-20, -19, -18, -17, -16, -15, -14, -13, -12, -11])"
      ]
     },
     "execution_count": 34,
     "metadata": {},
     "output_type": "execute_result"
    }
   ],
   "source": [
    "np.arange(-20,-10)"
   ]
  },
  {
   "cell_type": "code",
   "execution_count": 36,
   "id": "6a100656-4a7d-493c-969b-6410b92b1174",
   "metadata": {},
   "outputs": [
    {
     "data": {
      "text/plain": [
       "array([-20, -19, -18, -17, -16, -15, -14, -13, -12, -11, -10,  -9,  -8,\n",
       "        -7,  -6,  -5,  -4,  -3,  -2,  -1,   0,   1,   2,   3,   4,   5,\n",
       "         6,   7,   8,   9,  10,  11,  12,  13,  14,  15,  16,  17,  18,\n",
       "        19,  20,  21,  22,  23,  24,  25,  26,  27,  28,  29])"
      ]
     },
     "execution_count": 36,
     "metadata": {},
     "output_type": "execute_result"
    }
   ],
   "source": [
    "ar=np.arange(-20,30)\n",
    "ar"
   ]
  },
  {
   "cell_type": "code",
   "execution_count": 38,
   "id": "69960bd4-0bfb-4055-b73c-ad854407a6d0",
   "metadata": {},
   "outputs": [
    {
     "data": {
      "text/plain": [
       "array([], dtype=int32)"
      ]
     },
     "execution_count": 38,
     "metadata": {},
     "output_type": "execute_result"
    }
   ],
   "source": [
    "np.arange(10,10)"
   ]
  },
  {
   "cell_type": "code",
   "execution_count": 40,
   "id": "ec2f6f7c-10b4-4e22-bb37-09a056541118",
   "metadata": {},
   "outputs": [
    {
     "ename": "TypeError",
     "evalue": "arange() requires stop to be specified.",
     "output_type": "error",
     "traceback": [
      "\u001b[1;31m---------------------------------------------------------------------------\u001b[0m",
      "\u001b[1;31mTypeError\u001b[0m                                 Traceback (most recent call last)",
      "Cell \u001b[1;32mIn[40], line 1\u001b[0m\n\u001b[1;32m----> 1\u001b[0m np\u001b[38;5;241m.\u001b[39marange()\n",
      "\u001b[1;31mTypeError\u001b[0m: arange() requires stop to be specified."
     ]
    }
   ],
   "source": [
    "np.arange()"
   ]
  },
  {
   "cell_type": "code",
   "execution_count": null,
   "id": "f66f07f2-2f38-4f55-a919-a6ce7f13f3f9",
   "metadata": {},
   "outputs": [],
   "source": [
    "np.arange(10,30,5)"
   ]
  },
  {
   "cell_type": "markdown",
   "id": "22331189-2d1c-4701-9e45-f0d903585372",
   "metadata": {},
   "source": [
    "# ZEROS"
   ]
  },
  {
   "cell_type": "code",
   "execution_count": null,
   "id": "e9a8a5f4-2949-484c-9788-94eadb37430e",
   "metadata": {},
   "outputs": [],
   "source": [
    "np.zeros(3)"
   ]
  },
  {
   "cell_type": "code",
   "execution_count": null,
   "id": "3c25a4fb-bd70-4d5f-a54e-ae94b56c20ae",
   "metadata": {},
   "outputs": [],
   "source": [
    "np.zeros(3,dtype=int)"
   ]
  },
  {
   "cell_type": "code",
   "execution_count": null,
   "id": "33973cf6-e518-49fa-99b0-1c7035c73869",
   "metadata": {},
   "outputs": [],
   "source": [
    "np.zeros((2,2),dtype=int)"
   ]
  },
  {
   "cell_type": "code",
   "execution_count": null,
   "id": "5d31c65b-f3ae-4ca1-987a-3bc991a36c4c",
   "metadata": {},
   "outputs": [],
   "source": [
    "np.zeros((3,3),dtype=int)"
   ]
  },
  {
   "cell_type": "code",
   "execution_count": 47,
   "id": "e5f5547c-2012-489b-b081-17c7f686048a",
   "metadata": {},
   "outputs": [
    {
     "data": {
      "text/plain": [
       "array([[0., 0., 0., 0., 0., 0., 0., 0., 0., 0.],\n",
       "       [0., 0., 0., 0., 0., 0., 0., 0., 0., 0.]])"
      ]
     },
     "execution_count": 47,
     "metadata": {},
     "output_type": "execute_result"
    }
   ],
   "source": [
    "np.zeros((2,10))"
   ]
  },
  {
   "cell_type": "code",
   "execution_count": 49,
   "id": "ff14c62b-8593-4fb7-9559-6372e2bfa68b",
   "metadata": {},
   "outputs": [
    {
     "data": {
      "text/plain": [
       "array([[0., 0., 0., 0., 0., 0., 0., 0., 0., 0., 0., 0., 0., 0., 0., 0.,\n",
       "        0., 0., 0., 0., 0., 0., 0., 0., 0., 0., 0., 0., 0., 0.],\n",
       "       [0., 0., 0., 0., 0., 0., 0., 0., 0., 0., 0., 0., 0., 0., 0., 0.,\n",
       "        0., 0., 0., 0., 0., 0., 0., 0., 0., 0., 0., 0., 0., 0.],\n",
       "       [0., 0., 0., 0., 0., 0., 0., 0., 0., 0., 0., 0., 0., 0., 0., 0.,\n",
       "        0., 0., 0., 0., 0., 0., 0., 0., 0., 0., 0., 0., 0., 0.],\n",
       "       [0., 0., 0., 0., 0., 0., 0., 0., 0., 0., 0., 0., 0., 0., 0., 0.,\n",
       "        0., 0., 0., 0., 0., 0., 0., 0., 0., 0., 0., 0., 0., 0.],\n",
       "       [0., 0., 0., 0., 0., 0., 0., 0., 0., 0., 0., 0., 0., 0., 0., 0.,\n",
       "        0., 0., 0., 0., 0., 0., 0., 0., 0., 0., 0., 0., 0., 0.],\n",
       "       [0., 0., 0., 0., 0., 0., 0., 0., 0., 0., 0., 0., 0., 0., 0., 0.,\n",
       "        0., 0., 0., 0., 0., 0., 0., 0., 0., 0., 0., 0., 0., 0.],\n",
       "       [0., 0., 0., 0., 0., 0., 0., 0., 0., 0., 0., 0., 0., 0., 0., 0.,\n",
       "        0., 0., 0., 0., 0., 0., 0., 0., 0., 0., 0., 0., 0., 0.],\n",
       "       [0., 0., 0., 0., 0., 0., 0., 0., 0., 0., 0., 0., 0., 0., 0., 0.,\n",
       "        0., 0., 0., 0., 0., 0., 0., 0., 0., 0., 0., 0., 0., 0.],\n",
       "       [0., 0., 0., 0., 0., 0., 0., 0., 0., 0., 0., 0., 0., 0., 0., 0.,\n",
       "        0., 0., 0., 0., 0., 0., 0., 0., 0., 0., 0., 0., 0., 0.],\n",
       "       [0., 0., 0., 0., 0., 0., 0., 0., 0., 0., 0., 0., 0., 0., 0., 0.,\n",
       "        0., 0., 0., 0., 0., 0., 0., 0., 0., 0., 0., 0., 0., 0.]])"
      ]
     },
     "execution_count": 49,
     "metadata": {},
     "output_type": "execute_result"
    }
   ],
   "source": [
    "np.zeros((10,30))"
   ]
  },
  {
   "cell_type": "code",
   "execution_count": 51,
   "id": "4055abf9-a8d1-4af1-9a12-814b47be9759",
   "metadata": {},
   "outputs": [
    {
     "data": {
      "text/plain": [
       "array([[0., 0., 0., 0., 0., 0., 0., 0., 0., 0.],\n",
       "       [0., 0., 0., 0., 0., 0., 0., 0., 0., 0.],\n",
       "       [0., 0., 0., 0., 0., 0., 0., 0., 0., 0.],\n",
       "       [0., 0., 0., 0., 0., 0., 0., 0., 0., 0.],\n",
       "       [0., 0., 0., 0., 0., 0., 0., 0., 0., 0.]])"
      ]
     },
     "execution_count": 51,
     "metadata": {},
     "output_type": "execute_result"
    }
   ],
   "source": [
    "np.zeros((5,10))"
   ]
  },
  {
   "cell_type": "markdown",
   "id": "624a2ada-ccf7-4d7a-9e63-b599a5df0a8d",
   "metadata": {},
   "source": [
    "# ONES"
   ]
  },
  {
   "cell_type": "code",
   "execution_count": 54,
   "id": "d7cff911-e5e6-4a38-a085-8f66803dc714",
   "metadata": {},
   "outputs": [
    {
     "data": {
      "text/plain": [
       "array([1., 1., 1.])"
      ]
     },
     "execution_count": 54,
     "metadata": {},
     "output_type": "execute_result"
    }
   ],
   "source": [
    "np.ones(3)"
   ]
  },
  {
   "cell_type": "code",
   "execution_count": 56,
   "id": "dc2cf323-3393-429d-a30c-9cf6a7e5b887",
   "metadata": {},
   "outputs": [
    {
     "data": {
      "text/plain": [
       "array([1, 1, 1, 1])"
      ]
     },
     "execution_count": 56,
     "metadata": {},
     "output_type": "execute_result"
    }
   ],
   "source": [
    "np.ones(4,dtype=int)"
   ]
  },
  {
   "cell_type": "code",
   "execution_count": 58,
   "id": "f226373c-c6dc-4ead-ad48-4421c1e8dfe9",
   "metadata": {},
   "outputs": [
    {
     "ename": "AttributeError",
     "evalue": "module 'numpy' has no attribute 'twos'",
     "output_type": "error",
     "traceback": [
      "\u001b[1;31m---------------------------------------------------------------------------\u001b[0m",
      "\u001b[1;31mAttributeError\u001b[0m                            Traceback (most recent call last)",
      "Cell \u001b[1;32mIn[58], line 1\u001b[0m\n\u001b[1;32m----> 1\u001b[0m np\u001b[38;5;241m.\u001b[39mtwos(\u001b[38;5;241m2\u001b[39m,\u001b[38;5;241m3\u001b[39m)\n",
      "File \u001b[1;32m~\\anaconda3\\Lib\\site-packages\\numpy\\__init__.py:333\u001b[0m, in \u001b[0;36m__getattr__\u001b[1;34m(attr)\u001b[0m\n\u001b[0;32m    330\u001b[0m     \u001b[38;5;124m\"\u001b[39m\u001b[38;5;124mRemoved in NumPy 1.25.0\u001b[39m\u001b[38;5;124m\"\u001b[39m\n\u001b[0;32m    331\u001b[0m     \u001b[38;5;28;01mraise\u001b[39;00m \u001b[38;5;167;01mRuntimeError\u001b[39;00m(\u001b[38;5;124m\"\u001b[39m\u001b[38;5;124mTester was removed in NumPy 1.25.\u001b[39m\u001b[38;5;124m\"\u001b[39m)\n\u001b[1;32m--> 333\u001b[0m \u001b[38;5;28;01mraise\u001b[39;00m \u001b[38;5;167;01mAttributeError\u001b[39;00m(\u001b[38;5;124m\"\u001b[39m\u001b[38;5;124mmodule \u001b[39m\u001b[38;5;132;01m{!r}\u001b[39;00m\u001b[38;5;124m has no attribute \u001b[39m\u001b[38;5;124m\"\u001b[39m\n\u001b[0;32m    334\u001b[0m                      \u001b[38;5;124m\"\u001b[39m\u001b[38;5;132;01m{!r}\u001b[39;00m\u001b[38;5;124m\"\u001b[39m\u001b[38;5;241m.\u001b[39mformat(\u001b[38;5;18m__name__\u001b[39m, attr))\n",
      "\u001b[1;31mAttributeError\u001b[0m: module 'numpy' has no attribute 'twos'"
     ]
    }
   ],
   "source": [
    "np.twos(2,3)"
   ]
  },
  {
   "cell_type": "code",
   "execution_count": 60,
   "id": "c2ce3fe5-b4f4-4e7b-99ca-86c5eb194f28",
   "metadata": {},
   "outputs": [
    {
     "ename": "NameError",
     "evalue": "name 'n' is not defined",
     "output_type": "error",
     "traceback": [
      "\u001b[1;31m---------------------------------------------------------------------------\u001b[0m",
      "\u001b[1;31mNameError\u001b[0m                                 Traceback (most recent call last)",
      "Cell \u001b[1;32mIn[60], line 1\u001b[0m\n\u001b[1;32m----> 1\u001b[0m np\u001b[38;5;241m.\u001b[39mones(n)\n",
      "\u001b[1;31mNameError\u001b[0m: name 'n' is not defined"
     ]
    }
   ],
   "source": [
    "np.ones(n)"
   ]
  },
  {
   "cell_type": "code",
   "execution_count": null,
   "id": "83b3dfc9-7933-43d7-913c-07dd8d7aa2cd",
   "metadata": {},
   "outputs": [],
   "source": [
    "np.ones((5,10))"
   ]
  },
  {
   "cell_type": "code",
   "execution_count": 63,
   "id": "56ad13a2-45b3-414d-9e8f-ce2e1572fff8",
   "metadata": {},
   "outputs": [
    {
     "data": {
      "text/plain": [
       "array([[1., 1., 1., 1., 1., 1., 1., 1., 1., 1., 1., 1., 1., 1., 1., 1.,\n",
       "        1., 1., 1., 1., 1., 1., 1., 1., 1., 1., 1., 1., 1., 1.],\n",
       "       [1., 1., 1., 1., 1., 1., 1., 1., 1., 1., 1., 1., 1., 1., 1., 1.,\n",
       "        1., 1., 1., 1., 1., 1., 1., 1., 1., 1., 1., 1., 1., 1.],\n",
       "       [1., 1., 1., 1., 1., 1., 1., 1., 1., 1., 1., 1., 1., 1., 1., 1.,\n",
       "        1., 1., 1., 1., 1., 1., 1., 1., 1., 1., 1., 1., 1., 1.],\n",
       "       [1., 1., 1., 1., 1., 1., 1., 1., 1., 1., 1., 1., 1., 1., 1., 1.,\n",
       "        1., 1., 1., 1., 1., 1., 1., 1., 1., 1., 1., 1., 1., 1.],\n",
       "       [1., 1., 1., 1., 1., 1., 1., 1., 1., 1., 1., 1., 1., 1., 1., 1.,\n",
       "        1., 1., 1., 1., 1., 1., 1., 1., 1., 1., 1., 1., 1., 1.],\n",
       "       [1., 1., 1., 1., 1., 1., 1., 1., 1., 1., 1., 1., 1., 1., 1., 1.,\n",
       "        1., 1., 1., 1., 1., 1., 1., 1., 1., 1., 1., 1., 1., 1.],\n",
       "       [1., 1., 1., 1., 1., 1., 1., 1., 1., 1., 1., 1., 1., 1., 1., 1.,\n",
       "        1., 1., 1., 1., 1., 1., 1., 1., 1., 1., 1., 1., 1., 1.],\n",
       "       [1., 1., 1., 1., 1., 1., 1., 1., 1., 1., 1., 1., 1., 1., 1., 1.,\n",
       "        1., 1., 1., 1., 1., 1., 1., 1., 1., 1., 1., 1., 1., 1.],\n",
       "       [1., 1., 1., 1., 1., 1., 1., 1., 1., 1., 1., 1., 1., 1., 1., 1.,\n",
       "        1., 1., 1., 1., 1., 1., 1., 1., 1., 1., 1., 1., 1., 1.],\n",
       "       [1., 1., 1., 1., 1., 1., 1., 1., 1., 1., 1., 1., 1., 1., 1., 1.,\n",
       "        1., 1., 1., 1., 1., 1., 1., 1., 1., 1., 1., 1., 1., 1.]])"
      ]
     },
     "execution_count": 63,
     "metadata": {},
     "output_type": "execute_result"
    }
   ],
   "source": [
    "np.ones((10,30))"
   ]
  },
  {
   "cell_type": "code",
   "execution_count": 65,
   "id": "efadad14-0d78-4558-b5f8-d0a7e3409156",
   "metadata": {},
   "outputs": [
    {
     "data": {
      "text/plain": [
       "array([[1, 1, 1],\n",
       "       [1, 1, 1],\n",
       "       [1, 1, 1]])"
      ]
     },
     "execution_count": 65,
     "metadata": {},
     "output_type": "execute_result"
    }
   ],
   "source": [
    "np.ones((3,3),dtype=int)"
   ]
  },
  {
   "cell_type": "markdown",
   "id": "7f1892da-f848-454a-94d5-97b54bfefcda",
   "metadata": {},
   "source": [
    "# RANDOM"
   ]
  },
  {
   "cell_type": "code",
   "execution_count": 68,
   "id": "60e1183b-4be1-4bbd-8a1a-4ec8c7738681",
   "metadata": {},
   "outputs": [
    {
     "ename": "NameError",
     "evalue": "name 'rand' is not defined",
     "output_type": "error",
     "traceback": [
      "\u001b[1;31m---------------------------------------------------------------------------\u001b[0m",
      "\u001b[1;31mNameError\u001b[0m                                 Traceback (most recent call last)",
      "Cell \u001b[1;32mIn[68], line 1\u001b[0m\n\u001b[1;32m----> 1\u001b[0m rand(\u001b[38;5;241m3\u001b[39m,\u001b[38;5;241m2\u001b[39m)\n",
      "\u001b[1;31mNameError\u001b[0m: name 'rand' is not defined"
     ]
    }
   ],
   "source": [
    "rand(3,2)"
   ]
  },
  {
   "cell_type": "code",
   "execution_count": 70,
   "id": "2990d971-2f7b-45ff-9100-1ac3e4e379a7",
   "metadata": {},
   "outputs": [
    {
     "ename": "NameError",
     "evalue": "name 'rand' is not defined",
     "output_type": "error",
     "traceback": [
      "\u001b[1;31m---------------------------------------------------------------------------\u001b[0m",
      "\u001b[1;31mNameError\u001b[0m                                 Traceback (most recent call last)",
      "Cell \u001b[1;32mIn[70], line 1\u001b[0m\n\u001b[1;32m----> 1\u001b[0m rand(\u001b[38;5;241m3\u001b[39m,\u001b[38;5;241m2\u001b[39m)\n\u001b[0;32m      2\u001b[0m random\u001b[38;5;241m.\u001b[39mrand(\u001b[38;5;241m3\u001b[39m,\u001b[38;5;241m2\u001b[39m)\n",
      "\u001b[1;31mNameError\u001b[0m: name 'rand' is not defined"
     ]
    }
   ],
   "source": [
    "rand(3,2)\n",
    "random.rand(3,2)"
   ]
  },
  {
   "cell_type": "code",
   "execution_count": 72,
   "id": "0fd57b89-69f0-450f-8f78-56ce9a1f2c1f",
   "metadata": {},
   "outputs": [
    {
     "data": {
      "text/plain": [
       "array([[0.8597405 , 0.05248364],\n",
       "       [0.55543466, 0.41582819],\n",
       "       [0.29074236, 0.38306815]])"
      ]
     },
     "execution_count": 72,
     "metadata": {},
     "output_type": "execute_result"
    }
   ],
   "source": [
    "np.random.rand(3,2)"
   ]
  },
  {
   "cell_type": "code",
   "execution_count": 74,
   "id": "e8eef21b-bd33-4624-921f-0db991e5fb78",
   "metadata": {},
   "outputs": [
    {
     "data": {
      "text/plain": [
       "array([0.8152291 , 0.52424331, 0.8662795 , 0.88382923])"
      ]
     },
     "execution_count": 74,
     "metadata": {},
     "output_type": "execute_result"
    }
   ],
   "source": [
    "np.random.rand(4)"
   ]
  },
  {
   "cell_type": "code",
   "execution_count": 76,
   "id": "089895ef-c877-4d5b-9398-4429586c434e",
   "metadata": {},
   "outputs": [
    {
     "data": {
      "text/plain": [
       "3"
      ]
     },
     "execution_count": 76,
     "metadata": {},
     "output_type": "execute_result"
    }
   ],
   "source": [
    "np.random.randint(3,5)"
   ]
  },
  {
   "cell_type": "code",
   "execution_count": 78,
   "id": "334c1dfd-7090-4d9a-ac2c-83d4d85d90dc",
   "metadata": {},
   "outputs": [
    {
     "data": {
      "text/plain": [
       "22"
      ]
     },
     "execution_count": 78,
     "metadata": {},
     "output_type": "execute_result"
    }
   ],
   "source": [
    "np.random.randint(1,24)"
   ]
  },
  {
   "cell_type": "code",
   "execution_count": 80,
   "id": "801934d4-0776-4f77-aa95-ca673c80bab6",
   "metadata": {},
   "outputs": [
    {
     "data": {
      "text/plain": [
       "0"
      ]
     },
     "execution_count": 80,
     "metadata": {},
     "output_type": "execute_result"
    }
   ],
   "source": [
    "np.random.randint(0,1)"
   ]
  },
  {
   "cell_type": "code",
   "execution_count": 82,
   "id": "febbba74-f5c5-4119-b1f1-e8bedd9830e0",
   "metadata": {},
   "outputs": [
    {
     "data": {
      "text/plain": [
       "array([33, 23,  7, 20, 15])"
      ]
     },
     "execution_count": 82,
     "metadata": {},
     "output_type": "execute_result"
    }
   ],
   "source": [
    "np.random.randint(1,40,5)"
   ]
  },
  {
   "cell_type": "code",
   "execution_count": 84,
   "id": "70e504e5-366b-4b4e-a848-8774304cdf34",
   "metadata": {},
   "outputs": [
    {
     "data": {
      "text/plain": [
       "array([6, 8, 3, 9, 4])"
      ]
     },
     "execution_count": 84,
     "metadata": {},
     "output_type": "execute_result"
    }
   ],
   "source": [
    "np.random.randint(0,10,5)"
   ]
  },
  {
   "cell_type": "code",
   "execution_count": 86,
   "id": "52f3f522-769e-491d-9345-73f043170804",
   "metadata": {},
   "outputs": [
    {
     "data": {
      "text/plain": [
       "array([0.64098278, 0.77626871, 0.35911459])"
      ]
     },
     "execution_count": 86,
     "metadata": {},
     "output_type": "execute_result"
    }
   ],
   "source": [
    "np.random.rand(3)"
   ]
  },
  {
   "cell_type": "code",
   "execution_count": 88,
   "id": "51282255-b60c-4bc1-852c-0ff9cddde4f4",
   "metadata": {},
   "outputs": [
    {
     "data": {
      "text/plain": [
       "array([[29, 13, 37, 33, 15, 37, 18, 12, 19, 19],\n",
       "       [13, 22, 34, 20, 34, 36, 19, 15, 20, 34],\n",
       "       [19, 34, 13, 38, 20, 33, 15, 31, 30, 20],\n",
       "       [34, 35, 38, 35, 21, 18, 30, 33, 10, 28],\n",
       "       [35, 19, 31, 31, 26, 24, 23, 37, 26, 11],\n",
       "       [15, 15, 32, 18, 32, 37, 12, 19, 21, 31],\n",
       "       [27, 37, 36, 35, 34, 25, 39, 36, 25, 10],\n",
       "       [21, 15, 31, 26, 23, 32, 31, 28, 39, 27],\n",
       "       [23, 31, 24, 13, 16, 14, 18, 15, 30, 33],\n",
       "       [11, 23, 29, 36, 35, 33, 29, 22, 23, 38]])"
      ]
     },
     "execution_count": 88,
     "metadata": {},
     "output_type": "execute_result"
    }
   ],
   "source": [
    "np.random.randint(10,40,(10,10))"
   ]
  },
  {
   "cell_type": "markdown",
   "id": "2a6c6388-cc37-4c1b-981a-cd707358c360",
   "metadata": {},
   "source": [
    "# RESHAPE"
   ]
  },
  {
   "cell_type": "code",
   "execution_count": 91,
   "id": "11f550c2-fcba-441f-9ab0-fc5d9409044c",
   "metadata": {},
   "outputs": [
    {
     "data": {
      "text/plain": [
       "array([[ 1,  2,  3,  4],\n",
       "       [ 5,  6,  7,  8],\n",
       "       [ 9, 10, 11, 12]])"
      ]
     },
     "execution_count": 91,
     "metadata": {},
     "output_type": "execute_result"
    }
   ],
   "source": [
    "np.arange(1,13).reshape(3,4)"
   ]
  },
  {
   "cell_type": "code",
   "execution_count": 93,
   "id": "a1d34fc8-29fa-4f52-9352-318fd05d97e1",
   "metadata": {},
   "outputs": [
    {
     "ename": "ValueError",
     "evalue": "cannot reshape array of size 12 into shape (5,4)",
     "output_type": "error",
     "traceback": [
      "\u001b[1;31m---------------------------------------------------------------------------\u001b[0m",
      "\u001b[1;31mValueError\u001b[0m                                Traceback (most recent call last)",
      "Cell \u001b[1;32mIn[93], line 1\u001b[0m\n\u001b[1;32m----> 1\u001b[0m np\u001b[38;5;241m.\u001b[39marange(\u001b[38;5;241m1\u001b[39m,\u001b[38;5;241m13\u001b[39m)\u001b[38;5;241m.\u001b[39mreshape(\u001b[38;5;241m5\u001b[39m,\u001b[38;5;241m4\u001b[39m)\n",
      "\u001b[1;31mValueError\u001b[0m: cannot reshape array of size 12 into shape (5,4)"
     ]
    }
   ],
   "source": [
    "np.arange(1,13).reshape(5,4)"
   ]
  },
  {
   "cell_type": "code",
   "execution_count": 95,
   "id": "4c7a68a6-f4e0-4ce1-8697-0c6007b254a7",
   "metadata": {},
   "outputs": [
    {
     "data": {
      "text/plain": [
       "array([[ 1],\n",
       "       [ 2],\n",
       "       [ 3],\n",
       "       [ 4],\n",
       "       [ 5],\n",
       "       [ 6],\n",
       "       [ 7],\n",
       "       [ 8],\n",
       "       [ 9],\n",
       "       [10],\n",
       "       [11],\n",
       "       [12]])"
      ]
     },
     "execution_count": 95,
     "metadata": {},
     "output_type": "execute_result"
    }
   ],
   "source": [
    "np.arange(1,13).reshape(12,1)"
   ]
  },
  {
   "cell_type": "code",
   "execution_count": 97,
   "id": "f76e6280-efd7-4e99-93b0-287d56967472",
   "metadata": {},
   "outputs": [
    {
     "data": {
      "text/plain": [
       "array([[ 1,  2],\n",
       "       [ 3,  4],\n",
       "       [ 5,  6],\n",
       "       [ 7,  8],\n",
       "       [ 9, 10],\n",
       "       [11, 12]])"
      ]
     },
     "execution_count": 97,
     "metadata": {},
     "output_type": "execute_result"
    }
   ],
   "source": [
    "np.arange(1,13).reshape(6,2)"
   ]
  },
  {
   "cell_type": "code",
   "execution_count": 99,
   "id": "f773f86b-5f89-4b57-94fa-9d98a7c25e8c",
   "metadata": {},
   "outputs": [
    {
     "data": {
      "text/plain": [
       "array([[14, 17, 14, 17],\n",
       "       [11, 12, 11, 11],\n",
       "       [11, 19, 13, 10],\n",
       "       [11, 12, 12, 19],\n",
       "       [10, 11, 10, 10]])"
      ]
     },
     "execution_count": 99,
     "metadata": {},
     "output_type": "execute_result"
    }
   ],
   "source": [
    "b=np.random.randint(10,20,(5,4))\n",
    "b"
   ]
  },
  {
   "cell_type": "code",
   "execution_count": 101,
   "id": "3d76a165-8ae2-4b41-9331-0263ccf27f6c",
   "metadata": {},
   "outputs": [
    {
     "data": {
      "text/plain": [
       "numpy.ndarray"
      ]
     },
     "execution_count": 101,
     "metadata": {},
     "output_type": "execute_result"
    }
   ],
   "source": [
    "type(b)"
   ]
  },
  {
   "cell_type": "markdown",
   "id": "cadce936-69e8-4059-a89b-3fcf3c8251b5",
   "metadata": {},
   "source": [
    "# INDEX SLICING"
   ]
  },
  {
   "cell_type": "code",
   "execution_count": 104,
   "id": "1c93adc4-7572-487a-97f9-7bcae869cb19",
   "metadata": {},
   "outputs": [
    {
     "data": {
      "text/plain": [
       "array([[14, 17, 14, 17],\n",
       "       [11, 12, 11, 11],\n",
       "       [11, 19, 13, 10],\n",
       "       [11, 12, 12, 19],\n",
       "       [10, 11, 10, 10]])"
      ]
     },
     "execution_count": 104,
     "metadata": {},
     "output_type": "execute_result"
    }
   ],
   "source": [
    "b[:]"
   ]
  },
  {
   "cell_type": "code",
   "execution_count": 106,
   "id": "89fd59fe-c7b5-4a5a-a3bc-61b2a11147c5",
   "metadata": {},
   "outputs": [
    {
     "data": {
      "text/plain": [
       "array([[11, 12, 11, 11],\n",
       "       [11, 19, 13, 10]])"
      ]
     },
     "execution_count": 106,
     "metadata": {},
     "output_type": "execute_result"
    }
   ],
   "source": [
    "b[1:3]"
   ]
  },
  {
   "cell_type": "code",
   "execution_count": 108,
   "id": "1c711e59-3286-4674-82b5-14dcaeadca4f",
   "metadata": {},
   "outputs": [
    {
     "data": {
      "text/plain": [
       "11"
      ]
     },
     "execution_count": 108,
     "metadata": {},
     "output_type": "execute_result"
    }
   ],
   "source": [
    "b[1,2]"
   ]
  },
  {
   "cell_type": "code",
   "execution_count": 110,
   "id": "bd19670c-79e1-4958-b46c-f9a1ea0b6ce0",
   "metadata": {},
   "outputs": [
    {
     "data": {
      "text/plain": [
       "array([[14, 17, 14, 17],\n",
       "       [11, 12, 11, 11],\n",
       "       [11, 19, 13, 10],\n",
       "       [11, 12, 12, 19],\n",
       "       [10, 11, 10, 10]])"
      ]
     },
     "execution_count": 110,
     "metadata": {},
     "output_type": "execute_result"
    }
   ],
   "source": [
    "b"
   ]
  },
  {
   "cell_type": "code",
   "execution_count": 112,
   "id": "fe41b923-2f98-4f26-a3a0-6557d2b36cce",
   "metadata": {},
   "outputs": [
    {
     "data": {
      "text/plain": [
       "11"
      ]
     },
     "execution_count": 112,
     "metadata": {},
     "output_type": "execute_result"
    }
   ],
   "source": [
    "b[1,-1]"
   ]
  },
  {
   "cell_type": "code",
   "execution_count": 114,
   "id": "33dc4de7-aed5-4ac5-8087-2a149da106ec",
   "metadata": {},
   "outputs": [
    {
     "data": {
      "text/plain": [
       "array([[11, 19, 13, 10]])"
      ]
     },
     "execution_count": 114,
     "metadata": {},
     "output_type": "execute_result"
    }
   ],
   "source": [
    "b[2:3]"
   ]
  },
  {
   "cell_type": "code",
   "execution_count": 116,
   "id": "db737ee7-22a0-4701-9c84-7cb42d7e2df2",
   "metadata": {},
   "outputs": [
    {
     "data": {
      "text/plain": [
       "array([[14, 17, 14, 17],\n",
       "       [11, 12, 11, 11],\n",
       "       [11, 19, 13, 10]])"
      ]
     },
     "execution_count": 116,
     "metadata": {},
     "output_type": "execute_result"
    }
   ],
   "source": [
    "b[0:-2]"
   ]
  },
  {
   "cell_type": "code",
   "execution_count": 118,
   "id": "09ee37c9-69d8-48dc-a26a-9b57baec49db",
   "metadata": {},
   "outputs": [
    {
     "data": {
      "text/plain": [
       "14"
      ]
     },
     "execution_count": 118,
     "metadata": {},
     "output_type": "execute_result"
    }
   ],
   "source": [
    "b[0,2]"
   ]
  },
  {
   "cell_type": "code",
   "execution_count": 120,
   "id": "376bfa3a-2117-4422-b343-74dacbe65d2e",
   "metadata": {},
   "outputs": [
    {
     "data": {
      "text/plain": [
       "11"
      ]
     },
     "execution_count": 120,
     "metadata": {},
     "output_type": "execute_result"
    }
   ],
   "source": [
    "b[-4,2]"
   ]
  },
  {
   "cell_type": "code",
   "execution_count": 122,
   "id": "f627aabe-22d9-466b-8909-3c09543ca315",
   "metadata": {},
   "outputs": [
    {
     "data": {
      "text/plain": [
       "11"
      ]
     },
     "execution_count": 122,
     "metadata": {},
     "output_type": "execute_result"
    }
   ],
   "source": [
    "b[-4,-2]"
   ]
  },
  {
   "cell_type": "code",
   "execution_count": 124,
   "id": "67cc4e0f-8c38-4a44-b708-8ecded9d36a6",
   "metadata": {},
   "outputs": [
    {
     "data": {
      "text/plain": [
       "array([[14, 17, 14, 17],\n",
       "       [11, 12, 11, 11],\n",
       "       [11, 19, 13, 10],\n",
       "       [11, 12, 12, 19],\n",
       "       [10, 11, 10, 10]])"
      ]
     },
     "execution_count": 124,
     "metadata": {},
     "output_type": "execute_result"
    }
   ],
   "source": [
    "b"
   ]
  },
  {
   "cell_type": "code",
   "execution_count": 126,
   "id": "52b5b6d2-8f7b-41a4-a794-842f5eea68da",
   "metadata": {},
   "outputs": [
    {
     "data": {
      "text/plain": [
       "array([[11, 19, 13, 10]])"
      ]
     },
     "execution_count": 126,
     "metadata": {},
     "output_type": "execute_result"
    }
   ],
   "source": [
    "b[2:3]"
   ]
  },
  {
   "cell_type": "code",
   "execution_count": 128,
   "id": "e99c0887-4076-40ef-af66-1786e56be5fe",
   "metadata": {},
   "outputs": [
    {
     "data": {
      "text/plain": [
       "array([[14, 17, 14, 17],\n",
       "       [11, 12, 11, 11],\n",
       "       [11, 19, 13, 10],\n",
       "       [11, 12, 12, 19],\n",
       "       [10, 11, 10, 10]])"
      ]
     },
     "execution_count": 128,
     "metadata": {},
     "output_type": "execute_result"
    }
   ],
   "source": [
    "b"
   ]
  },
  {
   "cell_type": "code",
   "execution_count": 130,
   "id": "dc4933b3-7c64-4076-af9c-5005a8638e44",
   "metadata": {},
   "outputs": [
    {
     "data": {
      "text/plain": [
       "array([[14, 17, 14, 17],\n",
       "       [11, 12, 11, 11],\n",
       "       [11, 19, 13, 10]])"
      ]
     },
     "execution_count": 130,
     "metadata": {},
     "output_type": "execute_result"
    }
   ],
   "source": [
    "b[0:-2]"
   ]
  },
  {
   "cell_type": "code",
   "execution_count": 132,
   "id": "4319cd35-00d2-42f0-ba8c-fa661787c394",
   "metadata": {},
   "outputs": [
    {
     "data": {
      "text/plain": [
       "array([[14, 17, 14, 17],\n",
       "       [11, 12, 11, 11]])"
      ]
     },
     "execution_count": 132,
     "metadata": {},
     "output_type": "execute_result"
    }
   ],
   "source": [
    "b[0:2]"
   ]
  },
  {
   "cell_type": "code",
   "execution_count": 134,
   "id": "a8708d4b-a02b-43da-b57f-8faefdb01bba",
   "metadata": {},
   "outputs": [
    {
     "data": {
      "text/plain": [
       "14"
      ]
     },
     "execution_count": 134,
     "metadata": {},
     "output_type": "execute_result"
    }
   ],
   "source": [
    "b[0,2]"
   ]
  },
  {
   "cell_type": "code",
   "execution_count": 136,
   "id": "9bbe310e-acc9-413c-8b6c-ddec0387a2e7",
   "metadata": {},
   "outputs": [
    {
     "ename": "IndexError",
     "evalue": "index 4 is out of bounds for axis 1 with size 4",
     "output_type": "error",
     "traceback": [
      "\u001b[1;31m---------------------------------------------------------------------------\u001b[0m",
      "\u001b[1;31mIndexError\u001b[0m                                Traceback (most recent call last)",
      "Cell \u001b[1;32mIn[136], line 1\u001b[0m\n\u001b[1;32m----> 1\u001b[0m b[\u001b[38;5;241m0\u001b[39m,\u001b[38;5;241m4\u001b[39m]\n",
      "\u001b[1;31mIndexError\u001b[0m: index 4 is out of bounds for axis 1 with size 4"
     ]
    }
   ],
   "source": [
    "b[0,4]"
   ]
  },
  {
   "cell_type": "code",
   "execution_count": 138,
   "id": "4c0008a2-7534-44cf-9efa-f2c4ae968cee",
   "metadata": {},
   "outputs": [
    {
     "data": {
      "text/plain": [
       "17"
      ]
     },
     "execution_count": 138,
     "metadata": {},
     "output_type": "execute_result"
    }
   ],
   "source": [
    "b[-5,-3]"
   ]
  },
  {
   "cell_type": "code",
   "execution_count": 140,
   "id": "d21af3f8-8263-4654-92bf-75d55d596973",
   "metadata": {},
   "outputs": [
    {
     "data": {
      "text/plain": [
       "11"
      ]
     },
     "execution_count": 140,
     "metadata": {},
     "output_type": "execute_result"
    }
   ],
   "source": [
    "b[-4,2]"
   ]
  },
  {
   "cell_type": "code",
   "execution_count": null,
   "id": "394e659c-f159-44f6-be67-8e2cf7466157",
   "metadata": {},
   "outputs": [],
   "source": []
  },
  {
   "cell_type": "code",
   "execution_count": 143,
   "id": "3fae123e-2ee7-4714-80e0-974c3c08b9cc",
   "metadata": {},
   "outputs": [
    {
     "data": {
      "text/plain": [
       "array([[26, 26, 27, 27],\n",
       "       [29, 21, 27, 23],\n",
       "       [28, 28, 24, 23],\n",
       "       [29, 27, 24, 27]])"
      ]
     },
     "execution_count": 143,
     "metadata": {},
     "output_type": "execute_result"
    }
   ],
   "source": [
    "np.random.randint(20,30,(4,4))"
   ]
  },
  {
   "cell_type": "code",
   "execution_count": 145,
   "id": "1b35804b-df34-46a4-8c15-fa8cfb6e2a7c",
   "metadata": {},
   "outputs": [
    {
     "data": {
      "text/plain": [
       "array([[14, 17, 14, 17],\n",
       "       [11, 12, 11, 11],\n",
       "       [11, 19, 13, 10],\n",
       "       [11, 12, 12, 19],\n",
       "       [10, 11, 10, 10]])"
      ]
     },
     "execution_count": 145,
     "metadata": {},
     "output_type": "execute_result"
    }
   ],
   "source": [
    "\n",
    "b"
   ]
  },
  {
   "cell_type": "code",
   "execution_count": 147,
   "id": "fbb36009-a9a5-4336-901f-9e73aead7b54",
   "metadata": {},
   "outputs": [
    {
     "data": {
      "text/plain": [
       "11"
      ]
     },
     "execution_count": 147,
     "metadata": {},
     "output_type": "execute_result"
    }
   ],
   "source": [
    "b[-4,-2]"
   ]
  },
  {
   "cell_type": "code",
   "execution_count": 149,
   "id": "ecf4b9a6-a30a-4553-8600-30f91752de02",
   "metadata": {},
   "outputs": [
    {
     "data": {
      "text/plain": [
       "array([[11, 12, 11, 11]])"
      ]
     },
     "execution_count": 149,
     "metadata": {},
     "output_type": "execute_result"
    }
   ],
   "source": [
    "b[-4:2]"
   ]
  },
  {
   "cell_type": "code",
   "execution_count": 151,
   "id": "aa663f4d-699e-42c9-9d54-51125ad9dc43",
   "metadata": {},
   "outputs": [
    {
     "data": {
      "text/plain": [
       "array([[14, 17, 14, 17],\n",
       "       [11, 12, 11, 11],\n",
       "       [11, 19, 13, 10],\n",
       "       [11, 12, 12, 19],\n",
       "       [10, 11, 10, 10]])"
      ]
     },
     "execution_count": 151,
     "metadata": {},
     "output_type": "execute_result"
    }
   ],
   "source": [
    "b[:]"
   ]
  },
  {
   "cell_type": "code",
   "execution_count": null,
   "id": "f9022a20-ed6f-4cfa-8c4e-892292ff466f",
   "metadata": {},
   "outputs": [],
   "source": []
  },
  {
   "cell_type": "markdown",
   "id": "7296f3bc-eaf9-4013-b512-56d7883066b7",
   "metadata": {},
   "source": [
    "# OPERATIONS"
   ]
  },
  {
   "cell_type": "code",
   "execution_count": 155,
   "id": "0b8cbbc6-d4e5-483a-897b-ea5b2d5f84d9",
   "metadata": {},
   "outputs": [
    {
     "data": {
      "text/plain": [
       "array([3, 9, 5, 9, 9, 7, 9, 4, 2, 3])"
      ]
     },
     "execution_count": 155,
     "metadata": {},
     "output_type": "execute_result"
    }
   ],
   "source": [
    "a=np.random.randint(1,10,10)\n",
    "a"
   ]
  },
  {
   "cell_type": "code",
   "execution_count": 157,
   "id": "ae444b44-4148-4047-8b05-d149366d423e",
   "metadata": {},
   "outputs": [
    {
     "data": {
      "text/plain": [
       "1906185465424"
      ]
     },
     "execution_count": 157,
     "metadata": {},
     "output_type": "execute_result"
    }
   ],
   "source": [
    "id(a)"
   ]
  },
  {
   "cell_type": "code",
   "execution_count": 159,
   "id": "e41edef4-3048-4038-8afe-a5b417cf4674",
   "metadata": {},
   "outputs": [
    {
     "data": {
      "text/plain": [
       "array([0, 1, 2, 3, 4, 5])"
      ]
     },
     "execution_count": 159,
     "metadata": {},
     "output_type": "execute_result"
    }
   ],
   "source": [
    "arr"
   ]
  },
  {
   "cell_type": "code",
   "execution_count": 161,
   "id": "2bdbaa64-b931-477c-84d4-7080faf0817a",
   "metadata": {},
   "outputs": [
    {
     "data": {
      "text/plain": [
       "array([[77, 78, 37, 87, 11,  2, 80, 62, 21, 30],\n",
       "       [61, 10, 59, 69, 28, 72, 36, 81, 17, 29],\n",
       "       [52, 19, 95, 17, 46, 33, 14,  8, 10, 75],\n",
       "       [45, 94, 45, 19, 45, 75, 63, 89,  7, 35],\n",
       "       [93, 57, 81, 11, 73, 16,  9, 70, 70, 12],\n",
       "       [46, 20, 68, 85, 27, 38, 17, 33, 89, 55],\n",
       "       [44, 86, 50, 33, 31, 21, 29, 85, 60, 41],\n",
       "       [56, 45, 89, 14, 82, 35, 83, 69, 99, 69],\n",
       "       [84, 53, 38, 37, 41, 93, 75, 84, 90, 12],\n",
       "       [29, 65, 45, 65, 68,  6, 65, 15, 33,  9]])"
      ]
     },
     "execution_count": 161,
     "metadata": {},
     "output_type": "execute_result"
    }
   ],
   "source": [
    "arr2=np.random.randint(0,100,(10,10))\n",
    "arr2"
   ]
  },
  {
   "cell_type": "code",
   "execution_count": null,
   "id": "858bcc58-5349-478f-aba8-6a3cbcfd3310",
   "metadata": {},
   "outputs": [],
   "source": []
  },
  {
   "cell_type": "code",
   "execution_count": 164,
   "id": "c5e674a7-5728-42c7-a018-03b3b37137e4",
   "metadata": {},
   "outputs": [
    {
     "data": {
      "text/plain": [
       "array([0, 1, 2, 3, 4, 5])"
      ]
     },
     "execution_count": 164,
     "metadata": {},
     "output_type": "execute_result"
    }
   ],
   "source": [
    "arr[:]"
   ]
  },
  {
   "cell_type": "code",
   "execution_count": 166,
   "id": "b069c5af-22da-4946-b5c5-4b3063ffb3ea",
   "metadata": {},
   "outputs": [
    {
     "data": {
      "text/plain": [
       "array([[77, 78, 37, 87, 11,  2, 80, 62, 21, 30],\n",
       "       [61, 10, 59, 69, 28, 72, 36, 81, 17, 29],\n",
       "       [52, 19, 95, 17, 46, 33, 14,  8, 10, 75],\n",
       "       [45, 94, 45, 19, 45, 75, 63, 89,  7, 35],\n",
       "       [93, 57, 81, 11, 73, 16,  9, 70, 70, 12],\n",
       "       [46, 20, 68, 85, 27, 38, 17, 33, 89, 55],\n",
       "       [44, 86, 50, 33, 31, 21, 29, 85, 60, 41],\n",
       "       [56, 45, 89, 14, 82, 35, 83, 69, 99, 69],\n",
       "       [84, 53, 38, 37, 41, 93, 75, 84, 90, 12],\n",
       "       [29, 65, 45, 65, 68,  6, 65, 15, 33,  9]])"
      ]
     },
     "execution_count": 166,
     "metadata": {},
     "output_type": "execute_result"
    }
   ],
   "source": [
    "arr2[:]"
   ]
  },
  {
   "cell_type": "code",
   "execution_count": 168,
   "id": "c5f37ccc-1c70-4021-a7a2-ea62838425bc",
   "metadata": {},
   "outputs": [
    {
     "data": {
      "text/plain": [
       "array([[77, 78, 37, 87, 11,  2, 80, 62, 21, 30],\n",
       "       [61, 10, 59, 69, 28, 72, 36, 81, 17, 29],\n",
       "       [52, 19, 95, 17, 46, 33, 14,  8, 10, 75],\n",
       "       [45, 94, 45, 19, 45, 75, 63, 89,  7, 35],\n",
       "       [93, 57, 81, 11, 73, 16,  9, 70, 70, 12]])"
      ]
     },
     "execution_count": 168,
     "metadata": {},
     "output_type": "execute_result"
    }
   ],
   "source": [
    "arr2[0:5]"
   ]
  },
  {
   "cell_type": "code",
   "execution_count": 170,
   "id": "cc572b68-4a9e-4abf-9919-9012f060211a",
   "metadata": {},
   "outputs": [
    {
     "data": {
      "text/plain": [
       "28"
      ]
     },
     "execution_count": 170,
     "metadata": {},
     "output_type": "execute_result"
    }
   ],
   "source": [
    "arr2[1,4]"
   ]
  },
  {
   "cell_type": "code",
   "execution_count": 172,
   "id": "fa8f8b60-377c-4599-b29d-d91a4da7b044",
   "metadata": {},
   "outputs": [
    {
     "data": {
      "text/plain": [
       "38"
      ]
     },
     "execution_count": 172,
     "metadata": {},
     "output_type": "execute_result"
    }
   ],
   "source": [
    "arr2[-5,5]"
   ]
  },
  {
   "cell_type": "code",
   "execution_count": 174,
   "id": "8851eeb9-b73f-4d9b-8eb7-83e0c1c1206f",
   "metadata": {},
   "outputs": [
    {
     "data": {
      "text/plain": [
       "38"
      ]
     },
     "execution_count": 174,
     "metadata": {},
     "output_type": "execute_result"
    }
   ],
   "source": [
    "arr2[-5,-5]"
   ]
  },
  {
   "cell_type": "code",
   "execution_count": 176,
   "id": "75df8947-332b-4264-9b05-6b3b18f753b8",
   "metadata": {},
   "outputs": [
    {
     "data": {
      "text/plain": [
       "array([[77, 78, 37, 87, 11,  2, 80, 62, 21, 30],\n",
       "       [61, 10, 59, 69, 28, 72, 36, 81, 17, 29],\n",
       "       [52, 19, 95, 17, 46, 33, 14,  8, 10, 75],\n",
       "       [45, 94, 45, 19, 45, 75, 63, 89,  7, 35],\n",
       "       [93, 57, 81, 11, 73, 16,  9, 70, 70, 12],\n",
       "       [46, 20, 68, 85, 27, 38, 17, 33, 89, 55],\n",
       "       [44, 86, 50, 33, 31, 21, 29, 85, 60, 41],\n",
       "       [56, 45, 89, 14, 82, 35, 83, 69, 99, 69],\n",
       "       [84, 53, 38, 37, 41, 93, 75, 84, 90, 12],\n",
       "       [29, 65, 45, 65, 68,  6, 65, 15, 33,  9]])"
      ]
     },
     "execution_count": 176,
     "metadata": {},
     "output_type": "execute_result"
    }
   ],
   "source": [
    "arr2"
   ]
  },
  {
   "cell_type": "code",
   "execution_count": 178,
   "id": "d3943e4b-c546-44c4-a04d-4f2f2ef90fe9",
   "metadata": {},
   "outputs": [
    {
     "data": {
      "text/plain": [
       "33"
      ]
     },
     "execution_count": 178,
     "metadata": {},
     "output_type": "execute_result"
    }
   ],
   "source": [
    "arr2[-1,-2]"
   ]
  },
  {
   "cell_type": "code",
   "execution_count": 180,
   "id": "cc9e7d02-8b00-4b4a-aaac-e7176959d518",
   "metadata": {},
   "outputs": [
    {
     "data": {
      "text/plain": [
       "array([[29, 65, 45, 65, 68,  6, 65, 15, 33,  9],\n",
       "       [84, 53, 38, 37, 41, 93, 75, 84, 90, 12],\n",
       "       [56, 45, 89, 14, 82, 35, 83, 69, 99, 69],\n",
       "       [44, 86, 50, 33, 31, 21, 29, 85, 60, 41],\n",
       "       [46, 20, 68, 85, 27, 38, 17, 33, 89, 55],\n",
       "       [93, 57, 81, 11, 73, 16,  9, 70, 70, 12],\n",
       "       [45, 94, 45, 19, 45, 75, 63, 89,  7, 35],\n",
       "       [52, 19, 95, 17, 46, 33, 14,  8, 10, 75],\n",
       "       [61, 10, 59, 69, 28, 72, 36, 81, 17, 29],\n",
       "       [77, 78, 37, 87, 11,  2, 80, 62, 21, 30]])"
      ]
     },
     "execution_count": 180,
     "metadata": {},
     "output_type": "execute_result"
    }
   ],
   "source": [
    "arr2[::-1]"
   ]
  },
  {
   "cell_type": "code",
   "execution_count": 182,
   "id": "21d30152-fc07-4e8b-be38-b376a046f9ea",
   "metadata": {},
   "outputs": [
    {
     "data": {
      "text/plain": [
       "array([[77, 78, 37, 87, 11,  2, 80, 62, 21, 30],\n",
       "       [61, 10, 59, 69, 28, 72, 36, 81, 17, 29],\n",
       "       [52, 19, 95, 17, 46, 33, 14,  8, 10, 75],\n",
       "       [45, 94, 45, 19, 45, 75, 63, 89,  7, 35],\n",
       "       [93, 57, 81, 11, 73, 16,  9, 70, 70, 12],\n",
       "       [46, 20, 68, 85, 27, 38, 17, 33, 89, 55],\n",
       "       [44, 86, 50, 33, 31, 21, 29, 85, 60, 41],\n",
       "       [56, 45, 89, 14, 82, 35, 83, 69, 99, 69],\n",
       "       [84, 53, 38, 37, 41, 93, 75, 84, 90, 12],\n",
       "       [29, 65, 45, 65, 68,  6, 65, 15, 33,  9]])"
      ]
     },
     "execution_count": 182,
     "metadata": {},
     "output_type": "execute_result"
    }
   ],
   "source": [
    "arr2"
   ]
  },
  {
   "cell_type": "code",
   "execution_count": 184,
   "id": "acf8bbfc-a396-454d-a81b-be6ca5d80b6e",
   "metadata": {},
   "outputs": [
    {
     "data": {
      "text/plain": [
       "array([[29, 65, 45, 65, 68,  6, 65, 15, 33,  9],\n",
       "       [56, 45, 89, 14, 82, 35, 83, 69, 99, 69],\n",
       "       [46, 20, 68, 85, 27, 38, 17, 33, 89, 55],\n",
       "       [45, 94, 45, 19, 45, 75, 63, 89,  7, 35],\n",
       "       [61, 10, 59, 69, 28, 72, 36, 81, 17, 29]])"
      ]
     },
     "execution_count": 184,
     "metadata": {},
     "output_type": "execute_result"
    }
   ],
   "source": [
    "arr2[::-2]"
   ]
  },
  {
   "cell_type": "code",
   "execution_count": 186,
   "id": "f2db6333-3d8f-4135-9127-e0a6078f6b54",
   "metadata": {},
   "outputs": [
    {
     "data": {
      "text/plain": [
       "array([[29, 65, 45, 65, 68,  6, 65, 15, 33,  9],\n",
       "       [44, 86, 50, 33, 31, 21, 29, 85, 60, 41],\n",
       "       [45, 94, 45, 19, 45, 75, 63, 89,  7, 35],\n",
       "       [77, 78, 37, 87, 11,  2, 80, 62, 21, 30]])"
      ]
     },
     "execution_count": 186,
     "metadata": {},
     "output_type": "execute_result"
    }
   ],
   "source": [
    "arr2[::-3]"
   ]
  },
  {
   "cell_type": "code",
   "execution_count": 188,
   "id": "c9db16e2-197e-4345-ac41-f151d7ef64ba",
   "metadata": {},
   "outputs": [
    {
     "data": {
      "text/plain": [
       "array([[77, 78, 37, 87, 11,  2, 80, 62, 21, 30],\n",
       "       [61, 10, 59, 69, 28, 72, 36, 81, 17, 29],\n",
       "       [52, 19, 95, 17, 46, 33, 14,  8, 10, 75],\n",
       "       [45, 94, 45, 19, 45, 75, 63, 89,  7, 35],\n",
       "       [93, 57, 81, 11, 73, 16,  9, 70, 70, 12],\n",
       "       [46, 20, 68, 85, 27, 38, 17, 33, 89, 55],\n",
       "       [44, 86, 50, 33, 31, 21, 29, 85, 60, 41],\n",
       "       [56, 45, 89, 14, 82, 35, 83, 69, 99, 69],\n",
       "       [84, 53, 38, 37, 41, 93, 75, 84, 90, 12],\n",
       "       [29, 65, 45, 65, 68,  6, 65, 15, 33,  9]])"
      ]
     },
     "execution_count": 188,
     "metadata": {},
     "output_type": "execute_result"
    }
   ],
   "source": [
    "arr2"
   ]
  },
  {
   "cell_type": "code",
   "execution_count": 190,
   "id": "0d297a9b-de78-47ee-bb27-0eb1f59f1a8b",
   "metadata": {},
   "outputs": [
    {
     "data": {
      "text/plain": [
       "array([[77, 78, 37, 87, 11,  2, 80, 62, 21, 30],\n",
       "       [61, 10, 59, 69, 28, 72, 36, 81, 17, 29],\n",
       "       [52, 19, 95, 17, 46, 33, 14,  8, 10, 75],\n",
       "       [45, 94, 45, 19, 45, 75, 63, 89,  7, 35],\n",
       "       [93, 57, 81, 11, 73, 16,  9, 70, 70, 12],\n",
       "       [46, 20, 68, 85, 27, 38, 17, 33, 89, 55],\n",
       "       [44, 86, 50, 33, 31, 21, 29, 85, 60, 41]])"
      ]
     },
     "execution_count": 190,
     "metadata": {},
     "output_type": "execute_result"
    }
   ],
   "source": [
    "arr2[:-3]"
   ]
  },
  {
   "cell_type": "code",
   "execution_count": 192,
   "id": "19f9bd42-7f7a-4603-843f-df3348205257",
   "metadata": {},
   "outputs": [
    {
     "data": {
      "text/plain": [
       "array([0, 1, 2, 3, 4, 5])"
      ]
     },
     "execution_count": 192,
     "metadata": {},
     "output_type": "execute_result"
    }
   ],
   "source": [
    "arr"
   ]
  },
  {
   "cell_type": "code",
   "execution_count": 194,
   "id": "3cf15a3a-bc0b-4fd1-b08e-162d2ea1b54e",
   "metadata": {},
   "outputs": [
    {
     "data": {
      "text/plain": [
       "5"
      ]
     },
     "execution_count": 194,
     "metadata": {},
     "output_type": "execute_result"
    }
   ],
   "source": [
    "arr.max()"
   ]
  },
  {
   "cell_type": "code",
   "execution_count": 196,
   "id": "64462458-15b2-4ced-ab75-11864e40768b",
   "metadata": {},
   "outputs": [
    {
     "data": {
      "text/plain": [
       "0"
      ]
     },
     "execution_count": 196,
     "metadata": {},
     "output_type": "execute_result"
    }
   ],
   "source": [
    "arr.min()"
   ]
  },
  {
   "cell_type": "code",
   "execution_count": 198,
   "id": "adec823b-b8b5-4211-98ea-60ee22c0d81d",
   "metadata": {},
   "outputs": [
    {
     "data": {
      "text/plain": [
       "15"
      ]
     },
     "execution_count": 198,
     "metadata": {},
     "output_type": "execute_result"
    }
   ],
   "source": [
    "arr.sum()"
   ]
  },
  {
   "cell_type": "code",
   "execution_count": 200,
   "id": "67601d3e-ce43-48a9-b485-15fd0afa9fb7",
   "metadata": {},
   "outputs": [
    {
     "data": {
      "text/plain": [
       "2.5"
      ]
     },
     "execution_count": 200,
     "metadata": {},
     "output_type": "execute_result"
    }
   ],
   "source": [
    "arr.mean()"
   ]
  },
  {
   "cell_type": "code",
   "execution_count": 202,
   "id": "4773cb06-53bb-446f-a9e9-5fa2c3b0dfb0",
   "metadata": {},
   "outputs": [
    {
     "ename": "AttributeError",
     "evalue": "'numpy.ndarray' object has no attribute 'median'",
     "output_type": "error",
     "traceback": [
      "\u001b[1;31m---------------------------------------------------------------------------\u001b[0m",
      "\u001b[1;31mAttributeError\u001b[0m                            Traceback (most recent call last)",
      "Cell \u001b[1;32mIn[202], line 1\u001b[0m\n\u001b[1;32m----> 1\u001b[0m arr\u001b[38;5;241m.\u001b[39mmedian()\n",
      "\u001b[1;31mAttributeError\u001b[0m: 'numpy.ndarray' object has no attribute 'median'"
     ]
    }
   ],
   "source": [
    "arr.median()"
   ]
  },
  {
   "cell_type": "code",
   "execution_count": 204,
   "id": "39bc7b2d-4c3c-40b7-a540-29aea3124cc4",
   "metadata": {},
   "outputs": [
    {
     "data": {
      "text/plain": [
       "4.0"
      ]
     },
     "execution_count": 204,
     "metadata": {},
     "output_type": "execute_result"
    }
   ],
   "source": [
    "from numpy import *\n",
    "a=array([1,2,3,4,5,6,7])\n",
    "median(a)"
   ]
  },
  {
   "cell_type": "code",
   "execution_count": null,
   "id": "59b01d3d-1c53-4743-8a8d-6ec99cddbfca",
   "metadata": {},
   "outputs": [],
   "source": []
  },
  {
   "cell_type": "markdown",
   "id": "db42102d-310d-4fd0-8da2-e383669d8717",
   "metadata": {},
   "source": [
    "# Without work on import* can you please find the median, mode)"
   ]
  },
  {
   "cell_type": "code",
   "execution_count": null,
   "id": "53dc88ea-ff10-4858-9e6b-ef04bee286a0",
   "metadata": {},
   "outputs": [],
   "source": []
  },
  {
   "cell_type": "code",
   "execution_count": 209,
   "id": "1e536aba-bb4b-4590-9d85-3e2d30d636da",
   "metadata": {},
   "outputs": [
    {
     "data": {
      "text/plain": [
       "array([0, 1, 2, 3, 4, 5])"
      ]
     },
     "execution_count": 209,
     "metadata": {},
     "output_type": "execute_result"
    }
   ],
   "source": [
    "arr"
   ]
  },
  {
   "cell_type": "code",
   "execution_count": 211,
   "id": "c37a6529-b917-414a-a4c9-fddd38bfb619",
   "metadata": {},
   "outputs": [
    {
     "data": {
      "text/plain": [
       "array([[0, 1, 2],\n",
       "       [3, 4, 5]])"
      ]
     },
     "execution_count": 211,
     "metadata": {},
     "output_type": "execute_result"
    }
   ],
   "source": [
    "arr.reshape(2,3)"
   ]
  },
  {
   "cell_type": "code",
   "execution_count": 213,
   "id": "b5209fde-b026-48a0-a79c-cea78048ab74",
   "metadata": {},
   "outputs": [
    {
     "data": {
      "text/plain": [
       "array([[0],\n",
       "       [1],\n",
       "       [2],\n",
       "       [3],\n",
       "       [4],\n",
       "       [5]])"
      ]
     },
     "execution_count": 213,
     "metadata": {},
     "output_type": "execute_result"
    }
   ],
   "source": [
    "arr.reshape(6,1)"
   ]
  },
  {
   "cell_type": "code",
   "execution_count": 215,
   "id": "68ef1f01-7efa-4439-9422-684093776974",
   "metadata": {},
   "outputs": [
    {
     "data": {
      "text/plain": [
       "array([[0, 1, 2, 3, 4, 5]])"
      ]
     },
     "execution_count": 215,
     "metadata": {},
     "output_type": "execute_result"
    }
   ],
   "source": [
    "arr.reshape(1,6)"
   ]
  },
  {
   "cell_type": "code",
   "execution_count": 217,
   "id": "2ed593b9-862d-4a67-8008-923f8bd03133",
   "metadata": {},
   "outputs": [
    {
     "ename": "SyntaxError",
     "evalue": "closing parenthesis '}' does not match opening parenthesis '(' (2377609563.py, line 1)",
     "output_type": "error",
     "traceback": [
      "\u001b[1;36m  Cell \u001b[1;32mIn[217], line 1\u001b[1;36m\u001b[0m\n\u001b[1;33m    arr.reshape(2,4})\u001b[0m\n\u001b[1;37m                   ^\u001b[0m\n\u001b[1;31mSyntaxError\u001b[0m\u001b[1;31m:\u001b[0m closing parenthesis '}' does not match opening parenthesis '('\n"
     ]
    }
   ],
   "source": [
    "arr.reshape(2,4})"
   ]
  },
  {
   "cell_type": "code",
   "execution_count": 219,
   "id": "e90033ba-4845-4abd-b643-23380ac0240c",
   "metadata": {},
   "outputs": [
    {
     "ename": "ValueError",
     "evalue": "cannot reshape array of size 6 into shape (4,2)",
     "output_type": "error",
     "traceback": [
      "\u001b[1;31m---------------------------------------------------------------------------\u001b[0m",
      "\u001b[1;31mValueError\u001b[0m                                Traceback (most recent call last)",
      "Cell \u001b[1;32mIn[219], line 1\u001b[0m\n\u001b[1;32m----> 1\u001b[0m arr\u001b[38;5;241m.\u001b[39mreshape(\u001b[38;5;241m4\u001b[39m,\u001b[38;5;241m2\u001b[39m)\n",
      "\u001b[1;31mValueError\u001b[0m: cannot reshape array of size 6 into shape (4,2)"
     ]
    }
   ],
   "source": [
    "arr.reshape(4,2)"
   ]
  },
  {
   "cell_type": "code",
   "execution_count": 221,
   "id": "feb680c2-9890-49c3-b593-ce37916951a0",
   "metadata": {},
   "outputs": [
    {
     "data": {
      "text/plain": [
       "array([0, 1, 2, 3, 4, 5])"
      ]
     },
     "execution_count": 221,
     "metadata": {},
     "output_type": "execute_result"
    }
   ],
   "source": [
    "arr"
   ]
  },
  {
   "cell_type": "code",
   "execution_count": 223,
   "id": "44b0e70f-5a1b-476a-bd5c-4cb3b3011bf7",
   "metadata": {},
   "outputs": [
    {
     "data": {
      "text/plain": [
       "array([[0, 1, 2],\n",
       "       [3, 4, 5]])"
      ]
     },
     "execution_count": 223,
     "metadata": {},
     "output_type": "execute_result"
    }
   ],
   "source": [
    "arr.reshape(2,3,order='C')  #print element using c-type indexing"
   ]
  },
  {
   "cell_type": "code",
   "execution_count": 225,
   "id": "19905f6a-e648-4507-9518-f88654a28c87",
   "metadata": {},
   "outputs": [
    {
     "data": {
      "text/plain": [
       "array([[0, 3],\n",
       "       [1, 4],\n",
       "       [2, 5]])"
      ]
     },
     "execution_count": 225,
     "metadata": {},
     "output_type": "execute_result"
    }
   ],
   "source": [
    "arr.reshape(3,2,order='F')   # print element with fortran "
   ]
  },
  {
   "cell_type": "code",
   "execution_count": 227,
   "id": "df8396a1-8964-417d-816b-af8348b34cac",
   "metadata": {},
   "outputs": [
    {
     "data": {
      "text/plain": [
       "array([[0, 2, 4],\n",
       "       [1, 3, 5]])"
      ]
     },
     "execution_count": 227,
     "metadata": {},
     "output_type": "execute_result"
    }
   ],
   "source": [
    "arr.reshape(2,3,order='F')"
   ]
  },
  {
   "cell_type": "code",
   "execution_count": 229,
   "id": "c4e5f738-b91c-457b-a6c7-13af784467a2",
   "metadata": {},
   "outputs": [
    {
     "data": {
      "text/plain": [
       "array([[0, 1],\n",
       "       [2, 3],\n",
       "       [4, 5]])"
      ]
     },
     "execution_count": 229,
     "metadata": {},
     "output_type": "execute_result"
    }
   ],
   "source": [
    "arr.reshape(3,2,order='A')"
   ]
  },
  {
   "cell_type": "code",
   "execution_count": 231,
   "id": "5aed3edc-378c-4754-917c-a4001e512177",
   "metadata": {},
   "outputs": [
    {
     "data": {
      "text/plain": [
       "array([[0, 1, 2],\n",
       "       [3, 4, 5]])"
      ]
     },
     "execution_count": 231,
     "metadata": {},
     "output_type": "execute_result"
    }
   ],
   "source": [
    "arr.reshape(2,3,order='A')"
   ]
  },
  {
   "cell_type": "code",
   "execution_count": 233,
   "id": "3f86538c-165a-474c-aa39-f6b9a3786ae7",
   "metadata": {},
   "outputs": [
    {
     "ename": "ValueError",
     "evalue": "cannot reshape array of size 6 into shape (1,3)",
     "output_type": "error",
     "traceback": [
      "\u001b[1;31m---------------------------------------------------------------------------\u001b[0m",
      "\u001b[1;31mValueError\u001b[0m                                Traceback (most recent call last)",
      "Cell \u001b[1;32mIn[233], line 1\u001b[0m\n\u001b[1;32m----> 1\u001b[0m arr\u001b[38;5;241m.\u001b[39mreshape(\u001b[38;5;241m1\u001b[39m,\u001b[38;5;241m3\u001b[39m,order\u001b[38;5;241m=\u001b[39m\u001b[38;5;124m'\u001b[39m\u001b[38;5;124mA\u001b[39m\u001b[38;5;124m'\u001b[39m)\n",
      "\u001b[1;31mValueError\u001b[0m: cannot reshape array of size 6 into shape (1,3)"
     ]
    }
   ],
   "source": [
    "arr.reshape(1,3,order='A')"
   ]
  },
  {
   "cell_type": "code",
   "execution_count": null,
   "id": "25e23643-9623-40fb-8f8a-b4e48669e9da",
   "metadata": {},
   "outputs": [],
   "source": []
  },
  {
   "cell_type": "code",
   "execution_count": 236,
   "id": "11bf9115-6086-4779-a293-dc66f6803b0d",
   "metadata": {},
   "outputs": [
    {
     "data": {
      "text/plain": [
       "array([0, 1, 2, 3, 4, 5])"
      ]
     },
     "execution_count": 236,
     "metadata": {},
     "output_type": "execute_result"
    }
   ],
   "source": [
    "arr"
   ]
  },
  {
   "cell_type": "code",
   "execution_count": 238,
   "id": "b8996f9e-67c2-43be-bf86-d5229cf14aae",
   "metadata": {},
   "outputs": [
    {
     "data": {
      "text/plain": [
       "array([[0, 1, 2],\n",
       "       [3, 4, 5]])"
      ]
     },
     "execution_count": 238,
     "metadata": {},
     "output_type": "execute_result"
    }
   ],
   "source": [
    "arr.reshape(2,3)"
   ]
  },
  {
   "cell_type": "code",
   "execution_count": 240,
   "id": "be37cb79-803d-4e52-91b9-818fdb866454",
   "metadata": {},
   "outputs": [
    {
     "data": {
      "text/plain": [
       "array([[0, 1],\n",
       "       [2, 3],\n",
       "       [4, 5]])"
      ]
     },
     "execution_count": 240,
     "metadata": {},
     "output_type": "execute_result"
    }
   ],
   "source": [
    "arr.reshape(3,2)"
   ]
  },
  {
   "cell_type": "code",
   "execution_count": 242,
   "id": "ac3c9343-12d5-4122-94d0-56422c5b18a3",
   "metadata": {},
   "outputs": [
    {
     "ename": "TypeError",
     "evalue": "'numpy.ndarray' object is not callable",
     "output_type": "error",
     "traceback": [
      "\u001b[1;31m---------------------------------------------------------------------------\u001b[0m",
      "\u001b[1;31mTypeError\u001b[0m                                 Traceback (most recent call last)",
      "Cell \u001b[1;32mIn[242], line 1\u001b[0m\n\u001b[1;32m----> 1\u001b[0m arr(\u001b[38;5;241m1\u001b[39m,\u001b[38;5;241m4\u001b[39m)\n",
      "\u001b[1;31mTypeError\u001b[0m: 'numpy.ndarray' object is not callable"
     ]
    }
   ],
   "source": [
    "arr(1,4)"
   ]
  },
  {
   "cell_type": "code",
   "execution_count": 244,
   "id": "5843808e-e95a-4c56-8372-ac63709d272c",
   "metadata": {},
   "outputs": [
    {
     "ename": "TypeError",
     "evalue": "'numpy.ndarray' object is not callable",
     "output_type": "error",
     "traceback": [
      "\u001b[1;31m---------------------------------------------------------------------------\u001b[0m",
      "\u001b[1;31mTypeError\u001b[0m                                 Traceback (most recent call last)",
      "Cell \u001b[1;32mIn[244], line 1\u001b[0m\n\u001b[1;32m----> 1\u001b[0m arr(\u001b[38;5;241m6\u001b[39m,\u001b[38;5;241m1\u001b[39m)\n",
      "\u001b[1;31mTypeError\u001b[0m: 'numpy.ndarray' object is not callable"
     ]
    }
   ],
   "source": [
    "arr(6,1)"
   ]
  },
  {
   "cell_type": "code",
   "execution_count": null,
   "id": "ca4b081a-679b-4e9d-abe7-c78d4889c322",
   "metadata": {},
   "outputs": [],
   "source": []
  },
  {
   "cell_type": "markdown",
   "id": "53f6584c-1bf5-49c6-8eb1-d6ff7ffe40ff",
   "metadata": {},
   "source": [
    "# INDEXING"
   ]
  },
  {
   "cell_type": "code",
   "execution_count": 248,
   "id": "58b468d5-0d49-4847-a2cf-0afdb5fa913e",
   "metadata": {},
   "outputs": [
    {
     "data": {
      "text/plain": [
       "array([[ 0,  1,  2,  3,  4,  5,  6,  7,  8,  9],\n",
       "       [10, 11, 12, 13, 14, 15, 16, 17, 18, 19],\n",
       "       [20, 21, 22, 23, 24, 25, 26, 27, 28, 29],\n",
       "       [30, 31, 32, 33, 34, 35, 36, 37, 38, 39],\n",
       "       [40, 41, 42, 43, 44, 45, 46, 47, 48, 49],\n",
       "       [50, 51, 52, 53, 54, 55, 56, 57, 58, 59],\n",
       "       [60, 61, 62, 63, 64, 65, 66, 67, 68, 69],\n",
       "       [70, 71, 72, 73, 74, 75, 76, 77, 78, 79],\n",
       "       [80, 81, 82, 83, 84, 85, 86, 87, 88, 89],\n",
       "       [90, 91, 92, 93, 94, 95, 96, 97, 98, 99]])"
      ]
     },
     "execution_count": 248,
     "metadata": {},
     "output_type": "execute_result"
    }
   ],
   "source": [
    "mat=np.arange(0,100).reshape(10,10)\n",
    "mat"
   ]
  },
  {
   "cell_type": "code",
   "execution_count": 250,
   "id": "33449240-7b8d-4f2b-a1b8-ddfe5b1f84b7",
   "metadata": {},
   "outputs": [],
   "source": [
    "row=5\n",
    "col=6"
   ]
  },
  {
   "cell_type": "code",
   "execution_count": 252,
   "id": "545d25bb-2999-4629-af39-9d2fe622b74c",
   "metadata": {},
   "outputs": [
    {
     "data": {
      "text/plain": [
       "5"
      ]
     },
     "execution_count": 252,
     "metadata": {},
     "output_type": "execute_result"
    }
   ],
   "source": [
    "row"
   ]
  },
  {
   "cell_type": "code",
   "execution_count": 254,
   "id": "b8920de3-649d-4376-be7c-5ed86c8cc81a",
   "metadata": {},
   "outputs": [
    {
     "data": {
      "text/plain": [
       "6"
      ]
     },
     "execution_count": 254,
     "metadata": {},
     "output_type": "execute_result"
    }
   ],
   "source": [
    "col"
   ]
  },
  {
   "cell_type": "code",
   "execution_count": 256,
   "id": "083a12dc-ff31-4dcf-a6dd-7239240eb604",
   "metadata": {},
   "outputs": [
    {
     "data": {
      "text/plain": [
       "array([[ 0,  1,  2,  3,  4,  5,  6,  7,  8,  9],\n",
       "       [10, 11, 12, 13, 14, 15, 16, 17, 18, 19],\n",
       "       [20, 21, 22, 23, 24, 25, 26, 27, 28, 29],\n",
       "       [30, 31, 32, 33, 34, 35, 36, 37, 38, 39],\n",
       "       [40, 41, 42, 43, 44, 45, 46, 47, 48, 49],\n",
       "       [50, 51, 52, 53, 54, 55, 56, 57, 58, 59],\n",
       "       [60, 61, 62, 63, 64, 65, 66, 67, 68, 69],\n",
       "       [70, 71, 72, 73, 74, 75, 76, 77, 78, 79],\n",
       "       [80, 81, 82, 83, 84, 85, 86, 87, 88, 89],\n",
       "       [90, 91, 92, 93, 94, 95, 96, 97, 98, 99]])"
      ]
     },
     "execution_count": 256,
     "metadata": {},
     "output_type": "execute_result"
    }
   ],
   "source": [
    "mat"
   ]
  },
  {
   "cell_type": "code",
   "execution_count": 258,
   "id": "54ba14c8-bf38-48a0-b366-665f3f2437c6",
   "metadata": {},
   "outputs": [
    {
     "data": {
      "text/plain": [
       "56"
      ]
     },
     "execution_count": 258,
     "metadata": {},
     "output_type": "execute_result"
    }
   ],
   "source": [
    "mat[row,col]"
   ]
  },
  {
   "cell_type": "code",
   "execution_count": 260,
   "id": "e1f8381a-49f6-4eb3-94bc-70464e259bf0",
   "metadata": {},
   "outputs": [
    {
     "data": {
      "text/plain": [
       "56"
      ]
     },
     "execution_count": 260,
     "metadata": {},
     "output_type": "execute_result"
    }
   ],
   "source": [
    "mat[5,6]"
   ]
  },
  {
   "cell_type": "code",
   "execution_count": 262,
   "id": "0e525468-0f8b-4df5-a8db-998bcefe9a78",
   "metadata": {},
   "outputs": [
    {
     "data": {
      "text/plain": [
       "array([[ 0,  1,  2,  3,  4,  5,  6,  7,  8,  9],\n",
       "       [10, 11, 12, 13, 14, 15, 16, 17, 18, 19],\n",
       "       [20, 21, 22, 23, 24, 25, 26, 27, 28, 29],\n",
       "       [30, 31, 32, 33, 34, 35, 36, 37, 38, 39],\n",
       "       [40, 41, 42, 43, 44, 45, 46, 47, 48, 49],\n",
       "       [50, 51, 52, 53, 54, 55, 56, 57, 58, 59],\n",
       "       [60, 61, 62, 63, 64, 65, 66, 67, 68, 69],\n",
       "       [70, 71, 72, 73, 74, 75, 76, 77, 78, 79],\n",
       "       [80, 81, 82, 83, 84, 85, 86, 87, 88, 89],\n",
       "       [90, 91, 92, 93, 94, 95, 96, 97, 98, 99]])"
      ]
     },
     "execution_count": 262,
     "metadata": {},
     "output_type": "execute_result"
    }
   ],
   "source": [
    "mat[:]"
   ]
  },
  {
   "cell_type": "code",
   "execution_count": 264,
   "id": "6db98f09-7df9-472c-b4b5-8c4682fa5d17",
   "metadata": {},
   "outputs": [],
   "source": [
    "col=7"
   ]
  },
  {
   "cell_type": "code",
   "execution_count": 266,
   "id": "2d468b53-2982-449d-862a-404db5f332bc",
   "metadata": {},
   "outputs": [
    {
     "data": {
      "text/plain": [
       "array([70, 71, 72, 73, 74, 75, 76, 77, 78, 79])"
      ]
     },
     "execution_count": 266,
     "metadata": {},
     "output_type": "execute_result"
    }
   ],
   "source": [
    "mat[col]"
   ]
  },
  {
   "cell_type": "code",
   "execution_count": 268,
   "id": "24dda7cc-f84c-4f93-a246-8caff467b723",
   "metadata": {},
   "outputs": [
    {
     "data": {
      "text/plain": [
       "array([[ 0,  1,  2,  3,  4,  5,  6,  7,  8,  9],\n",
       "       [10, 11, 12, 13, 14, 15, 16, 17, 18, 19],\n",
       "       [20, 21, 22, 23, 24, 25, 26, 27, 28, 29],\n",
       "       [30, 31, 32, 33, 34, 35, 36, 37, 38, 39],\n",
       "       [40, 41, 42, 43, 44, 45, 46, 47, 48, 49],\n",
       "       [50, 51, 52, 53, 54, 55, 56, 57, 58, 59],\n",
       "       [60, 61, 62, 63, 64, 65, 66, 67, 68, 69],\n",
       "       [70, 71, 72, 73, 74, 75, 76, 77, 78, 79],\n",
       "       [80, 81, 82, 83, 84, 85, 86, 87, 88, 89],\n",
       "       [90, 91, 92, 93, 94, 95, 96, 97, 98, 99]])"
      ]
     },
     "execution_count": 268,
     "metadata": {},
     "output_type": "execute_result"
    }
   ],
   "source": [
    "mat"
   ]
  },
  {
   "cell_type": "code",
   "execution_count": 270,
   "id": "4be51096-c207-4ae3-b54b-0e3a78dbe3b1",
   "metadata": {},
   "outputs": [
    {
     "data": {
      "text/plain": [
       "array([ 7, 17, 27, 37, 47, 57, 67, 77, 87, 97])"
      ]
     },
     "execution_count": 270,
     "metadata": {},
     "output_type": "execute_result"
    }
   ],
   "source": [
    "mat[:,col]"
   ]
  },
  {
   "cell_type": "code",
   "execution_count": 272,
   "id": "1eda7676-d6f5-4da7-8e38-c33895c52253",
   "metadata": {},
   "outputs": [
    {
     "data": {
      "text/plain": [
       "array([50, 51, 52, 53, 54, 55, 56, 57, 58, 59])"
      ]
     },
     "execution_count": 272,
     "metadata": {},
     "output_type": "execute_result"
    }
   ],
   "source": [
    "mat[row,:]"
   ]
  },
  {
   "cell_type": "code",
   "execution_count": 274,
   "id": "9f77ff5f-7f1c-4331-96dd-e41e4ba52677",
   "metadata": {},
   "outputs": [
    {
     "data": {
      "text/plain": [
       "array([ 8, 18, 28, 38, 48, 58, 68, 78, 88, 98])"
      ]
     },
     "execution_count": 274,
     "metadata": {},
     "output_type": "execute_result"
    }
   ],
   "source": [
    "mat[:,8]"
   ]
  },
  {
   "cell_type": "code",
   "execution_count": 276,
   "id": "eeeae50d-7add-4418-8eb0-a1b48d80bc16",
   "metadata": {},
   "outputs": [
    {
     "data": {
      "text/plain": [
       "array([[ 0,  1,  2,  3,  4,  5,  6,  7,  8,  9],\n",
       "       [10, 11, 12, 13, 14, 15, 16, 17, 18, 19],\n",
       "       [20, 21, 22, 23, 24, 25, 26, 27, 28, 29],\n",
       "       [30, 31, 32, 33, 34, 35, 36, 37, 38, 39],\n",
       "       [40, 41, 42, 43, 44, 45, 46, 47, 48, 49],\n",
       "       [50, 51, 52, 53, 54, 55, 56, 57, 58, 59],\n",
       "       [60, 61, 62, 63, 64, 65, 66, 67, 68, 69]])"
      ]
     },
     "execution_count": 276,
     "metadata": {},
     "output_type": "execute_result"
    }
   ],
   "source": [
    "mat[:col]"
   ]
  },
  {
   "cell_type": "code",
   "execution_count": 278,
   "id": "a8a6f2fa-7a02-4744-93b3-36b5d587bcb6",
   "metadata": {},
   "outputs": [
    {
     "data": {
      "text/plain": [
       "array([[ 0,  1,  2,  3,  4,  5,  6,  7,  8,  9],\n",
       "       [10, 11, 12, 13, 14, 15, 16, 17, 18, 19],\n",
       "       [20, 21, 22, 23, 24, 25, 26, 27, 28, 29],\n",
       "       [30, 31, 32, 33, 34, 35, 36, 37, 38, 39],\n",
       "       [40, 41, 42, 43, 44, 45, 46, 47, 48, 49],\n",
       "       [50, 51, 52, 53, 54, 55, 56, 57, 58, 59]])"
      ]
     },
     "execution_count": 278,
     "metadata": {},
     "output_type": "execute_result"
    }
   ],
   "source": [
    "mat[:6]"
   ]
  },
  {
   "cell_type": "code",
   "execution_count": 280,
   "id": "64df6242-09a1-4520-b5dd-845c71e0d00e",
   "metadata": {},
   "outputs": [
    {
     "data": {
      "text/plain": [
       "5"
      ]
     },
     "execution_count": 280,
     "metadata": {},
     "output_type": "execute_result"
    }
   ],
   "source": [
    "row"
   ]
  },
  {
   "cell_type": "code",
   "execution_count": 282,
   "id": "dde3fbc6-efa5-48c4-b969-c5dc9246ec59",
   "metadata": {},
   "outputs": [
    {
     "data": {
      "text/plain": [
       "array([[ 0,  1,  2,  3,  4,  5,  6,  7,  8,  9],\n",
       "       [10, 11, 12, 13, 14, 15, 16, 17, 18, 19],\n",
       "       [20, 21, 22, 23, 24, 25, 26, 27, 28, 29],\n",
       "       [30, 31, 32, 33, 34, 35, 36, 37, 38, 39],\n",
       "       [40, 41, 42, 43, 44, 45, 46, 47, 48, 49],\n",
       "       [50, 51, 52, 53, 54, 55, 56, 57, 58, 59],\n",
       "       [60, 61, 62, 63, 64, 65, 66, 67, 68, 69],\n",
       "       [70, 71, 72, 73, 74, 75, 76, 77, 78, 79],\n",
       "       [80, 81, 82, 83, 84, 85, 86, 87, 88, 89],\n",
       "       [90, 91, 92, 93, 94, 95, 96, 97, 98, 99]])"
      ]
     },
     "execution_count": 282,
     "metadata": {},
     "output_type": "execute_result"
    }
   ],
   "source": [
    "mat"
   ]
  },
  {
   "cell_type": "code",
   "execution_count": 284,
   "id": "48602880-58dc-42a1-a1cc-5d718375b1cf",
   "metadata": {},
   "outputs": [
    {
     "data": {
      "text/plain": [
       "array([[ 0,  1,  2,  3,  4,  5,  6,  7,  8,  9],\n",
       "       [10, 11, 12, 13, 14, 15, 16, 17, 18, 19],\n",
       "       [20, 21, 22, 23, 24, 25, 26, 27, 28, 29],\n",
       "       [30, 31, 32, 33, 34, 35, 36, 37, 38, 39],\n",
       "       [40, 41, 42, 43, 44, 45, 46, 47, 48, 49]])"
      ]
     },
     "execution_count": 284,
     "metadata": {},
     "output_type": "execute_result"
    }
   ],
   "source": [
    "mat[:row]"
   ]
  },
  {
   "cell_type": "code",
   "execution_count": 286,
   "id": "f6e71d1b-2062-49f0-9f8d-77ad2d60447d",
   "metadata": {},
   "outputs": [
    {
     "data": {
      "text/plain": [
       "array([[50, 51, 52, 53, 54, 55, 56, 57, 58, 59],\n",
       "       [60, 61, 62, 63, 64, 65, 66, 67, 68, 69],\n",
       "       [70, 71, 72, 73, 74, 75, 76, 77, 78, 79],\n",
       "       [80, 81, 82, 83, 84, 85, 86, 87, 88, 89],\n",
       "       [90, 91, 92, 93, 94, 95, 96, 97, 98, 99]])"
      ]
     },
     "execution_count": 286,
     "metadata": {},
     "output_type": "execute_result"
    }
   ],
   "source": [
    "mat[row:]"
   ]
  },
  {
   "cell_type": "code",
   "execution_count": 288,
   "id": "2b4c9cb4-109c-4bda-9702-b79392f3f8fe",
   "metadata": {},
   "outputs": [
    {
     "data": {
      "text/plain": [
       "array([[ 0,  1,  2,  3,  4,  5,  6,  7,  8,  9],\n",
       "       [10, 11, 12, 13, 14, 15, 16, 17, 18, 19],\n",
       "       [20, 21, 22, 23, 24, 25, 26, 27, 28, 29],\n",
       "       [30, 31, 32, 33, 34, 35, 36, 37, 38, 39],\n",
       "       [40, 41, 42, 43, 44, 45, 46, 47, 48, 49],\n",
       "       [50, 51, 52, 53, 54, 55, 56, 57, 58, 59],\n",
       "       [60, 61, 62, 63, 64, 65, 66, 67, 68, 69],\n",
       "       [70, 71, 72, 73, 74, 75, 76, 77, 78, 79],\n",
       "       [80, 81, 82, 83, 84, 85, 86, 87, 88, 89],\n",
       "       [90, 91, 92, 93, 94, 95, 96, 97, 98, 99]])"
      ]
     },
     "execution_count": 288,
     "metadata": {},
     "output_type": "execute_result"
    }
   ],
   "source": [
    "mat[:]"
   ]
  },
  {
   "cell_type": "code",
   "execution_count": 290,
   "id": "b1d54b23-9dea-4905-91b8-c11a987de62c",
   "metadata": {},
   "outputs": [
    {
     "data": {
      "text/plain": [
       "array([ 8, 18, 28, 38, 48, 58, 68, 78, 88, 98])"
      ]
     },
     "execution_count": 290,
     "metadata": {},
     "output_type": "execute_result"
    }
   ],
   "source": [
    "mat[:,8]"
   ]
  },
  {
   "cell_type": "code",
   "execution_count": 292,
   "id": "e99dc9ad-f6ff-4139-b4b0-6f28b611287d",
   "metadata": {},
   "outputs": [
    {
     "data": {
      "text/plain": [
       "array([ 9, 19, 29, 39, 49, 59, 69, 79, 89, 99])"
      ]
     },
     "execution_count": 292,
     "metadata": {},
     "output_type": "execute_result"
    }
   ],
   "source": [
    "mat[:,-1]"
   ]
  },
  {
   "cell_type": "code",
   "execution_count": 294,
   "id": "2112dac3-27e5-4231-99b0-f79777ab41c8",
   "metadata": {},
   "outputs": [
    {
     "data": {
      "text/plain": [
       "14"
      ]
     },
     "execution_count": 294,
     "metadata": {},
     "output_type": "execute_result"
    }
   ],
   "source": [
    "mat[1,4]"
   ]
  },
  {
   "cell_type": "code",
   "execution_count": 296,
   "id": "96e6308d-45e3-4474-a88e-3a17adfe280c",
   "metadata": {},
   "outputs": [
    {
     "data": {
      "text/plain": [
       "array([[10, 11, 12, 13, 14, 15, 16, 17, 18, 19],\n",
       "       [20, 21, 22, 23, 24, 25, 26, 27, 28, 29],\n",
       "       [30, 31, 32, 33, 34, 35, 36, 37, 38, 39],\n",
       "       [40, 41, 42, 43, 44, 45, 46, 47, 48, 49]])"
      ]
     },
     "execution_count": 296,
     "metadata": {},
     "output_type": "execute_result"
    }
   ],
   "source": [
    "mat[1:5]"
   ]
  },
  {
   "cell_type": "code",
   "execution_count": 298,
   "id": "571696d4-2d16-4362-b90b-08d33342f53d",
   "metadata": {},
   "outputs": [
    {
     "data": {
      "text/plain": [
       "array([[40, 41, 42, 43, 44, 45, 46, 47, 48, 49],\n",
       "       [50, 51, 52, 53, 54, 55, 56, 57, 58, 59]])"
      ]
     },
     "execution_count": 298,
     "metadata": {},
     "output_type": "execute_result"
    }
   ],
   "source": [
    "mat[4:-4]"
   ]
  },
  {
   "cell_type": "code",
   "execution_count": 300,
   "id": "e89a8551-4d5d-49f2-be3b-5d2938b72fc8",
   "metadata": {},
   "outputs": [
    {
     "data": {
      "text/plain": [
       "array([0, 1, 2, 3, 4, 5, 6, 7, 8, 9])"
      ]
     },
     "execution_count": 300,
     "metadata": {},
     "output_type": "execute_result"
    }
   ],
   "source": [
    "mat[0]"
   ]
  },
  {
   "cell_type": "code",
   "execution_count": 302,
   "id": "3a499bff-03ba-4714-a85c-4d8d9034ddd0",
   "metadata": {},
   "outputs": [
    {
     "data": {
      "text/plain": [
       "array([70, 71, 72, 73, 74, 75, 76, 77, 78, 79])"
      ]
     },
     "execution_count": 302,
     "metadata": {},
     "output_type": "execute_result"
    }
   ],
   "source": [
    "mat[7]"
   ]
  },
  {
   "cell_type": "code",
   "execution_count": 304,
   "id": "9d8408b9-24e8-4f9e-ba8e-01a46212430f",
   "metadata": {},
   "outputs": [
    {
     "data": {
      "text/plain": [
       "array([[ 0,  1,  2,  3,  4,  5,  6,  7,  8,  9],\n",
       "       [10, 11, 12, 13, 14, 15, 16, 17, 18, 19],\n",
       "       [20, 21, 22, 23, 24, 25, 26, 27, 28, 29],\n",
       "       [30, 31, 32, 33, 34, 35, 36, 37, 38, 39],\n",
       "       [40, 41, 42, 43, 44, 45, 46, 47, 48, 49],\n",
       "       [50, 51, 52, 53, 54, 55, 56, 57, 58, 59],\n",
       "       [60, 61, 62, 63, 64, 65, 66, 67, 68, 69],\n",
       "       [70, 71, 72, 73, 74, 75, 76, 77, 78, 79],\n",
       "       [80, 81, 82, 83, 84, 85, 86, 87, 88, 89],\n",
       "       [90, 91, 92, 93, 94, 95, 96, 97, 98, 99]])"
      ]
     },
     "execution_count": 304,
     "metadata": {},
     "output_type": "execute_result"
    }
   ],
   "source": [
    "mat"
   ]
  },
  {
   "cell_type": "code",
   "execution_count": 306,
   "id": "1528edf5-f876-40ce-97d4-105327baaea2",
   "metadata": {},
   "outputs": [
    {
     "data": {
      "text/plain": [
       "array([[60, 61, 62, 63, 64, 65, 66, 67, 68, 69],\n",
       "       [70, 71, 72, 73, 74, 75, 76, 77, 78, 79],\n",
       "       [80, 81, 82, 83, 84, 85, 86, 87, 88, 89]])"
      ]
     },
     "execution_count": 306,
     "metadata": {},
     "output_type": "execute_result"
    }
   ],
   "source": [
    "mat[6:9]"
   ]
  },
  {
   "cell_type": "code",
   "execution_count": 308,
   "id": "7fa8f0a8-ef4a-46ec-b46d-c7232805a97c",
   "metadata": {},
   "outputs": [
    {
     "data": {
      "text/plain": [
       "array([[ 0,  1,  2,  3,  4,  5,  6,  7,  8,  9],\n",
       "       [10, 11, 12, 13, 14, 15, 16, 17, 18, 19],\n",
       "       [20, 21, 22, 23, 24, 25, 26, 27, 28, 29],\n",
       "       [30, 31, 32, 33, 34, 35, 36, 37, 38, 39],\n",
       "       [40, 41, 42, 43, 44, 45, 46, 47, 48, 49],\n",
       "       [50, 51, 52, 53, 54, 55, 56, 57, 58, 59],\n",
       "       [60, 61, 62, 63, 64, 65, 66, 67, 68, 69],\n",
       "       [70, 71, 72, 73, 74, 75, 76, 77, 78, 79],\n",
       "       [80, 81, 82, 83, 84, 85, 86, 87, 88, 89],\n",
       "       [90, 91, 92, 93, 94, 95, 96, 97, 98, 99]])"
      ]
     },
     "execution_count": 308,
     "metadata": {},
     "output_type": "execute_result"
    }
   ],
   "source": [
    "mat[0:10]"
   ]
  },
  {
   "cell_type": "code",
   "execution_count": 310,
   "id": "a968bdb9-cb8a-4c8d-bddb-391497dbd8b3",
   "metadata": {},
   "outputs": [
    {
     "data": {
      "text/plain": [
       "array([[ 0,  1,  2,  3,  4,  5,  6,  7,  8,  9],\n",
       "       [30, 31, 32, 33, 34, 35, 36, 37, 38, 39],\n",
       "       [60, 61, 62, 63, 64, 65, 66, 67, 68, 69],\n",
       "       [90, 91, 92, 93, 94, 95, 96, 97, 98, 99]])"
      ]
     },
     "execution_count": 310,
     "metadata": {},
     "output_type": "execute_result"
    }
   ],
   "source": [
    "mat[0:10:3]"
   ]
  },
  {
   "cell_type": "code",
   "execution_count": 312,
   "id": "abba7426-bd4d-4190-ad95-70e5732b7e50",
   "metadata": {},
   "outputs": [
    {
     "data": {
      "text/plain": [
       "array([[40, 41, 42, 43, 44, 45, 46, 47, 48, 49],\n",
       "       [50, 51, 52, 53, 54, 55, 56, 57, 58, 59],\n",
       "       [60, 61, 62, 63, 64, 65, 66, 67, 68, 69],\n",
       "       [70, 71, 72, 73, 74, 75, 76, 77, 78, 79],\n",
       "       [80, 81, 82, 83, 84, 85, 86, 87, 88, 89],\n",
       "       [90, 91, 92, 93, 94, 95, 96, 97, 98, 99]])"
      ]
     },
     "execution_count": 312,
     "metadata": {},
     "output_type": "execute_result"
    }
   ],
   "source": [
    "mat[4:]"
   ]
  },
  {
   "cell_type": "code",
   "execution_count": 314,
   "id": "fbd2c51f-f0a8-4d0a-b291-281e36782247",
   "metadata": {},
   "outputs": [
    {
     "data": {
      "text/plain": [
       "array([[ 0,  1,  2,  3,  4,  5,  6,  7,  8,  9],\n",
       "       [10, 11, 12, 13, 14, 15, 16, 17, 18, 19],\n",
       "       [20, 21, 22, 23, 24, 25, 26, 27, 28, 29],\n",
       "       [30, 31, 32, 33, 34, 35, 36, 37, 38, 39],\n",
       "       [40, 41, 42, 43, 44, 45, 46, 47, 48, 49]])"
      ]
     },
     "execution_count": 314,
     "metadata": {},
     "output_type": "execute_result"
    }
   ],
   "source": [
    "mat[:5]"
   ]
  },
  {
   "cell_type": "code",
   "execution_count": 316,
   "id": "fb8f6639-d361-4163-a350-bd162e039593",
   "metadata": {},
   "outputs": [
    {
     "data": {
      "text/plain": [
       "array([[90, 91, 92, 93, 94, 95, 96, 97, 98, 99],\n",
       "       [80, 81, 82, 83, 84, 85, 86, 87, 88, 89],\n",
       "       [70, 71, 72, 73, 74, 75, 76, 77, 78, 79],\n",
       "       [60, 61, 62, 63, 64, 65, 66, 67, 68, 69],\n",
       "       [50, 51, 52, 53, 54, 55, 56, 57, 58, 59],\n",
       "       [40, 41, 42, 43, 44, 45, 46, 47, 48, 49],\n",
       "       [30, 31, 32, 33, 34, 35, 36, 37, 38, 39],\n",
       "       [20, 21, 22, 23, 24, 25, 26, 27, 28, 29],\n",
       "       [10, 11, 12, 13, 14, 15, 16, 17, 18, 19],\n",
       "       [ 0,  1,  2,  3,  4,  5,  6,  7,  8,  9]])"
      ]
     },
     "execution_count": 316,
     "metadata": {},
     "output_type": "execute_result"
    }
   ],
   "source": [
    "mat[::-1]"
   ]
  },
  {
   "cell_type": "code",
   "execution_count": 318,
   "id": "77bb2d9f-af04-49bc-b28c-ba68f8452830",
   "metadata": {},
   "outputs": [
    {
     "data": {
      "text/plain": [
       "array([[ 0,  1,  2,  3,  4,  5,  6,  7,  8,  9],\n",
       "       [10, 11, 12, 13, 14, 15, 16, 17, 18, 19],\n",
       "       [20, 21, 22, 23, 24, 25, 26, 27, 28, 29],\n",
       "       [30, 31, 32, 33, 34, 35, 36, 37, 38, 39],\n",
       "       [40, 41, 42, 43, 44, 45, 46, 47, 48, 49],\n",
       "       [50, 51, 52, 53, 54, 55, 56, 57, 58, 59],\n",
       "       [60, 61, 62, 63, 64, 65, 66, 67, 68, 69],\n",
       "       [70, 71, 72, 73, 74, 75, 76, 77, 78, 79],\n",
       "       [80, 81, 82, 83, 84, 85, 86, 87, 88, 89],\n",
       "       [90, 91, 92, 93, 94, 95, 96, 97, 98, 99]])"
      ]
     },
     "execution_count": 318,
     "metadata": {},
     "output_type": "execute_result"
    }
   ],
   "source": [
    "mat"
   ]
  },
  {
   "cell_type": "code",
   "execution_count": 320,
   "id": "90aaf6e4-8f02-453d-9db4-000c29cb8d9a",
   "metadata": {},
   "outputs": [
    {
     "data": {
      "text/plain": [
       "array([[90, 91, 92, 93, 94, 95, 96, 97, 98, 99],\n",
       "       [60, 61, 62, 63, 64, 65, 66, 67, 68, 69],\n",
       "       [30, 31, 32, 33, 34, 35, 36, 37, 38, 39],\n",
       "       [ 0,  1,  2,  3,  4,  5,  6,  7,  8,  9]])"
      ]
     },
     "execution_count": 320,
     "metadata": {},
     "output_type": "execute_result"
    }
   ],
   "source": [
    "mat[::-3]"
   ]
  },
  {
   "cell_type": "code",
   "execution_count": 322,
   "id": "0903d3b7-7da2-491a-8080-ef5ec092e41e",
   "metadata": {},
   "outputs": [
    {
     "data": {
      "text/plain": [
       "array([[90, 91, 92, 93, 94, 95, 96, 97, 98, 99],\n",
       "       [50, 51, 52, 53, 54, 55, 56, 57, 58, 59],\n",
       "       [10, 11, 12, 13, 14, 15, 16, 17, 18, 19]])"
      ]
     },
     "execution_count": 322,
     "metadata": {},
     "output_type": "execute_result"
    }
   ],
   "source": [
    "mat[::-4]"
   ]
  },
  {
   "cell_type": "code",
   "execution_count": 324,
   "id": "5d0a50db-6494-414a-b657-993c0f97a393",
   "metadata": {},
   "outputs": [
    {
     "data": {
      "text/plain": [
       "array([[90, 91, 92, 93, 94, 95, 96, 97, 98, 99],\n",
       "       [30, 31, 32, 33, 34, 35, 36, 37, 38, 39]])"
      ]
     },
     "execution_count": 324,
     "metadata": {},
     "output_type": "execute_result"
    }
   ],
   "source": [
    "mat[::-6]"
   ]
  },
  {
   "cell_type": "code",
   "execution_count": 326,
   "id": "204f4031-a8c7-45dd-ac1f-8a33b6e6ee67",
   "metadata": {},
   "outputs": [
    {
     "data": {
      "text/plain": [
       "array([[20, 21, 22, 23, 24, 25, 26, 27, 28, 29],\n",
       "       [30, 31, 32, 33, 34, 35, 36, 37, 38, 39],\n",
       "       [40, 41, 42, 43, 44, 45, 46, 47, 48, 49],\n",
       "       [50, 51, 52, 53, 54, 55, 56, 57, 58, 59]])"
      ]
     },
     "execution_count": 326,
     "metadata": {},
     "output_type": "execute_result"
    }
   ],
   "source": [
    "mat[2:6]"
   ]
  },
  {
   "cell_type": "code",
   "execution_count": 328,
   "id": "e5c81e2a-f96f-4e10-b85a-7a34d093714e",
   "metadata": {},
   "outputs": [
    {
     "data": {
      "text/plain": [
       "array([[ 0,  1,  2,  3,  4,  5,  6,  7,  8,  9],\n",
       "       [10, 11, 12, 13, 14, 15, 16, 17, 18, 19],\n",
       "       [20, 21, 22, 23, 24, 25, 26, 27, 28, 29],\n",
       "       [30, 31, 32, 33, 34, 35, 36, 37, 38, 39],\n",
       "       [40, 41, 42, 43, 44, 45, 46, 47, 48, 49],\n",
       "       [50, 51, 52, 53, 54, 55, 56, 57, 58, 59],\n",
       "       [60, 61, 62, 63, 64, 65, 66, 67, 68, 69],\n",
       "       [70, 71, 72, 73, 74, 75, 76, 77, 78, 79],\n",
       "       [80, 81, 82, 83, 84, 85, 86, 87, 88, 89],\n",
       "       [90, 91, 92, 93, 94, 95, 96, 97, 98, 99]])"
      ]
     },
     "execution_count": 328,
     "metadata": {},
     "output_type": "execute_result"
    }
   ],
   "source": [
    "mat"
   ]
  },
  {
   "cell_type": "code",
   "execution_count": 330,
   "id": "23da9e26-1dd7-4766-a983-081de8ffd0e6",
   "metadata": {},
   "outputs": [
    {
     "data": {
      "text/plain": [
       "array([[33, 34],\n",
       "       [43, 44],\n",
       "       [53, 54],\n",
       "       [63, 64]])"
      ]
     },
     "execution_count": 330,
     "metadata": {},
     "output_type": "execute_result"
    }
   ],
   "source": [
    "mat[3:7,3:5]"
   ]
  },
  {
   "cell_type": "code",
   "execution_count": 331,
   "id": "45fd36a5-faee-4fe7-acdf-e0471d729b55",
   "metadata": {},
   "outputs": [
    {
     "data": {
      "text/plain": [
       "2"
      ]
     },
     "execution_count": 331,
     "metadata": {},
     "output_type": "execute_result"
    }
   ],
   "source": [
    "mat[0,2]"
   ]
  },
  {
   "cell_type": "code",
   "execution_count": 334,
   "id": "27e4e095-2446-4dd5-8bad-110978290ab6",
   "metadata": {},
   "outputs": [
    {
     "data": {
      "text/plain": [
       "28"
      ]
     },
     "execution_count": 334,
     "metadata": {},
     "output_type": "execute_result"
    }
   ],
   "source": [
    "mat[2,8]"
   ]
  },
  {
   "cell_type": "code",
   "execution_count": 336,
   "id": "3f364e71-94ea-493a-84ad-b838d5665e11",
   "metadata": {},
   "outputs": [
    {
     "data": {
      "text/plain": [
       "array([[20, 21, 22, 23, 24, 25, 26, 27, 28, 29],\n",
       "       [30, 31, 32, 33, 34, 35, 36, 37, 38, 39],\n",
       "       [40, 41, 42, 43, 44, 45, 46, 47, 48, 49],\n",
       "       [50, 51, 52, 53, 54, 55, 56, 57, 58, 59],\n",
       "       [60, 61, 62, 63, 64, 65, 66, 67, 68, 69]])"
      ]
     },
     "execution_count": 336,
     "metadata": {},
     "output_type": "execute_result"
    }
   ],
   "source": [
    "mat[2:7]"
   ]
  },
  {
   "cell_type": "code",
   "execution_count": 338,
   "id": "a291b0f7-ff69-412b-9af8-8a589f1e62c3",
   "metadata": {},
   "outputs": [
    {
     "data": {
      "text/plain": [
       "array([[20, 21, 22, 23, 24, 25, 26, 27, 28, 29],\n",
       "       [30, 31, 32, 33, 34, 35, 36, 37, 38, 39],\n",
       "       [40, 41, 42, 43, 44, 45, 46, 47, 48, 49],\n",
       "       [50, 51, 52, 53, 54, 55, 56, 57, 58, 59],\n",
       "       [60, 61, 62, 63, 64, 65, 66, 67, 68, 69],\n",
       "       [70, 71, 72, 73, 74, 75, 76, 77, 78, 79],\n",
       "       [80, 81, 82, 83, 84, 85, 86, 87, 88, 89],\n",
       "       [90, 91, 92, 93, 94, 95, 96, 97, 98, 99]])"
      ]
     },
     "execution_count": 338,
     "metadata": {},
     "output_type": "execute_result"
    }
   ],
   "source": [
    "mat[2:]"
   ]
  },
  {
   "cell_type": "code",
   "execution_count": 340,
   "id": "d2e68794-57fc-42df-b1c2-1ca28f9de70a",
   "metadata": {},
   "outputs": [
    {
     "data": {
      "text/plain": [
       "array([[ 0,  1,  2,  3,  4,  5,  6,  7,  8,  9],\n",
       "       [10, 11, 12, 13, 14, 15, 16, 17, 18, 19],\n",
       "       [20, 21, 22, 23, 24, 25, 26, 27, 28, 29],\n",
       "       [30, 31, 32, 33, 34, 35, 36, 37, 38, 39],\n",
       "       [40, 41, 42, 43, 44, 45, 46, 47, 48, 49],\n",
       "       [50, 51, 52, 53, 54, 55, 56, 57, 58, 59],\n",
       "       [60, 61, 62, 63, 64, 65, 66, 67, 68, 69],\n",
       "       [70, 71, 72, 73, 74, 75, 76, 77, 78, 79],\n",
       "       [80, 81, 82, 83, 84, 85, 86, 87, 88, 89]])"
      ]
     },
     "execution_count": 340,
     "metadata": {},
     "output_type": "execute_result"
    }
   ],
   "source": [
    "mat[:9]"
   ]
  },
  {
   "cell_type": "code",
   "execution_count": 342,
   "id": "ea1e09df-6b3d-47a1-ab06-5fb64b37464e",
   "metadata": {},
   "outputs": [
    {
     "data": {
      "text/plain": [
       "array([[0, 1, 2, 3, 4, 5, 6, 7, 8, 9]])"
      ]
     },
     "execution_count": 342,
     "metadata": {},
     "output_type": "execute_result"
    }
   ],
   "source": [
    "mat[:1]"
   ]
  },
  {
   "cell_type": "code",
   "execution_count": 344,
   "id": "3f93838d-8862-46ac-80e8-24b8714a26eb",
   "metadata": {},
   "outputs": [
    {
     "data": {
      "text/plain": [
       "array([[0, 1, 2, 3, 4, 5, 6, 7, 8, 9]])"
      ]
     },
     "execution_count": 344,
     "metadata": {},
     "output_type": "execute_result"
    }
   ],
   "source": [
    "mat[0:1]"
   ]
  },
  {
   "cell_type": "code",
   "execution_count": 346,
   "id": "43739da8-a492-49b1-9311-8779e74773a0",
   "metadata": {},
   "outputs": [
    {
     "data": {
      "text/plain": [
       "array([[20, 21, 22, 23, 24, 25, 26, 27, 28, 29],\n",
       "       [30, 31, 32, 33, 34, 35, 36, 37, 38, 39],\n",
       "       [40, 41, 42, 43, 44, 45, 46, 47, 48, 49],\n",
       "       [50, 51, 52, 53, 54, 55, 56, 57, 58, 59],\n",
       "       [60, 61, 62, 63, 64, 65, 66, 67, 68, 69]])"
      ]
     },
     "execution_count": 346,
     "metadata": {},
     "output_type": "execute_result"
    }
   ],
   "source": [
    "mat[2:7]"
   ]
  },
  {
   "cell_type": "code",
   "execution_count": 348,
   "id": "9b8a3539-a92b-4f8b-8728-4bb2e60ed36d",
   "metadata": {},
   "outputs": [
    {
     "data": {
      "text/plain": [
       "27"
      ]
     },
     "execution_count": 348,
     "metadata": {},
     "output_type": "execute_result"
    }
   ],
   "source": [
    "mat[2,7]"
   ]
  },
  {
   "cell_type": "code",
   "execution_count": 350,
   "id": "9c8c0c5f-f8d2-4760-9c3d-99ed78c0bb57",
   "metadata": {},
   "outputs": [
    {
     "data": {
      "text/plain": [
       "array([[ 0,  1,  2,  3,  4,  5,  6,  7,  8,  9],\n",
       "       [10, 11, 12, 13, 14, 15, 16, 17, 18, 19],\n",
       "       [20, 21, 22, 23, 24, 25, 26, 27, 28, 29],\n",
       "       [30, 31, 32, 33, 34, 35, 36, 37, 38, 39],\n",
       "       [40, 41, 42, 43, 44, 45, 46, 47, 48, 49],\n",
       "       [50, 51, 52, 53, 54, 55, 56, 57, 58, 59],\n",
       "       [60, 61, 62, 63, 64, 65, 66, 67, 68, 69],\n",
       "       [70, 71, 72, 73, 74, 75, 76, 77, 78, 79],\n",
       "       [80, 81, 82, 83, 84, 85, 86, 87, 88, 89],\n",
       "       [90, 91, 92, 93, 94, 95, 96, 97, 98, 99]])"
      ]
     },
     "execution_count": 350,
     "metadata": {},
     "output_type": "execute_result"
    }
   ],
   "source": [
    "mat"
   ]
  },
  {
   "cell_type": "code",
   "execution_count": 352,
   "id": "e031d5ce-5371-4a61-96ae-929c8b41992f",
   "metadata": {},
   "outputs": [
    {
     "data": {
      "text/plain": [
       "array([[23, 24],\n",
       "       [33, 34]])"
      ]
     },
     "execution_count": 352,
     "metadata": {},
     "output_type": "execute_result"
    }
   ],
   "source": [
    "mat[2:4,3:5]"
   ]
  },
  {
   "cell_type": "code",
   "execution_count": 354,
   "id": "c7fc250b-84bd-4884-86e3-1f5ab398a995",
   "metadata": {},
   "outputs": [
    {
     "data": {
      "text/plain": [
       "array([[53, 54],\n",
       "       [63, 64]])"
      ]
     },
     "execution_count": 354,
     "metadata": {},
     "output_type": "execute_result"
    }
   ],
   "source": [
    "mat[5:7,3:5]"
   ]
  },
  {
   "cell_type": "code",
   "execution_count": 356,
   "id": "07aed533-d67f-4fce-82cc-54bde1f9e87d",
   "metadata": {},
   "outputs": [
    {
     "data": {
      "text/plain": [
       "array([[21]])"
      ]
     },
     "execution_count": 356,
     "metadata": {},
     "output_type": "execute_result"
    }
   ],
   "source": [
    "mat[2:3,1:2]"
   ]
  },
  {
   "cell_type": "code",
   "execution_count": 358,
   "id": "1420e855-f9ae-46a5-9b5c-6e28ba879964",
   "metadata": {},
   "outputs": [
    {
     "data": {
      "text/plain": [
       "array([[23, 24],\n",
       "       [33, 34]])"
      ]
     },
     "execution_count": 358,
     "metadata": {},
     "output_type": "execute_result"
    }
   ],
   "source": [
    "mat[2:4,3:5]"
   ]
  },
  {
   "cell_type": "code",
   "execution_count": 360,
   "id": "ea828239-0924-4b74-b49b-1304425863a7",
   "metadata": {},
   "outputs": [
    {
     "data": {
      "text/plain": [
       "array([[24]])"
      ]
     },
     "execution_count": 360,
     "metadata": {},
     "output_type": "execute_result"
    }
   ],
   "source": [
    "mat[2:3,4:5]"
   ]
  },
  {
   "cell_type": "code",
   "execution_count": null,
   "id": "1af2bcc1-9c38-4f61-adce-2c8d1521a032",
   "metadata": {},
   "outputs": [],
   "source": []
  },
  {
   "cell_type": "code",
   "execution_count": null,
   "id": "7187194c-4e55-4d60-88d6-150ed0ae3b01",
   "metadata": {},
   "outputs": [],
   "source": []
  },
  {
   "cell_type": "markdown",
   "id": "7aa32fe1-7b87-4b1e-a411-319509741924",
   "metadata": {},
   "source": [
    "# MASKING"
   ]
  },
  {
   "cell_type": "code",
   "execution_count": 365,
   "id": "42a15d7f-147f-4b46-8a51-1cc3b969d4a9",
   "metadata": {},
   "outputs": [
    {
     "data": {
      "text/plain": [
       "array([[ 0,  1,  2,  3,  4,  5,  6,  7,  8,  9],\n",
       "       [10, 11, 12, 13, 14, 15, 16, 17, 18, 19],\n",
       "       [20, 21, 22, 23, 24, 25, 26, 27, 28, 29],\n",
       "       [30, 31, 32, 33, 34, 35, 36, 37, 38, 39],\n",
       "       [40, 41, 42, 43, 44, 45, 46, 47, 48, 49],\n",
       "       [50, 51, 52, 53, 54, 55, 56, 57, 58, 59],\n",
       "       [60, 61, 62, 63, 64, 65, 66, 67, 68, 69],\n",
       "       [70, 71, 72, 73, 74, 75, 76, 77, 78, 79],\n",
       "       [80, 81, 82, 83, 84, 85, 86, 87, 88, 89],\n",
       "       [90, 91, 92, 93, 94, 95, 96, 97, 98, 99]])"
      ]
     },
     "execution_count": 365,
     "metadata": {},
     "output_type": "execute_result"
    }
   ],
   "source": [
    "mat # we also called as filter"
   ]
  },
  {
   "cell_type": "code",
   "execution_count": 367,
   "id": "05f3e2f7-e8c9-423a-8c60-0c2820dd9ff6",
   "metadata": {},
   "outputs": [
    {
     "data": {
      "text/plain": [
       "1906185688464"
      ]
     },
     "execution_count": 367,
     "metadata": {},
     "output_type": "execute_result"
    }
   ],
   "source": [
    "id(mat)"
   ]
  },
  {
   "cell_type": "code",
   "execution_count": 369,
   "id": "9cda870a-c08f-4edd-9ba5-708e3b35e87a",
   "metadata": {},
   "outputs": [
    {
     "data": {
      "text/plain": [
       "array([50])"
      ]
     },
     "execution_count": 369,
     "metadata": {},
     "output_type": "execute_result"
    }
   ],
   "source": [
    "mat[mat==50]"
   ]
  },
  {
   "cell_type": "code",
   "execution_count": 371,
   "id": "6b165541-0ea6-426f-956c-c562e9bffac2",
   "metadata": {},
   "outputs": [
    {
     "data": {
      "text/plain": [
       "array([35, 36, 37, 38, 39, 40, 41, 42, 43, 44, 45, 46, 47, 48, 49, 50, 51,\n",
       "       52, 53, 54, 55, 56, 57, 58, 59, 60, 61, 62, 63, 64, 65, 66, 67, 68,\n",
       "       69, 70, 71, 72, 73, 74, 75, 76, 77, 78, 79, 80, 81, 82, 83, 84, 85,\n",
       "       86, 87, 88, 89, 90, 91, 92, 93, 94, 95, 96, 97, 98, 99])"
      ]
     },
     "execution_count": 371,
     "metadata": {},
     "output_type": "execute_result"
    }
   ],
   "source": [
    "mat[mat>=35]"
   ]
  },
  {
   "cell_type": "code",
   "execution_count": 373,
   "id": "6ca4e2c2-73ba-4541-b411-7d17417bc4ff",
   "metadata": {},
   "outputs": [
    {
     "data": {
      "text/plain": [
       "array([ 8,  9, 10, 11, 12, 13, 14, 15, 16, 17, 18, 19, 20, 21, 22, 23, 24,\n",
       "       25, 26, 27, 28, 29, 30, 31, 32, 33, 34, 35, 36, 37, 38, 39, 40, 41,\n",
       "       42, 43, 44, 45, 46, 47, 48, 49, 50, 51, 52, 53, 54, 55, 56, 57, 58,\n",
       "       59, 60, 61, 62, 63, 64, 65, 66, 67, 68, 69, 70, 71, 72, 73, 74, 75,\n",
       "       76, 77, 78, 79, 80, 81, 82, 83, 84, 85, 86, 87, 88, 89, 90, 91, 92,\n",
       "       93, 94, 95, 96, 97, 98, 99])"
      ]
     },
     "execution_count": 373,
     "metadata": {},
     "output_type": "execute_result"
    }
   ],
   "source": [
    "mat[mat>7]"
   ]
  },
  {
   "cell_type": "code",
   "execution_count": 374,
   "id": "63f0e8e6-f111-4ee7-bbcb-0e46311ddf3d",
   "metadata": {},
   "outputs": [
    {
     "data": {
      "text/plain": [
       "array([ 0,  1,  2,  3,  4,  5,  6,  7,  8,  9, 10, 11, 12, 13, 14, 15, 16,\n",
       "       17, 18, 19, 20, 21, 22, 23, 24, 25, 26, 27, 28, 29, 30, 31, 32, 33,\n",
       "       34, 35])"
      ]
     },
     "execution_count": 374,
     "metadata": {},
     "output_type": "execute_result"
    }
   ],
   "source": [
    "mat[mat<=35]"
   ]
  },
  {
   "cell_type": "code",
   "execution_count": 375,
   "id": "85d625a8-14c6-47c9-a1fb-5221a702c8f3",
   "metadata": {},
   "outputs": [
    {
     "data": {
      "text/plain": [
       "array([[False, False, False, False, False, False, False, False, False,\n",
       "        False],\n",
       "       [False, False, False, False, False, False, False, False, False,\n",
       "        False],\n",
       "       [False, False, False, False, False, False, False, False, False,\n",
       "        False],\n",
       "       [False, False, False, False, False, False, False, False, False,\n",
       "        False],\n",
       "       [False, False, False, False, False, False, False, False, False,\n",
       "        False],\n",
       "       [False, False, False, False, False, False, False, False, False,\n",
       "        False],\n",
       "       [False, False, False, False, False, False, False, False, False,\n",
       "        False],\n",
       "       [False, False, False, False, False, False, False, False, False,\n",
       "        False],\n",
       "       [False, False, False, False, False, False, False, False, False,\n",
       "        False],\n",
       "       [False, False, False, False, False, False, False, False, False,\n",
       "        False]])"
      ]
     },
     "execution_count": 375,
     "metadata": {},
     "output_type": "execute_result"
    }
   ],
   "source": [
    "mat>99"
   ]
  },
  {
   "cell_type": "code",
   "execution_count": 379,
   "id": "04cd9961-b920-41ea-aac0-0b8282617610",
   "metadata": {},
   "outputs": [
    {
     "data": {
      "text/plain": [
       "array([[False, False, False, False, False, False, False, False, False,\n",
       "        False],\n",
       "       [False, False, False, False, False, False, False, False, False,\n",
       "        False],\n",
       "       [False, False, False, False, False, False, False, False, False,\n",
       "        False],\n",
       "       [False, False, False, False, False, False, False, False, False,\n",
       "        False],\n",
       "       [False, False, False, False, False, False, False, False, False,\n",
       "        False],\n",
       "       [False,  True,  True,  True,  True,  True,  True,  True,  True,\n",
       "         True],\n",
       "       [ True,  True,  True,  True,  True,  True,  True,  True,  True,\n",
       "         True],\n",
       "       [ True,  True,  True,  True,  True,  True,  True,  True,  True,\n",
       "         True],\n",
       "       [ True,  True,  True,  True,  True,  True,  True,  True,  True,\n",
       "         True],\n",
       "       [ True,  True,  True,  True,  True,  True,  True,  True,  True,\n",
       "         True]])"
      ]
     },
     "execution_count": 379,
     "metadata": {},
     "output_type": "execute_result"
    }
   ],
   "source": [
    "mat>50"
   ]
  },
  {
   "cell_type": "code",
   "execution_count": 381,
   "id": "42f16775-72a0-445d-ad85-087a8ed883ab",
   "metadata": {},
   "outputs": [
    {
     "data": {
      "text/plain": [
       "array([[ True,  True,  True,  True,  True,  True,  True,  True,  True,\n",
       "         True],\n",
       "       [ True,  True,  True,  True,  True,  True,  True,  True,  True,\n",
       "         True],\n",
       "       [ True,  True,  True,  True,  True,  True,  True,  True,  True,\n",
       "         True],\n",
       "       [ True,  True,  True,  True,  True,  True,  True,  True,  True,\n",
       "         True],\n",
       "       [ True,  True,  True,  True,  True,  True,  True,  True,  True,\n",
       "         True],\n",
       "       [ True,  True,  True,  True,  True,  True,  True,  True,  True,\n",
       "         True],\n",
       "       [ True,  True,  True,  True,  True,  True,  True,  True,  True,\n",
       "         True],\n",
       "       [ True,  True,  True,  True,  True,  True,  True,  True,  True,\n",
       "         True],\n",
       "       [ True,  True,  True,  True,  True,  True,  True,  True,  True,\n",
       "         True],\n",
       "       [ True,  True,  True,  True,  True,  True,  True,  True,  True,\n",
       "        False]])"
      ]
     },
     "execution_count": 381,
     "metadata": {},
     "output_type": "execute_result"
    }
   ],
   "source": [
    "mat<99"
   ]
  },
  {
   "cell_type": "code",
   "execution_count": 383,
   "id": "f3114608-a19a-4cef-860b-85ea166c0991",
   "metadata": {},
   "outputs": [
    {
     "data": {
      "text/plain": [
       "array([[ True,  True,  True,  True,  True,  True,  True,  True,  True,\n",
       "         True],\n",
       "       [ True,  True,  True,  True,  True,  True,  True,  True,  True,\n",
       "         True],\n",
       "       [ True,  True,  True,  True,  True,  True,  True,  True,  True,\n",
       "         True],\n",
       "       [ True,  True,  True,  True,  True,  True,  True,  True,  True,\n",
       "         True],\n",
       "       [ True,  True,  True,  True,  True,  True,  True,  True,  True,\n",
       "         True],\n",
       "       [ True,  True,  True,  True,  True,  True,  True,  True,  True,\n",
       "         True],\n",
       "       [ True,  True,  True,  True,  True,  True,  True,  True,  True,\n",
       "         True],\n",
       "       [ True,  True,  True,  True,  True,  True,  True,  True,  True,\n",
       "         True],\n",
       "       [ True,  True,  True,  True,  True,  True,  True,  True,  True,\n",
       "         True],\n",
       "       [ True,  True,  True,  True,  True,  True,  True,  True,  True,\n",
       "         True]])"
      ]
     },
     "execution_count": 383,
     "metadata": {},
     "output_type": "execute_result"
    }
   ],
   "source": [
    "mat<=99"
   ]
  },
  {
   "cell_type": "code",
   "execution_count": 385,
   "id": "c062c496-8537-45ff-b1e9-96a8a0f03515",
   "metadata": {},
   "outputs": [
    {
     "data": {
      "text/plain": [
       "array([[ True,  True,  True,  True,  True,  True,  True,  True,  True,\n",
       "         True],\n",
       "       [ True,  True,  True,  True,  True,  True,  True,  True,  True,\n",
       "         True],\n",
       "       [ True,  True,  True,  True,  True,  True,  True,  True,  True,\n",
       "         True],\n",
       "       [ True,  True,  True,  True,  True,  True,  True,  True,  True,\n",
       "         True],\n",
       "       [ True,  True,  True,  True,  True,  True,  True,  True,  True,\n",
       "         True],\n",
       "       [ True,  True,  True,  True,  True,  True,  True,  True,  True,\n",
       "         True],\n",
       "       [ True,  True,  True,  True,  True,  True,  True,  True,  True,\n",
       "         True],\n",
       "       [ True,  True,  True,  True,  True,  True,  True,  True,  True,\n",
       "         True],\n",
       "       [ True,  True,  True,  True,  True,  True,  True,  True,  True,\n",
       "         True],\n",
       "       [ True,  True,  True,  True,  True,  True,  True,  True,  True,\n",
       "         True]])"
      ]
     },
     "execution_count": 385,
     "metadata": {},
     "output_type": "execute_result"
    }
   ],
   "source": [
    "mat!=100"
   ]
  },
  {
   "cell_type": "code",
   "execution_count": null,
   "id": "110aed8f-0845-4b6a-b0de-ae55417e5890",
   "metadata": {},
   "outputs": [],
   "source": []
  },
  {
   "cell_type": "markdown",
   "id": "2a0fa4ac-538b-41e8-a158-b4c5552c2bb3",
   "metadata": {},
   "source": [
    "# identity\n"
   ]
  },
  {
   "cell_type": "markdown",
   "id": "9de28455-459b-4787-9042-b55a092db794",
   "metadata": {},
   "source": [
    "In identity matrix is that diagonal items will be ones and evrything will be zeros"
   ]
  },
  {
   "cell_type": "code",
   "execution_count": 410,
   "id": "0315c608-c0ed-4226-a580-6337e4306029",
   "metadata": {},
   "outputs": [
    {
     "data": {
      "text/plain": [
       "array([[1., 0., 0., 0.],\n",
       "       [0., 1., 0., 0.],\n",
       "       [0., 0., 1., 0.],\n",
       "       [0., 0., 0., 1.]])"
      ]
     },
     "execution_count": 410,
     "metadata": {},
     "output_type": "execute_result"
    }
   ],
   "source": [
    "np.identity(4)"
   ]
  },
  {
   "cell_type": "code",
   "execution_count": 412,
   "id": "65a06c36-4290-4787-a0f3-ceaf529a8072",
   "metadata": {},
   "outputs": [
    {
     "data": {
      "text/plain": [
       "array([], shape=(0, 0), dtype=float64)"
      ]
     },
     "execution_count": 412,
     "metadata": {},
     "output_type": "execute_result"
    }
   ],
   "source": [
    "np.identity(0)"
   ]
  },
  {
   "cell_type": "code",
   "execution_count": 414,
   "id": "3a6d10bc-47ac-4af2-98dd-a4f60ad6b887",
   "metadata": {},
   "outputs": [
    {
     "data": {
      "text/plain": [
       "array([[1, 0, 0, 0, 0, 0, 0, 0],\n",
       "       [0, 1, 0, 0, 0, 0, 0, 0],\n",
       "       [0, 0, 1, 0, 0, 0, 0, 0],\n",
       "       [0, 0, 0, 1, 0, 0, 0, 0],\n",
       "       [0, 0, 0, 0, 1, 0, 0, 0],\n",
       "       [0, 0, 0, 0, 0, 1, 0, 0],\n",
       "       [0, 0, 0, 0, 0, 0, 1, 0],\n",
       "       [0, 0, 0, 0, 0, 0, 0, 1]])"
      ]
     },
     "execution_count": 414,
     "metadata": {},
     "output_type": "execute_result"
    }
   ],
   "source": [
    "np.identity((8), dtype=int)"
   ]
  },
  {
   "cell_type": "code",
   "execution_count": null,
   "id": "17c4e2d1-44ef-42b2-a09b-be793e93615c",
   "metadata": {},
   "outputs": [],
   "source": []
  },
  {
   "cell_type": "markdown",
   "id": "bbdc02aa-54c2-4d2e-8bfd-4cf176f3413d",
   "metadata": {},
   "source": [
    "# ndim"
   ]
  },
  {
   "cell_type": "markdown",
   "id": "1a3425cd-e408-4bca-920f-79c405150331",
   "metadata": {},
   "source": [
    "To findout given arrays number of dimensions"
   ]
  },
  {
   "cell_type": "code",
   "execution_count": 420,
   "id": "ed0df052-7c44-410f-bb36-f2c8ddd09bef",
   "metadata": {},
   "outputs": [
    {
     "data": {
      "text/plain": [
       "2"
      ]
     },
     "execution_count": 420,
     "metadata": {},
     "output_type": "execute_result"
    }
   ],
   "source": [
    "mat.ndim"
   ]
  },
  {
   "cell_type": "code",
   "execution_count": 422,
   "id": "90c472a8-d84f-4380-90ca-3950efb6f0ad",
   "metadata": {},
   "outputs": [
    {
     "data": {
      "text/plain": [
       "2"
      ]
     },
     "execution_count": 422,
     "metadata": {},
     "output_type": "execute_result"
    }
   ],
   "source": [
    "arr2.ndim"
   ]
  },
  {
   "cell_type": "code",
   "execution_count": 424,
   "id": "c98b9fa8-5c83-40fb-96e2-7a250ba8a9f1",
   "metadata": {},
   "outputs": [
    {
     "data": {
      "text/plain": [
       "1"
      ]
     },
     "execution_count": 424,
     "metadata": {},
     "output_type": "execute_result"
    }
   ],
   "source": [
    "arr.ndim"
   ]
  },
  {
   "cell_type": "code",
   "execution_count": 442,
   "id": "43b5585a-b4d1-4038-a788-5911f6442dad",
   "metadata": {},
   "outputs": [
    {
     "data": {
      "text/plain": [
       "array([[[ 0,  1,  2],\n",
       "        [ 3,  4,  5],\n",
       "        [ 6,  7,  8]],\n",
       "\n",
       "       [[ 9, 10, 11],\n",
       "        [12, 13, 14],\n",
       "        [15, 16, 17]],\n",
       "\n",
       "       [[18, 19, 20],\n",
       "        [21, 22, 23],\n",
       "        [24, 25, 26]]])"
      ]
     },
     "execution_count": 442,
     "metadata": {},
     "output_type": "execute_result"
    }
   ],
   "source": [
    "x1 = np.arange(27).reshape(3,3,3) # 3D --> Tensor \n",
    "x1"
   ]
  },
  {
   "cell_type": "code",
   "execution_count": 446,
   "id": "aa71816a-3cba-4151-982e-4ce3299cc1b3",
   "metadata": {},
   "outputs": [
    {
     "data": {
      "text/plain": [
       "3"
      ]
     },
     "execution_count": 446,
     "metadata": {},
     "output_type": "execute_result"
    }
   ],
   "source": [
    "x1.ndim"
   ]
  },
  {
   "cell_type": "markdown",
   "id": "4bcdbee9-4602-462b-b97a-8283901b8618",
   "metadata": {},
   "source": [
    "# shape"
   ]
  },
  {
   "cell_type": "markdown",
   "id": "7dee8d4d-d2ba-4545-8201-431686e206dd",
   "metadata": {},
   "source": [
    "arr.shape"
   ]
  },
  {
   "cell_type": "code",
   "execution_count": 451,
   "id": "256b1bd8-21eb-4854-bf0f-e1255cb55d9b",
   "metadata": {},
   "outputs": [
    {
     "data": {
      "text/plain": [
       "(10, 10)"
      ]
     },
     "execution_count": 451,
     "metadata": {},
     "output_type": "execute_result"
    }
   ],
   "source": [
    "arr2.shape"
   ]
  },
  {
   "cell_type": "code",
   "execution_count": 453,
   "id": "3436d4e1-f1fc-46e6-b248-b4fa21a97c00",
   "metadata": {},
   "outputs": [
    {
     "data": {
      "text/plain": [
       "(10, 10)"
      ]
     },
     "execution_count": 453,
     "metadata": {},
     "output_type": "execute_result"
    }
   ],
   "source": [
    "mat.shape"
   ]
  },
  {
   "cell_type": "code",
   "execution_count": 455,
   "id": "65fe3ec2-597e-427e-af74-e625199d4159",
   "metadata": {},
   "outputs": [
    {
     "data": {
      "text/plain": [
       "(3, 3, 3)"
      ]
     },
     "execution_count": 455,
     "metadata": {},
     "output_type": "execute_result"
    }
   ],
   "source": [
    "x1.shape"
   ]
  },
  {
   "cell_type": "code",
   "execution_count": null,
   "id": "65031c4d-ced8-4a8d-b5d4-0e7deff7e602",
   "metadata": {},
   "outputs": [],
   "source": []
  },
  {
   "cell_type": "markdown",
   "id": "57aeee6f-aeac-413f-ac84-b5baa020b225",
   "metadata": {},
   "source": [
    "# size"
   ]
  },
  {
   "cell_type": "code",
   "execution_count": 458,
   "id": "58521567-87c6-4c31-97fe-d5f79f10c7b2",
   "metadata": {},
   "outputs": [
    {
     "data": {
      "text/plain": [
       "array([[[ 0,  1,  2],\n",
       "        [ 3,  4,  5],\n",
       "        [ 6,  7,  8]],\n",
       "\n",
       "       [[ 9, 10, 11],\n",
       "        [12, 13, 14],\n",
       "        [15, 16, 17]],\n",
       "\n",
       "       [[18, 19, 20],\n",
       "        [21, 22, 23],\n",
       "        [24, 25, 26]]])"
      ]
     },
     "execution_count": 458,
     "metadata": {},
     "output_type": "execute_result"
    }
   ],
   "source": [
    "x1"
   ]
  },
  {
   "cell_type": "code",
   "execution_count": 460,
   "id": "3a33409d-d3f7-4d0b-9caf-2d62da1358ed",
   "metadata": {},
   "outputs": [
    {
     "data": {
      "text/plain": [
       "array([0, 1, 2, 3, 4, 5])"
      ]
     },
     "execution_count": 460,
     "metadata": {},
     "output_type": "execute_result"
    }
   ],
   "source": [
    "arr"
   ]
  },
  {
   "cell_type": "code",
   "execution_count": 462,
   "id": "6324b0c8-4b62-4192-bbde-c52153103cb9",
   "metadata": {},
   "outputs": [
    {
     "data": {
      "text/plain": [
       "array([[77, 78, 37, 87, 11,  2, 80, 62, 21, 30],\n",
       "       [61, 10, 59, 69, 28, 72, 36, 81, 17, 29],\n",
       "       [52, 19, 95, 17, 46, 33, 14,  8, 10, 75],\n",
       "       [45, 94, 45, 19, 45, 75, 63, 89,  7, 35],\n",
       "       [93, 57, 81, 11, 73, 16,  9, 70, 70, 12],\n",
       "       [46, 20, 68, 85, 27, 38, 17, 33, 89, 55],\n",
       "       [44, 86, 50, 33, 31, 21, 29, 85, 60, 41],\n",
       "       [56, 45, 89, 14, 82, 35, 83, 69, 99, 69],\n",
       "       [84, 53, 38, 37, 41, 93, 75, 84, 90, 12],\n",
       "       [29, 65, 45, 65, 68,  6, 65, 15, 33,  9]])"
      ]
     },
     "execution_count": 462,
     "metadata": {},
     "output_type": "execute_result"
    }
   ],
   "source": [
    "arr2"
   ]
  },
  {
   "cell_type": "code",
   "execution_count": 464,
   "id": "f89006ed-ff42-4245-b0eb-73efac46349e",
   "metadata": {},
   "outputs": [
    {
     "data": {
      "text/plain": [
       "array([[ 0,  1,  2,  3,  4,  5,  6,  7,  8,  9],\n",
       "       [10, 11, 12, 13, 14, 15, 16, 17, 18, 19],\n",
       "       [20, 21, 22, 23, 24, 25, 26, 27, 28, 29],\n",
       "       [30, 31, 32, 33, 34, 35, 36, 37, 38, 39],\n",
       "       [40, 41, 42, 43, 44, 45, 46, 47, 48, 49],\n",
       "       [50, 51, 52, 53, 54, 55, 56, 57, 58, 59],\n",
       "       [60, 61, 62, 63, 64, 65, 66, 67, 68, 69],\n",
       "       [70, 71, 72, 73, 74, 75, 76, 77, 78, 79],\n",
       "       [80, 81, 82, 83, 84, 85, 86, 87, 88, 89],\n",
       "       [90, 91, 92, 93, 94, 95, 96, 97, 98, 99]])"
      ]
     },
     "execution_count": 464,
     "metadata": {},
     "output_type": "execute_result"
    }
   ],
   "source": [
    "mat"
   ]
  },
  {
   "cell_type": "code",
   "execution_count": 466,
   "id": "8715efed-dd56-415c-a319-1c37da6fb4f8",
   "metadata": {},
   "outputs": [
    {
     "data": {
      "text/plain": [
       "6"
      ]
     },
     "execution_count": 466,
     "metadata": {},
     "output_type": "execute_result"
    }
   ],
   "source": [
    "arr.size"
   ]
  },
  {
   "cell_type": "code",
   "execution_count": 468,
   "id": "c4c6de82-416b-428e-9a53-a0e0a5ae2c0b",
   "metadata": {},
   "outputs": [
    {
     "data": {
      "text/plain": [
       "100"
      ]
     },
     "execution_count": 468,
     "metadata": {},
     "output_type": "execute_result"
    }
   ],
   "source": [
    "arr2.size"
   ]
  },
  {
   "cell_type": "code",
   "execution_count": 470,
   "id": "cdc67bbf-d171-4800-9534-37595c220056",
   "metadata": {},
   "outputs": [
    {
     "data": {
      "text/plain": [
       "27"
      ]
     },
     "execution_count": 470,
     "metadata": {},
     "output_type": "execute_result"
    }
   ],
   "source": [
    "x1.size"
   ]
  },
  {
   "cell_type": "markdown",
   "id": "21218910-bf55-4523-88ed-7f8caa98ebc5",
   "metadata": {},
   "source": [
    "# item size"
   ]
  },
  {
   "cell_type": "code",
   "execution_count": 473,
   "id": "08cd235e-7b72-4287-acd8-49f53837ec36",
   "metadata": {},
   "outputs": [
    {
     "data": {
      "text/plain": [
       "4"
      ]
     },
     "execution_count": 473,
     "metadata": {},
     "output_type": "execute_result"
    }
   ],
   "source": [
    "x1.itemsize"
   ]
  },
  {
   "cell_type": "code",
   "execution_count": 475,
   "id": "25acbeca-d183-4fe4-ba18-cc435fae6da4",
   "metadata": {},
   "outputs": [
    {
     "data": {
      "text/plain": [
       "4"
      ]
     },
     "execution_count": 475,
     "metadata": {},
     "output_type": "execute_result"
    }
   ],
   "source": [
    "arr2.itemsize"
   ]
  },
  {
   "cell_type": "code",
   "execution_count": 477,
   "id": "cbb025af-476d-49da-9968-4b8881adb124",
   "metadata": {},
   "outputs": [
    {
     "data": {
      "text/plain": [
       "4"
      ]
     },
     "execution_count": 477,
     "metadata": {},
     "output_type": "execute_result"
    }
   ],
   "source": [
    "arr.itemsize"
   ]
  },
  {
   "cell_type": "code",
   "execution_count": null,
   "id": "d8d6d43b-47b9-44a4-b5fa-072cbefdb53a",
   "metadata": {},
   "outputs": [],
   "source": []
  },
  {
   "cell_type": "markdown",
   "id": "d63a501b-8858-4955-b3de-a48708f5d716",
   "metadata": {},
   "source": [
    "# scalar operations "
   ]
  },
  {
   "cell_type": "markdown",
   "id": "3f61459c-76d6-47a0-bc65-555d088495fc",
   "metadata": {},
   "source": [
    "Scalar operations on Numpy arrays include performing addition or subtraction, or multiplication \n",
    "on each element of a Numpy array."
   ]
  },
  {
   "cell_type": "code",
   "execution_count": 488,
   "id": "5c497c96-efda-4a66-86c4-a942fd233646",
   "metadata": {},
   "outputs": [],
   "source": [
    "a1=np.arange(20).reshape(4,5)\n",
    "a2=np.arange(20,32).reshape(3,4)"
   ]
  },
  {
   "cell_type": "code",
   "execution_count": 490,
   "id": "92055715-808a-47a7-916d-9f90aa4bd3d4",
   "metadata": {},
   "outputs": [
    {
     "name": "stdout",
     "output_type": "stream",
     "text": [
      "[[ 0  1  2  3  4]\n",
      " [ 5  6  7  8  9]\n",
      " [10 11 12 13 14]\n",
      " [15 16 17 18 19]]\n",
      "[[20 21 22 23]\n",
      " [24 25 26 27]\n",
      " [28 29 30 31]]\n"
     ]
    }
   ],
   "source": [
    "print(a1)\n",
    "print(a2)"
   ]
  },
  {
   "cell_type": "code",
   "execution_count": 492,
   "id": "71e6beb9-5ab0-4a4e-81a3-e40727364893",
   "metadata": {},
   "outputs": [
    {
     "data": {
      "text/plain": [
       "array([[ 4,  5,  6,  7,  8],\n",
       "       [ 9, 10, 11, 12, 13],\n",
       "       [14, 15, 16, 17, 18],\n",
       "       [19, 20, 21, 22, 23]])"
      ]
     },
     "execution_count": 492,
     "metadata": {},
     "output_type": "execute_result"
    }
   ],
   "source": [
    "# arithmetic \n",
    "a1 + 4 "
   ]
  },
  {
   "cell_type": "code",
   "execution_count": 494,
   "id": "07e6561b-71cb-418e-a74c-ed7eb0324781",
   "metadata": {},
   "outputs": [
    {
     "data": {
      "text/plain": [
       "array([[-2, -1,  0,  1,  2],\n",
       "       [ 3,  4,  5,  6,  7],\n",
       "       [ 8,  9, 10, 11, 12],\n",
       "       [13, 14, 15, 16, 17]])"
      ]
     },
     "execution_count": 494,
     "metadata": {},
     "output_type": "execute_result"
    }
   ],
   "source": [
    "# Subtraction \n",
    "a1 - 2"
   ]
  },
  {
   "cell_type": "code",
   "execution_count": 496,
   "id": "e60a3c35-1ff9-4e21-a417-f0f2c3072dd4",
   "metadata": {},
   "outputs": [
    {
     "data": {
      "text/plain": [
       "array([[ 0,  2,  4,  6,  8],\n",
       "       [10, 12, 14, 16, 18],\n",
       "       [20, 22, 24, 26, 28],\n",
       "       [30, 32, 34, 36, 38]])"
      ]
     },
     "execution_count": 496,
     "metadata": {},
     "output_type": "execute_result"
    }
   ],
   "source": [
    "# Multiplication \n",
    "a1 * 2 "
   ]
  },
  {
   "cell_type": "code",
   "execution_count": 498,
   "id": "f0436e9b-0ed6-44eb-ad22-86a2a1e9653c",
   "metadata": {},
   "outputs": [
    {
     "data": {
      "text/plain": [
       "array([[  0,   1,   4,   9,  16],\n",
       "       [ 25,  36,  49,  64,  81],\n",
       "       [100, 121, 144, 169, 196],\n",
       "       [225, 256, 289, 324, 361]])"
      ]
     },
     "execution_count": 498,
     "metadata": {},
     "output_type": "execute_result"
    }
   ],
   "source": [
    "# power \n",
    "a1 ** 2"
   ]
  },
  {
   "cell_type": "code",
   "execution_count": 504,
   "id": "0f998015-0b51-4007-9887-3d213e6bedc3",
   "metadata": {},
   "outputs": [
    {
     "data": {
      "text/plain": [
       "array([[0, 1, 2, 3, 0],\n",
       "       [1, 2, 3, 0, 1],\n",
       "       [2, 3, 0, 1, 2],\n",
       "       [3, 0, 1, 2, 3]], dtype=int32)"
      ]
     },
     "execution_count": 504,
     "metadata": {},
     "output_type": "execute_result"
    }
   ],
   "source": [
    "## Modulo \n",
    "a1 % 4"
   ]
  },
  {
   "cell_type": "code",
   "execution_count": null,
   "id": "5aacc4d4-6f08-48da-93ca-200791591221",
   "metadata": {},
   "outputs": [],
   "source": []
  },
  {
   "cell_type": "markdown",
   "id": "a7110ec9-c150-4418-b95a-864bfee52c1a",
   "metadata": {},
   "source": [
    "# relational Operators \n"
   ]
  },
  {
   "cell_type": "markdown",
   "id": "8f8320b3-da5f-4ef0-b2e5-2ea863d5763e",
   "metadata": {},
   "source": [
    "The relational operators are also known as comparison operators, their main function is to \n",
    "return either a true or false based on the value of operands."
   ]
  },
  {
   "cell_type": "code",
   "execution_count": 507,
   "id": "bc4bfee5-fd36-426a-9010-0bb41a530456",
   "metadata": {},
   "outputs": [
    {
     "data": {
      "text/plain": [
       "array([[20, 21, 22, 23],\n",
       "       [24, 25, 26, 27],\n",
       "       [28, 29, 30, 31]])"
      ]
     },
     "execution_count": 507,
     "metadata": {},
     "output_type": "execute_result"
    }
   ],
   "source": [
    "a2"
   ]
  },
  {
   "cell_type": "code",
   "execution_count": 509,
   "id": "d073a849-a237-4d6d-b819-0fb24af63175",
   "metadata": {},
   "outputs": [
    {
     "data": {
      "text/plain": [
       "array([[ True,  True,  True,  True],\n",
       "       [ True,  True,  True,  True],\n",
       "       [ True,  True,  True,  True]])"
      ]
     },
     "execution_count": 509,
     "metadata": {},
     "output_type": "execute_result"
    }
   ],
   "source": [
    "a2>19"
   ]
  },
  {
   "cell_type": "code",
   "execution_count": 511,
   "id": "026ede23-6dac-43e3-8453-e5e97ff3ecc3",
   "metadata": {},
   "outputs": [
    {
     "data": {
      "text/plain": [
       "array([[ True,  True,  True,  True],\n",
       "       [ True,  True,  True,  True],\n",
       "       [ True,  True,  True,  True]])"
      ]
     },
     "execution_count": 511,
     "metadata": {},
     "output_type": "execute_result"
    }
   ],
   "source": [
    "a2<90"
   ]
  },
  {
   "cell_type": "code",
   "execution_count": 513,
   "id": "31db8d5c-4fd6-4ce4-9a73-31222ad9ebe2",
   "metadata": {},
   "outputs": [
    {
     "data": {
      "text/plain": [
       "array([[False, False, False, False],\n",
       "       [False, False, False, False],\n",
       "       [False, False, False, False]])"
      ]
     },
     "execution_count": 513,
     "metadata": {},
     "output_type": "execute_result"
    }
   ],
   "source": [
    "a2<20"
   ]
  },
  {
   "cell_type": "code",
   "execution_count": 515,
   "id": "62471eec-aacc-487c-8e3d-ed55c3f43683",
   "metadata": {},
   "outputs": [
    {
     "data": {
      "text/plain": [
       "array([[ True,  True,  True,  True],\n",
       "       [ True, False, False, False],\n",
       "       [False, False, False, False]])"
      ]
     },
     "execution_count": 515,
     "metadata": {},
     "output_type": "execute_result"
    }
   ],
   "source": [
    "a2<25"
   ]
  },
  {
   "cell_type": "markdown",
   "id": "208f355e-3641-4467-92b1-9200848858d5",
   "metadata": {},
   "source": [
    "# Vector Operation \n",
    "We can apply on both numpy array"
   ]
  },
  {
   "cell_type": "code",
   "execution_count": 521,
   "id": "979a0c40-021c-4ebd-a8aa-30b2e1cf1d82",
   "metadata": {},
   "outputs": [
    {
     "data": {
      "text/plain": [
       "array([[ 0,  1,  2,  3,  4],\n",
       "       [ 5,  6,  7,  8,  9],\n",
       "       [10, 11, 12, 13, 14],\n",
       "       [15, 16, 17, 18, 19]])"
      ]
     },
     "execution_count": 521,
     "metadata": {},
     "output_type": "execute_result"
    }
   ],
   "source": [
    "a1"
   ]
  },
  {
   "cell_type": "code",
   "execution_count": 523,
   "id": "4d1921db-e4fe-4de9-976b-dc33877425c5",
   "metadata": {},
   "outputs": [
    {
     "data": {
      "text/plain": [
       "array([[20, 21, 22, 23],\n",
       "       [24, 25, 26, 27],\n",
       "       [28, 29, 30, 31]])"
      ]
     },
     "execution_count": 523,
     "metadata": {},
     "output_type": "execute_result"
    }
   ],
   "source": [
    "a2"
   ]
  },
  {
   "cell_type": "code",
   "execution_count": 525,
   "id": "53d5070f-af61-4cf1-bd81-300337c5fdd2",
   "metadata": {},
   "outputs": [
    {
     "ename": "ValueError",
     "evalue": "operands could not be broadcast together with shapes (4,5) (3,4) ",
     "output_type": "error",
     "traceback": [
      "\u001b[1;31m---------------------------------------------------------------------------\u001b[0m",
      "\u001b[1;31mValueError\u001b[0m                                Traceback (most recent call last)",
      "Cell \u001b[1;32mIn[525], line 1\u001b[0m\n\u001b[1;32m----> 1\u001b[0m a1 \u001b[38;5;241m+\u001b[39m a2\n",
      "\u001b[1;31mValueError\u001b[0m: operands could not be broadcast together with shapes (4,5) (3,4) "
     ]
    }
   ],
   "source": [
    "a1 + a2"
   ]
  },
  {
   "cell_type": "code",
   "execution_count": 527,
   "id": "5112c336-88b4-47a8-a413-70d9cc2cc6f2",
   "metadata": {},
   "outputs": [
    {
     "data": {
      "text/plain": [
       "array([[77, 78, 37, 87, 11,  2, 80, 62, 21, 30],\n",
       "       [61, 10, 59, 69, 28, 72, 36, 81, 17, 29],\n",
       "       [52, 19, 95, 17, 46, 33, 14,  8, 10, 75],\n",
       "       [45, 94, 45, 19, 45, 75, 63, 89,  7, 35],\n",
       "       [93, 57, 81, 11, 73, 16,  9, 70, 70, 12],\n",
       "       [46, 20, 68, 85, 27, 38, 17, 33, 89, 55],\n",
       "       [44, 86, 50, 33, 31, 21, 29, 85, 60, 41],\n",
       "       [56, 45, 89, 14, 82, 35, 83, 69, 99, 69],\n",
       "       [84, 53, 38, 37, 41, 93, 75, 84, 90, 12],\n",
       "       [29, 65, 45, 65, 68,  6, 65, 15, 33,  9]])"
      ]
     },
     "execution_count": 527,
     "metadata": {},
     "output_type": "execute_result"
    }
   ],
   "source": [
    "arr2"
   ]
  },
  {
   "cell_type": "code",
   "execution_count": 529,
   "id": "5e8406be-e54e-4c91-9dc0-c2e5b18a3165",
   "metadata": {},
   "outputs": [
    {
     "data": {
      "text/plain": [
       "array([[ 0,  1,  2,  3,  4,  5,  6,  7,  8,  9],\n",
       "       [10, 11, 12, 13, 14, 15, 16, 17, 18, 19],\n",
       "       [20, 21, 22, 23, 24, 25, 26, 27, 28, 29],\n",
       "       [30, 31, 32, 33, 34, 35, 36, 37, 38, 39],\n",
       "       [40, 41, 42, 43, 44, 45, 46, 47, 48, 49],\n",
       "       [50, 51, 52, 53, 54, 55, 56, 57, 58, 59],\n",
       "       [60, 61, 62, 63, 64, 65, 66, 67, 68, 69],\n",
       "       [70, 71, 72, 73, 74, 75, 76, 77, 78, 79],\n",
       "       [80, 81, 82, 83, 84, 85, 86, 87, 88, 89],\n",
       "       [90, 91, 92, 93, 94, 95, 96, 97, 98, 99]])"
      ]
     },
     "execution_count": 529,
     "metadata": {},
     "output_type": "execute_result"
    }
   ],
   "source": [
    "mat"
   ]
  },
  {
   "cell_type": "code",
   "execution_count": 531,
   "id": "2c85cb9f-552b-44fc-8de7-a13b00744a02",
   "metadata": {},
   "outputs": [
    {
     "data": {
      "text/plain": [
       "array([[ 77,  79,  39,  90,  15,   7,  86,  69,  29,  39],\n",
       "       [ 71,  21,  71,  82,  42,  87,  52,  98,  35,  48],\n",
       "       [ 72,  40, 117,  40,  70,  58,  40,  35,  38, 104],\n",
       "       [ 75, 125,  77,  52,  79, 110,  99, 126,  45,  74],\n",
       "       [133,  98, 123,  54, 117,  61,  55, 117, 118,  61],\n",
       "       [ 96,  71, 120, 138,  81,  93,  73,  90, 147, 114],\n",
       "       [104, 147, 112,  96,  95,  86,  95, 152, 128, 110],\n",
       "       [126, 116, 161,  87, 156, 110, 159, 146, 177, 148],\n",
       "       [164, 134, 120, 120, 125, 178, 161, 171, 178, 101],\n",
       "       [119, 156, 137, 158, 162, 101, 161, 112, 131, 108]])"
      ]
     },
     "execution_count": 531,
     "metadata": {},
     "output_type": "execute_result"
    }
   ],
   "source": [
    "arr2 + mat"
   ]
  },
  {
   "cell_type": "code",
   "execution_count": 533,
   "id": "381ec3a8-2d0d-4a46-a0b4-87f30bce27cc",
   "metadata": {},
   "outputs": [
    {
     "data": {
      "text/plain": [
       "array([[ 77,  77,  35,  84,   7,  -3,  74,  55,  13,  21],\n",
       "       [ 51,  -1,  47,  56,  14,  57,  20,  64,  -1,  10],\n",
       "       [ 32,  -2,  73,  -6,  22,   8, -12, -19, -18,  46],\n",
       "       [ 15,  63,  13, -14,  11,  40,  27,  52, -31,  -4],\n",
       "       [ 53,  16,  39, -32,  29, -29, -37,  23,  22, -37],\n",
       "       [ -4, -31,  16,  32, -27, -17, -39, -24,  31,  -4],\n",
       "       [-16,  25, -12, -30, -33, -44, -37,  18,  -8, -28],\n",
       "       [-14, -26,  17, -59,   8, -40,   7,  -8,  21, -10],\n",
       "       [  4, -28, -44, -46, -43,   8, -11,  -3,   2, -77],\n",
       "       [-61, -26, -47, -28, -26, -89, -31, -82, -65, -90]])"
      ]
     },
     "execution_count": 533,
     "metadata": {},
     "output_type": "execute_result"
    }
   ],
   "source": [
    "arr2 - mat"
   ]
  },
  {
   "cell_type": "code",
   "execution_count": 535,
   "id": "24404c02-db23-4fcc-abfa-27b3b15084a5",
   "metadata": {},
   "outputs": [
    {
     "data": {
      "text/plain": [
       "array([[ 0,  1,  2,  3,  4,  5,  6,  7,  8,  9],\n",
       "       [10, 11, 12, 13, 14, 15, 16, 17, 18, 19],\n",
       "       [20, 21, 22, 23, 24, 25, 26, 27, 28, 29],\n",
       "       [30, 31, 32, 33, 34, 35, 36, 37, 38, 39],\n",
       "       [40, 41, 42, 43, 44, 45, 46, 47, 48, 49],\n",
       "       [50, 51, 52, 53, 54, 55, 56, 57, 58, 59],\n",
       "       [60, 61, 62, 63, 64, 65, 66, 67, 68, 69],\n",
       "       [70, 71, 72, 73, 74, 75, 76, 77, 78, 79],\n",
       "       [80, 81, 82, 83, 84, 85, 86, 87, 88, 89],\n",
       "       [90, 91, 92, 93, 94, 95, 96, 97, 98, 99]])"
      ]
     },
     "execution_count": 535,
     "metadata": {},
     "output_type": "execute_result"
    }
   ],
   "source": [
    "mat "
   ]
  },
  {
   "cell_type": "code",
   "execution_count": 537,
   "id": "f5cdc49f-b929-4b0e-8180-f4fc6785e3c3",
   "metadata": {},
   "outputs": [
    {
     "data": {
      "text/plain": [
       "array([[   0,   78,   74,  261,   44,   10,  480,  434,  168,  270],\n",
       "       [ 610,  110,  708,  897,  392, 1080,  576, 1377,  306,  551],\n",
       "       [1040,  399, 2090,  391, 1104,  825,  364,  216,  280, 2175],\n",
       "       [1350, 2914, 1440,  627, 1530, 2625, 2268, 3293,  266, 1365],\n",
       "       [3720, 2337, 3402,  473, 3212,  720,  414, 3290, 3360,  588],\n",
       "       [2300, 1020, 3536, 4505, 1458, 2090,  952, 1881, 5162, 3245],\n",
       "       [2640, 5246, 3100, 2079, 1984, 1365, 1914, 5695, 4080, 2829],\n",
       "       [3920, 3195, 6408, 1022, 6068, 2625, 6308, 5313, 7722, 5451],\n",
       "       [6720, 4293, 3116, 3071, 3444, 7905, 6450, 7308, 7920, 1068],\n",
       "       [2610, 5915, 4140, 6045, 6392,  570, 6240, 1455, 3234,  891]])"
      ]
     },
     "execution_count": 537,
     "metadata": {},
     "output_type": "execute_result"
    }
   ],
   "source": [
    "mat * arr2"
   ]
  },
  {
   "cell_type": "code",
   "execution_count": 539,
   "id": "9ee88b6b-3272-4a24-855f-8d800b30661b",
   "metadata": {},
   "outputs": [
    {
     "data": {
      "text/plain": [
       "array([[0.00000000e+00, 1.28205128e-02, 5.40540541e-02, 3.44827586e-02,\n",
       "        3.63636364e-01, 2.50000000e+00, 7.50000000e-02, 1.12903226e-01,\n",
       "        3.80952381e-01, 3.00000000e-01],\n",
       "       [1.63934426e-01, 1.10000000e+00, 2.03389831e-01, 1.88405797e-01,\n",
       "        5.00000000e-01, 2.08333333e-01, 4.44444444e-01, 2.09876543e-01,\n",
       "        1.05882353e+00, 6.55172414e-01],\n",
       "       [3.84615385e-01, 1.10526316e+00, 2.31578947e-01, 1.35294118e+00,\n",
       "        5.21739130e-01, 7.57575758e-01, 1.85714286e+00, 3.37500000e+00,\n",
       "        2.80000000e+00, 3.86666667e-01],\n",
       "       [6.66666667e-01, 3.29787234e-01, 7.11111111e-01, 1.73684211e+00,\n",
       "        7.55555556e-01, 4.66666667e-01, 5.71428571e-01, 4.15730337e-01,\n",
       "        5.42857143e+00, 1.11428571e+00],\n",
       "       [4.30107527e-01, 7.19298246e-01, 5.18518519e-01, 3.90909091e+00,\n",
       "        6.02739726e-01, 2.81250000e+00, 5.11111111e+00, 6.71428571e-01,\n",
       "        6.85714286e-01, 4.08333333e+00],\n",
       "       [1.08695652e+00, 2.55000000e+00, 7.64705882e-01, 6.23529412e-01,\n",
       "        2.00000000e+00, 1.44736842e+00, 3.29411765e+00, 1.72727273e+00,\n",
       "        6.51685393e-01, 1.07272727e+00],\n",
       "       [1.36363636e+00, 7.09302326e-01, 1.24000000e+00, 1.90909091e+00,\n",
       "        2.06451613e+00, 3.09523810e+00, 2.27586207e+00, 7.88235294e-01,\n",
       "        1.13333333e+00, 1.68292683e+00],\n",
       "       [1.25000000e+00, 1.57777778e+00, 8.08988764e-01, 5.21428571e+00,\n",
       "        9.02439024e-01, 2.14285714e+00, 9.15662651e-01, 1.11594203e+00,\n",
       "        7.87878788e-01, 1.14492754e+00],\n",
       "       [9.52380952e-01, 1.52830189e+00, 2.15789474e+00, 2.24324324e+00,\n",
       "        2.04878049e+00, 9.13978495e-01, 1.14666667e+00, 1.03571429e+00,\n",
       "        9.77777778e-01, 7.41666667e+00],\n",
       "       [3.10344828e+00, 1.40000000e+00, 2.04444444e+00, 1.43076923e+00,\n",
       "        1.38235294e+00, 1.58333333e+01, 1.47692308e+00, 6.46666667e+00,\n",
       "        2.96969697e+00, 1.10000000e+01]])"
      ]
     },
     "execution_count": 539,
     "metadata": {},
     "output_type": "execute_result"
    }
   ],
   "source": [
    "mat / arr2"
   ]
  },
  {
   "cell_type": "code",
   "execution_count": null,
   "id": "e6654e7f-0346-4fc8-ac55-908f7153e1bd",
   "metadata": {},
   "outputs": [],
   "source": []
  },
  {
   "cell_type": "code",
   "execution_count": null,
   "id": "019cdacd-1001-494b-8085-35c0802df70a",
   "metadata": {},
   "outputs": [],
   "source": []
  },
  {
   "cell_type": "markdown",
   "id": "e4654881-7dc2-4b15-b09d-8dfbbce9555b",
   "metadata": {},
   "source": [
    "# Trignometry functions"
   ]
  },
  {
   "cell_type": "code",
   "execution_count": 545,
   "id": "ec939e1c-5523-42d6-bd26-85b14d7857c7",
   "metadata": {},
   "outputs": [
    {
     "data": {
      "text/plain": [
       "array([[[ 0,  1,  2],\n",
       "        [ 3,  4,  5],\n",
       "        [ 6,  7,  8]],\n",
       "\n",
       "       [[ 9, 10, 11],\n",
       "        [12, 13, 14],\n",
       "        [15, 16, 17]],\n",
       "\n",
       "       [[18, 19, 20],\n",
       "        [21, 22, 23],\n",
       "        [24, 25, 26]]])"
      ]
     },
     "execution_count": 545,
     "metadata": {},
     "output_type": "execute_result"
    }
   ],
   "source": [
    "x1"
   ]
  },
  {
   "cell_type": "code",
   "execution_count": 547,
   "id": "abbc8333-24b5-4d1e-bae2-d7ee252cac43",
   "metadata": {},
   "outputs": [
    {
     "data": {
      "text/plain": [
       "array([[[ 0.        ,  0.84147098,  0.90929743],\n",
       "        [ 0.14112001, -0.7568025 , -0.95892427],\n",
       "        [-0.2794155 ,  0.6569866 ,  0.98935825]],\n",
       "\n",
       "       [[ 0.41211849, -0.54402111, -0.99999021],\n",
       "        [-0.53657292,  0.42016704,  0.99060736],\n",
       "        [ 0.65028784, -0.28790332, -0.96139749]],\n",
       "\n",
       "       [[-0.75098725,  0.14987721,  0.91294525],\n",
       "        [ 0.83665564, -0.00885131, -0.8462204 ],\n",
       "        [-0.90557836, -0.13235175,  0.76255845]]])"
      ]
     },
     "execution_count": 547,
     "metadata": {},
     "output_type": "execute_result"
    }
   ],
   "source": [
    "sin(x1)"
   ]
  },
  {
   "cell_type": "code",
   "execution_count": 549,
   "id": "cef3ca9b-f50d-4d67-9c0d-9302c6f3d65a",
   "metadata": {},
   "outputs": [
    {
     "data": {
      "text/plain": [
       "array([[[ 1.        ,  0.54030231, -0.41614684],\n",
       "        [-0.9899925 , -0.65364362,  0.28366219],\n",
       "        [ 0.96017029,  0.75390225, -0.14550003]],\n",
       "\n",
       "       [[-0.91113026, -0.83907153,  0.0044257 ],\n",
       "        [ 0.84385396,  0.90744678,  0.13673722],\n",
       "        [-0.75968791, -0.95765948, -0.27516334]],\n",
       "\n",
       "       [[ 0.66031671,  0.98870462,  0.40808206],\n",
       "        [-0.54772926, -0.99996083, -0.53283302],\n",
       "        [ 0.42417901,  0.99120281,  0.64691932]]])"
      ]
     },
     "execution_count": 549,
     "metadata": {},
     "output_type": "execute_result"
    }
   ],
   "source": [
    "cos(x1)"
   ]
  },
  {
   "cell_type": "code",
   "execution_count": 551,
   "id": "5ad09e15-84c3-4f63-9e22-6af9cd4730cb",
   "metadata": {},
   "outputs": [
    {
     "data": {
      "text/plain": [
       "array([[[ 0.00000000e+00,  1.55740772e+00, -2.18503986e+00],\n",
       "        [-1.42546543e-01,  1.15782128e+00, -3.38051501e+00],\n",
       "        [-2.91006191e-01,  8.71447983e-01, -6.79971146e+00]],\n",
       "\n",
       "       [[-4.52315659e-01,  6.48360827e-01, -2.25950846e+02],\n",
       "        [-6.35859929e-01,  4.63021133e-01,  7.24460662e+00],\n",
       "        [-8.55993401e-01,  3.00632242e-01,  3.49391565e+00]],\n",
       "\n",
       "       [[-1.13731371e+00,  1.51589471e-01,  2.23716094e+00],\n",
       "        [-1.52749853e+00,  8.85165604e-03,  1.58815308e+00],\n",
       "        [-2.13489670e+00, -1.33526407e-01,  1.17875355e+00]]])"
      ]
     },
     "execution_count": 551,
     "metadata": {},
     "output_type": "execute_result"
    }
   ],
   "source": [
    "tan(x1)"
   ]
  },
  {
   "cell_type": "code",
   "execution_count": 557,
   "id": "22e332fb-2556-476b-8aef-1dc7e4a710c7",
   "metadata": {},
   "outputs": [
    {
     "ename": "NameError",
     "evalue": "name 'cot' is not defined",
     "output_type": "error",
     "traceback": [
      "\u001b[1;31m---------------------------------------------------------------------------\u001b[0m",
      "\u001b[1;31mNameError\u001b[0m                                 Traceback (most recent call last)",
      "Cell \u001b[1;32mIn[557], line 1\u001b[0m\n\u001b[1;32m----> 1\u001b[0m cot(x1)\n",
      "\u001b[1;31mNameError\u001b[0m: name 'cot' is not defined"
     ]
    }
   ],
   "source": [
    "cot(x1)"
   ]
  },
  {
   "cell_type": "code",
   "execution_count": null,
   "id": "e2a816be-e97c-429d-82d2-aebb91e6eccf",
   "metadata": {},
   "outputs": [],
   "source": []
  },
  {
   "cell_type": "markdown",
   "id": "fda4cb78-e476-4e1f-95d7-c9fcbe07ab17",
   "metadata": {},
   "source": [
    "# dot product \n",
    "The numpy module of Python provides a function to perform the dot product of two arrays."
   ]
  },
  {
   "cell_type": "code",
   "execution_count": 564,
   "id": "676b75f3-4b6b-418a-8f6d-063ffc6d9f28",
   "metadata": {},
   "outputs": [],
   "source": [
    "m = np.arange(12).reshape(3,4) \n",
    "m1 = np.arange(12,24).reshape(4,3) "
   ]
  },
  {
   "cell_type": "markdown",
   "id": "e22565b2-e447-4abc-a9d7-4e9c05917e0c",
   "metadata": {},
   "source": []
  },
  {
   "cell_type": "code",
   "execution_count": 567,
   "id": "4f8b464e-882a-4060-8e48-46bf21aabbad",
   "metadata": {},
   "outputs": [
    {
     "data": {
      "text/plain": [
       "array([[ 0,  1,  2,  3],\n",
       "       [ 4,  5,  6,  7],\n",
       "       [ 8,  9, 10, 11]])"
      ]
     },
     "execution_count": 567,
     "metadata": {},
     "output_type": "execute_result"
    }
   ],
   "source": [
    "m"
   ]
  },
  {
   "cell_type": "code",
   "execution_count": null,
   "id": "a919c8e7-ed88-48ea-9c1b-d7943f95188e",
   "metadata": {},
   "outputs": [],
   "source": [
    "m1"
   ]
  },
  {
   "cell_type": "code",
   "execution_count": 571,
   "id": "19a8946a-bbb9-45cf-b294-7ca480d7b707",
   "metadata": {},
   "outputs": [
    {
     "data": {
      "text/plain": [
       "array([[114, 120, 126],\n",
       "       [378, 400, 422],\n",
       "       [642, 680, 718]])"
      ]
     },
     "execution_count": 571,
     "metadata": {},
     "output_type": "execute_result"
    }
   ],
   "source": [
    "np.dot(m,m1)"
   ]
  },
  {
   "cell_type": "code",
   "execution_count": null,
   "id": "efde2c27-bd46-44b0-8325-cb2b1fdd4ba0",
   "metadata": {},
   "outputs": [],
   "source": []
  },
  {
   "cell_type": "markdown",
   "id": "68c4b41f-46ff-4390-ae30-b847972e434f",
   "metadata": {},
   "source": [
    "Log & Exponents"
   ]
  },
  {
   "cell_type": "code",
   "execution_count": 579,
   "id": "312b9a2a-f59b-4f6a-853d-005cec5ed65d",
   "metadata": {},
   "outputs": [
    {
     "data": {
      "text/plain": [
       "array([[1.00000000e+00, 2.71828183e+00, 7.38905610e+00, 2.00855369e+01],\n",
       "       [5.45981500e+01, 1.48413159e+02, 4.03428793e+02, 1.09663316e+03],\n",
       "       [2.98095799e+03, 8.10308393e+03, 2.20264658e+04, 5.98741417e+04]])"
      ]
     },
     "execution_count": 579,
     "metadata": {},
     "output_type": "execute_result"
    }
   ],
   "source": [
    "np.exp(m)"
   ]
  },
  {
   "cell_type": "code",
   "execution_count": 582,
   "id": "c8b911f3-b38e-4f30-824f-aa1567828ab5",
   "metadata": {},
   "outputs": [
    {
     "data": {
      "text/plain": [
       "array([[1.62754791e+05, 4.42413392e+05, 1.20260428e+06],\n",
       "       [3.26901737e+06, 8.88611052e+06, 2.41549528e+07],\n",
       "       [6.56599691e+07, 1.78482301e+08, 4.85165195e+08],\n",
       "       [1.31881573e+09, 3.58491285e+09, 9.74480345e+09]])"
      ]
     },
     "execution_count": 582,
     "metadata": {},
     "output_type": "execute_result"
    }
   ],
   "source": [
    "np.exp(m1)"
   ]
  },
  {
   "cell_type": "code",
   "execution_count": null,
   "id": "b09306b3-6f51-49aa-ac6c-6bf060e38c77",
   "metadata": {},
   "outputs": [],
   "source": []
  },
  {
   "cell_type": "markdown",
   "id": "d1dc9a97-4908-4490-a8fd-965f05ab6273",
   "metadata": {},
   "source": [
    "# ROUND"
   ]
  },
  {
   "cell_type": "code",
   "execution_count": 587,
   "id": "b3208dcb-698d-4dd1-a53e-29920fbf0cc8",
   "metadata": {},
   "outputs": [
    {
     "data": {
      "text/plain": [
       "array([1.6, 2.3, 4.9, 5.6, 6.5])"
      ]
     },
     "execution_count": 587,
     "metadata": {},
     "output_type": "execute_result"
    }
   ],
   "source": [
    "r=np.array([1.6,2.3,4.9,5.6,6.5])\n",
    "r"
   ]
  },
  {
   "cell_type": "code",
   "execution_count": 593,
   "id": "6e5c74e1-46d4-443e-8bd5-5df151549b5a",
   "metadata": {},
   "outputs": [
    {
     "name": "stdout",
     "output_type": "stream",
     "text": [
      "[2. 2. 5. 6. 6.]\n"
     ]
    }
   ],
   "source": [
    "Round_r=np.round(r)\n",
    "print(Round_r)"
   ]
  },
  {
   "cell_type": "code",
   "execution_count": 595,
   "id": "a841abe4-f112-4115-8c7a-0314d1a34a04",
   "metadata": {},
   "outputs": [
    {
     "name": "stdout",
     "output_type": "stream",
     "text": [
      "[2.76 3.99 4.44]\n"
     ]
    }
   ],
   "source": [
    "# Round to two decimals \n",
    "r1 = np.array([2.758, 3.986, 4.444]) \n",
    "rounded_r1 = np.round(r1, decimals=2) \n",
    "print(rounded_r1)"
   ]
  },
  {
   "cell_type": "code",
   "execution_count": 605,
   "id": "c5f094bf-1717-43f0-a358-92b47c9a50d8",
   "metadata": {},
   "outputs": [
    {
     "data": {
      "text/plain": [
       "array([[25., 74., 96., 70.],\n",
       "       [94., 78., 43., 91.],\n",
       "       [41., 14., 87., 10.]])"
      ]
     },
     "execution_count": 605,
     "metadata": {},
     "output_type": "execute_result"
    }
   ],
   "source": [
    "np.round(np.random.random((3,4))*100)"
   ]
  },
  {
   "cell_type": "code",
   "execution_count": null,
   "id": "2edb4677-bd76-4f25-acbf-52f90896a702",
   "metadata": {},
   "outputs": [],
   "source": []
  },
  {
   "cell_type": "markdown",
   "id": "1ee66174-9381-4214-a4f8-fc21713c5845",
   "metadata": {},
   "source": [
    "# floor\n",
    "The numpy.floor() function returns the largest integer less than or equal to each element of an \n",
    "array. "
   ]
  },
  {
   "cell_type": "code",
   "execution_count": 610,
   "id": "d4bb25ad-e9a6-42b4-bb8c-d6de1728e5cf",
   "metadata": {},
   "outputs": [
    {
     "name": "stdout",
     "output_type": "stream",
     "text": [
      "[0. 1. 2. 3. 4. 5.]\n"
     ]
    }
   ],
   "source": [
    "# Floor operation \n",
    "f = np.array([1.2, 2.7, 3.5, 4.9]) \n",
    "floored_f = np.floor(arr) \n",
    "print(floored_f) "
   ]
  },
  {
   "cell_type": "code",
   "execution_count": 612,
   "id": "3a838ff5-0355-4008-b5d9-c512b4d1c80c",
   "metadata": {},
   "outputs": [
    {
     "data": {
      "text/plain": [
       "array([[34., 44., 37.],\n",
       "       [14., 20., 83.]])"
      ]
     },
     "execution_count": 612,
     "metadata": {},
     "output_type": "execute_result"
    }
   ],
   "source": [
    "np.floor(np.random.random((2,3))*100) "
   ]
  },
  {
   "cell_type": "code",
   "execution_count": null,
   "id": "8b8a53f0-2177-4e67-bd33-09ac5a923905",
   "metadata": {},
   "outputs": [],
   "source": []
  },
  {
   "cell_type": "markdown",
   "id": "44eb1d82-18a1-4538-bee0-c8ae86dcf735",
   "metadata": {},
   "source": [
    "# Ceil \n",
    "The numpy.ceil() function returns the smallest integer greater than or equal to each element of \n",
    "an array."
   ]
  },
  {
   "cell_type": "code",
   "execution_count": 616,
   "id": "3b8e143f-a3e9-4f04-a05f-2d2540ae6b87",
   "metadata": {},
   "outputs": [
    {
     "data": {
      "text/plain": [
       "array([1.6, 2.3, 4.9, 5.6, 6.5])"
      ]
     },
     "execution_count": 616,
     "metadata": {},
     "output_type": "execute_result"
    }
   ],
   "source": [
    "c=np.array([1.6,2.3,4.9,5.6,6.5])\n",
    "c"
   ]
  },
  {
   "cell_type": "code",
   "execution_count": 620,
   "id": "14202669-a194-47cb-be00-4bfcd7a9b205",
   "metadata": {},
   "outputs": [
    {
     "data": {
      "text/plain": [
       "array([2., 3., 5., 6., 7.])"
      ]
     },
     "execution_count": 620,
     "metadata": {},
     "output_type": "execute_result"
    }
   ],
   "source": [
    "np.ceil(c)"
   ]
  },
  {
   "cell_type": "code",
   "execution_count": 622,
   "id": "6f9d3985-40cb-4ffd-8125-7bd1366975ab",
   "metadata": {},
   "outputs": [
    {
     "data": {
      "text/plain": [
       "array([[17., 28., 31.],\n",
       "       [64., 96., 98.]])"
      ]
     },
     "execution_count": 622,
     "metadata": {},
     "output_type": "execute_result"
    }
   ],
   "source": [
    "np.ceil(np.random.random((2,3))*100) "
   ]
  },
  {
   "cell_type": "code",
   "execution_count": null,
   "id": "17b36387-f57f-45ed-9ac0-850dd24a10a6",
   "metadata": {},
   "outputs": [],
   "source": []
  },
  {
   "cell_type": "code",
   "execution_count": null,
   "id": "ba85b31b-9d1e-42e8-9a22-a293d7ce3578",
   "metadata": {},
   "outputs": [],
   "source": []
  },
  {
   "cell_type": "markdown",
   "id": "49477c81-2589-4cb9-807e-a97704f4e36d",
   "metadata": {},
   "source": [
    "# iterating"
   ]
  },
  {
   "cell_type": "code",
   "execution_count": 650,
   "id": "c07ef7c7-317d-4d6c-962d-a384ee6d5f7b",
   "metadata": {},
   "outputs": [
    {
     "data": {
      "text/plain": [
       "array([[ 0,  1,  2,  3,  4],\n",
       "       [ 5,  6,  7,  8,  9],\n",
       "       [10, 11, 12, 13, 14],\n",
       "       [15, 16, 17, 18, 19]])"
      ]
     },
     "execution_count": 650,
     "metadata": {},
     "output_type": "execute_result"
    }
   ],
   "source": [
    "a1"
   ]
  },
  {
   "cell_type": "code",
   "execution_count": 654,
   "id": "03cbc14d-2eea-4cfa-8e62-6f018f611f77",
   "metadata": {},
   "outputs": [
    {
     "name": "stdout",
     "output_type": "stream",
     "text": [
      "[0 1 2 3 4]\n",
      "[5 6 7 8 9]\n",
      "[10 11 12 13 14]\n",
      "[15 16 17 18 19]\n"
     ]
    }
   ],
   "source": [
    "for i in a1:\n",
    "  print(i)"
   ]
  },
  {
   "cell_type": "code",
   "execution_count": 656,
   "id": "0c6a929a-3815-4f0c-a01d-ca4bec719e99",
   "metadata": {},
   "outputs": [
    {
     "data": {
      "text/plain": [
       "array([0, 1, 2, 3, 4, 5])"
      ]
     },
     "execution_count": 656,
     "metadata": {},
     "output_type": "execute_result"
    }
   ],
   "source": [
    "arr"
   ]
  },
  {
   "cell_type": "code",
   "execution_count": 658,
   "id": "2e904e42-836d-4113-835f-68a7508d6a75",
   "metadata": {},
   "outputs": [
    {
     "name": "stdout",
     "output_type": "stream",
     "text": [
      "0\n",
      "1\n",
      "2\n",
      "3\n",
      "4\n",
      "5\n"
     ]
    }
   ],
   "source": [
    "for i in arr:\n",
    "    print(i)"
   ]
  },
  {
   "cell_type": "code",
   "execution_count": 662,
   "id": "a898be2c-e900-4fa1-8eed-b31fbdc8ae94",
   "metadata": {},
   "outputs": [
    {
     "name": "stdout",
     "output_type": "stream",
     "text": [
      "[[0 1 2]\n",
      " [3 4 5]\n",
      " [6 7 8]]\n",
      "[[ 9 10 11]\n",
      " [12 13 14]\n",
      " [15 16 17]]\n",
      "[[18 19 20]\n",
      " [21 22 23]\n",
      " [24 25 26]]\n"
     ]
    }
   ],
   "source": [
    "for i in x1:\n",
    "    print(i)"
   ]
  },
  {
   "cell_type": "code",
   "execution_count": 664,
   "id": "bd970f52-7dec-4cdb-bf6c-4d012d207db8",
   "metadata": {},
   "outputs": [
    {
     "name": "stdout",
     "output_type": "stream",
     "text": [
      "0\n",
      "1\n",
      "2\n",
      "3\n",
      "4\n",
      "5\n",
      "6\n",
      "7\n",
      "8\n",
      "9\n",
      "10\n",
      "11\n",
      "12\n",
      "13\n",
      "14\n",
      "15\n",
      "16\n",
      "17\n",
      "18\n",
      "19\n",
      "20\n",
      "21\n",
      "22\n",
      "23\n",
      "24\n",
      "25\n",
      "26\n"
     ]
    }
   ],
   "source": [
    "for i in np.nditer(x1):\n",
    "    print(i)"
   ]
  },
  {
   "cell_type": "code",
   "execution_count": null,
   "id": "7a8d2962-a568-4452-9f4d-62b3ee9d1875",
   "metadata": {},
   "outputs": [],
   "source": []
  },
  {
   "cell_type": "markdown",
   "id": "373e79f4-5f65-44eb-b4e2-68d586386a63",
   "metadata": {},
   "source": [
    "# Transpose\n",
    "---> Converts rows in to clumns ad columns into rows"
   ]
  },
  {
   "cell_type": "code",
   "execution_count": 667,
   "id": "5d3e3941-fa4d-4495-b9ee-07e3a75c30f4",
   "metadata": {},
   "outputs": [
    {
     "data": {
      "text/plain": [
       "array([[ 0,  1,  2,  3,  4],\n",
       "       [ 5,  6,  7,  8,  9],\n",
       "       [10, 11, 12, 13, 14],\n",
       "       [15, 16, 17, 18, 19]])"
      ]
     },
     "execution_count": 667,
     "metadata": {},
     "output_type": "execute_result"
    }
   ],
   "source": [
    "a1"
   ]
  },
  {
   "cell_type": "code",
   "execution_count": 669,
   "id": "fb610212-465e-4824-84ca-f3095c320258",
   "metadata": {},
   "outputs": [
    {
     "data": {
      "text/plain": [
       "array([[[ 0,  1,  2],\n",
       "        [ 3,  4,  5],\n",
       "        [ 6,  7,  8]],\n",
       "\n",
       "       [[ 9, 10, 11],\n",
       "        [12, 13, 14],\n",
       "        [15, 16, 17]],\n",
       "\n",
       "       [[18, 19, 20],\n",
       "        [21, 22, 23],\n",
       "        [24, 25, 26]]])"
      ]
     },
     "execution_count": 669,
     "metadata": {},
     "output_type": "execute_result"
    }
   ],
   "source": [
    "x1"
   ]
  },
  {
   "cell_type": "code",
   "execution_count": 671,
   "id": "78b50bf7-d13a-4fb6-8695-52897d4c45fb",
   "metadata": {},
   "outputs": [
    {
     "data": {
      "text/plain": [
       "array([[ 0,  5, 10, 15],\n",
       "       [ 1,  6, 11, 16],\n",
       "       [ 2,  7, 12, 17],\n",
       "       [ 3,  8, 13, 18],\n",
       "       [ 4,  9, 14, 19]])"
      ]
     },
     "execution_count": 671,
     "metadata": {},
     "output_type": "execute_result"
    }
   ],
   "source": [
    "np.transpose(a1)"
   ]
  },
  {
   "cell_type": "code",
   "execution_count": 675,
   "id": "51cc1503-e03d-4add-8025-e2f36b2f2fe4",
   "metadata": {},
   "outputs": [
    {
     "data": {
      "text/plain": [
       "array([[[ 0,  9, 18],\n",
       "        [ 3, 12, 21],\n",
       "        [ 6, 15, 24]],\n",
       "\n",
       "       [[ 1, 10, 19],\n",
       "        [ 4, 13, 22],\n",
       "        [ 7, 16, 25]],\n",
       "\n",
       "       [[ 2, 11, 20],\n",
       "        [ 5, 14, 23],\n",
       "        [ 8, 17, 26]]])"
      ]
     },
     "execution_count": 675,
     "metadata": {},
     "output_type": "execute_result"
    }
   ],
   "source": [
    "x1.T  # another method"
   ]
  },
  {
   "cell_type": "code",
   "execution_count": 677,
   "id": "548f9e0e-9685-4f07-bb22-85a539d399a9",
   "metadata": {},
   "outputs": [
    {
     "data": {
      "text/plain": [
       "array([[ 0,  5, 10, 15],\n",
       "       [ 1,  6, 11, 16],\n",
       "       [ 2,  7, 12, 17],\n",
       "       [ 3,  8, 13, 18],\n",
       "       [ 4,  9, 14, 19]])"
      ]
     },
     "execution_count": 677,
     "metadata": {},
     "output_type": "execute_result"
    }
   ],
   "source": [
    "a1.T"
   ]
  },
  {
   "cell_type": "code",
   "execution_count": null,
   "id": "51ad940d-afa2-4ecc-8bab-9005fc7919da",
   "metadata": {},
   "outputs": [],
   "source": []
  },
  {
   "cell_type": "markdown",
   "id": "6d1aa694-ecad-4e0c-8525-b3084346b322",
   "metadata": {},
   "source": [
    "# RAVEL\n",
    "Coverting any dimension to 1D \n"
   ]
  },
  {
   "cell_type": "code",
   "execution_count": 680,
   "id": "c245e843-8e1e-4813-ad26-bdcc6a8cd46f",
   "metadata": {},
   "outputs": [
    {
     "data": {
      "text/plain": [
       "array([[ 0,  1,  2,  3,  4],\n",
       "       [ 5,  6,  7,  8,  9],\n",
       "       [10, 11, 12, 13, 14],\n",
       "       [15, 16, 17, 18, 19]])"
      ]
     },
     "execution_count": 680,
     "metadata": {},
     "output_type": "execute_result"
    }
   ],
   "source": [
    "a1"
   ]
  },
  {
   "cell_type": "code",
   "execution_count": 682,
   "id": "29a57638-0f2d-4ce4-8dcf-77f87ffc62b2",
   "metadata": {},
   "outputs": [
    {
     "data": {
      "text/plain": [
       "array([[20, 21, 22, 23],\n",
       "       [24, 25, 26, 27],\n",
       "       [28, 29, 30, 31]])"
      ]
     },
     "execution_count": 682,
     "metadata": {},
     "output_type": "execute_result"
    }
   ],
   "source": [
    "a2"
   ]
  },
  {
   "cell_type": "code",
   "execution_count": 684,
   "id": "ab26a612-f640-4810-9db1-b1939a4b342c",
   "metadata": {},
   "outputs": [
    {
     "data": {
      "text/plain": [
       "array([[[ 0,  1,  2],\n",
       "        [ 3,  4,  5],\n",
       "        [ 6,  7,  8]],\n",
       "\n",
       "       [[ 9, 10, 11],\n",
       "        [12, 13, 14],\n",
       "        [15, 16, 17]],\n",
       "\n",
       "       [[18, 19, 20],\n",
       "        [21, 22, 23],\n",
       "        [24, 25, 26]]])"
      ]
     },
     "execution_count": 684,
     "metadata": {},
     "output_type": "execute_result"
    }
   ],
   "source": [
    "x1"
   ]
  },
  {
   "cell_type": "code",
   "execution_count": 686,
   "id": "abd9ae5e-a4b4-47fc-b2ad-e6b9bbb5c34b",
   "metadata": {},
   "outputs": [
    {
     "data": {
      "text/plain": [
       "array([ 0,  1,  2,  3,  4,  5,  6,  7,  8,  9, 10, 11, 12, 13, 14, 15, 16,\n",
       "       17, 18, 19])"
      ]
     },
     "execution_count": 686,
     "metadata": {},
     "output_type": "execute_result"
    }
   ],
   "source": [
    "a1.ravel()"
   ]
  },
  {
   "cell_type": "code",
   "execution_count": 688,
   "id": "a0619040-ce39-484e-b117-eb317d01f184",
   "metadata": {},
   "outputs": [
    {
     "data": {
      "text/plain": [
       "array([20, 21, 22, 23, 24, 25, 26, 27, 28, 29, 30, 31])"
      ]
     },
     "execution_count": 688,
     "metadata": {},
     "output_type": "execute_result"
    }
   ],
   "source": [
    "a2.ravel()"
   ]
  },
  {
   "cell_type": "code",
   "execution_count": 690,
   "id": "a3268457-c09e-46ca-aa67-521402f71dcc",
   "metadata": {},
   "outputs": [
    {
     "data": {
      "text/plain": [
       "array([ 0,  1,  2,  3,  4,  5,  6,  7,  8,  9, 10, 11, 12, 13, 14, 15, 16,\n",
       "       17, 18, 19, 20, 21, 22, 23, 24, 25, 26])"
      ]
     },
     "execution_count": 690,
     "metadata": {},
     "output_type": "execute_result"
    }
   ],
   "source": [
    "x1.ravel()"
   ]
  },
  {
   "cell_type": "code",
   "execution_count": null,
   "id": "ad0449a4-4663-4de9-849d-cc936a518cdb",
   "metadata": {},
   "outputs": [],
   "source": []
  },
  {
   "cell_type": "markdown",
   "id": "901e5df4-3134-44b9-ac13-6a4789cee752",
   "metadata": {},
   "source": [
    "# Stacking\n",
    "Stacking is the concept of joining arrays in NumPy. Arrays having the same dimensions can be \n",
    "stacked"
   ]
  },
  {
   "cell_type": "code",
   "execution_count": 717,
   "id": "c835db93-9380-4320-b9b4-4910f1a65888",
   "metadata": {},
   "outputs": [],
   "source": [
    "s=np.arange(15).reshape(3,5)\n",
    "s1=np.arange(10,30).reshape(4,5)\n",
    "s2=np.arange(30,45).reshape(3,5)       "
   ]
  },
  {
   "cell_type": "code",
   "execution_count": 699,
   "id": "ea9873ee-7912-45c5-b270-722ce45684b3",
   "metadata": {},
   "outputs": [
    {
     "data": {
      "text/plain": [
       "array([[ 0,  1,  2,  3,  4],\n",
       "       [ 5,  6,  7,  8,  9],\n",
       "       [10, 11, 12, 13, 14]])"
      ]
     },
     "execution_count": 699,
     "metadata": {},
     "output_type": "execute_result"
    }
   ],
   "source": [
    "s"
   ]
  },
  {
   "cell_type": "code",
   "execution_count": 701,
   "id": "f7463dfc-f6c2-44b3-a042-e3802dc3cb30",
   "metadata": {},
   "outputs": [
    {
     "data": {
      "text/plain": [
       "array([[10, 11, 12, 13, 14],\n",
       "       [15, 16, 17, 18, 19],\n",
       "       [20, 21, 22, 23, 24],\n",
       "       [25, 26, 27, 28, 29]])"
      ]
     },
     "execution_count": 701,
     "metadata": {},
     "output_type": "execute_result"
    }
   ],
   "source": [
    "s1"
   ]
  },
  {
   "cell_type": "code",
   "execution_count": 703,
   "id": "30306145-5a4d-4308-b07d-e8902cc65987",
   "metadata": {},
   "outputs": [
    {
     "data": {
      "text/plain": [
       "array([ 0,  1,  2,  3,  4,  5,  6,  7,  8,  9, 10, 11, 12, 13, 14])"
      ]
     },
     "execution_count": 703,
     "metadata": {},
     "output_type": "execute_result"
    }
   ],
   "source": [
    "np.hstack(s)  # horizontal stacking"
   ]
  },
  {
   "cell_type": "code",
   "execution_count": 705,
   "id": "c4ade1db-947e-493a-aba0-711da03b4e01",
   "metadata": {},
   "outputs": [
    {
     "ename": "ValueError",
     "evalue": "all the input array dimensions except for the concatenation axis must match exactly, but along dimension 0, the array at index 0 has size 3 and the array at index 1 has size 4",
     "output_type": "error",
     "traceback": [
      "\u001b[1;31m---------------------------------------------------------------------------\u001b[0m",
      "\u001b[1;31mValueError\u001b[0m                                Traceback (most recent call last)",
      "Cell \u001b[1;32mIn[705], line 1\u001b[0m\n\u001b[1;32m----> 1\u001b[0m np\u001b[38;5;241m.\u001b[39mhstack((s,s1))\n",
      "File \u001b[1;32m~\\anaconda3\\Lib\\site-packages\\numpy\\core\\shape_base.py:359\u001b[0m, in \u001b[0;36mhstack\u001b[1;34m(tup, dtype, casting)\u001b[0m\n\u001b[0;32m    357\u001b[0m     \u001b[38;5;28;01mreturn\u001b[39;00m _nx\u001b[38;5;241m.\u001b[39mconcatenate(arrs, \u001b[38;5;241m0\u001b[39m, dtype\u001b[38;5;241m=\u001b[39mdtype, casting\u001b[38;5;241m=\u001b[39mcasting)\n\u001b[0;32m    358\u001b[0m \u001b[38;5;28;01melse\u001b[39;00m:\n\u001b[1;32m--> 359\u001b[0m     \u001b[38;5;28;01mreturn\u001b[39;00m _nx\u001b[38;5;241m.\u001b[39mconcatenate(arrs, \u001b[38;5;241m1\u001b[39m, dtype\u001b[38;5;241m=\u001b[39mdtype, casting\u001b[38;5;241m=\u001b[39mcasting)\n",
      "\u001b[1;31mValueError\u001b[0m: all the input array dimensions except for the concatenation axis must match exactly, but along dimension 0, the array at index 0 has size 3 and the array at index 1 has size 4"
     ]
    }
   ],
   "source": [
    "np.hstack((s,s1))"
   ]
  },
  {
   "cell_type": "code",
   "execution_count": 719,
   "id": "6350d84b-2e22-49f5-b48e-3d96309375ca",
   "metadata": {},
   "outputs": [
    {
     "data": {
      "text/plain": [
       "array([[30, 31, 32, 33, 34],\n",
       "       [35, 36, 37, 38, 39],\n",
       "       [40, 41, 42, 43, 44]])"
      ]
     },
     "execution_count": 719,
     "metadata": {},
     "output_type": "execute_result"
    }
   ],
   "source": [
    "s2"
   ]
  },
  {
   "cell_type": "code",
   "execution_count": 721,
   "id": "0af99acc-e780-40a6-89a8-e8b988855e25",
   "metadata": {},
   "outputs": [
    {
     "data": {
      "text/plain": [
       "array([[ 0,  1,  2,  3,  4, 30, 31, 32, 33, 34],\n",
       "       [ 5,  6,  7,  8,  9, 35, 36, 37, 38, 39],\n",
       "       [10, 11, 12, 13, 14, 40, 41, 42, 43, 44]])"
      ]
     },
     "execution_count": 721,
     "metadata": {},
     "output_type": "execute_result"
    }
   ],
   "source": [
    "np.hstack((s,s2))"
   ]
  },
  {
   "cell_type": "code",
   "execution_count": null,
   "id": "250ec37b-00e6-44fc-82d8-d99887d66dbc",
   "metadata": {},
   "outputs": [],
   "source": []
  },
  {
   "cell_type": "code",
   "execution_count": 724,
   "id": "f167552d-5647-43ed-aeac-2540b0fcc1cb",
   "metadata": {},
   "outputs": [
    {
     "data": {
      "text/plain": [
       "array([[ 0,  1,  2,  3,  4],\n",
       "       [ 5,  6,  7,  8,  9],\n",
       "       [10, 11, 12, 13, 14]])"
      ]
     },
     "execution_count": 724,
     "metadata": {},
     "output_type": "execute_result"
    }
   ],
   "source": [
    "# vertical stacking\n",
    "np.vstack(s)"
   ]
  },
  {
   "cell_type": "code",
   "execution_count": 726,
   "id": "735d3c51-4d05-4f09-8c36-f2fcd00c0bdd",
   "metadata": {},
   "outputs": [
    {
     "data": {
      "text/plain": [
       "array([[ 0,  1,  2,  3,  4],\n",
       "       [ 5,  6,  7,  8,  9],\n",
       "       [10, 11, 12, 13, 14],\n",
       "       [30, 31, 32, 33, 34],\n",
       "       [35, 36, 37, 38, 39],\n",
       "       [40, 41, 42, 43, 44]])"
      ]
     },
     "execution_count": 726,
     "metadata": {},
     "output_type": "execute_result"
    }
   ],
   "source": [
    "np.vstack((s,s2))"
   ]
  },
  {
   "cell_type": "code",
   "execution_count": null,
   "id": "632a4bbd-92e5-4431-be7e-2ff454ba5355",
   "metadata": {},
   "outputs": [],
   "source": []
  },
  {
   "cell_type": "markdown",
   "id": "ca8639d3-0526-4dc1-9f07-d107a89967ec",
   "metadata": {},
   "source": [
    "# splitting"
   ]
  },
  {
   "cell_type": "code",
   "execution_count": 732,
   "id": "e5dc26d3-78f8-4fa1-a7a2-681c410ff089",
   "metadata": {},
   "outputs": [
    {
     "data": {
      "text/plain": [
       "array([[ 0,  1,  2,  3,  4],\n",
       "       [ 5,  6,  7,  8,  9],\n",
       "       [10, 11, 12, 13, 14]])"
      ]
     },
     "execution_count": 732,
     "metadata": {},
     "output_type": "execute_result"
    }
   ],
   "source": [
    "s"
   ]
  },
  {
   "cell_type": "code",
   "execution_count": 734,
   "id": "c3d3e4ec-64dd-40cd-9ef1-059f1c360763",
   "metadata": {},
   "outputs": [
    {
     "data": {
      "text/plain": [
       "array([[10, 11, 12, 13, 14],\n",
       "       [15, 16, 17, 18, 19],\n",
       "       [20, 21, 22, 23, 24],\n",
       "       [25, 26, 27, 28, 29]])"
      ]
     },
     "execution_count": 734,
     "metadata": {},
     "output_type": "execute_result"
    }
   ],
   "source": [
    "s1"
   ]
  },
  {
   "cell_type": "code",
   "execution_count": 736,
   "id": "36cd2688-6d84-4552-a7c2-47a4ada9779f",
   "metadata": {},
   "outputs": [
    {
     "data": {
      "text/plain": [
       "array([[30, 31, 32, 33, 34],\n",
       "       [35, 36, 37, 38, 39],\n",
       "       [40, 41, 42, 43, 44]])"
      ]
     },
     "execution_count": 736,
     "metadata": {},
     "output_type": "execute_result"
    }
   ],
   "source": [
    "s2"
   ]
  },
  {
   "cell_type": "code",
   "execution_count": 744,
   "id": "1a58b943-fa87-44c8-b2b2-2f2b0d01eb16",
   "metadata": {},
   "outputs": [
    {
     "data": {
      "text/plain": [
       "[array([[ 0],\n",
       "        [ 5],\n",
       "        [10]]),\n",
       " array([[ 1],\n",
       "        [ 6],\n",
       "        [11]]),\n",
       " array([[ 2],\n",
       "        [ 7],\n",
       "        [12]]),\n",
       " array([[ 3],\n",
       "        [ 8],\n",
       "        [13]]),\n",
       " array([[ 4],\n",
       "        [ 9],\n",
       "        [14]])]"
      ]
     },
     "execution_count": 744,
     "metadata": {},
     "output_type": "execute_result"
    }
   ],
   "source": [
    "np.hsplit(s,5) # horizontal splitting"
   ]
  },
  {
   "cell_type": "code",
   "execution_count": 746,
   "id": "a96fd9b1-80a4-4dba-8acc-15e70e598d70",
   "metadata": {},
   "outputs": [
    {
     "data": {
      "text/plain": [
       "[array([[10],\n",
       "        [15],\n",
       "        [20],\n",
       "        [25]]),\n",
       " array([[11],\n",
       "        [16],\n",
       "        [21],\n",
       "        [26]]),\n",
       " array([[12],\n",
       "        [17],\n",
       "        [22],\n",
       "        [27]]),\n",
       " array([[13],\n",
       "        [18],\n",
       "        [23],\n",
       "        [28]]),\n",
       " array([[14],\n",
       "        [19],\n",
       "        [24],\n",
       "        [29]])]"
      ]
     },
     "execution_count": 746,
     "metadata": {},
     "output_type": "execute_result"
    }
   ],
   "source": [
    "np.hsplit(s1,5)"
   ]
  },
  {
   "cell_type": "code",
   "execution_count": 750,
   "id": "19d0bd95-7685-4fb3-bbb0-47fad40434e0",
   "metadata": {},
   "outputs": [
    {
     "data": {
      "text/plain": [
       "[array([[30, 31, 32, 33, 34]]),\n",
       " array([[35, 36, 37, 38, 39]]),\n",
       " array([[40, 41, 42, 43, 44]])]"
      ]
     },
     "execution_count": 750,
     "metadata": {},
     "output_type": "execute_result"
    }
   ],
   "source": [
    "# vertical splitting\n",
    "np.vsplit(s2,3)"
   ]
  },
  {
   "cell_type": "code",
   "execution_count": 752,
   "id": "95c0b779-9297-40c8-b57c-1ccb785d0e79",
   "metadata": {},
   "outputs": [
    {
     "data": {
      "text/plain": [
       "[array([[0, 1, 2, 3, 4]]),\n",
       " array([[5, 6, 7, 8, 9]]),\n",
       " array([[10, 11, 12, 13, 14]])]"
      ]
     },
     "execution_count": 752,
     "metadata": {},
     "output_type": "execute_result"
    }
   ],
   "source": [
    "np.vsplit(s,3)"
   ]
  },
  {
   "cell_type": "code",
   "execution_count": null,
   "id": "2a515e41-1194-4737-bfe0-e0be6b184ead",
   "metadata": {},
   "outputs": [],
   "source": []
  },
  {
   "cell_type": "markdown",
   "id": "6aee26aa-b4f4-4dc4-8cc6-33ad80ef1321",
   "metadata": {},
   "source": [
    "# Plotting Graphs"
   ]
  },
  {
   "cell_type": "code",
   "execution_count": 775,
   "id": "f4325743-3933-4777-b04d-69effa4eec85",
   "metadata": {},
   "outputs": [
    {
     "data": {
      "text/plain": [
       "array([-30.        , -29.49494949, -28.98989899, -28.48484848,\n",
       "       -27.97979798, -27.47474747, -26.96969697, -26.46464646,\n",
       "       -25.95959596, -25.45454545, -24.94949495, -24.44444444,\n",
       "       -23.93939394, -23.43434343, -22.92929293, -22.42424242,\n",
       "       -21.91919192, -21.41414141, -20.90909091, -20.4040404 ,\n",
       "       -19.8989899 , -19.39393939, -18.88888889, -18.38383838,\n",
       "       -17.87878788, -17.37373737, -16.86868687, -16.36363636,\n",
       "       -15.85858586, -15.35353535, -14.84848485, -14.34343434,\n",
       "       -13.83838384, -13.33333333, -12.82828283, -12.32323232,\n",
       "       -11.81818182, -11.31313131, -10.80808081, -10.3030303 ,\n",
       "        -9.7979798 ,  -9.29292929,  -8.78787879,  -8.28282828,\n",
       "        -7.77777778,  -7.27272727,  -6.76767677,  -6.26262626,\n",
       "        -5.75757576,  -5.25252525,  -4.74747475,  -4.24242424,\n",
       "        -3.73737374,  -3.23232323,  -2.72727273,  -2.22222222,\n",
       "        -1.71717172,  -1.21212121,  -0.70707071,  -0.2020202 ,\n",
       "         0.3030303 ,   0.80808081,   1.31313131,   1.81818182,\n",
       "         2.32323232,   2.82828283,   3.33333333,   3.83838384,\n",
       "         4.34343434,   4.84848485,   5.35353535,   5.85858586,\n",
       "         6.36363636,   6.86868687,   7.37373737,   7.87878788,\n",
       "         8.38383838,   8.88888889,   9.39393939,   9.8989899 ,\n",
       "        10.4040404 ,  10.90909091,  11.41414141,  11.91919192,\n",
       "        12.42424242,  12.92929293,  13.43434343,  13.93939394,\n",
       "        14.44444444,  14.94949495,  15.45454545,  15.95959596,\n",
       "        16.46464646,  16.96969697,  17.47474747,  17.97979798,\n",
       "        18.48484848,  18.98989899,  19.49494949,  20.        ])"
      ]
     },
     "execution_count": 775,
     "metadata": {},
     "output_type": "execute_result"
    }
   ],
   "source": [
    "x=np.linspace(-30,20,100)\n",
    "x"
   ]
  },
  {
   "cell_type": "code",
   "execution_count": 777,
   "id": "617b812a-9781-4c3d-b74e-1bd14ede47a5",
   "metadata": {},
   "outputs": [],
   "source": [
    "y=x"
   ]
  },
  {
   "cell_type": "code",
   "execution_count": 779,
   "id": "77e523c0-ed7a-48cb-b551-614368cb55ad",
   "metadata": {},
   "outputs": [
    {
     "data": {
      "text/plain": [
       "array([-30.        , -29.49494949, -28.98989899, -28.48484848,\n",
       "       -27.97979798, -27.47474747, -26.96969697, -26.46464646,\n",
       "       -25.95959596, -25.45454545, -24.94949495, -24.44444444,\n",
       "       -23.93939394, -23.43434343, -22.92929293, -22.42424242,\n",
       "       -21.91919192, -21.41414141, -20.90909091, -20.4040404 ,\n",
       "       -19.8989899 , -19.39393939, -18.88888889, -18.38383838,\n",
       "       -17.87878788, -17.37373737, -16.86868687, -16.36363636,\n",
       "       -15.85858586, -15.35353535, -14.84848485, -14.34343434,\n",
       "       -13.83838384, -13.33333333, -12.82828283, -12.32323232,\n",
       "       -11.81818182, -11.31313131, -10.80808081, -10.3030303 ,\n",
       "        -9.7979798 ,  -9.29292929,  -8.78787879,  -8.28282828,\n",
       "        -7.77777778,  -7.27272727,  -6.76767677,  -6.26262626,\n",
       "        -5.75757576,  -5.25252525,  -4.74747475,  -4.24242424,\n",
       "        -3.73737374,  -3.23232323,  -2.72727273,  -2.22222222,\n",
       "        -1.71717172,  -1.21212121,  -0.70707071,  -0.2020202 ,\n",
       "         0.3030303 ,   0.80808081,   1.31313131,   1.81818182,\n",
       "         2.32323232,   2.82828283,   3.33333333,   3.83838384,\n",
       "         4.34343434,   4.84848485,   5.35353535,   5.85858586,\n",
       "         6.36363636,   6.86868687,   7.37373737,   7.87878788,\n",
       "         8.38383838,   8.88888889,   9.39393939,   9.8989899 ,\n",
       "        10.4040404 ,  10.90909091,  11.41414141,  11.91919192,\n",
       "        12.42424242,  12.92929293,  13.43434343,  13.93939394,\n",
       "        14.44444444,  14.94949495,  15.45454545,  15.95959596,\n",
       "        16.46464646,  16.96969697,  17.47474747,  17.97979798,\n",
       "        18.48484848,  18.98989899,  19.49494949,  20.        ])"
      ]
     },
     "execution_count": 779,
     "metadata": {},
     "output_type": "execute_result"
    }
   ],
   "source": [
    "y"
   ]
  },
  {
   "cell_type": "code",
   "execution_count": 781,
   "id": "b25c911b-671e-44c5-9118-eea7426ec900",
   "metadata": {},
   "outputs": [
    {
     "data": {
      "text/plain": [
       "[<matplotlib.lines.Line2D at 0x1bbd5b16b40>]"
      ]
     },
     "execution_count": 781,
     "metadata": {},
     "output_type": "execute_result"
    },
    {
     "data": {
      "image/png": "[encoded data removed]",
      "text/plain": [
       "<Figure size 640x480 with 1 Axes>"
      ]
     },
     "metadata": {},
     "output_type": "display_data"
    }
   ],
   "source": [
    "import matplotlib.pyplot as plt\n",
    "plt.plot(x,y)"
   ]
  },
  {
   "cell_type": "code",
   "execution_count": null,
   "id": "66daf775-cca7-4e46-bec8-da61dd087dba",
   "metadata": {},
   "outputs": [],
   "source": []
  },
  {
   "cell_type": "code",
   "execution_count": 785,
   "id": "be62ab63-edf3-4e0c-b625-be1a8c36e225",
   "metadata": {},
   "outputs": [],
   "source": [
    "y=x**2"
   ]
  },
  {
   "cell_type": "code",
   "execution_count": 787,
   "id": "3e79be63-7a60-4795-bac6-aeb94913c2cb",
   "metadata": {},
   "outputs": [
    {
     "data": {
      "text/plain": [
       "array([9.00000000e+02, 8.69952046e+02, 8.40414243e+02, 8.11386593e+02,\n",
       "       7.82869095e+02, 7.54861749e+02, 7.27364555e+02, 7.00377512e+02,\n",
       "       6.73900622e+02, 6.47933884e+02, 6.22477298e+02, 5.97530864e+02,\n",
       "       5.73094582e+02, 5.49168452e+02, 5.25752474e+02, 5.02846648e+02,\n",
       "       4.80450974e+02, 4.58565453e+02, 4.37190083e+02, 4.16324865e+02,\n",
       "       3.95969799e+02, 3.76124885e+02, 3.56790123e+02, 3.37965514e+02,\n",
       "       3.19651056e+02, 3.01846750e+02, 2.84552597e+02, 2.67768595e+02,\n",
       "       2.51494745e+02, 2.35731048e+02, 2.20477502e+02, 2.05734109e+02,\n",
       "       1.91500867e+02, 1.77777778e+02, 1.64564840e+02, 1.51862055e+02,\n",
       "       1.39669421e+02, 1.27986940e+02, 1.16814611e+02, 1.06152433e+02,\n",
       "       9.60004081e+01, 8.63585348e+01, 7.72268136e+01, 6.86052444e+01,\n",
       "       6.04938272e+01, 5.28925620e+01, 4.58014488e+01, 3.92204877e+01,\n",
       "       3.31496786e+01, 2.75890215e+01, 2.25385165e+01, 1.79981635e+01,\n",
       "       1.39679625e+01, 1.04479135e+01, 7.43801653e+00, 4.93827160e+00,\n",
       "       2.94867871e+00, 1.46923783e+00, 4.99948985e-01, 4.08121620e-02,\n",
       "       9.18273646e-02, 6.52994592e-01, 1.72431385e+00, 3.30578512e+00,\n",
       "       5.39740843e+00, 7.99918376e+00, 1.11111111e+01, 1.47331905e+01,\n",
       "       1.88654219e+01, 2.35078053e+01, 2.86603408e+01, 3.43230283e+01,\n",
       "       4.04958678e+01, 4.71788593e+01, 5.43720029e+01, 6.20752984e+01,\n",
       "       7.02887460e+01, 7.90123457e+01, 8.82460973e+01, 9.79900010e+01,\n",
       "       1.08244057e+02, 1.19008264e+02, 1.30282624e+02, 1.42067136e+02,\n",
       "       1.54361800e+02, 1.67166616e+02, 1.80481584e+02, 1.94306703e+02,\n",
       "       2.08641975e+02, 2.23487399e+02, 2.38842975e+02, 2.54708703e+02,\n",
       "       2.71084583e+02, 2.87970615e+02, 3.05366799e+02, 3.23273135e+02,\n",
       "       3.41689624e+02, 3.60616264e+02, 3.80053056e+02, 4.00000000e+02])"
      ]
     },
     "execution_count": 787,
     "metadata": {},
     "output_type": "execute_result"
    }
   ],
   "source": [
    "y"
   ]
  },
  {
   "cell_type": "code",
   "execution_count": 789,
   "id": "8a252284-456e-49b4-ab18-8f425eb3d265",
   "metadata": {},
   "outputs": [
    {
     "data": {
      "text/plain": [
       "[<matplotlib.lines.Line2D at 0x1bbd5d51e20>]"
      ]
     },
     "execution_count": 789,
     "metadata": {},
     "output_type": "execute_result"
    },
    {
     "data": {
      "image/png": "[encoded data removed]",
      "text/plain": [
       "<Figure size 640x480 with 1 Axes>"
      ]
     },
     "metadata": {},
     "output_type": "display_data"
    }
   ],
   "source": [
    "plt.plot(x,y)"
   ]
  },
  {
   "cell_type": "code",
   "execution_count": 791,
   "id": "1c789307-7129-4389-8546-12d47e77baa1",
   "metadata": {},
   "outputs": [],
   "source": [
    "y=np.sin(x)"
   ]
  },
  {
   "cell_type": "code",
   "execution_count": 793,
   "id": "adca546c-6d85-45ab-8a73-1bd3a1ae8ac6",
   "metadata": {},
   "outputs": [
    {
     "data": {
      "text/plain": [
       "[<matplotlib.lines.Line2D at 0x1bbd6133590>]"
      ]
     },
     "execution_count": 793,
     "metadata": {},
     "output_type": "execute_result"
    },
    {
     "data": {
      "image/png": "[encoded data removed]",
      "text/plain": [
       "<Figure size 640x480 with 1 Axes>"
      ]
     },
     "metadata": {},
     "output_type": "display_data"
    }
   ],
   "source": [
    "plt.plot(x,y)"
   ]
  },
  {
   "cell_type": "code",
   "execution_count": null,
   "id": "3b3cdddc-b11f-4938-90c8-34cf32a6e3f4",
   "metadata": {},
   "outputs": [],
   "source": []
  },
  {
   "cell_type": "code",
   "execution_count": 797,
   "id": "953972e1-2e32-489e-bc29-9dea1cadacf1",
   "metadata": {},
   "outputs": [
    {
     "name": "stderr",
     "output_type": "stream",
     "text": [
      "C:\\Users\\srisa\\AppData\\Local\\Temp\\ipykernel_2296\\2675330165.py:1: RuntimeWarning: invalid value encountered in log\n",
      "  y=x * np.log(x)\n"
     ]
    }
   ],
   "source": [
    "y=x * np.log(x)"
   ]
  },
  {
   "cell_type": "code",
   "execution_count": 799,
   "id": "bdc7ac45-4277-41a2-9084-1d3adede37d2",
   "metadata": {},
   "outputs": [
    {
     "data": {
      "text/plain": [
       "[<matplotlib.lines.Line2D at 0x1bbd65c81a0>]"
      ]
     },
     "execution_count": 799,
     "metadata": {},
     "output_type": "execute_result"
    },
    {
     "data": {
      "image/png": "[encoded data removed]",
      "text/plain": [
       "<Figure size 640x480 with 1 Axes>"
      ]
     },
     "metadata": {},
     "output_type": "display_data"
    }
   ],
   "source": [
    "plt.plot(x,y)"
   ]
  },
  {
   "cell_type": "code",
   "execution_count": null,
   "id": "5a1f9820-cf72-463f-a810-136577868a22",
   "metadata": {},
   "outputs": [],
   "source": []
  },
  {
   "cell_type": "code",
   "execution_count": 803,
   "id": "ec28a89b-7d84-4517-8ac3-0f026758834a",
   "metadata": {},
   "outputs": [
    {
     "data": {
      "text/plain": [
       "[<matplotlib.lines.Line2D at 0x1bbd5da3080>]"
      ]
     },
     "execution_count": 803,
     "metadata": {},
     "output_type": "execute_result"
    },
    {
     "data": {
      "image/png": "[encoded data removed]",
      "text/plain": [
       "<Figure size 640x480 with 1 Axes>"
      ]
     },
     "metadata": {},
     "output_type": "display_data"
    }
   ],
   "source": [
    "y = 1/(1+np.exp(-x)) \n",
    " \n",
    "plt.plot(x,y) \n"
   ]
  },
  {
   "cell_type": "code",
   "execution_count": null,
   "id": "151bb1c9-96cd-4304-b2a5-f6849a8ffa32",
   "metadata": {},
   "outputs": [],
   "source": []
  },
  {
   "cell_type": "code",
   "execution_count": 808,
   "id": "535f1acc-2f69-40d5-bbb5-af67282e947b",
   "metadata": {},
   "outputs": [],
   "source": [
    "y=np.tan(x)\n"
   ]
  },
  {
   "cell_type": "code",
   "execution_count": 810,
   "id": "1ae3b12c-ee80-4634-9e47-94c4b1c58fc5",
   "metadata": {},
   "outputs": [
    {
     "data": {
      "text/plain": [
       "[<matplotlib.lines.Line2D at 0x1bbd5c4f140>]"
      ]
     },
     "execution_count": 810,
     "metadata": {},
     "output_type": "execute_result"
    },
    {
     "data": {
      "image/png": "[encoded data removed]",
      "text/plain": [
       "<Figure size 640x480 with 1 Axes>"
      ]
     },
     "metadata": {},
     "output_type": "display_data"
    }
   ],
   "source": [
    "plt.plot(x,y)"
   ]
  },
  {
   "cell_type": "code",
   "execution_count": null,
   "id": "1b938756-abce-412f-863b-f8c716a1d8fc",
   "metadata": {},
   "outputs": [],
   "source": []
  },
  {
   "cell_type": "code",
   "execution_count": 813,
   "id": "9a6c9a59-894c-499c-a756-74d8e44d773d",
   "metadata": {},
   "outputs": [],
   "source": [
    "y = np.cos(x)"
   ]
  },
  {
   "cell_type": "code",
   "execution_count": 815,
   "id": "6276ee33-10ca-4fb3-9803-a5f967d87807",
   "metadata": {},
   "outputs": [
    {
     "data": {
      "text/plain": [
       "[<matplotlib.lines.Line2D at 0x1bbd5ed2900>]"
      ]
     },
     "execution_count": 815,
     "metadata": {},
     "output_type": "execute_result"
    },
    {
     "data": {
      "image/png": "[encoded data removed]",
      "text/plain": [
       "<Figure size 640x480 with 1 Axes>"
      ]
     },
     "metadata": {},
     "output_type": "display_data"
    }
   ],
   "source": [
    "plt.plot(x,y)"
   ]
  },
  {
   "cell_type": "code",
   "execution_count": null,
   "id": "da68c957-7162-4f0e-bdcf-59f987c8464f",
   "metadata": {},
   "outputs": [],
   "source": []
  },
  {
   "cell_type": "markdown",
   "id": "90da74b4-e869-4113-8549-62ca7054ccd7",
   "metadata": {},
   "source": [
    "# MESH GRID\n",
    "Meshgrids are a way to create coordinate matrices from coordinate vectors. In NumPy, \n",
    " \n",
    "the meshgrid function is used to generate a coordinate grid given 1D coordinate arrays. It \n",
    "produces two 2D arrays representing the x and y coordinates of each point on the grid \n",
    " \n",
    " \n",
    " \n",
    "The np.meshgrid function is used primarily for \n",
    " \n",
    " Creating/Plotting 2D functions f(x,y) \n",
    " Generating combinations of 2 or more numbers "
   ]
  },
  {
   "cell_type": "code",
   "execution_count": 850,
   "id": "a77a4330-4b18-4ae1-a270-1a5b057e5556",
   "metadata": {},
   "outputs": [],
   "source": [
    "x=np.linspace(-10,10,100)\n",
    "y=np.linspace(-10,10,100)"
   ]
  },
  {
   "cell_type": "code",
   "execution_count": 852,
   "id": "a157e81e-3b45-4f5d-9b7d-5f3238dc7a04",
   "metadata": {},
   "outputs": [
    {
     "data": {
      "text/plain": [
       "array([-40.        , -39.19191919, -38.38383838, -37.57575758,\n",
       "       -36.76767677, -35.95959596, -35.15151515, -34.34343434,\n",
       "       -33.53535354, -32.72727273, -31.91919192, -31.11111111,\n",
       "       -30.3030303 , -29.49494949, -28.68686869, -27.87878788,\n",
       "       -27.07070707, -26.26262626, -25.45454545, -24.64646465,\n",
       "       -23.83838384, -23.03030303, -22.22222222, -21.41414141,\n",
       "       -20.60606061, -19.7979798 , -18.98989899, -18.18181818,\n",
       "       -17.37373737, -16.56565657, -15.75757576, -14.94949495,\n",
       "       -14.14141414, -13.33333333, -12.52525253, -11.71717172,\n",
       "       -10.90909091, -10.1010101 ,  -9.29292929,  -8.48484848,\n",
       "        -7.67676768,  -6.86868687,  -6.06060606,  -5.25252525,\n",
       "        -4.44444444,  -3.63636364,  -2.82828283,  -2.02020202,\n",
       "        -1.21212121,  -0.4040404 ,   0.4040404 ,   1.21212121,\n",
       "         2.02020202,   2.82828283,   3.63636364,   4.44444444,\n",
       "         5.25252525,   6.06060606,   6.86868687,   7.67676768,\n",
       "         8.48484848,   9.29292929,  10.1010101 ,  10.90909091,\n",
       "        11.71717172,  12.52525253,  13.33333333,  14.14141414,\n",
       "        14.94949495,  15.75757576,  16.56565657,  17.37373737,\n",
       "        18.18181818,  18.98989899,  19.7979798 ,  20.60606061,\n",
       "        21.41414141,  22.22222222,  23.03030303,  23.83838384,\n",
       "        24.64646465,  25.45454545,  26.26262626,  27.07070707,\n",
       "        27.87878788,  28.68686869,  29.49494949,  30.3030303 ,\n",
       "        31.11111111,  31.91919192,  32.72727273,  33.53535354,\n",
       "        34.34343434,  35.15151515,  35.95959596,  36.76767677,\n",
       "        37.57575758,  38.38383838,  39.19191919,  40.        ])"
      ]
     },
     "execution_count": 852,
     "metadata": {},
     "output_type": "execute_result"
    }
   ],
   "source": [
    "f=x*2 + y*2\n",
    "f"
   ]
  },
  {
   "cell_type": "code",
   "execution_count": null,
   "id": "7be7a1ac-d5b3-41d3-8470-054ef830d2d3",
   "metadata": {},
   "outputs": [],
   "source": []
  },
  {
   "cell_type": "code",
   "execution_count": 856,
   "id": "c2d36529-de7c-4efb-8e90-06f40b8063df",
   "metadata": {},
   "outputs": [
    {
     "data": {
      "image/png": "[encoded data removed]",
      "text/plain": [
       "<Figure size 500x200 with 1 Axes>"
      ]
     },
     "metadata": {},
     "output_type": "display_data"
    }
   ],
   "source": [
    "plt.figure(figsize=(5,2)) \n",
    "plt.plot(f) \n",
    "plt.show() "
   ]
  },
  {
   "cell_type": "code",
   "execution_count": null,
   "id": "f99fddbf-f27c-45bd-8d9f-5ac784bbfb3b",
   "metadata": {},
   "outputs": [],
   "source": []
  },
  {
   "cell_type": "code",
   "execution_count": 860,
   "id": "f6355d0a-2c1a-48d9-846f-1dbdcbf800f8",
   "metadata": {},
   "outputs": [
    {
     "data": {
      "text/plain": [
       "array([0, 1, 2, 3])"
      ]
     },
     "execution_count": 860,
     "metadata": {},
     "output_type": "execute_result"
    }
   ],
   "source": [
    "x=np.arange(4)\n",
    "x"
   ]
  },
  {
   "cell_type": "code",
   "execution_count": 866,
   "id": "ec25892f-cab1-45a5-b666-c24b3fd0bf22",
   "metadata": {},
   "outputs": [
    {
     "data": {
      "text/plain": [
       "array([0, 1, 2, 3])"
      ]
     },
     "execution_count": 866,
     "metadata": {},
     "output_type": "execute_result"
    }
   ],
   "source": [
    "y=np.arange(4)\n",
    "y"
   ]
  },
  {
   "cell_type": "code",
   "execution_count": null,
   "id": "d6529421-8bda-4c07-ac77-1c30c963f93b",
   "metadata": {},
   "outputs": [],
   "source": []
  },
  {
   "cell_type": "code",
   "execution_count": 868,
   "id": "34ee3978-ccae-4dbc-a1ae-f6cad407ad57",
   "metadata": {},
   "outputs": [],
   "source": [
    "xv ,yv = np.meshgrid(x,y) "
   ]
  },
  {
   "cell_type": "code",
   "execution_count": 870,
   "id": "d2040554-6992-46d2-8b79-f28b86f6b36a",
   "metadata": {},
   "outputs": [
    {
     "data": {
      "text/plain": [
       "array([[0, 1, 2, 3],\n",
       "       [0, 1, 2, 3],\n",
       "       [0, 1, 2, 3],\n",
       "       [0, 1, 2, 3]])"
      ]
     },
     "execution_count": 870,
     "metadata": {},
     "output_type": "execute_result"
    }
   ],
   "source": [
    "xv"
   ]
  },
  {
   "cell_type": "code",
   "execution_count": 873,
   "id": "1fc7b968-468e-4154-bcf0-5e07bbc06b7c",
   "metadata": {},
   "outputs": [
    {
     "data": {
      "text/plain": [
       "array([[0, 0, 0, 0],\n",
       "       [1, 1, 1, 1],\n",
       "       [2, 2, 2, 2],\n",
       "       [3, 3, 3, 3]])"
      ]
     },
     "execution_count": 873,
     "metadata": {},
     "output_type": "execute_result"
    }
   ],
   "source": [
    "yv"
   ]
  },
  {
   "cell_type": "code",
   "execution_count": null,
   "id": "274e3e12-1210-472d-b7f8-1672f0c992c9",
   "metadata": {},
   "outputs": [],
   "source": []
  },
  {
   "cell_type": "code",
   "execution_count": 875,
   "id": "bc17a3eb-49c8-45f6-933f-c1ce7ee84753",
   "metadata": {},
   "outputs": [
    {
     "name": "stdout",
     "output_type": "stream",
     "text": [
      "[-4. -3. -2. -1.  0.  1.  2.  3.  4.]\n",
      "[-5. -4. -3. -2. -1.  0.  1.  2.  3.  4.  5.]\n"
     ]
    }
   ],
   "source": [
    "P = np.linspace(-4, 4, 9) \n",
    "V = np.linspace(-5, 5, 11) \n",
    "print(P) \n",
    "print(V)"
   ]
  },
  {
   "cell_type": "code",
   "execution_count": 877,
   "id": "69dfcf94-1f4c-41aa-9412-4b5e377e2492",
   "metadata": {},
   "outputs": [],
   "source": [
    "P_1, V_1 = np.meshgrid(P,V)   "
   ]
  },
  {
   "cell_type": "code",
   "execution_count": 879,
   "id": "2967d307-a089-4dd2-b646-3299c5288173",
   "metadata": {},
   "outputs": [
    {
     "data": {
      "text/plain": [
       "array([[-4., -3., -2., -1.,  0.,  1.,  2.,  3.,  4.],\n",
       "       [-4., -3., -2., -1.,  0.,  1.,  2.,  3.,  4.],\n",
       "       [-4., -3., -2., -1.,  0.,  1.,  2.,  3.,  4.],\n",
       "       [-4., -3., -2., -1.,  0.,  1.,  2.,  3.,  4.],\n",
       "       [-4., -3., -2., -1.,  0.,  1.,  2.,  3.,  4.],\n",
       "       [-4., -3., -2., -1.,  0.,  1.,  2.,  3.,  4.],\n",
       "       [-4., -3., -2., -1.,  0.,  1.,  2.,  3.,  4.],\n",
       "       [-4., -3., -2., -1.,  0.,  1.,  2.,  3.,  4.],\n",
       "       [-4., -3., -2., -1.,  0.,  1.,  2.,  3.,  4.],\n",
       "       [-4., -3., -2., -1.,  0.,  1.,  2.,  3.,  4.],\n",
       "       [-4., -3., -2., -1.,  0.,  1.,  2.,  3.,  4.]])"
      ]
     },
     "execution_count": 879,
     "metadata": {},
     "output_type": "execute_result"
    }
   ],
   "source": [
    "P_1"
   ]
  },
  {
   "cell_type": "code",
   "execution_count": 881,
   "id": "860eefa5-add4-4c72-bde2-49195f012628",
   "metadata": {},
   "outputs": [
    {
     "data": {
      "text/plain": [
       "array([[-5., -5., -5., -5., -5., -5., -5., -5., -5.],\n",
       "       [-4., -4., -4., -4., -4., -4., -4., -4., -4.],\n",
       "       [-3., -3., -3., -3., -3., -3., -3., -3., -3.],\n",
       "       [-2., -2., -2., -2., -2., -2., -2., -2., -2.],\n",
       "       [-1., -1., -1., -1., -1., -1., -1., -1., -1.],\n",
       "       [ 0.,  0.,  0.,  0.,  0.,  0.,  0.,  0.,  0.],\n",
       "       [ 1.,  1.,  1.,  1.,  1.,  1.,  1.,  1.,  1.],\n",
       "       [ 2.,  2.,  2.,  2.,  2.,  2.,  2.,  2.,  2.],\n",
       "       [ 3.,  3.,  3.,  3.,  3.,  3.,  3.,  3.,  3.],\n",
       "       [ 4.,  4.,  4.,  4.,  4.,  4.,  4.,  4.,  4.],\n",
       "       [ 5.,  5.,  5.,  5.,  5.,  5.,  5.,  5.,  5.]])"
      ]
     },
     "execution_count": 881,
     "metadata": {},
     "output_type": "execute_result"
    }
   ],
   "source": [
    "V_1"
   ]
  },
  {
   "cell_type": "code",
   "execution_count": null,
   "id": "fbbf26aa-4d9d-4838-bd97-7dcb91d5afff",
   "metadata": {},
   "outputs": [],
   "source": []
  },
  {
   "cell_type": "code",
   "execution_count": 883,
   "id": "4ed2ccf9-d477-47a4-a4c0-11fcc9efb12a",
   "metadata": {},
   "outputs": [
    {
     "data": {
      "text/plain": [
       "array([[ 0,  1,  4,  9],\n",
       "       [ 1,  2,  5, 10],\n",
       "       [ 4,  5,  8, 13],\n",
       "       [ 9, 10, 13, 18]])"
      ]
     },
     "execution_count": 883,
     "metadata": {},
     "output_type": "execute_result"
    }
   ],
   "source": [
    "xv**2 + yv**2 "
   ]
  },
  {
   "cell_type": "code",
   "execution_count": null,
   "id": "5b61c7b5-29e7-49ca-b3fc-e8130cad27c7",
   "metadata": {},
   "outputs": [],
   "source": []
  },
  {
   "cell_type": "code",
   "execution_count": 885,
   "id": "6330d042-1f39-48f6-8dfd-5b6c601e59ec",
   "metadata": {},
   "outputs": [],
   "source": [
    "x = np.linspace(-2,2,100) \n",
    "y = np.linspace(-1,1,100) \n",
    "xv, yv = np.meshgrid(x, y) \n",
    "f = np.exp(-xv**2-yv**2)"
   ]
  },
  {
   "cell_type": "code",
   "execution_count": null,
   "id": "9cae5247-7cfb-4193-8c97-7378fdefa533",
   "metadata": {},
   "outputs": [],
   "source": []
  },
  {
   "cell_type": "code",
   "execution_count": 889,
   "id": "3a3691f7-336d-4686-ab96-ba50ec9626e8",
   "metadata": {},
   "outputs": [
    {
     "data": {
      "image/png": "[encoded data removed]",
      "text/plain": [
       "<Figure size 600x300 with 2 Axes>"
      ]
     },
     "metadata": {},
     "output_type": "display_data"
    }
   ],
   "source": [
    "plt.figure(figsize=(6, 3)) \n",
    "plt.pcolormesh(xv, yv, f, shading='gouraud') \n",
    "plt.colorbar() \n",
    "plt.grid() \n",
    "plt.show()"
   ]
  },
  {
   "cell_type": "code",
   "execution_count": 897,
   "id": "bd18feb3-192b-475b-967f-0aafec81e00a",
   "metadata": {},
   "outputs": [
    {
     "data": {
      "image/png": "[encoded data removed]",
      "text/plain": [
       "<Figure size 640x480 with 2 Axes>"
      ]
     },
     "metadata": {},
     "output_type": "display_data"
    }
   ],
   "source": [
    "def f(x, y): \n",
    "    return np.where((x**2 + y**2 < 1), 1.0, 0.0) \n",
    " \n",
    "x = np.linspace(-5, 5, 500) \n",
    "y = np.linspace(-5, 5, 500) \n",
    "xv, yv = np.meshgrid(x, y) \n",
    "rectangular_mask = f(xv, yv) \n",
    " \n",
    "plt.pcolormesh(xv, yv, rectangular_mask, shading='nearest') \n",
    "plt.colorbar() \n",
    "plt.grid() \n",
    "plt.show() "
   ]
  },
  {
   "cell_type": "code",
   "execution_count": null,
   "id": "972b4918-45bb-4a78-b2a1-3d1f709e7628",
   "metadata": {},
   "outputs": [],
   "source": []
  },
  {
   "cell_type": "code",
   "execution_count": 899,
   "id": "fd9e9cdb-c425-42bf-b52f-ceef4c53b40b",
   "metadata": {},
   "outputs": [],
   "source": [
    "x = np.linspace(-4, 4, 9) "
   ]
  },
  {
   "cell_type": "code",
   "execution_count": 901,
   "id": "aaaa8d21-e12b-4e7b-beee-48098ecdac4a",
   "metadata": {},
   "outputs": [],
   "source": [
    "y = np.linspace(-5, 5, 11) "
   ]
  },
  {
   "cell_type": "code",
   "execution_count": 905,
   "id": "ad9c6be1-74eb-4e1a-890d-9650aebe458f",
   "metadata": {},
   "outputs": [],
   "source": [
    "x_1, y_1 = np.meshgrid(x, y) "
   ]
  },
  {
   "cell_type": "code",
   "execution_count": 907,
   "id": "034611d0-8c10-4dc0-a5ea-23a203f991bd",
   "metadata": {},
   "outputs": [
    {
     "data": {
      "image/png": "[encoded data removed]",
      "text/plain": [
       "<Figure size 640x480 with 2 Axes>"
      ]
     },
     "metadata": {},
     "output_type": "display_data"
    }
   ],
   "source": [
    "random_data = np.random.random((11, 9)) \n",
    "plt.contourf(x_1, y_1, random_data, cmap = 'jet') \n",
    " \n",
    "plt.colorbar() \n",
    "plt.show()"
   ]
  },
  {
   "cell_type": "code",
   "execution_count": null,
   "id": "9267a969-e186-4aa0-89c4-e83158069f20",
   "metadata": {},
   "outputs": [],
   "source": []
  },
  {
   "cell_type": "code",
   "execution_count": 915,
   "id": "a81fad81-daa4-4f54-ac66-46a256409621",
   "metadata": {},
   "outputs": [
    {
     "name": "stderr",
     "output_type": "stream",
     "text": [
      "C:\\Users\\srisa\\AppData\\Local\\Temp\\ipykernel_2296\\2872376425.py:1: RuntimeWarning: invalid value encountered in divide\n",
      "  sine = (np.sin(x_1**2 + y_1**2))/(x_1**2 + y_1**2)\n"
     ]
    },
    {
     "data": {
      "image/png": "[encoded data removed]",
      "text/plain": [
       "<Figure size 640x480 with 2 Axes>"
      ]
     },
     "metadata": {},
     "output_type": "display_data"
    }
   ],
   "source": [
    "sine = (np.sin(x_1**2 + y_1**2))/(x_1**2 + y_1**2) \n",
    "plt.contourf(x_1, y_1, sine, cmap = 'jet') \n",
    " \n",
    "plt.colorbar() \n",
    "plt.show() "
   ]
  },
  {
   "cell_type": "code",
   "execution_count": null,
   "id": "5a65f859-1c5d-427a-bcb1-4afb3699b0f6",
   "metadata": {},
   "outputs": [],
   "source": []
  },
  {
   "cell_type": "markdown",
   "id": "1979ddee-5191-42e3-83fb-4ad3dd64f106",
   "metadata": {},
   "source": [
    "#  np.sort  \n",
    "Return a sorted copy of an array."
   ]
  },
  {
   "cell_type": "code",
   "execution_count": 918,
   "id": "e2f0ad0e-9ade-4264-9266-a04731bf0dc7",
   "metadata": {},
   "outputs": [
    {
     "data": {
      "text/plain": [
       "array([ 6, 39, 84, 10, 27, 92, 93,  3, 34, 23, 86, 26, 61, 28, 70, 25, 50,\n",
       "       24, 16, 43])"
      ]
     },
     "execution_count": 918,
     "metadata": {},
     "output_type": "execute_result"
    }
   ],
   "source": [
    "a = np.random.randint(1,100,20) #1D \n",
    "a "
   ]
  },
  {
   "cell_type": "code",
   "execution_count": 922,
   "id": "e0989cfa-97e6-4ed5-b055-87083bfdf723",
   "metadata": {},
   "outputs": [
    {
     "data": {
      "text/plain": [
       "array([[93, 38, 62, 32, 22, 14],\n",
       "       [35, 35, 36, 28, 53,  1],\n",
       "       [61, 64, 68, 44, 76, 44],\n",
       "       [21, 94, 20, 48, 70, 48],\n",
       "       [ 2, 79, 22, 26, 83, 18]])"
      ]
     },
     "execution_count": 922,
     "metadata": {},
     "output_type": "execute_result"
    }
   ],
   "source": [
    "b=np.random.randint(0,100,30).reshape(5,6)\n",
    "b"
   ]
  },
  {
   "cell_type": "code",
   "execution_count": 924,
   "id": "b40933bf-4742-403e-a89c-853346825a38",
   "metadata": {},
   "outputs": [
    {
     "data": {
      "text/plain": [
       "array([ 3,  6, 10, 16, 23, 24, 25, 26, 27, 28, 34, 39, 43, 50, 61, 70, 84,\n",
       "       86, 92, 93])"
      ]
     },
     "execution_count": 924,
     "metadata": {},
     "output_type": "execute_result"
    }
   ],
   "source": [
    "np.sort(a) # Default= Ascending"
   ]
  },
  {
   "cell_type": "code",
   "execution_count": 928,
   "id": "ab530d4f-9993-4335-97ed-94b0298e094a",
   "metadata": {},
   "outputs": [
    {
     "data": {
      "text/plain": [
       "array([93, 92, 86, 84, 70, 61, 50, 43, 39, 34, 28, 27, 26, 25, 24, 23, 16,\n",
       "       10,  6,  3])"
      ]
     },
     "execution_count": 928,
     "metadata": {},
     "output_type": "execute_result"
    }
   ],
   "source": [
    "np.sort(a)[::-1]  #Descending order "
   ]
  },
  {
   "cell_type": "code",
   "execution_count": 930,
   "id": "f7da7291-3932-480a-bfab-34b32c7d23eb",
   "metadata": {},
   "outputs": [
    {
     "data": {
      "text/plain": [
       "array([[14, 22, 32, 38, 62, 93],\n",
       "       [ 1, 28, 35, 35, 36, 53],\n",
       "       [44, 44, 61, 64, 68, 76],\n",
       "       [20, 21, 48, 48, 70, 94],\n",
       "       [ 2, 18, 22, 26, 79, 83]])"
      ]
     },
     "execution_count": 930,
     "metadata": {},
     "output_type": "execute_result"
    }
   ],
   "source": [
    "np.sort(b) # row rise sorting"
   ]
  },
  {
   "cell_type": "code",
   "execution_count": 932,
   "id": "9a193ab2-2db6-48bf-a7f3-84ee22676753",
   "metadata": {},
   "outputs": [
    {
     "data": {
      "text/plain": [
       "array([[ 2, 35, 20, 26, 22,  1],\n",
       "       [21, 38, 22, 28, 53, 14],\n",
       "       [35, 64, 36, 32, 70, 18],\n",
       "       [61, 79, 62, 44, 76, 44],\n",
       "       [93, 94, 68, 48, 83, 48]])"
      ]
     },
     "execution_count": 932,
     "metadata": {},
     "output_type": "execute_result"
    }
   ],
   "source": [
    " np.sort(b,axis = 0) # column rise sorting"
   ]
  },
  {
   "cell_type": "code",
   "execution_count": null,
   "id": "819003a3-a554-4677-a3e4-80001a6d42ea",
   "metadata": {},
   "outputs": [],
   "source": []
  },
  {
   "cell_type": "markdown",
   "id": "299bec74-bbaf-47da-a7c4-fe923d0afeb8",
   "metadata": {},
   "source": [
    "# append"
   ]
  },
  {
   "cell_type": "code",
   "execution_count": 936,
   "id": "1ecd4e44-19b5-42dd-af7e-9d697daaa0ee",
   "metadata": {},
   "outputs": [
    {
     "data": {
      "text/plain": [
       "array([ 6, 39, 84, 10, 27, 92, 93,  3, 34, 23, 86, 26, 61, 28, 70, 25, 50,\n",
       "       24, 16, 43])"
      ]
     },
     "execution_count": 936,
     "metadata": {},
     "output_type": "execute_result"
    }
   ],
   "source": [
    "a"
   ]
  },
  {
   "cell_type": "code",
   "execution_count": 938,
   "id": "62800e5e-c94f-4bb6-9c3f-edb78cf0ab96",
   "metadata": {},
   "outputs": [
    {
     "data": {
      "text/plain": [
       "array([  6,  39,  84,  10,  27,  92,  93,   3,  34,  23,  86,  26,  61,\n",
       "        28,  70,  25,  50,  24,  16,  43, 100])"
      ]
     },
     "execution_count": 938,
     "metadata": {},
     "output_type": "execute_result"
    }
   ],
   "source": [
    "np.append(a,100)"
   ]
  },
  {
   "cell_type": "code",
   "execution_count": 940,
   "id": "92f4db09-d9d4-4bb2-8693-0318487b8cea",
   "metadata": {},
   "outputs": [
    {
     "data": {
      "text/plain": [
       "array([[93, 38, 62, 32, 22, 14],\n",
       "       [35, 35, 36, 28, 53,  1],\n",
       "       [61, 64, 68, 44, 76, 44],\n",
       "       [21, 94, 20, 48, 70, 48],\n",
       "       [ 2, 79, 22, 26, 83, 18]])"
      ]
     },
     "execution_count": 940,
     "metadata": {},
     "output_type": "execute_result"
    }
   ],
   "source": [
    "b"
   ]
  },
  {
   "cell_type": "code",
   "execution_count": 942,
   "id": "03179e7b-1a70-4b6a-89b0-28f8cd2a2744",
   "metadata": {},
   "outputs": [
    {
     "data": {
      "text/plain": [
       "array([93., 38., 62., 32., 22., 14., 35., 35., 36., 28., 53.,  1., 61.,\n",
       "       64., 68., 44., 76., 44., 21., 94., 20., 48., 70., 48.,  2., 79.,\n",
       "       22., 26., 83., 18.,  1.,  1.,  1.,  1.,  1.])"
      ]
     },
     "execution_count": 942,
     "metadata": {},
     "output_type": "execute_result"
    }
   ],
   "source": [
    "np.append(b,np.ones((b.shape[0],1))) "
   ]
  },
  {
   "cell_type": "code",
   "execution_count": 944,
   "id": "716e9456-8380-41a7-b54e-ab8acbb166d0",
   "metadata": {},
   "outputs": [
    {
     "data": {
      "text/plain": [
       "array([[93., 38., 62., 32., 22., 14.,  1.],\n",
       "       [35., 35., 36., 28., 53.,  1.,  1.],\n",
       "       [61., 64., 68., 44., 76., 44.,  1.],\n",
       "       [21., 94., 20., 48., 70., 48.,  1.],\n",
       "       [ 2., 79., 22., 26., 83., 18.,  1.]])"
      ]
     },
     "execution_count": 944,
     "metadata": {},
     "output_type": "execute_result"
    }
   ],
   "source": [
    "np.append(b,np.ones((b.shape[0],1)),axis=1) \n"
   ]
  },
  {
   "cell_type": "code",
   "execution_count": 948,
   "id": "3e546098-7b6c-4190-bc61-83dd9e9c44f9",
   "metadata": {},
   "outputs": [
    {
     "data": {
      "text/plain": [
       "array([[93.        , 38.        , 62.        , 32.        , 22.        ,\n",
       "        14.        ,  0.5296665 ],\n",
       "       [35.        , 35.        , 36.        , 28.        , 53.        ,\n",
       "         1.        ,  0.85906605],\n",
       "       [61.        , 64.        , 68.        , 44.        , 76.        ,\n",
       "        44.        ,  0.50923387],\n",
       "       [21.        , 94.        , 20.        , 48.        , 70.        ,\n",
       "        48.        ,  0.5844221 ],\n",
       "       [ 2.        , 79.        , 22.        , 26.        , 83.        ,\n",
       "        18.        ,  0.37486359]])"
      ]
     },
     "execution_count": 948,
     "metadata": {},
     "output_type": "execute_result"
    }
   ],
   "source": [
    "#Adding random numbers in new column \n",
    " \n",
    "np.append(b,np.random.random((b.shape[0],1)),axis=1) "
   ]
  },
  {
   "cell_type": "markdown",
   "id": "0ffbc689-8204-41a9-81f7-cb12245ef48b",
   "metadata": {},
   "source": [
    "# np.concatenate \n",
    "numpy.concatenate() function concatenate a sequence of arrays along an existing axis. "
   ]
  },
  {
   "cell_type": "code",
   "execution_count": 952,
   "id": "88bacaf3-6790-4a0b-884b-4a6f2ffdbf84",
   "metadata": {},
   "outputs": [],
   "source": [
    "c = np.arange(8).reshape(2,4) \n",
    "d = np.arange(4,12).reshape(2,4) "
   ]
  },
  {
   "cell_type": "code",
   "execution_count": 954,
   "id": "2a00a7ad-ed74-4c01-9630-5c283b0a5669",
   "metadata": {},
   "outputs": [
    {
     "data": {
      "text/plain": [
       "array([[0, 1, 2, 3],\n",
       "       [4, 5, 6, 7]])"
      ]
     },
     "execution_count": 954,
     "metadata": {},
     "output_type": "execute_result"
    }
   ],
   "source": [
    "c"
   ]
  },
  {
   "cell_type": "code",
   "execution_count": 956,
   "id": "d62913df-918e-4d87-bd1d-fd21a463b32d",
   "metadata": {},
   "outputs": [
    {
     "data": {
      "text/plain": [
       "array([[ 4,  5,  6,  7],\n",
       "       [ 8,  9, 10, 11]])"
      ]
     },
     "execution_count": 956,
     "metadata": {},
     "output_type": "execute_result"
    }
   ],
   "source": [
    "d"
   ]
  },
  {
   "cell_type": "code",
   "execution_count": 958,
   "id": "fd07f8a4-a963-4b68-93cc-4de216438caf",
   "metadata": {},
   "outputs": [
    {
     "data": {
      "text/plain": [
       "array([[ 0,  1,  2,  3],\n",
       "       [ 4,  5,  6,  7],\n",
       "       [ 4,  5,  6,  7],\n",
       "       [ 8,  9, 10, 11]])"
      ]
     },
     "execution_count": 958,
     "metadata": {},
     "output_type": "execute_result"
    }
   ],
   "source": [
    "np.concatenate((c,d)) # Row wise "
   ]
  },
  {
   "cell_type": "code",
   "execution_count": 962,
   "id": "aa2a1368-3b03-4ce2-92bc-bb7365441353",
   "metadata": {},
   "outputs": [
    {
     "data": {
      "text/plain": [
       "array([[ 0,  1,  2,  3,  4,  5,  6,  7],\n",
       "       [ 4,  5,  6,  7,  8,  9, 10, 11]])"
      ]
     },
     "execution_count": 962,
     "metadata": {},
     "output_type": "execute_result"
    }
   ],
   "source": [
    "np.concatenate((c,d),axis =1 ) # column wise "
   ]
  },
  {
   "cell_type": "code",
   "execution_count": null,
   "id": "f64f57a6-18c7-49c3-9142-81c34e62d223",
   "metadata": {},
   "outputs": [],
   "source": []
  },
  {
   "cell_type": "markdown",
   "id": "bf71cc21-f9e0-495b-80f4-bb854dc5ada7",
   "metadata": {},
   "source": [
    "# np.unique \n",
    "With the help of np.unique() method, we can get the unique values from an array given as \n",
    "parameter in np.unique() method"
   ]
  },
  {
   "cell_type": "code",
   "execution_count": 967,
   "id": "14c2cac9-8bef-4a33-8ce1-c8ce76825f4a",
   "metadata": {},
   "outputs": [
    {
     "data": {
      "text/plain": [
       "array([1, 1, 2, 2, 3, 3, 4, 4, 5, 5, 6, 6])"
      ]
     },
     "execution_count": 967,
     "metadata": {},
     "output_type": "execute_result"
    }
   ],
   "source": [
    "e = np.array([1,1,2,2,3,3,4,4,5,5,6,6]) \n",
    "e"
   ]
  },
  {
   "cell_type": "code",
   "execution_count": 969,
   "id": "2852d44e-b11e-4d19-a611-f5b6aa839905",
   "metadata": {},
   "outputs": [
    {
     "data": {
      "text/plain": [
       "array([1, 2, 3, 4, 5, 6])"
      ]
     },
     "execution_count": 969,
     "metadata": {},
     "output_type": "execute_result"
    }
   ],
   "source": [
    "np.unique(e)"
   ]
  },
  {
   "cell_type": "code",
   "execution_count": null,
   "id": "a74cb3ef-14b8-4323-99d6-794cd1825ef1",
   "metadata": {},
   "outputs": [],
   "source": []
  },
  {
   "cell_type": "markdown",
   "id": "9090d235-b6b5-48bd-ae40-0f27ca55d16f",
   "metadata": {},
   "source": [
    "# np.expand_dims \n",
    "With the help of Numpy.expand_dims() method, we can get the expanded dimensions of an \n",
    "array"
   ]
  },
  {
   "cell_type": "code",
   "execution_count": 979,
   "id": "0a9699b4-2b27-4982-8650-78ac04925494",
   "metadata": {},
   "outputs": [
    {
     "data": {
      "text/plain": [
       "array([ 6, 39, 84, 10, 27, 92, 93,  3, 34, 23, 86, 26, 61, 28, 70, 25, 50,\n",
       "       24, 16, 43])"
      ]
     },
     "execution_count": 979,
     "metadata": {},
     "output_type": "execute_result"
    }
   ],
   "source": [
    "a"
   ]
  },
  {
   "cell_type": "code",
   "execution_count": 981,
   "id": "46f1bfa8-b1ce-4d19-a201-439e17f37976",
   "metadata": {},
   "outputs": [
    {
     "data": {
      "text/plain": [
       "(20,)"
      ]
     },
     "execution_count": 981,
     "metadata": {},
     "output_type": "execute_result"
    }
   ],
   "source": [
    "a.shape"
   ]
  },
  {
   "cell_type": "code",
   "execution_count": 983,
   "id": "5974e951-bbde-4471-b738-aaf5018cbd7f",
   "metadata": {},
   "outputs": [
    {
     "data": {
      "text/plain": [
       "array([[ 6, 39, 84, 10, 27, 92, 93,  3, 34, 23, 86, 26, 61, 28, 70, 25,\n",
       "        50, 24, 16, 43]])"
      ]
     },
     "execution_count": 983,
     "metadata": {},
     "output_type": "execute_result"
    }
   ],
   "source": [
    " #converting into 2D array \n",
    " \n",
    "np.expand_dims(a,axis = 0) "
   ]
  },
  {
   "cell_type": "code",
   "execution_count": 985,
   "id": "16527f23-a5d0-4fc1-b3de-38997eb8c964",
   "metadata": {},
   "outputs": [
    {
     "data": {
      "text/plain": [
       "(1, 20)"
      ]
     },
     "execution_count": 985,
     "metadata": {},
     "output_type": "execute_result"
    }
   ],
   "source": [
    "np.expand_dims(a,axis = 0).shape # 2D"
   ]
  },
  {
   "cell_type": "code",
   "execution_count": 987,
   "id": "063132ca-0496-4938-a0a7-85441f6d8bed",
   "metadata": {},
   "outputs": [
    {
     "data": {
      "text/plain": [
       "array([[ 6],\n",
       "       [39],\n",
       "       [84],\n",
       "       [10],\n",
       "       [27],\n",
       "       [92],\n",
       "       [93],\n",
       "       [ 3],\n",
       "       [34],\n",
       "       [23],\n",
       "       [86],\n",
       "       [26],\n",
       "       [61],\n",
       "       [28],\n",
       "       [70],\n",
       "       [25],\n",
       "       [50],\n",
       "       [24],\n",
       "       [16],\n",
       "       [43]])"
      ]
     },
     "execution_count": 987,
     "metadata": {},
     "output_type": "execute_result"
    }
   ],
   "source": [
    "np.expand_dims(a,axis = 1) "
   ]
  },
  {
   "cell_type": "code",
   "execution_count": 989,
   "id": "d3828a5c-06f6-4e5b-aa64-b0fb9d20ebe3",
   "metadata": {},
   "outputs": [
    {
     "data": {
      "text/plain": [
       "(20, 1)"
      ]
     },
     "execution_count": 989,
     "metadata": {},
     "output_type": "execute_result"
    }
   ],
   "source": [
    "np.expand_dims(a,axis = 1).shape "
   ]
  },
  {
   "cell_type": "markdown",
   "id": "67d3554e-eea9-46dd-ac2f-45317fff4d50",
   "metadata": {},
   "source": [
    "# np.where \n",
    "The numpy.where() function returns the indices of elements in an input array where the given \n",
    "condition is satisfied. "
   ]
  },
  {
   "cell_type": "code",
   "execution_count": 993,
   "id": "6a99e8ef-9f99-48ba-8342-0573e28229fa",
   "metadata": {},
   "outputs": [
    {
     "data": {
      "text/plain": [
       "array([ 6, 39, 84, 10, 27, 92, 93,  3, 34, 23, 86, 26, 61, 28, 70, 25, 50,\n",
       "       24, 16, 43])"
      ]
     },
     "execution_count": 993,
     "metadata": {},
     "output_type": "execute_result"
    }
   ],
   "source": [
    "a"
   ]
  },
  {
   "cell_type": "code",
   "execution_count": 995,
   "id": "6e63014f-358a-417f-9db2-8ee7c10e56d0",
   "metadata": {},
   "outputs": [
    {
     "data": {
      "text/plain": [
       "(array([ 2,  5,  6, 10, 12, 14], dtype=int64),)"
      ]
     },
     "execution_count": 995,
     "metadata": {},
     "output_type": "execute_result"
    }
   ],
   "source": [
    "np.where(a>50)"
   ]
  },
  {
   "cell_type": "code",
   "execution_count": 997,
   "id": "5251c4db-0893-4171-b341-0d6ebdeefcdc",
   "metadata": {},
   "outputs": [
    {
     "data": {
      "text/plain": [
       "array([ 6, 39,  0, 10, 27,  0,  0,  3, 34, 23,  0, 26,  0, 28,  0, 25, 50,\n",
       "       24, 16, 43])"
      ]
     },
     "execution_count": 997,
     "metadata": {},
     "output_type": "execute_result"
    }
   ],
   "source": [
    "np.where(a>50,0,a) \n"
   ]
  },
  {
   "cell_type": "code",
   "execution_count": 999,
   "id": "1ecbe321-bd7f-4494-bdf8-ec9845650962",
   "metadata": {},
   "outputs": [
    {
     "data": {
      "text/plain": [
       "array([ 0, 39,  0,  0, 27,  0, 93,  3,  0, 23,  0,  0, 61,  0,  0, 25,  0,\n",
       "        0,  0, 43])"
      ]
     },
     "execution_count": 999,
     "metadata": {},
     "output_type": "execute_result"
    }
   ],
   "source": [
    "np.where(a%2 == 0,0,a) \n"
   ]
  },
  {
   "cell_type": "code",
   "execution_count": null,
   "id": "5034dbad-55d9-4c0c-a0d7-5d247103996a",
   "metadata": {},
   "outputs": [],
   "source": []
  },
  {
   "cell_type": "markdown",
   "id": "c6274549-2b7c-427d-a726-c2ed85139d27",
   "metadata": {},
   "source": [
    "# np.argmax \n",
    "The numpy.argmax() function returns indices of the max element of the array in a particular \n",
    "axis. \n",
    "arg = argument "
   ]
  },
  {
   "cell_type": "code",
   "execution_count": 1003,
   "id": "e9827cdb-9c40-4ed3-9cef-115b751e3760",
   "metadata": {},
   "outputs": [
    {
     "data": {
      "text/plain": [
       "array([ 6, 39, 84, 10, 27, 92, 93,  3, 34, 23, 86, 26, 61, 28, 70, 25, 50,\n",
       "       24, 16, 43])"
      ]
     },
     "execution_count": 1003,
     "metadata": {},
     "output_type": "execute_result"
    }
   ],
   "source": [
    "a"
   ]
  },
  {
   "cell_type": "code",
   "execution_count": 1007,
   "id": "643f5df3-74b4-4868-93a2-4bb5e30fe91a",
   "metadata": {},
   "outputs": [
    {
     "data": {
      "text/plain": [
       "6"
      ]
     },
     "execution_count": 1007,
     "metadata": {},
     "output_type": "execute_result"
    }
   ],
   "source": [
    "np.argmax(a)  # biggest number : index number "
   ]
  },
  {
   "cell_type": "code",
   "execution_count": 1009,
   "id": "c7a64320-34ce-4a57-80f2-9507e9ec1be3",
   "metadata": {},
   "outputs": [
    {
     "data": {
      "text/plain": [
       "array([[93, 38, 62, 32, 22, 14],\n",
       "       [35, 35, 36, 28, 53,  1],\n",
       "       [61, 64, 68, 44, 76, 44],\n",
       "       [21, 94, 20, 48, 70, 48],\n",
       "       [ 2, 79, 22, 26, 83, 18]])"
      ]
     },
     "execution_count": 1009,
     "metadata": {},
     "output_type": "execute_result"
    }
   ],
   "source": [
    "b"
   ]
  },
  {
   "cell_type": "code",
   "execution_count": 1011,
   "id": "935ee001-8e98-49e1-9547-7b9c38770794",
   "metadata": {},
   "outputs": [
    {
     "data": {
      "text/plain": [
       "19"
      ]
     },
     "execution_count": 1011,
     "metadata": {},
     "output_type": "execute_result"
    }
   ],
   "source": [
    "np.argmax(b)"
   ]
  },
  {
   "cell_type": "code",
   "execution_count": 1013,
   "id": "dd5479b2-cf49-491e-8eaf-5b5e31b58258",
   "metadata": {},
   "outputs": [
    {
     "data": {
      "text/plain": [
       "array([0, 4, 4, 1, 4], dtype=int64)"
      ]
     },
     "execution_count": 1013,
     "metadata": {},
     "output_type": "execute_result"
    }
   ],
   "source": [
    "np.argmax(b,axis =1) # row wise bigest number : index "
   ]
  },
  {
   "cell_type": "code",
   "execution_count": 1015,
   "id": "9520a4f8-aa76-4e7f-896b-8a2b9c0d14cd",
   "metadata": {},
   "outputs": [
    {
     "data": {
      "text/plain": [
       "array([0, 3, 2, 3, 4, 3], dtype=int64)"
      ]
     },
     "execution_count": 1015,
     "metadata": {},
     "output_type": "execute_result"
    }
   ],
   "source": [
    "np.argmax(b,axis =0) # column wise bigest number : index "
   ]
  },
  {
   "cell_type": "code",
   "execution_count": 1017,
   "id": "f586fcda-acbc-4a85-8e10-7e79411cf7d8",
   "metadata": {},
   "outputs": [
    {
     "data": {
      "text/plain": [
       "array([ 6, 39, 84, 10, 27, 92, 93,  3, 34, 23, 86, 26, 61, 28, 70, 25, 50,\n",
       "       24, 16, 43])"
      ]
     },
     "execution_count": 1017,
     "metadata": {},
     "output_type": "execute_result"
    }
   ],
   "source": [
    "a"
   ]
  },
  {
   "cell_type": "code",
   "execution_count": 1019,
   "id": "61763c9a-5c0a-4307-94d7-f02ce31992dc",
   "metadata": {},
   "outputs": [
    {
     "data": {
      "text/plain": [
       "7"
      ]
     },
     "execution_count": 1019,
     "metadata": {},
     "output_type": "execute_result"
    }
   ],
   "source": [
    "np.argmin(a)"
   ]
  },
  {
   "cell_type": "code",
   "execution_count": null,
   "id": "7ff6a907-56bd-4827-9881-e9da9dde0259",
   "metadata": {},
   "outputs": [],
   "source": []
  },
  {
   "cell_type": "markdown",
   "id": "e3999d65-d649-4d81-8416-cb559b1f4ed5",
   "metadata": {},
   "source": [
    "# On Statistics: \n",
    " \n",
    "np.cumsum "
   ]
  },
  {
   "cell_type": "markdown",
   "id": "2ae0b85e-08e4-47ff-a351-3765eed201a9",
   "metadata": {},
   "source": [
    "numpy.cumsum() function is used when we want to compute the cumulative sum of array \n",
    "elements over a given axis."
   ]
  },
  {
   "cell_type": "code",
   "execution_count": 1027,
   "id": "f6fcf829-03ac-48fb-8e43-8cbd7c81510d",
   "metadata": {},
   "outputs": [
    {
     "data": {
      "text/plain": [
       "array([ 6, 39, 84, 10, 27, 92, 93,  3, 34, 23, 86, 26, 61, 28, 70, 25, 50,\n",
       "       24, 16, 43])"
      ]
     },
     "execution_count": 1027,
     "metadata": {},
     "output_type": "execute_result"
    }
   ],
   "source": [
    "a"
   ]
  },
  {
   "cell_type": "code",
   "execution_count": 1029,
   "id": "c457f9d1-535c-4b1c-8ae1-1448802a3f03",
   "metadata": {},
   "outputs": [
    {
     "data": {
      "text/plain": [
       "array([  6,  45, 129, 139, 166, 258, 351, 354, 388, 411, 497, 523, 584,\n",
       "       612, 682, 707, 757, 781, 797, 840])"
      ]
     },
     "execution_count": 1029,
     "metadata": {},
     "output_type": "execute_result"
    }
   ],
   "source": [
    "np.cumsum(a)"
   ]
  },
  {
   "cell_type": "code",
   "execution_count": 1031,
   "id": "b095897e-6ac9-405f-856e-d0e57405c014",
   "metadata": {},
   "outputs": [
    {
     "data": {
      "text/plain": [
       "array([[93, 38, 62, 32, 22, 14],\n",
       "       [35, 35, 36, 28, 53,  1],\n",
       "       [61, 64, 68, 44, 76, 44],\n",
       "       [21, 94, 20, 48, 70, 48],\n",
       "       [ 2, 79, 22, 26, 83, 18]])"
      ]
     },
     "execution_count": 1031,
     "metadata": {},
     "output_type": "execute_result"
    }
   ],
   "source": [
    "b"
   ]
  },
  {
   "cell_type": "code",
   "execution_count": 1033,
   "id": "0f1b14b9-3b3c-40e5-b97a-a20e0dae74ff",
   "metadata": {},
   "outputs": [
    {
     "data": {
      "text/plain": [
       "array([  93,  131,  193,  225,  247,  261,  296,  331,  367,  395,  448,\n",
       "        449,  510,  574,  642,  686,  762,  806,  827,  921,  941,  989,\n",
       "       1059, 1107, 1109, 1188, 1210, 1236, 1319, 1337])"
      ]
     },
     "execution_count": 1033,
     "metadata": {},
     "output_type": "execute_result"
    }
   ],
   "source": [
    "np.cumsum(b)"
   ]
  },
  {
   "cell_type": "code",
   "execution_count": 1035,
   "id": "3c2e6b47-f201-4b61-bc80-a3bf2a4c9128",
   "metadata": {},
   "outputs": [
    {
     "data": {
      "text/plain": [
       "array([[ 93, 131, 193, 225, 247, 261],\n",
       "       [ 35,  70, 106, 134, 187, 188],\n",
       "       [ 61, 125, 193, 237, 313, 357],\n",
       "       [ 21, 115, 135, 183, 253, 301],\n",
       "       [  2,  81, 103, 129, 212, 230]])"
      ]
     },
     "execution_count": 1035,
     "metadata": {},
     "output_type": "execute_result"
    }
   ],
   "source": [
    "np.cumsum(b,axis=1) # row wise calculation or cumulative sum "
   ]
  },
  {
   "cell_type": "code",
   "execution_count": 1037,
   "id": "e1d4d795-b2eb-4129-9673-7ebdc8bb0ef9",
   "metadata": {},
   "outputs": [
    {
     "data": {
      "text/plain": [
       "array([[ 93,  38,  62,  32,  22,  14],\n",
       "       [128,  73,  98,  60,  75,  15],\n",
       "       [189, 137, 166, 104, 151,  59],\n",
       "       [210, 231, 186, 152, 221, 107],\n",
       "       [212, 310, 208, 178, 304, 125]])"
      ]
     },
     "execution_count": 1037,
     "metadata": {},
     "output_type": "execute_result"
    }
   ],
   "source": [
    "np.cumsum(b,axis=0) # column wise calculation or cumulative sum"
   ]
  },
  {
   "cell_type": "code",
   "execution_count": 1039,
   "id": "6762454f-647f-4d9e-88d3-5dd3e8030046",
   "metadata": {},
   "outputs": [
    {
     "data": {
      "text/plain": [
       "array([          6,         234,       19656,      196560,     5307120,\n",
       "         488255040, -1836921536, -1215797312,  1612564352, -1565725568,\n",
       "       -1508412672,  -564023808,   -45713920, -1279989760,   595030016,\n",
       "        1990848512,   758177792,  1016397824,  -917504000,  -797966336])"
      ]
     },
     "execution_count": 1039,
     "metadata": {},
     "output_type": "execute_result"
    }
   ],
   "source": [
    "np.cumprod(a) "
   ]
  },
  {
   "cell_type": "code",
   "execution_count": null,
   "id": "10e9353d-c508-4538-b723-9543d78b742c",
   "metadata": {},
   "outputs": [],
   "source": []
  },
  {
   "cell_type": "markdown",
   "id": "51e4f5b7-e289-439d-8717-9490252b0618",
   "metadata": {},
   "source": [
    "# np.percentile \n",
    "numpy.percentile()function used to compute the nth percentile of the given data (array \n",
    "elements) along the specified axis."
   ]
  },
  {
   "cell_type": "code",
   "execution_count": 1044,
   "id": "d20395c8-1423-4f0e-a71b-9793809cf5f3",
   "metadata": {},
   "outputs": [
    {
     "data": {
      "text/plain": [
       "array([ 6, 39, 84, 10, 27, 92, 93,  3, 34, 23, 86, 26, 61, 28, 70, 25, 50,\n",
       "       24, 16, 43])"
      ]
     },
     "execution_count": 1044,
     "metadata": {},
     "output_type": "execute_result"
    }
   ],
   "source": [
    "a"
   ]
  },
  {
   "cell_type": "code",
   "execution_count": 1050,
   "id": "0a51fec9-cef9-47d7-a646-fc266f90e286",
   "metadata": {},
   "outputs": [
    {
     "data": {
      "text/plain": [
       "93.0"
      ]
     },
     "execution_count": 1050,
     "metadata": {},
     "output_type": "execute_result"
    }
   ],
   "source": [
    "np.percentile(a,100) # max"
   ]
  },
  {
   "cell_type": "code",
   "execution_count": 1052,
   "id": "8f0e0293-e369-4afa-9874-7c49319cf543",
   "metadata": {},
   "outputs": [
    {
     "data": {
      "text/plain": [
       "3.0"
      ]
     },
     "execution_count": 1052,
     "metadata": {},
     "output_type": "execute_result"
    }
   ],
   "source": [
    "np.percentile(a,0) # min"
   ]
  },
  {
   "cell_type": "code",
   "execution_count": 1054,
   "id": "f514de7b-89fe-48bf-9808-91b5c5dfc422",
   "metadata": {},
   "outputs": [
    {
     "data": {
      "text/plain": [
       "31.0"
      ]
     },
     "execution_count": 1054,
     "metadata": {},
     "output_type": "execute_result"
    }
   ],
   "source": [
    "np.percentile(a,50)"
   ]
  },
  {
   "cell_type": "code",
   "execution_count": 1058,
   "id": "2238c47a-d130-48f9-80af-6f129c855371",
   "metadata": {},
   "outputs": [
    {
     "data": {
      "text/plain": [
       "31.0"
      ]
     },
     "execution_count": 1058,
     "metadata": {},
     "output_type": "execute_result"
    }
   ],
   "source": [
    "np.median(a)"
   ]
  },
  {
   "cell_type": "code",
   "execution_count": null,
   "id": "9210fe7f-bdf8-4061-8893-8a50599625a0",
   "metadata": {},
   "outputs": [],
   "source": []
  },
  {
   "cell_type": "markdown",
   "id": "88c142ec-9e57-48aa-9ed0-87642a8a2bcb",
   "metadata": {},
   "source": [
    "# np.histogram \n",
    "Numpy has a built-in numpy.histogram() function which represents the frequency of data \n",
    "distribution in the graphical form."
   ]
  },
  {
   "cell_type": "code",
   "execution_count": 1062,
   "id": "e3f63e09-76ac-4c72-852f-fff8e96230b2",
   "metadata": {},
   "outputs": [
    {
     "data": {
      "text/plain": [
       "array([ 6, 39, 84, 10, 27, 92, 93,  3, 34, 23, 86, 26, 61, 28, 70, 25, 50,\n",
       "       24, 16, 43])"
      ]
     },
     "execution_count": 1062,
     "metadata": {},
     "output_type": "execute_result"
    }
   ],
   "source": [
    "a"
   ]
  },
  {
   "cell_type": "code",
   "execution_count": 1070,
   "id": "038a3e01-f488-44e4-b659-952813b91228",
   "metadata": {},
   "outputs": [
    {
     "data": {
      "text/plain": [
       "(array([2, 6, 2, 1, 1, 1, 1, 2, 2], dtype=int64),\n",
       " array([ 10,  20,  30,  40,  50,  60,  70,  80,  90, 100]))"
      ]
     },
     "execution_count": 1070,
     "metadata": {},
     "output_type": "execute_result"
    }
   ],
   "source": [
    "np.histogram(a, bins=[10, 20, 30, 40, 50, 60, 70, 80, 90, 100])"
   ]
  },
  {
   "cell_type": "code",
   "execution_count": 1072,
   "id": "324a021d-f0be-4240-81f6-a40dc46f1271",
   "metadata": {},
   "outputs": [
    {
     "data": {
      "text/plain": [
       "(array([13,  7], dtype=int64), array([  0,  50, 100]))"
      ]
     },
     "execution_count": 1072,
     "metadata": {},
     "output_type": "execute_result"
    }
   ],
   "source": [
    "np.histogram(a , bins= [0,50,100])"
   ]
  },
  {
   "cell_type": "code",
   "execution_count": null,
   "id": "4aa1d588-325a-494b-8507-34a5cceb8e4b",
   "metadata": {},
   "outputs": [],
   "source": []
  },
  {
   "cell_type": "markdown",
   "id": "d07e27fc-541a-4d15-8268-26cf5cc924f8",
   "metadata": {},
   "source": [
    "# np.corrcoef \n",
    "Return Pearson product-moment correlation coefficients. "
   ]
  },
  {
   "cell_type": "code",
   "execution_count": 1076,
   "id": "f6f8eb46-193a-4ca7-b348-2786f4765d6a",
   "metadata": {},
   "outputs": [],
   "source": [
    "salary = np.array([20000,40000,25000,35000,60000]) \n",
    "experience = np.array([1,3,2,4,2])"
   ]
  },
  {
   "cell_type": "code",
   "execution_count": 1078,
   "id": "38371bf4-6c98-4778-881e-4a5fa62836c9",
   "metadata": {},
   "outputs": [
    {
     "data": {
      "text/plain": [
       "array([20000, 40000, 25000, 35000, 60000])"
      ]
     },
     "execution_count": 1078,
     "metadata": {},
     "output_type": "execute_result"
    }
   ],
   "source": [
    "salary"
   ]
  },
  {
   "cell_type": "code",
   "execution_count": 1080,
   "id": "43e7b9ff-72dd-43d6-b17b-fb7fb0f5e36e",
   "metadata": {},
   "outputs": [
    {
     "data": {
      "text/plain": [
       "array([1, 3, 2, 4, 2])"
      ]
     },
     "execution_count": 1080,
     "metadata": {},
     "output_type": "execute_result"
    }
   ],
   "source": [
    "experience"
   ]
  },
  {
   "cell_type": "code",
   "execution_count": 1082,
   "id": "0362e724-20eb-45e3-8a75-8668fe8fdeae",
   "metadata": {},
   "outputs": [
    {
     "data": {
      "text/plain": [
       "array([[1.        , 0.25344572],\n",
       "       [0.25344572, 1.        ]])"
      ]
     },
     "execution_count": 1082,
     "metadata": {},
     "output_type": "execute_result"
    }
   ],
   "source": [
    "np.corrcoef(salary,experience) # Correlation Coefficient "
   ]
  },
  {
   "cell_type": "code",
   "execution_count": null,
   "id": "9960e881-6d77-47ac-9676-dbf24abbd7a8",
   "metadata": {},
   "outputs": [],
   "source": []
  },
  {
   "cell_type": "markdown",
   "id": "d1c5aa53-cd38-441c-98a7-d63bc786be87",
   "metadata": {},
   "source": [
    "# Utility functions \n",
    " \n",
    "np.isin  "
   ]
  },
  {
   "cell_type": "markdown",
   "id": "495238b0-7681-479b-881b-72b259754cf2",
   "metadata": {},
   "source": [
    "With the help of numpy.isin() method, we can see that one array having values are checked in \n",
    "a different numpy array having different elements with different sizes"
   ]
  },
  {
   "cell_type": "code",
   "execution_count": 1093,
   "id": "44274e85-fc89-48d5-bd9b-205a0dd14b22",
   "metadata": {},
   "outputs": [
    {
     "data": {
      "text/plain": [
       "array([ 6, 39, 84, 10, 27, 92, 93,  3, 34, 23, 86, 26, 61, 28, 70, 25, 50,\n",
       "       24, 16, 43])"
      ]
     },
     "execution_count": 1093,
     "metadata": {},
     "output_type": "execute_result"
    }
   ],
   "source": [
    "a"
   ]
  },
  {
   "cell_type": "code",
   "execution_count": 1095,
   "id": "87432800-27c7-42bc-b979-ab02e3bac09c",
   "metadata": {},
   "outputs": [
    {
     "data": {
      "text/plain": [
       "array([False, False, False,  True, False, False, False, False, False,\n",
       "       False, False, False, False, False,  True, False,  True, False,\n",
       "       False, False])"
      ]
     },
     "execution_count": 1095,
     "metadata": {},
     "output_type": "execute_result"
    }
   ],
   "source": [
    "items = [10,20,30,40,50,60,70,80,90,100] \n",
    " \n",
    "np.isin(a,items)"
   ]
  },
  {
   "cell_type": "code",
   "execution_count": 1097,
   "id": "82b242f2-5296-4802-a61f-011b9e08f742",
   "metadata": {},
   "outputs": [
    {
     "data": {
      "text/plain": [
       "array([10, 70, 50])"
      ]
     },
     "execution_count": 1097,
     "metadata": {},
     "output_type": "execute_result"
    }
   ],
   "source": [
    "a[np.isin(a,items)] "
   ]
  },
  {
   "cell_type": "code",
   "execution_count": null,
   "id": "2d18c3d1-74ae-43fd-965b-55b1a07d6e5e",
   "metadata": {},
   "outputs": [],
   "source": []
  },
  {
   "cell_type": "markdown",
   "id": "c6faa9b2-2c14-4d45-a0e3-d75b448506bf",
   "metadata": {},
   "source": [
    "# np.flip \n",
    "The numpy.flip() function reverses the order of array elements along the specified axis, \n",
    "preserving the shape of the array. "
   ]
  },
  {
   "cell_type": "code",
   "execution_count": 1100,
   "id": "af748f55-be06-4f2b-97b3-348d89b7234c",
   "metadata": {},
   "outputs": [
    {
     "data": {
      "text/plain": [
       "array([ 6, 39, 84, 10, 27, 92, 93,  3, 34, 23, 86, 26, 61, 28, 70, 25, 50,\n",
       "       24, 16, 43])"
      ]
     },
     "execution_count": 1100,
     "metadata": {},
     "output_type": "execute_result"
    }
   ],
   "source": [
    "a"
   ]
  },
  {
   "cell_type": "code",
   "execution_count": 1102,
   "id": "0a4ab034-4327-417c-bee0-e083d42e7c34",
   "metadata": {},
   "outputs": [
    {
     "data": {
      "text/plain": [
       "array([43, 16, 24, 50, 25, 70, 28, 61, 26, 86, 23, 34,  3, 93, 92, 27, 10,\n",
       "       84, 39,  6])"
      ]
     },
     "execution_count": 1102,
     "metadata": {},
     "output_type": "execute_result"
    }
   ],
   "source": [
    "np.flip(a)"
   ]
  },
  {
   "cell_type": "code",
   "execution_count": 1104,
   "id": "4298f0ee-f7c4-4bec-9a3f-f24895b4d210",
   "metadata": {},
   "outputs": [
    {
     "data": {
      "text/plain": [
       "array([[93, 38, 62, 32, 22, 14],\n",
       "       [35, 35, 36, 28, 53,  1],\n",
       "       [61, 64, 68, 44, 76, 44],\n",
       "       [21, 94, 20, 48, 70, 48],\n",
       "       [ 2, 79, 22, 26, 83, 18]])"
      ]
     },
     "execution_count": 1104,
     "metadata": {},
     "output_type": "execute_result"
    }
   ],
   "source": [
    "b"
   ]
  },
  {
   "cell_type": "code",
   "execution_count": 1106,
   "id": "086847cd-7032-44b1-b418-49aa754bad53",
   "metadata": {},
   "outputs": [
    {
     "data": {
      "text/plain": [
       "array([[18, 83, 26, 22, 79,  2],\n",
       "       [48, 70, 48, 20, 94, 21],\n",
       "       [44, 76, 44, 68, 64, 61],\n",
       "       [ 1, 53, 28, 36, 35, 35],\n",
       "       [14, 22, 32, 62, 38, 93]])"
      ]
     },
     "execution_count": 1106,
     "metadata": {},
     "output_type": "execute_result"
    }
   ],
   "source": [
    "np.flip(b)"
   ]
  },
  {
   "cell_type": "code",
   "execution_count": 1114,
   "id": "17bfcc17-9823-4634-9ce9-0745de6ae352",
   "metadata": {},
   "outputs": [
    {
     "data": {
      "text/plain": [
       "array([[14, 22, 32, 62, 38, 93],\n",
       "       [ 1, 53, 28, 36, 35, 35],\n",
       "       [44, 76, 44, 68, 64, 61],\n",
       "       [48, 70, 48, 20, 94, 21],\n",
       "       [18, 83, 26, 22, 79,  2]])"
      ]
     },
     "execution_count": 1114,
     "metadata": {},
     "output_type": "execute_result"
    }
   ],
   "source": [
    "np.flip(b,axis=1)  # row "
   ]
  },
  {
   "cell_type": "code",
   "execution_count": 1116,
   "id": "8063d0e7-5856-4fc2-8cfc-496ebc559852",
   "metadata": {},
   "outputs": [
    {
     "data": {
      "text/plain": [
       "array([[ 2, 79, 22, 26, 83, 18],\n",
       "       [21, 94, 20, 48, 70, 48],\n",
       "       [61, 64, 68, 44, 76, 44],\n",
       "       [35, 35, 36, 28, 53,  1],\n",
       "       [93, 38, 62, 32, 22, 14]])"
      ]
     },
     "execution_count": 1116,
     "metadata": {},
     "output_type": "execute_result"
    }
   ],
   "source": [
    "np.flip(b,axis=0) # column "
   ]
  },
  {
   "cell_type": "code",
   "execution_count": null,
   "id": "3e98a3fa-c392-424b-bc2c-d027ba66ce41",
   "metadata": {},
   "outputs": [],
   "source": []
  },
  {
   "cell_type": "markdown",
   "id": "acef5587-322c-4120-933e-f6b57a20f479",
   "metadata": {},
   "source": [
    "# np.put \n",
    "The numpy.put() function replaces specific elements of an array with given values of p_array. \n",
    "Array indexed works on flattened array."
   ]
  },
  {
   "cell_type": "code",
   "execution_count": 1121,
   "id": "a91c9350-57c9-4a32-ab80-e5cb47d1126e",
   "metadata": {},
   "outputs": [
    {
     "data": {
      "text/plain": [
       "array([ 6, 39, 84, 10, 27, 92, 93,  3, 34, 23, 86, 26, 61, 28, 70, 25, 50,\n",
       "       24, 16, 43])"
      ]
     },
     "execution_count": 1121,
     "metadata": {},
     "output_type": "execute_result"
    }
   ],
   "source": [
    "a"
   ]
  },
  {
   "cell_type": "code",
   "execution_count": 1123,
   "id": "522dee56-a093-4bf0-8826-3d1379a43ae5",
   "metadata": {},
   "outputs": [],
   "source": [
    "np.put(a,[0,1],[110,530]) # permanent changes "
   ]
  },
  {
   "cell_type": "code",
   "execution_count": 1125,
   "id": "3e8a0f58-1242-4830-8e7f-96c129c8a500",
   "metadata": {},
   "outputs": [
    {
     "data": {
      "text/plain": [
       "array([110, 530,  84,  10,  27,  92,  93,   3,  34,  23,  86,  26,  61,\n",
       "        28,  70,  25,  50,  24,  16,  43])"
      ]
     },
     "execution_count": 1125,
     "metadata": {},
     "output_type": "execute_result"
    }
   ],
   "source": [
    "a"
   ]
  },
  {
   "cell_type": "code",
   "execution_count": null,
   "id": "e7879207-6f93-474b-8cd5-58d202cfb942",
   "metadata": {},
   "outputs": [],
   "source": []
  },
  {
   "cell_type": "markdown",
   "id": "6ed576e6-00cf-491e-a73d-8259b471a07a",
   "metadata": {},
   "source": [
    "# np.delete \n",
    "The numpy.delete() function returns a new array with the deletion of sub-arrays along with the \n",
    "mentioned axis."
   ]
  },
  {
   "cell_type": "code",
   "execution_count": 1129,
   "id": "147437c6-1db8-493a-9279-3c6795d8fd77",
   "metadata": {},
   "outputs": [
    {
     "data": {
      "text/plain": [
       "array([110, 530,  84,  10,  27,  92,  93,   3,  34,  23,  86,  26,  61,\n",
       "        28,  70,  25,  50,  24,  16,  43])"
      ]
     },
     "execution_count": 1129,
     "metadata": {},
     "output_type": "execute_result"
    }
   ],
   "source": [
    "a"
   ]
  },
  {
   "cell_type": "code",
   "execution_count": 1131,
   "id": "0b7766c8-a400-4f89-ad0b-4993772b40e6",
   "metadata": {},
   "outputs": [
    {
     "data": {
      "text/plain": [
       "array([530,  84,  10,  27,  92,  93,   3,  34,  23,  86,  26,  61,  28,\n",
       "        70,  25,  50,  24,  16,  43])"
      ]
     },
     "execution_count": 1131,
     "metadata": {},
     "output_type": "execute_result"
    }
   ],
   "source": [
    " np.delete(a,0) # deleted 0 index item"
   ]
  },
  {
   "cell_type": "code",
   "execution_count": 1133,
   "id": "05e5aaf6-e4c3-47b5-b277-43212754eb48",
   "metadata": {},
   "outputs": [
    {
     "data": {
      "text/plain": [
       "array([530,  10,  92,  93,   3,  34,  23,  86,  26,  61,  28,  70,  25,\n",
       "        50,  24,  16,  43])"
      ]
     },
     "execution_count": 1133,
     "metadata": {},
     "output_type": "execute_result"
    }
   ],
   "source": [
    " np.delete(a,[0,2,4]) # deleted 0,2,4 index items "
   ]
  },
  {
   "cell_type": "code",
   "execution_count": null,
   "id": "90925c81-0305-4972-8020-61d0472ec670",
   "metadata": {},
   "outputs": [],
   "source": []
  },
  {
   "cell_type": "markdown",
   "id": "55e2600d-15c5-4907-998b-e7ad4716dd4d",
   "metadata": {},
   "source": [
    "# Set functions \n",
    "1. np.union1d \n",
    "2. np.intersect1d \n",
    "3. np.setdiff1d \n",
    "4. np.setxor1d \n",
    "5. np.in1d"
   ]
  },
  {
   "cell_type": "code",
   "execution_count": 1138,
   "id": "659f981a-ea9a-4dfc-b667-242cfd739c38",
   "metadata": {},
   "outputs": [],
   "source": [
    "m= np.array([1,2,3,4,5]) \n",
    "n = np.array([3,4,5,6,7]) "
   ]
  },
  {
   "cell_type": "code",
   "execution_count": 1142,
   "id": "808d699a-b238-4856-8acc-852f58b0f841",
   "metadata": {},
   "outputs": [
    {
     "data": {
      "text/plain": [
       "array([1, 2, 3, 4, 5, 6, 7])"
      ]
     },
     "execution_count": 1142,
     "metadata": {},
     "output_type": "execute_result"
    }
   ],
   "source": [
    "# union\n",
    "np.union1d(m,n)"
   ]
  },
  {
   "cell_type": "code",
   "execution_count": 1145,
   "id": "81c46705-4758-4eb2-b2a3-4912616b9abc",
   "metadata": {},
   "outputs": [
    {
     "data": {
      "text/plain": [
       "array([3, 4, 5])"
      ]
     },
     "execution_count": 1145,
     "metadata": {},
     "output_type": "execute_result"
    }
   ],
   "source": [
    "# intersection\n",
    "np.intersect1d(m,n)"
   ]
  },
  {
   "cell_type": "code",
   "execution_count": 1147,
   "id": "0fb8ccc8-8053-4061-a121-50af1e289809",
   "metadata": {},
   "outputs": [
    {
     "data": {
      "text/plain": [
       "array([1, 2])"
      ]
     },
     "execution_count": 1147,
     "metadata": {},
     "output_type": "execute_result"
    }
   ],
   "source": [
    "# Set difference \n",
    " \n",
    "np.setdiff1d(m,n) "
   ]
  },
  {
   "cell_type": "code",
   "execution_count": 1149,
   "id": "0cf59947-553b-443d-8829-3625642f83c3",
   "metadata": {},
   "outputs": [
    {
     "data": {
      "text/plain": [
       "array([1, 2, 6, 7])"
      ]
     },
     "execution_count": 1149,
     "metadata": {},
     "output_type": "execute_result"
    }
   ],
   "source": [
    "# set Xor \n",
    " \n",
    "np.setxor1d(m,n) "
   ]
  },
  {
   "cell_type": "code",
   "execution_count": 1151,
   "id": "5be29620-7fce-421a-ba34-145cc28cd256",
   "metadata": {},
   "outputs": [
    {
     "data": {
      "text/plain": [
       "array([ True, False, False, False, False])"
      ]
     },
     "execution_count": 1151,
     "metadata": {},
     "output_type": "execute_result"
    }
   ],
   "source": [
    "# in 1D ( like membership operator) \n",
    " \n",
    "np.in1d(m,1) "
   ]
  },
  {
   "cell_type": "code",
   "execution_count": 1153,
   "id": "d724720e-0592-403e-af20-0786c86dff26",
   "metadata": {},
   "outputs": [
    {
     "data": {
      "text/plain": [
       "array([False, False, False, False, False])"
      ]
     },
     "execution_count": 1153,
     "metadata": {},
     "output_type": "execute_result"
    }
   ],
   "source": [
    "np.in1d(m,10) "
   ]
  },
  {
   "cell_type": "code",
   "execution_count": null,
   "id": "1eab3019-9f11-419a-ad6d-d6a4b8b4726c",
   "metadata": {},
   "outputs": [],
   "source": []
  },
  {
   "cell_type": "markdown",
   "id": "1efd47fc-980a-42d3-b812-400ccb5394e3",
   "metadata": {},
   "source": [
    "# np.clip \n",
    "numpy.clip() function is used to Clip (limit) the values in an array. "
   ]
  },
  {
   "cell_type": "code",
   "execution_count": 1158,
   "id": "57610880-9e79-4487-8f3d-c080eff78ad5",
   "metadata": {},
   "outputs": [
    {
     "data": {
      "text/plain": [
       "array([110, 530,  84,  10,  27,  92,  93,   3,  34,  23,  86,  26,  61,\n",
       "        28,  70,  25,  50,  24,  16,  43])"
      ]
     },
     "execution_count": 1158,
     "metadata": {},
     "output_type": "execute_result"
    }
   ],
   "source": [
    "a"
   ]
  },
  {
   "cell_type": "code",
   "execution_count": 1160,
   "id": "b34066b8-8d17-4e04-b2df-b8473954bfb4",
   "metadata": {},
   "outputs": [
    {
     "data": {
      "text/plain": [
       "array([50, 50, 50, 15, 27, 50, 50, 15, 34, 23, 50, 26, 50, 28, 50, 25, 50,\n",
       "       24, 16, 43])"
      ]
     },
     "execution_count": 1160,
     "metadata": {},
     "output_type": "execute_result"
    }
   ],
   "source": [
    "np.clip(a, a_min=15 , a_max =50) "
   ]
  },
  {
   "cell_type": "code",
   "execution_count": null,
   "id": "9dba0593-72b7-4c6c-ad9c-d64e06772079",
   "metadata": {},
   "outputs": [],
   "source": []
  },
  {
   "cell_type": "markdown",
   "id": "806e6956-7f2f-4d31-979e-97b7bcee5321",
   "metadata": {},
   "source": [
    "# np.swapaxes \n",
    " \n",
    "numpy.swapaxes() function interchange two axes of an array. "
   ]
  },
  {
   "cell_type": "code",
   "execution_count": 1166,
   "id": "615fd7bc-1f81-42b8-8536-01f27d726720",
   "metadata": {},
   "outputs": [],
   "source": [
    "arr = np.array([[1, 2, 3], [4, 5, 6]]) \n",
    "swapped_arr = np.swapaxes(arr, 0, 1) "
   ]
  },
  {
   "cell_type": "code",
   "execution_count": 1168,
   "id": "61c42e53-e2e5-4d8d-a623-825422d92ba2",
   "metadata": {},
   "outputs": [
    {
     "data": {
      "text/plain": [
       "array([[1, 2, 3],\n",
       "       [4, 5, 6]])"
      ]
     },
     "execution_count": 1168,
     "metadata": {},
     "output_type": "execute_result"
    }
   ],
   "source": [
    "arr"
   ]
  },
  {
   "cell_type": "code",
   "execution_count": 1170,
   "id": "d01280f5-bbc8-4cd7-adcd-ee8870270fc0",
   "metadata": {},
   "outputs": [
    {
     "data": {
      "text/plain": [
       "array([[1, 4],\n",
       "       [2, 5],\n",
       "       [3, 6]])"
      ]
     },
     "execution_count": 1170,
     "metadata": {},
     "output_type": "execute_result"
    }
   ],
   "source": [
    "swapped_arr"
   ]
  },
  {
   "cell_type": "code",
   "execution_count": 1172,
   "id": "b001bb17-e708-4a21-8d69-a65342c3444f",
   "metadata": {},
   "outputs": [
    {
     "name": "stdout",
     "output_type": "stream",
     "text": [
      "Original array:\n",
      "[[1 2 3]\n",
      " [4 5 6]]\n"
     ]
    }
   ],
   "source": [
    " print(\"Original array:\") \n",
    "print(arr)"
   ]
  },
  {
   "cell_type": "code",
   "execution_count": 1174,
   "id": "eaffc205-5e0a-46f5-8da4-2aac35b4de12",
   "metadata": {},
   "outputs": [
    {
     "name": "stdout",
     "output_type": "stream",
     "text": [
      "Swapped array:\n",
      "[[1 4]\n",
      " [2 5]\n",
      " [3 6]]\n"
     ]
    }
   ],
   "source": [
    "print(\"Swapped array:\") \n",
    "print(swapped_arr) "
   ]
  },
  {
   "cell_type": "code",
   "execution_count": null,
   "id": "c6a84592-0418-4392-b6b0-cc474a62b2d0",
   "metadata": {},
   "outputs": [],
   "source": []
  }
 ],
 "metadata": {
  "kernelspec": {
   "display_name": "Python [conda env:base] *",
   "language": "python",
   "name": "conda-base-py"
  },
  "language_info": {
   "codemirror_mode": {
    "name": "ipython",
    "version": 3
   },
   "file_extension": ".py",
   "mimetype": "text/x-python",
   "name": "python",
   "nbconvert_exporter": "python",
   "pygments_lexer": "ipython3",
   "version": "3.12.7"
  }
 },
 "nbformat": 4,
 "nbformat_minor": 5
}
